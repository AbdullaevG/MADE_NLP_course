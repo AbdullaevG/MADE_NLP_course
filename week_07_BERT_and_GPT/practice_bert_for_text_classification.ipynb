{
  "cells": [
    {
      "cell_type": "markdown",
      "metadata": {
        "id": "izA3-6kffbdT"
      },
      "source": [
        "# Practice: A Visual Notebook to Using BERT for the First Time"
      ]
    },
    {
      "cell_type": "markdown",
      "metadata": {
        "id": "SEBgv15zoaX6"
      },
      "source": [
        "*Credits: first part of this notebook is strongly based on Jay Alammar's [great blog post](http://jalammar.github.io/a-visual-guide-to-using-bert-for-the-first-time/). His blog is a great way to dive into the DL and NLP concepts.*\n",
        "\n",
        "<img src=\"https://jalammar.github.io/images/distilBERT/bert-distilbert-sentence-classification.png\" />"
      ]
    },
    {
      "cell_type": "markdown",
      "metadata": {
        "id": "dVgtANpYoaX7"
      },
      "source": [
        "In this notebook, we will use pre-trained deep learning model to process some text. We will then use the output of that model to classify the text. The text is a list of sentences from film reviews. And we will calssify each sentence as either speaking \"positively\" about its subject of \"negatively\"."
      ]
    },
    {
      "cell_type": "markdown",
      "metadata": {
        "id": "0oCi6ZSnoaX7"
      },
      "source": [
        "## Models: Sentence Sentiment Classification"
      ]
    },
    {
      "cell_type": "markdown",
      "metadata": {
        "id": "pyRwVEI4oaX7"
      },
      "source": [
        "Our goal is to create a model that takes a sentence (just like the ones in our dataset) and produces either 1 (indicating the sentence carries a positive sentiment) or a 0 (indicating the sentence carries a negative sentiment). We can think of it as looking like this:\n",
        "\n",
        "<img src=\"https://jalammar.github.io/images/distilBERT/sentiment-classifier-1.png\" />\n",
        "\n",
        "Under the hood, the model is actually made up of two model.\n",
        "\n",
        "* DistilBERT processes the sentence and passes along some information it extracted from it on to the next model. DistilBERT is a smaller version of BERT developed and open sourced by the team at HuggingFace. It’s a lighter and faster version of BERT that roughly matches its performance.\n",
        "* The next model, a basic Logistic Regression model from scikit learn will take in the result of DistilBERT’s processing, and classify the sentence as either positive or negative (1 or 0, respectively).\n",
        "\n",
        "The data we pass between the two models is a vector of size 768. We can think of this of vector as an embedding for the sentence that we can use for classification.\n",
        "\n",
        "<img src=\"https://jalammar.github.io/images/distilBERT/distilbert-bert-sentiment-classifier.png\" />"
      ]
    },
    {
      "cell_type": "markdown",
      "metadata": {
        "id": "mQVOYe4PoaX8"
      },
      "source": [
        "## Dataset"
      ]
    },
    {
      "cell_type": "markdown",
      "metadata": {
        "id": "3S7DFxaeoaX9"
      },
      "source": [
        "The dataset we will use in this example is [SST2](https://nlp.stanford.edu/sentiment/index.html), which contains sentences from movie reviews, each labeled as either positive (has the value 1) or negative (has the value 0):\n",
        "\n",
        "\n",
        "<table class=\"features-table\">\n",
        "  <tr>\n",
        "    <th class=\"mdc-text-light-green-600\">\n",
        "    sentence\n",
        "    </th>\n",
        "    <th class=\"mdc-text-purple-600\">\n",
        "    label\n",
        "    </th>\n",
        "  </tr>\n",
        "  <tr>\n",
        "    <td class=\"mdc-bg-light-green-50\" style=\"text-align:left\">\n",
        "      a stirring , funny and finally transporting re imagining of beauty and the beast and 1930s horror films\n",
        "    </td>\n",
        "    <td class=\"mdc-bg-purple-50\">\n",
        "      1\n",
        "    </td>\n",
        "  </tr>\n",
        "  <tr>\n",
        "    <td class=\"mdc-bg-light-green-50\" style=\"text-align:left\">\n",
        "      apparently reassembled from the cutting room floor of any given daytime soap\n",
        "    </td>\n",
        "    <td class=\"mdc-bg-purple-50\">\n",
        "      0\n",
        "    </td>\n",
        "  </tr>\n",
        "  <tr>\n",
        "    <td class=\"mdc-bg-light-green-50\" style=\"text-align:left\">\n",
        "      they presume their audience won't sit still for a sociology lesson\n",
        "    </td>\n",
        "    <td class=\"mdc-bg-purple-50\">\n",
        "      0\n",
        "    </td>\n",
        "  </tr>\n",
        "  <tr>\n",
        "    <td class=\"mdc-bg-light-green-50\" style=\"text-align:left\">\n",
        "      this is a visually stunning rumination on love , memory , history and the war between art and commerce\n",
        "    </td>\n",
        "    <td class=\"mdc-bg-purple-50\">\n",
        "      1\n",
        "    </td>\n",
        "  </tr>\n",
        "  <tr>\n",
        "    <td class=\"mdc-bg-light-green-50\" style=\"text-align:left\">\n",
        "      jonathan parker 's bartleby should have been the be all end all of the modern office anomie films\n",
        "    </td>\n",
        "    <td class=\"mdc-bg-purple-50\">\n",
        "      1\n",
        "    </td>\n",
        "  </tr>\n",
        "</table>"
      ]
    },
    {
      "cell_type": "markdown",
      "metadata": {
        "id": "kPMv-7fOoaX-"
      },
      "source": [
        "## Installing the transformers library"
      ]
    },
    {
      "cell_type": "markdown",
      "metadata": {
        "id": "S9zZk1UgoaX_"
      },
      "source": [
        "Let's start by installing the huggingface transformers library so we can load our deep learning NLP model."
      ]
    },
    {
      "cell_type": "code",
      "execution_count": 1,
      "metadata": {
        "id": "To9ENLU90WGl",
        "colab": {
          "base_uri": "https://localhost:8080/"
        },
        "outputId": "272e16c5-e6c4-428c-db9f-3fe43b7fe685"
      },
      "outputs": [
        {
          "output_type": "stream",
          "name": "stdout",
          "text": [
            "\u001b[2K     \u001b[90m━━━━━━━━━━━━━━━━━━━━━━━━━━━━━━━━━━━━━━━━\u001b[0m \u001b[32m6.3/6.3 MB\u001b[0m \u001b[31m40.8 MB/s\u001b[0m eta \u001b[36m0:00:00\u001b[0m\n",
            "\u001b[2K     \u001b[90m━━━━━━━━━━━━━━━━━━━━━━━━━━━━━━━━━━━━━━━━\u001b[0m \u001b[32m7.6/7.6 MB\u001b[0m \u001b[31m36.7 MB/s\u001b[0m eta \u001b[36m0:00:00\u001b[0m\n",
            "\u001b[2K     \u001b[90m━━━━━━━━━━━━━━━━━━━━━━━━━━━━━━━━━━━━━━━\u001b[0m \u001b[32m190.3/190.3 KB\u001b[0m \u001b[31m8.5 MB/s\u001b[0m eta \u001b[36m0:00:00\u001b[0m\n",
            "\u001b[?25h"
          ]
        }
      ],
      "source": [
        "!pip install -Uqq transformers"
      ]
    },
    {
      "cell_type": "markdown",
      "metadata": {
        "id": "zQ-42fh0hjsF"
      },
      "source": [
        "## Part 1. Using BERT for text classification."
      ]
    },
    {
      "cell_type": "markdown",
      "metadata": {
        "id": "SwbK19NFoaYB"
      },
      "source": [
        "## Loading pretrained BERT."
      ]
    },
    {
      "cell_type": "markdown",
      "metadata": {
        "id": "GITfp914oaYB"
      },
      "source": [
        "Here we will be using the pretrained DistilBERT model from `transformers` library. The easiest way to use such model is to use a `pipeline`. This can be done as follows:"
      ]
    },
    {
      "cell_type": "code",
      "execution_count": 3,
      "metadata": {
        "id": "4LyOoG8IoaYB",
        "colab": {
          "base_uri": "https://localhost:8080/"
        },
        "outputId": "f334c01a-f210-4ed5-8190-0772c056a93f"
      },
      "outputs": [
        {
          "output_type": "execute_result",
          "data": {
            "text/plain": [
              "[{'score': 0.052928581833839417,\n",
              "  'token': 2535,\n",
              "  'token_str': 'role',\n",
              "  'sequence': \"hello i'm a role model.\"},\n",
              " {'score': 0.03968587517738342,\n",
              "  'token': 4827,\n",
              "  'token_str': 'fashion',\n",
              "  'sequence': \"hello i'm a fashion model.\"},\n",
              " {'score': 0.03474365547299385,\n",
              "  'token': 2449,\n",
              "  'token_str': 'business',\n",
              "  'sequence': \"hello i'm a business model.\"},\n",
              " {'score': 0.034623004496097565,\n",
              "  'token': 2944,\n",
              "  'token_str': 'model',\n",
              "  'sequence': \"hello i'm a model model.\"},\n",
              " {'score': 0.018145214766263962,\n",
              "  'token': 11643,\n",
              "  'token_str': 'modeling',\n",
              "  'sequence': \"hello i'm a modeling model.\"}]"
            ]
          },
          "metadata": {},
          "execution_count": 3
        }
      ],
      "source": [
        "from transformers import pipeline\n",
        "\n",
        "\n",
        "unmasker = pipeline('fill-mask', 'distilbert-base-uncased')\n",
        "unmasker(\"Hello I'm a [MASK] model.\")"
      ]
    },
    {
      "cell_type": "markdown",
      "metadata": {
        "id": "NnA23_CpoaYC"
      },
      "source": [
        "However, such approach is not very flexible and certainly doesn't allow you to fine-tune a model. For this reason we will use the model in a more manual way. For this we load the model and appropriate tokenizer and use them together. Here is how we can use them to extract features from our text:"
      ]
    },
    {
      "cell_type": "code",
      "execution_count": 4,
      "metadata": {
        "id": "O8gHVTAEoaYC",
        "colab": {
          "base_uri": "https://localhost:8080/"
        },
        "outputId": "f8ad3b41-f013-4199-c610-4563d5f523b6"
      },
      "outputs": [
        {
          "output_type": "execute_result",
          "data": {
            "text/plain": [
              "torch.Size([1, 23, 768])"
            ]
          },
          "metadata": {},
          "execution_count": 4
        }
      ],
      "source": [
        "import torch\n",
        "from transformers import DistilBertModel, DistilBertTokenizer, logging\n",
        "\n",
        "\n",
        "logging.set_verbosity_error()  # Ignore warning on model loading.\n",
        "tokenizer = DistilBertTokenizer.from_pretrained('distilbert-base-uncased')\n",
        "model = DistilBertModel.from_pretrained('distilbert-base-uncased')\n",
        "\n",
        "text = 'Lorem ipsum dolor sit amet, consectetur adipiscing elit.'\n",
        "tokenized_text = tokenizer(text, return_tensors='pt')\n",
        "\n",
        "with torch.no_grad():\n",
        "    output = model(**tokenized_text)\n",
        "\n",
        "output.last_hidden_state.shape"
      ]
    },
    {
      "cell_type": "markdown",
      "metadata": {
        "id": "P5DAZw0tN8wi"
      },
      "source": [
        "Except for the `logging` part, everything looks very similar to the code we saw in previous practice notebooks. The first thing we do is, just like always, tokenize our text.\n",
        "\n",
        "> **Note:** as you can see, we used `return_tensors` keyword argument in code above. This parameters just tells tokenizer to convert result into a PyTorch tensors to use them with our model. If we don't specify this parameter, we will get exactly same results, but packed into a python `list` objects.\n",
        "\n",
        "Let's look at this step a little closer. What exactly does the `tokenizer.__call__` return? Let's find out:"
      ]
    },
    {
      "cell_type": "code",
      "execution_count": 5,
      "metadata": {
        "id": "KH77JkiNPCxA",
        "colab": {
          "base_uri": "https://localhost:8080/"
        },
        "outputId": "12dd5a30-3894-488e-b0d1-e90e15f7833e"
      },
      "outputs": [
        {
          "output_type": "stream",
          "name": "stdout",
          "text": [
            "input_ids: list[int], length 23: [101, 19544, 2213, 12997, 17421, ...]\n",
            "attention_mask: list[int], length 23: [1, 1, 1, 1, 1, ...]\n"
          ]
        }
      ],
      "source": [
        "tokenized_text = tokenizer(text)\n",
        "\n",
        "for key, values in tokenized_text.items():\n",
        "    values_type = type(values).__name__\n",
        "    item_type = type(values[0]).__name__\n",
        "    values_sample = f\"[{', '.join(str(value) for value in values[:5])}, ...]\"\n",
        "    print(f\"{key}: {values_type}[{item_type}], length {len(values)}: {values_sample}\")"
      ]
    },
    {
      "cell_type": "code",
      "execution_count": 6,
      "metadata": {
        "colab": {
          "base_uri": "https://localhost:8080/"
        },
        "id": "ucro_u8hHOPn",
        "outputId": "f63d0c17-cc41-45a3-ba0a-acdfb9f37295"
      },
      "outputs": [
        {
          "output_type": "execute_result",
          "data": {
            "text/plain": [
              "{'input_ids': [101, 19544, 2213, 12997, 17421, 2079, 10626, 4133, 2572, 3388, 1010, 9530, 3366, 6593, 3388, 3126, 27133, 18136, 6129, 12005, 2102, 1012, 102], 'attention_mask': [1, 1, 1, 1, 1, 1, 1, 1, 1, 1, 1, 1, 1, 1, 1, 1, 1, 1, 1, 1, 1, 1, 1]}"
            ]
          },
          "metadata": {},
          "execution_count": 6
        }
      ],
      "source": [
        "tokenized_text"
      ]
    },
    {
      "cell_type": "markdown",
      "metadata": {
        "id": "MzDnPSvrQdCB"
      },
      "source": [
        "The contents may differ for different models, however for the `DistilBert` model tokenizer returns a `dict`-like object with two python lists under keys `\"input_ids\"` and `\"attention_mask\"`. Both lists have the same length and the attention mask seems to only have ones. We'll deal with the mask later, for now let's focus on `\"input_ids\"` which is the token ids for the tokenized sequence. Let's decode them to make sure and see what is actually going on:"
      ]
    },
    {
      "cell_type": "code",
      "execution_count": 7,
      "metadata": {
        "id": "SK-Yg-FDMN3I",
        "colab": {
          "base_uri": "https://localhost:8080/"
        },
        "outputId": "c586577f-e549-4367-9f3b-a10379650427"
      },
      "outputs": [
        {
          "output_type": "stream",
          "name": "stdout",
          "text": [
            "Tokens: ['[CLS]', 'lore', '##m', 'ip', '##sum', 'do', '##lor', 'sit', 'am', '##et', ',', 'con', '##se', '##ct', '##et', '##ur', 'adi', '##pis', '##cing', 'eli', '##t', '.', '[SEP]']\n",
            "Decoded sequence: '[CLS] lorem ipsum dolor sit amet, consectetur adipiscing elit. [SEP]'\n"
          ]
        }
      ],
      "source": [
        "print(f\"Tokens: {tokenizer.convert_ids_to_tokens(tokenized_text['input_ids'])}\")\n",
        "print(f\"Decoded sequence: '{tokenizer.decode(tokenized_text['input_ids'])}'\")"
      ]
    },
    {
      "cell_type": "markdown",
      "metadata": {
        "id": "syJ8naWFT87_"
      },
      "source": [
        "We see that tokenizer actually does quite a lot of work behind the curtains: it lowercases the sequence (remember, we use `*-uncased` model, which implies that it doesn't understand the upper case), adds special tokens (`[CLS]` and `[SEP]`) and applies the BPE. That is how we get 23 tokens for such a little text."
      ]
    },
    {
      "cell_type": "markdown",
      "metadata": {
        "id": "pUmYkLeHd1m7"
      },
      "source": [
        "<img src=\"https://jalammar.github.io/images/distilBERT/bert-distilbert-tokenization-2-token-ids.png\" />"
      ]
    },
    {
      "cell_type": "markdown",
      "metadata": {
        "id": "SVlcZqXqoaYC"
      },
      "source": [
        "## Loading the dataset"
      ]
    },
    {
      "cell_type": "markdown",
      "metadata": {
        "id": "M3YBY3DWoaYC"
      },
      "source": [
        "However, working with manually edited sentence is not interesting. Let's use our model to work with a dataset for sentiment classification. We'll use pandas to read the dataset and load it into a dataframe."
      ]
    },
    {
      "cell_type": "code",
      "execution_count": 8,
      "metadata": {
        "id": "cyoj29J24hPX",
        "colab": {
          "base_uri": "https://localhost:8080/",
          "height": 206
        },
        "outputId": "4c7a725f-d865-4080-be48-2790715f7d09"
      },
      "outputs": [
        {
          "output_type": "execute_result",
          "data": {
            "text/plain": [
              "                                                text  label\n",
              "0  a stirring , funny and finally transporting re...      1\n",
              "1  apparently reassembled from the cutting room f...      0\n",
              "2  they presume their audience wo n't sit still f...      0\n",
              "3  this is a visually stunning rumination on love...      1\n",
              "4  jonathan parker 's bartleby should have been t...      1"
            ],
            "text/html": [
              "\n",
              "  <div id=\"df-26c1f346-1dc3-404c-a11a-a1e2ec9866fe\">\n",
              "    <div class=\"colab-df-container\">\n",
              "      <div>\n",
              "<style scoped>\n",
              "    .dataframe tbody tr th:only-of-type {\n",
              "        vertical-align: middle;\n",
              "    }\n",
              "\n",
              "    .dataframe tbody tr th {\n",
              "        vertical-align: top;\n",
              "    }\n",
              "\n",
              "    .dataframe thead th {\n",
              "        text-align: right;\n",
              "    }\n",
              "</style>\n",
              "<table border=\"1\" class=\"dataframe\">\n",
              "  <thead>\n",
              "    <tr style=\"text-align: right;\">\n",
              "      <th></th>\n",
              "      <th>text</th>\n",
              "      <th>label</th>\n",
              "    </tr>\n",
              "  </thead>\n",
              "  <tbody>\n",
              "    <tr>\n",
              "      <th>0</th>\n",
              "      <td>a stirring , funny and finally transporting re...</td>\n",
              "      <td>1</td>\n",
              "    </tr>\n",
              "    <tr>\n",
              "      <th>1</th>\n",
              "      <td>apparently reassembled from the cutting room f...</td>\n",
              "      <td>0</td>\n",
              "    </tr>\n",
              "    <tr>\n",
              "      <th>2</th>\n",
              "      <td>they presume their audience wo n't sit still f...</td>\n",
              "      <td>0</td>\n",
              "    </tr>\n",
              "    <tr>\n",
              "      <th>3</th>\n",
              "      <td>this is a visually stunning rumination on love...</td>\n",
              "      <td>1</td>\n",
              "    </tr>\n",
              "    <tr>\n",
              "      <th>4</th>\n",
              "      <td>jonathan parker 's bartleby should have been t...</td>\n",
              "      <td>1</td>\n",
              "    </tr>\n",
              "  </tbody>\n",
              "</table>\n",
              "</div>\n",
              "      <button class=\"colab-df-convert\" onclick=\"convertToInteractive('df-26c1f346-1dc3-404c-a11a-a1e2ec9866fe')\"\n",
              "              title=\"Convert this dataframe to an interactive table.\"\n",
              "              style=\"display:none;\">\n",
              "        \n",
              "  <svg xmlns=\"http://www.w3.org/2000/svg\" height=\"24px\"viewBox=\"0 0 24 24\"\n",
              "       width=\"24px\">\n",
              "    <path d=\"M0 0h24v24H0V0z\" fill=\"none\"/>\n",
              "    <path d=\"M18.56 5.44l.94 2.06.94-2.06 2.06-.94-2.06-.94-.94-2.06-.94 2.06-2.06.94zm-11 1L8.5 8.5l.94-2.06 2.06-.94-2.06-.94L8.5 2.5l-.94 2.06-2.06.94zm10 10l.94 2.06.94-2.06 2.06-.94-2.06-.94-.94-2.06-.94 2.06-2.06.94z\"/><path d=\"M17.41 7.96l-1.37-1.37c-.4-.4-.92-.59-1.43-.59-.52 0-1.04.2-1.43.59L10.3 9.45l-7.72 7.72c-.78.78-.78 2.05 0 2.83L4 21.41c.39.39.9.59 1.41.59.51 0 1.02-.2 1.41-.59l7.78-7.78 2.81-2.81c.8-.78.8-2.07 0-2.86zM5.41 20L4 18.59l7.72-7.72 1.47 1.35L5.41 20z\"/>\n",
              "  </svg>\n",
              "      </button>\n",
              "      \n",
              "  <style>\n",
              "    .colab-df-container {\n",
              "      display:flex;\n",
              "      flex-wrap:wrap;\n",
              "      gap: 12px;\n",
              "    }\n",
              "\n",
              "    .colab-df-convert {\n",
              "      background-color: #E8F0FE;\n",
              "      border: none;\n",
              "      border-radius: 50%;\n",
              "      cursor: pointer;\n",
              "      display: none;\n",
              "      fill: #1967D2;\n",
              "      height: 32px;\n",
              "      padding: 0 0 0 0;\n",
              "      width: 32px;\n",
              "    }\n",
              "\n",
              "    .colab-df-convert:hover {\n",
              "      background-color: #E2EBFA;\n",
              "      box-shadow: 0px 1px 2px rgba(60, 64, 67, 0.3), 0px 1px 3px 1px rgba(60, 64, 67, 0.15);\n",
              "      fill: #174EA6;\n",
              "    }\n",
              "\n",
              "    [theme=dark] .colab-df-convert {\n",
              "      background-color: #3B4455;\n",
              "      fill: #D2E3FC;\n",
              "    }\n",
              "\n",
              "    [theme=dark] .colab-df-convert:hover {\n",
              "      background-color: #434B5C;\n",
              "      box-shadow: 0px 1px 3px 1px rgba(0, 0, 0, 0.15);\n",
              "      filter: drop-shadow(0px 1px 2px rgba(0, 0, 0, 0.3));\n",
              "      fill: #FFFFFF;\n",
              "    }\n",
              "  </style>\n",
              "\n",
              "      <script>\n",
              "        const buttonEl =\n",
              "          document.querySelector('#df-26c1f346-1dc3-404c-a11a-a1e2ec9866fe button.colab-df-convert');\n",
              "        buttonEl.style.display =\n",
              "          google.colab.kernel.accessAllowed ? 'block' : 'none';\n",
              "\n",
              "        async function convertToInteractive(key) {\n",
              "          const element = document.querySelector('#df-26c1f346-1dc3-404c-a11a-a1e2ec9866fe');\n",
              "          const dataTable =\n",
              "            await google.colab.kernel.invokeFunction('convertToInteractive',\n",
              "                                                     [key], {});\n",
              "          if (!dataTable) return;\n",
              "\n",
              "          const docLinkHtml = 'Like what you see? Visit the ' +\n",
              "            '<a target=\"_blank\" href=https://colab.research.google.com/notebooks/data_table.ipynb>data table notebook</a>'\n",
              "            + ' to learn more about interactive tables.';\n",
              "          element.innerHTML = '';\n",
              "          dataTable['output_type'] = 'display_data';\n",
              "          await google.colab.output.renderOutput(dataTable, element);\n",
              "          const docLink = document.createElement('div');\n",
              "          docLink.innerHTML = docLinkHtml;\n",
              "          element.appendChild(docLink);\n",
              "        }\n",
              "      </script>\n",
              "    </div>\n",
              "  </div>\n",
              "  "
            ]
          },
          "metadata": {},
          "execution_count": 8
        }
      ],
      "source": [
        "import pandas as pd\n",
        "\n",
        "\n",
        "dataset_url = (\n",
        "    'https://github.com/clairett/pytorch-sentiment-classification/raw/master/data/SST2/train.tsv'\n",
        ")\n",
        "dataset = pd.read_csv(dataset_url, delimiter='\\t', header=None)\n",
        "dataset.columns = ['text', 'label']\n",
        "dataset.head()"
      ]
    },
    {
      "cell_type": "code",
      "execution_count": 9,
      "metadata": {
        "colab": {
          "base_uri": "https://localhost:8080/"
        },
        "id": "wf0V9XjKHOPp",
        "outputId": "b6928700-9e2a-41fc-ff15-f84b76e49b8c"
      },
      "outputs": [
        {
          "output_type": "execute_result",
          "data": {
            "text/plain": [
              "(6920, 2)"
            ]
          },
          "metadata": {},
          "execution_count": 9
        }
      ],
      "source": [
        "dataset.shape"
      ]
    },
    {
      "cell_type": "markdown",
      "metadata": {
        "id": "dMVE3waNhuNj"
      },
      "source": [
        "For performance reasons, we'll only use 2,000 sentences from the dataset"
      ]
    },
    {
      "cell_type": "code",
      "execution_count": 10,
      "metadata": {
        "id": "gTM3hOHW4hUY"
      },
      "outputs": [],
      "source": [
        "dataset = dataset[:2000]"
      ]
    },
    {
      "cell_type": "markdown",
      "metadata": {
        "id": "PRc2L89hh1Tf"
      },
      "source": [
        "We can ask pandas how many sentences are labeled as \"positive\" (value 1) and how many are labeled \"negative\" (having the value 0)"
      ]
    },
    {
      "cell_type": "code",
      "execution_count": 11,
      "metadata": {
        "id": "jGvcfcCP5xpZ",
        "colab": {
          "base_uri": "https://localhost:8080/"
        },
        "outputId": "197ac2a1-a7fe-4292-9f33-f1e03ce4bcf8"
      },
      "outputs": [
        {
          "output_type": "execute_result",
          "data": {
            "text/plain": [
              "1    1041\n",
              "0     959\n",
              "Name: label, dtype: int64"
            ]
          },
          "metadata": {},
          "execution_count": 11
        }
      ],
      "source": [
        "dataset['label'].value_counts()"
      ]
    },
    {
      "cell_type": "markdown",
      "metadata": {
        "id": "lZDBMn3wiSX6"
      },
      "source": [
        "## Preparing the Dataset"
      ]
    },
    {
      "cell_type": "markdown",
      "metadata": {
        "id": "NiNzCErkoaYE"
      },
      "source": [
        "Before we can hand our sentences to BERT, we need to so some processing to put them in the format it requires. First, let's split our `dataset` into separate `texts` and `labels`."
      ]
    },
    {
      "cell_type": "code",
      "execution_count": 12,
      "metadata": {
        "id": "m8ipGP0raY7r"
      },
      "outputs": [],
      "source": [
        "texts = dataset['text'].tolist()\n",
        "labels = dataset['label'].values"
      ]
    },
    {
      "cell_type": "markdown",
      "metadata": {
        "id": "PmNUir6fcLbl"
      },
      "source": [
        "Now we need to tokenize our texts."
      ]
    },
    {
      "cell_type": "code",
      "execution_count": 13,
      "metadata": {
        "id": "PyLowtCxajkq",
        "colab": {
          "base_uri": "https://localhost:8080/"
        },
        "outputId": "ea99981f-f052-46d4-b2d5-8a6fa379b2a7"
      },
      "outputs": [
        {
          "output_type": "stream",
          "name": "stdout",
          "text": [
            "input_ids: list[list], length 2000\n",
            "attention_mask: list[list], length 2000\n"
          ]
        }
      ],
      "source": [
        "# YOUR CODE HERE\n",
        "# Tokenize the texts in dataset.\n",
        "# Hint: our tokenizer can also work with lists of strings.\n",
        "tokenized_texts = tokenizer(texts)\n",
        "\n",
        "for key, values in tokenized_texts.items():\n",
        "    values_type = type(values).__name__\n",
        "    item_type = type(values[0]).__name__\n",
        "    print(f\"{key}: {values_type}[{item_type}], length {len(values)}\")"
      ]
    },
    {
      "cell_type": "markdown",
      "metadata": {
        "id": "ooqGLMl7cTe-"
      },
      "source": [
        "We obtained a list of lists. However, what we want is `torch.tensor` so that we could use it with our model. It's time to remember how we used to specify the `return_tensors` option! However, if we were to just specify it blindly, we would get an error. The problem here lies in the fact that sequences tend to have different lenghts:"
      ]
    },
    {
      "cell_type": "code",
      "execution_count": 14,
      "metadata": {
        "id": "7SMycKghdkh2",
        "colab": {
          "base_uri": "https://localhost:8080/"
        },
        "outputId": "a3587213-716a-4697-87ec-0c2eaf21d899"
      },
      "outputs": [
        {
          "output_type": "stream",
          "name": "stdout",
          "text": [
            "20\n",
            "16\n",
            "45\n",
            "22\n",
            "25\n"
          ]
        }
      ],
      "source": [
        "for seq in tokenized_texts[\"input_ids\"][:5]:\n",
        "    print(len(seq))"
      ]
    },
    {
      "cell_type": "markdown",
      "metadata": {
        "id": "_MjmmfMseJVf"
      },
      "source": [
        "The most common solution to this problem, often used in NLP is the use of padding. Luckily for us, tokenizer from `transformers` can do the padding for us:"
      ]
    },
    {
      "cell_type": "code",
      "execution_count": 15,
      "metadata": {
        "id": "ONgnhkuxe9kB",
        "colab": {
          "base_uri": "https://localhost:8080/"
        },
        "outputId": "28231fe4-5f04-4017-8709-c885280a161e"
      },
      "outputs": [
        {
          "output_type": "stream",
          "name": "stdout",
          "text": [
            "input_ids: Tensor, torch.Size([2000, 59])\n",
            "attention_mask: Tensor, torch.Size([2000, 59])\n"
          ]
        }
      ],
      "source": [
        "tokenized_texts = tokenizer(dataset['text'].tolist(), return_tensors=\"pt\", padding=True)\n",
        "\n",
        "for key, values in tokenized_texts.items():\n",
        "    values_type = type(values).__name__\n",
        "    print(f\"{key}: {values_type}, {values.shape}\")"
      ]
    },
    {
      "cell_type": "markdown",
      "metadata": {
        "id": "u1AlfPcefj-m"
      },
      "source": [
        "However, we just added lot's of extra items into most of our sequences:"
      ]
    },
    {
      "cell_type": "code",
      "execution_count": 16,
      "metadata": {
        "id": "XjfXDg8pgsFd",
        "colab": {
          "base_uri": "https://localhost:8080/"
        },
        "outputId": "9ca2842a-92e8-4464-f2e3-fb716c8ca733"
      },
      "outputs": [
        {
          "output_type": "execute_result",
          "data": {
            "text/plain": [
              "tensor([[  101,  1037, 18385,  ...,     0,     0,     0],\n",
              "        [  101,  4593,  2128,  ...,     0,     0,     0],\n",
              "        [  101,  2027,  3653,  ...,     0,     0,     0],\n",
              "        ...,\n",
              "        [  101,  2023,  2028,  ...,     0,     0,     0],\n",
              "        [  101,  1999,  1996,  ...,     0,     0,     0],\n",
              "        [  101,  1996,  3185,  ...,     0,     0,     0]])"
            ]
          },
          "metadata": {},
          "execution_count": 16
        }
      ],
      "source": [
        "tokenized_texts[\"input_ids\"]"
      ]
    },
    {
      "cell_type": "markdown",
      "metadata": {
        "id": "zkhDolkRgrti"
      },
      "source": [
        "Note how all the sequences end with zeros. We already encountered such a problem, when trained our RNN on previous lessons and we tackled it with specifying the padding index to the `CrossEntropyLoss` so that our model doesn't train to predict padding. Right now we don't want to train our model to do anything, however, we are working with a transformer, which means that it uses the self-attention operation extensively. If we were to simply add these extra items, it would be likely to affect our results. And this is exactly the place where the `\"attention_mask\"` comes into play. It is used exactly to mask the padding from getting in a way of attention!"
      ]
    },
    {
      "cell_type": "code",
      "execution_count": 17,
      "metadata": {
        "id": "gSCXbXVLg_7T",
        "colab": {
          "base_uri": "https://localhost:8080/",
          "height": 421
        },
        "outputId": "d2fad714-d3c1-4b93-fd11-af5961ed6f32"
      },
      "outputs": [
        {
          "output_type": "display_data",
          "data": {
            "text/plain": [
              "<Figure size 1080x504 with 2 Axes>"
            ],
            "image/png": "[encoded data removed]"
          },
          "metadata": {
            "needs_background": "light"
          }
        }
      ],
      "source": [
        "import matplotlib.pyplot as plt\n",
        "\n",
        "plt.figure(figsize = (15, 7))\n",
        "plt.pcolormesh(tokenized_texts[\"attention_mask\"])\n",
        "plt.axis(\"off\")\n",
        "plt.colorbar()\n",
        "plt.show()"
      ]
    },
    {
      "cell_type": "markdown",
      "metadata": {
        "id": "jK-CQB9-kN99"
      },
      "source": [
        "## And Now, Deep Learning!"
      ]
    },
    {
      "cell_type": "markdown",
      "metadata": {
        "id": "a0UsQGQ2oaYF"
      },
      "source": [
        "Now that we have our model and inputs ready, let's run our model! However, running it on a cpu takes several minutes. We can speed this up via using the GPU. For this, however, we would need to split our dataset into batches of data.\n",
        "\n",
        "<img src=\"https://jalammar.github.io/images/distilBERT/bert-distilbert-tutorial-sentence-embedding.png\" />"
      ]
    },
    {
      "cell_type": "markdown",
      "metadata": {
        "id": "KBqHs4d_ObTc"
      },
      "source": [
        "Let's slice only the part of the output that we need. That is the output corresponding the first token of each sentence. The way BERT does sentence classification, is that it adds a token called `[CLS]` (for classification) at the beginning of every sentence. The output corresponding to that token can be thought of as an embedding for the entire sentence.\n",
        "\n",
        "<img src=\"https://jalammar.github.io/images/distilBERT/bert-output-tensor-selection.png\" />\n",
        "\n",
        "We'll save those in the `features` variable, as they'll serve as the features to our logitics regression model. Also remember, how we created the `labels` variable to hold our labels."
      ]
    },
    {
      "cell_type": "code",
      "execution_count": 18,
      "metadata": {
        "id": "39UVjAV56PJz",
        "colab": {
          "base_uri": "https://localhost:8080/"
        },
        "outputId": "088c4354-c78b-47a1-ed4d-c0756ce9c4e5"
      },
      "outputs": [
        {
          "output_type": "execute_result",
          "data": {
            "text/plain": [
              "(2000, 768)"
            ]
          },
          "metadata": {},
          "execution_count": 18
        }
      ],
      "source": [
        "import numpy as np\n",
        "\n",
        "\n",
        "device = torch.device(\"cuda:0\" if torch.cuda.is_available() else \"cpu\")\n",
        "model.to(device)\n",
        "\n",
        "batch_size = 32\n",
        "features = []\n",
        "with torch.no_grad():\n",
        "    for i in range(0, len(texts), batch_size):\n",
        "        texts_batch = tokenized_texts[\"input_ids\"][i : i + batch_size].to(device)\n",
        "        masks_batch = tokenized_texts[\"attention_mask\"][i : i + batch_size].to(device)\n",
        "        output = model(texts_batch, masks_batch)\n",
        "        batch_features = output.last_hidden_state[:, 0, :].cpu().numpy()\n",
        "        features.append(batch_features)\n",
        "\n",
        "features = np.concatenate(features, axis=0)\n",
        "features.shape"
      ]
    },
    {
      "cell_type": "markdown",
      "metadata": {
        "id": "iaoEvM2evRx1"
      },
      "source": [
        "## Classifier training"
      ]
    },
    {
      "cell_type": "markdown",
      "metadata": {
        "id": "02wlGPSLoaYG"
      },
      "source": [
        "Let's now split our datset into a training set and testing set (even though we're using 2,000 sentences from the SST2 training set)."
      ]
    },
    {
      "cell_type": "code",
      "execution_count": 19,
      "metadata": {
        "id": "ddAqbkoU6PP9"
      },
      "outputs": [],
      "source": [
        "from sklearn.model_selection import train_test_split\n",
        "\n",
        "\n",
        "train_features, test_features, train_labels, test_labels = train_test_split(features, labels)"
      ]
    },
    {
      "cell_type": "markdown",
      "metadata": {
        "id": "B9bhSJpcv1Bl"
      },
      "source": [
        "<img src=\"https://jalammar.github.io/images/distilBERT/bert-distilbert-train-test-split-sentence-embedding.png\" />"
      ]
    },
    {
      "cell_type": "markdown",
      "metadata": {
        "id": "uW_IiKvToaYG"
      },
      "source": [
        "We can dive into Logistic regression directly with the Scikit Learn default parameters, but sometimes it's worth searching for the best value of the C parameter, which determines regularization strength."
      ]
    },
    {
      "cell_type": "code",
      "execution_count": null,
      "metadata": {
        "id": "cyEwr7yYD3Ci"
      },
      "outputs": [],
      "source": [
        "# YOUR CODE HERE\n",
        "# [EXTRA] Grid search for parameters"
      ]
    },
    {
      "cell_type": "markdown",
      "metadata": {
        "id": "KCT9u8vAwnID"
      },
      "source": [
        "We now train the LogisticRegression model. If you've chosen to do the gridsearch, you can plug the best hyperparameter values into the model declaration."
      ]
    },
    {
      "cell_type": "code",
      "execution_count": 20,
      "metadata": {
        "id": "gG-EVWx4CzBc"
      },
      "outputs": [],
      "source": [
        "import warnings\n",
        "\n",
        "from sklearn.linear_model import LogisticRegression\n",
        "\n",
        "\n",
        "warnings.simplefilter('ignore')  # Ignore warning on model fitting.\n",
        "lr_clf = LogisticRegression().fit(train_features, train_labels)"
      ]
    },
    {
      "cell_type": "markdown",
      "metadata": {
        "id": "3rUMKuVgwzkY"
      },
      "source": [
        "<img src=\"https://jalammar.github.io/images/distilBERT/bert-training-logistic-regression.png\" />\n",
        "\n",
        "So how well does our model do in classifying sentences? One way is to check the accuracy against the testing dataset:"
      ]
    },
    {
      "cell_type": "code",
      "execution_count": 21,
      "metadata": {
        "id": "iCoyxRJ7ECTA",
        "colab": {
          "base_uri": "https://localhost:8080/"
        },
        "outputId": "b869483d-896f-4c66-f4c1-63c0b31a52ca"
      },
      "outputs": [
        {
          "output_type": "execute_result",
          "data": {
            "text/plain": [
              "0.82"
            ]
          },
          "metadata": {},
          "execution_count": 21
        }
      ],
      "source": [
        "lr_clf.score(test_features, test_labels)"
      ]
    },
    {
      "cell_type": "markdown",
      "metadata": {
        "id": "2xA5YIJPDYek"
      },
      "source": [
        "Another way to evaluate classification model is to plot the ROC curve and compute the area under it."
      ]
    },
    {
      "cell_type": "code",
      "execution_count": 22,
      "metadata": {
        "id": "186Bwg7UDLkU",
        "colab": {
          "base_uri": "https://localhost:8080/",
          "height": 374
        },
        "outputId": "2dcc3307-de71-43fc-fe69-29d8aa6b856a"
      },
      "outputs": [
        {
          "output_type": "display_data",
          "data": {
            "text/plain": [
              "<Figure size 720x432 with 1 Axes>"
            ],
            "image/png": "[encoded data removed]"
          },
          "metadata": {
            "needs_background": "light"
          }
        }
      ],
      "source": [
        "from sklearn.metrics import roc_auc_score, roc_curve\n",
        "\n",
        "\n",
        "plt.figure(figsize=(10, 6))\n",
        "\n",
        "proba = lr_clf.predict_proba(train_features)[:, 1]\n",
        "auc = roc_auc_score(train_labels, proba)\n",
        "plt.plot(*roc_curve(train_labels, proba)[:2], label=f'train AUC={auc:.4f}')\n",
        "\n",
        "proba = lr_clf.predict_proba(test_features)[:, 1]\n",
        "auc = roc_auc_score(test_labels, proba)\n",
        "plt.plot(*roc_curve(test_labels, proba)[:2], label=f'test AUC={auc:.4f}')\n",
        "\n",
        "plt.legend()\n",
        "plt.show()"
      ]
    },
    {
      "cell_type": "markdown",
      "metadata": {
        "id": "75oyhr3VxHoE"
      },
      "source": [
        "How good is this score? What can we compare it against? Let's first look at a dummy classifier:"
      ]
    },
    {
      "cell_type": "code",
      "execution_count": 23,
      "metadata": {
        "id": "lnwgmqNG7i5l",
        "colab": {
          "base_uri": "https://localhost:8080/"
        },
        "outputId": "9d66bbd2-9ae6-46cc-df31-25d9834f01c2"
      },
      "outputs": [
        {
          "output_type": "stream",
          "name": "stdout",
          "text": [
            "Dummy classifier score: 0.513 (+/- 0.000)\n"
          ]
        }
      ],
      "source": [
        "from sklearn.dummy import DummyClassifier\n",
        "from sklearn.model_selection import cross_val_score\n",
        "\n",
        "\n",
        "clf = DummyClassifier()\n",
        "scores = cross_val_score(clf, train_features, train_labels)\n",
        "print(f\"Dummy classifier score: {scores.mean():.3f} (+/- {2 * scores.std():.3f})\")"
      ]
    },
    {
      "cell_type": "markdown",
      "metadata": {
        "id": "7Lg4LOpoxSOR"
      },
      "source": [
        "So our model clearly does better than a dummy classifier. But how does it compare against the best models?\n",
        "\n",
        "For reference, the [highest accuracy score](http://nlpprogress.com/english/sentiment_analysis.html) for this dataset is currently **96.8**. DistilBERT can be trained to improve its score on this task – a process called **fine-tuning** which updates BERT’s weights to make it achieve a better performance in this sentence classification task (which we can call the downstream task). The fine-tuned DistilBERT turns out to achieve an accuracy score of **90.7**. The full size BERT model achieves **94.9**.\n",
        "\n",
        "And that’s it! That’s a good first contact with BERT. The next step would be to head over to the documentation and try your hand at [fine-tuning](https://huggingface.co/transformers/examples.html#glue). You can also go back and switch from distilBERT to BERT and see how that works."
      ]
    },
    {
      "cell_type": "markdown",
      "metadata": {
        "id": "EJQuqV6cnWQu",
        "outputId": "402d109c-01bb-485d-a510-4be8684c9c06"
      },
      "source": [
        "## Part 2: Looking back."
      ]
    },
    {
      "cell_type": "markdown",
      "metadata": {
        "id": "zIBbP_oroaYH",
        "outputId": "402d109c-01bb-485d-a510-4be8684c9c06"
      },
      "source": [
        "Now it is your turn to reproduce the steps above.\n",
        "\n",
        "We shall revisit the first homework and see whether we could improve the results a little bit more. The average ROC-AUC on test set was around $0.9$ (using the words embeddings). \n",
        "\n",
        "__Let's see whether we can beat it.__"
      ]
    },
    {
      "cell_type": "code",
      "execution_count": 24,
      "metadata": {
        "id": "kz8QBEXozHJx",
        "colab": {
          "base_uri": "https://localhost:8080/",
          "height": 206
        },
        "outputId": "567bf645-db4b-47bd-80d7-50e8638fbfd0"
      },
      "outputs": [
        {
          "output_type": "execute_result",
          "data": {
            "text/plain": [
              "   should_ban                                       comment_text\n",
              "0           0  The picture on the article is not of the actor...\n",
              "1           1  Its madness. Shes of Chinese heritage, but JAP...\n",
              "2           1  Fuck You. Why don't you suck a turd out of my ...\n",
              "3           1  God is dead\\nI don't mean to startle anyone bu...\n",
              "4           1  THIS USER IS A PLANT FROM BRUCE PERENS AND GRO..."
            ],
            "text/html": [
              "\n",
              "  <div id=\"df-4e23a6d3-f941-4cb9-889c-e94ad3992529\">\n",
              "    <div class=\"colab-df-container\">\n",
              "      <div>\n",
              "<style scoped>\n",
              "    .dataframe tbody tr th:only-of-type {\n",
              "        vertical-align: middle;\n",
              "    }\n",
              "\n",
              "    .dataframe tbody tr th {\n",
              "        vertical-align: top;\n",
              "    }\n",
              "\n",
              "    .dataframe thead th {\n",
              "        text-align: right;\n",
              "    }\n",
              "</style>\n",
              "<table border=\"1\" class=\"dataframe\">\n",
              "  <thead>\n",
              "    <tr style=\"text-align: right;\">\n",
              "      <th></th>\n",
              "      <th>should_ban</th>\n",
              "      <th>comment_text</th>\n",
              "    </tr>\n",
              "  </thead>\n",
              "  <tbody>\n",
              "    <tr>\n",
              "      <th>0</th>\n",
              "      <td>0</td>\n",
              "      <td>The picture on the article is not of the actor...</td>\n",
              "    </tr>\n",
              "    <tr>\n",
              "      <th>1</th>\n",
              "      <td>1</td>\n",
              "      <td>Its madness. Shes of Chinese heritage, but JAP...</td>\n",
              "    </tr>\n",
              "    <tr>\n",
              "      <th>2</th>\n",
              "      <td>1</td>\n",
              "      <td>Fuck You. Why don't you suck a turd out of my ...</td>\n",
              "    </tr>\n",
              "    <tr>\n",
              "      <th>3</th>\n",
              "      <td>1</td>\n",
              "      <td>God is dead\\nI don't mean to startle anyone bu...</td>\n",
              "    </tr>\n",
              "    <tr>\n",
              "      <th>4</th>\n",
              "      <td>1</td>\n",
              "      <td>THIS USER IS A PLANT FROM BRUCE PERENS AND GRO...</td>\n",
              "    </tr>\n",
              "  </tbody>\n",
              "</table>\n",
              "</div>\n",
              "      <button class=\"colab-df-convert\" onclick=\"convertToInteractive('df-4e23a6d3-f941-4cb9-889c-e94ad3992529')\"\n",
              "              title=\"Convert this dataframe to an interactive table.\"\n",
              "              style=\"display:none;\">\n",
              "        \n",
              "  <svg xmlns=\"http://www.w3.org/2000/svg\" height=\"24px\"viewBox=\"0 0 24 24\"\n",
              "       width=\"24px\">\n",
              "    <path d=\"M0 0h24v24H0V0z\" fill=\"none\"/>\n",
              "    <path d=\"M18.56 5.44l.94 2.06.94-2.06 2.06-.94-2.06-.94-.94-2.06-.94 2.06-2.06.94zm-11 1L8.5 8.5l.94-2.06 2.06-.94-2.06-.94L8.5 2.5l-.94 2.06-2.06.94zm10 10l.94 2.06.94-2.06 2.06-.94-2.06-.94-.94-2.06-.94 2.06-2.06.94z\"/><path d=\"M17.41 7.96l-1.37-1.37c-.4-.4-.92-.59-1.43-.59-.52 0-1.04.2-1.43.59L10.3 9.45l-7.72 7.72c-.78.78-.78 2.05 0 2.83L4 21.41c.39.39.9.59 1.41.59.51 0 1.02-.2 1.41-.59l7.78-7.78 2.81-2.81c.8-.78.8-2.07 0-2.86zM5.41 20L4 18.59l7.72-7.72 1.47 1.35L5.41 20z\"/>\n",
              "  </svg>\n",
              "      </button>\n",
              "      \n",
              "  <style>\n",
              "    .colab-df-container {\n",
              "      display:flex;\n",
              "      flex-wrap:wrap;\n",
              "      gap: 12px;\n",
              "    }\n",
              "\n",
              "    .colab-df-convert {\n",
              "      background-color: #E8F0FE;\n",
              "      border: none;\n",
              "      border-radius: 50%;\n",
              "      cursor: pointer;\n",
              "      display: none;\n",
              "      fill: #1967D2;\n",
              "      height: 32px;\n",
              "      padding: 0 0 0 0;\n",
              "      width: 32px;\n",
              "    }\n",
              "\n",
              "    .colab-df-convert:hover {\n",
              "      background-color: #E2EBFA;\n",
              "      box-shadow: 0px 1px 2px rgba(60, 64, 67, 0.3), 0px 1px 3px 1px rgba(60, 64, 67, 0.15);\n",
              "      fill: #174EA6;\n",
              "    }\n",
              "\n",
              "    [theme=dark] .colab-df-convert {\n",
              "      background-color: #3B4455;\n",
              "      fill: #D2E3FC;\n",
              "    }\n",
              "\n",
              "    [theme=dark] .colab-df-convert:hover {\n",
              "      background-color: #434B5C;\n",
              "      box-shadow: 0px 1px 3px 1px rgba(0, 0, 0, 0.15);\n",
              "      filter: drop-shadow(0px 1px 2px rgba(0, 0, 0, 0.3));\n",
              "      fill: #FFFFFF;\n",
              "    }\n",
              "  </style>\n",
              "\n",
              "      <script>\n",
              "        const buttonEl =\n",
              "          document.querySelector('#df-4e23a6d3-f941-4cb9-889c-e94ad3992529 button.colab-df-convert');\n",
              "        buttonEl.style.display =\n",
              "          google.colab.kernel.accessAllowed ? 'block' : 'none';\n",
              "\n",
              "        async function convertToInteractive(key) {\n",
              "          const element = document.querySelector('#df-4e23a6d3-f941-4cb9-889c-e94ad3992529');\n",
              "          const dataTable =\n",
              "            await google.colab.kernel.invokeFunction('convertToInteractive',\n",
              "                                                     [key], {});\n",
              "          if (!dataTable) return;\n",
              "\n",
              "          const docLinkHtml = 'Like what you see? Visit the ' +\n",
              "            '<a target=\"_blank\" href=https://colab.research.google.com/notebooks/data_table.ipynb>data table notebook</a>'\n",
              "            + ' to learn more about interactive tables.';\n",
              "          element.innerHTML = '';\n",
              "          dataTable['output_type'] = 'display_data';\n",
              "          await google.colab.output.renderOutput(dataTable, element);\n",
              "          const docLink = document.createElement('div');\n",
              "          docLink.innerHTML = docLinkHtml;\n",
              "          element.appendChild(docLink);\n",
              "        }\n",
              "      </script>\n",
              "    </div>\n",
              "  </div>\n",
              "  "
            ]
          },
          "metadata": {},
          "execution_count": 24
        }
      ],
      "source": [
        "dataset_url = 'https://raw.githubusercontent.com/neychev/made_nlp_course/master/datasets/comments_small_dataset/comments.tsv'\n",
        "dataset = pd.read_csv(dataset_url, sep='\\t')\n",
        "dataset.head()"
      ]
    },
    {
      "cell_type": "markdown",
      "metadata": {
        "id": "ZPyxeBCgGtfg"
      },
      "source": [
        "One last note: this dataset contains some very long sentences, while the vast majority of sequences fall into category of 500 tokens and less:"
      ]
    },
    {
      "cell_type": "code",
      "execution_count": 25,
      "metadata": {
        "id": "XdZjuVxRoaYH",
        "colab": {
          "base_uri": "https://localhost:8080/",
          "height": 374
        },
        "outputId": "d3f77425-70dc-4b42-828c-6ba838b97b6c"
      },
      "outputs": [
        {
          "output_type": "display_data",
          "data": {
            "text/plain": [
              "<Figure size 720x432 with 1 Axes>"
            ],
            "image/png": "[encoded data removed]"
          },
          "metadata": {
            "needs_background": "light"
          }
        }
      ],
      "source": [
        "texts = dataset[\"comment_text\"].tolist()\n",
        "tokenized_texts = tokenizer(texts)\n",
        "ids_lens = list(len(toks) for toks in tokenized_texts[\"input_ids\"])\n",
        "\n",
        "plt.figure(figsize=(10, 6))\n",
        "plt.hist(ids_lens)\n",
        "plt.show()"
      ]
    },
    {
      "cell_type": "markdown",
      "metadata": {
        "id": "66wufVncHF8f"
      },
      "source": [
        "We already know, how to tackle the problem of different sizes of sequences with padding. However, blind padding here would make pad all the sequenes to the size of the largest one, which seems to be an overkill. In such case it might be sensible to actually truncate the too-long sequences into a fixed length, say 512. And we can do this easily by specifying the `max_length` and `truncation=True` arguments to the tokenizer."
      ]
    },
    {
      "cell_type": "code",
      "execution_count": 26,
      "metadata": {
        "id": "_LOYXhz_FKTr",
        "colab": {
          "base_uri": "https://localhost:8080/"
        },
        "outputId": "77452d81-40ce-4056-c047-2819a4263bff"
      },
      "outputs": [
        {
          "output_type": "execute_result",
          "data": {
            "text/plain": [
              "(1000, 768)"
            ]
          },
          "metadata": {},
          "execution_count": 26
        }
      ],
      "source": [
        "# YOUR CODE HERE\n",
        "# YOUR CODE HERE\n",
        "tokenized_texts = tokenizer(\n",
        "    texts, max_length=512, return_tensors=\"pt\", padding=True, truncation=True\n",
        ")\n",
        "\n",
        "features = []\n",
        "with torch.no_grad():\n",
        "    for i in range(0, len(texts), batch_size):\n",
        "        texts_batch = tokenized_texts[\"input_ids\"][i : i + batch_size].to(device)\n",
        "        masks_batch = tokenized_texts[\"attention_mask\"][i : i + batch_size].to(device)\n",
        "        output = model(texts_batch, masks_batch)\n",
        "        batch_features = output.last_hidden_state[:, 0, :].cpu().numpy()\n",
        "        features.append(batch_features)\n",
        "\n",
        "features = np.concatenate(features, axis=0)\n",
        "features.shape"
      ]
    },
    {
      "cell_type": "code",
      "source": [
        "labels = dataset[\"should_ban\"].values\n",
        "train_features, test_features, train_labels, test_labels = train_test_split(features, labels)\n",
        "lr_clf = LogisticRegression(C=0.1)\n",
        "lr_clf.fit(train_features, train_labels)\n",
        "lr_clf.score(test_features, test_labels)"
      ],
      "metadata": {
        "colab": {
          "base_uri": "https://localhost:8080/"
        },
        "id": "zc-Qu6jwI1DD",
        "outputId": "f457fb41-d8ba-47a2-c54e-66613cead2f2"
      },
      "execution_count": 27,
      "outputs": [
        {
          "output_type": "execute_result",
          "data": {
            "text/plain": [
              "0.864"
            ]
          },
          "metadata": {},
          "execution_count": 27
        }
      ]
    },
    {
      "cell_type": "code",
      "source": [
        "plt.figure(figsize=(10, 6))\n",
        "\n",
        "proba = lr_clf.predict_proba(train_features)[:, 1]\n",
        "auc = roc_auc_score(train_labels, proba)\n",
        "plt.plot(*roc_curve(train_labels, proba)[:2], label=f'train AUC={auc:.4f}')\n",
        "\n",
        "proba = lr_clf.predict_proba(test_features)[:, 1]\n",
        "auc = roc_auc_score(test_labels, proba)\n",
        "plt.plot(*roc_curve(test_labels, proba)[:2], label=f'test AUC={auc:.4f}')\n",
        "\n",
        "plt.legend()\n",
        "plt.show()"
      ],
      "metadata": {
        "colab": {
          "base_uri": "https://localhost:8080/",
          "height": 374
        },
        "id": "TYu9Kg2sI-A8",
        "outputId": "f921d6a9-1dc7-4ad9-ffa0-3edf5163d287"
      },
      "execution_count": 28,
      "outputs": [
        {
          "output_type": "display_data",
          "data": {
            "text/plain": [
              "<Figure size 720x432 with 1 Axes>"
            ],
            "image/png": "[encoded data removed]"
          },
          "metadata": {
            "needs_background": "light"
          }
        }
      ]
    },
    {
      "cell_type": "markdown",
      "metadata": {
        "id": "cc1hBVfbzHJ7"
      },
      "source": [
        "So, how does it look? Did we achieve better results? \n",
        "\n",
        "Here come some further ideas:\n",
        "\n",
        "* Try using the larger BERT (e.g. BERT-base or BERT-large) and compare the results (be careful, they require more memory).\n",
        "\n",
        "* Using BERT output for translation? Why not ;)"
      ]
    }
  ],
  "metadata": {
    "accelerator": "GPU",
    "colab": {
      "machine_shape": "hm",
      "provenance": []
    },
    "kernelspec": {
      "display_name": "Python 3",
      "language": "python",
      "name": "python3"
    },
    "language_info": {
      "codemirror_mode": {
        "name": "ipython",
        "version": 3
      },
      "file_extension": ".py",
      "mimetype": "text/x-python",
      "name": "python",
      "nbconvert_exporter": "python",
      "pygments_lexer": "ipython3",
      "version": "3.8.5"
    }
  },
  "nbformat": 4,
  "nbformat_minor": 0
}