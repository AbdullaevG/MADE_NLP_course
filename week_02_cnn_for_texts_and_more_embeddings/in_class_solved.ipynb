{
 "cells": [
  {
   "cell_type": "markdown",
   "metadata": {
    "id": "13pL--6rycN3"
   },
   "source": [
    "# Practice: Dealing with texts using CNN\n",
    "_Reference: Based on YSDA [materials](https://github.com/yandexdataschool/nlp_course/blob/master/week02_classification/seminar.ipynb). Special thanks to [Oleg Vasilev](https://github.com/Omrigan/) for the core assignment idea._\n",
    "\n",
    "Today we're gonna apply the newly learned tools for the task of predicting job salary.\n",
    "\n",
    "<img src=\"https://storage.googleapis.com/kaggle-competitions/kaggle/3342/media/salary%20prediction%20engine%20v2.png\" width=400px>"
   ]
  },
  {
   "cell_type": "markdown",
   "metadata": {
    "id": "34x92vWQycN_"
   },
   "source": [
    "## About the challenge\n",
    "For starters, let's download and unpack the data.\n",
    "\n",
    "You can also get it from [Yandex.Disk](https://yadi.sk/d/vVEOWPFY3NruT7) or [the competition page](https://www.kaggle.com/c/job-salary-prediction/data) (pick `Train_rev1.*`)."
   ]
  },
  {
   "cell_type": "code",
   "execution_count": 1,
   "metadata": {
    "colab": {
     "base_uri": "https://localhost:8080/"
    },
    "execution": {
     "iopub.execute_input": "2023-06-26T12:33:58.784276Z",
     "iopub.status.busy": "2023-06-26T12:33:58.783448Z",
     "iopub.status.idle": "2023-06-26T12:34:13.911215Z",
     "shell.execute_reply": "2023-06-26T12:34:13.909933Z",
     "shell.execute_reply.started": "2023-06-26T12:33:58.784248Z"
    },
    "id": "vwN72gd4ycOA",
    "outputId": "a486d643-050a-4b42-caf1-84364d415e7b"
   },
   "outputs": [
    {
     "name": "stdout",
     "output_type": "stream",
     "text": [
      "curl: /opt/conda/lib/libcurl.so.4: no version information available (required by curl)\n",
      "  % Total    % Received % Xferd  Average Speed   Time    Time     Time  Current\n",
      "                                 Dload  Upload   Total   Spent    Left  Speed\n",
      "100    17    0    17    0     0     24      0 --:--:-- --:--:-- --:--:--    24\n",
      "100   342  100   342    0     0    270      0  0:00:01  0:00:01 --:--:--     0\n",
      "100  119M  100  119M    0     0  12.6M      0  0:00:09  0:00:09 --:--:-- 19.6M\n"
     ]
    }
   ],
   "source": [
    "!curl -L \"https://www.dropbox.com/s/5msc5ix7ndyba10/Train_rev1.csv.tar.gz?dl=1\" -o Train_rev1.csv.tar.gz\n",
    "!tar xzf Train_rev1.csv.tar.gz"
   ]
  },
  {
   "cell_type": "code",
   "execution_count": 2,
   "metadata": {
    "execution": {
     "iopub.execute_input": "2023-06-26T12:34:24.536955Z",
     "iopub.status.busy": "2023-06-26T12:34:24.536168Z",
     "iopub.status.idle": "2023-06-26T12:34:27.994868Z",
     "shell.execute_reply": "2023-06-26T12:34:27.993888Z",
     "shell.execute_reply.started": "2023-06-26T12:34:24.536902Z"
    }
   },
   "outputs": [],
   "source": [
    "import time\n",
    "import matplotlib.pyplot as plt\n",
    "plt.style.use(\"dark_background\")\n",
    "import numpy as np\n",
    "\n",
    "import pandas as pd\n",
    "from sklearn.metrics import r2_score\n",
    "\n",
    "import torch\n",
    "import torch.nn as nn\n",
    "import torch.nn.functional as F\n",
    "from torch.optim import lr_scheduler"
   ]
  },
  {
   "cell_type": "code",
   "execution_count": 3,
   "metadata": {
    "colab": {
     "base_uri": "https://localhost:8080/"
    },
    "execution": {
     "iopub.execute_input": "2023-06-26T12:34:36.657841Z",
     "iopub.status.busy": "2023-06-26T12:34:36.657227Z",
     "iopub.status.idle": "2023-06-26T12:34:42.171939Z",
     "shell.execute_reply": "2023-06-26T12:34:42.169848Z",
     "shell.execute_reply.started": "2023-06-26T12:34:36.657794Z"
    },
    "id": "xIjzhbXEpHfT",
    "outputId": "b280d915-0b32-47f6-848c-bef616cd6c91"
   },
   "outputs": [
    {
     "data": {
      "text/plain": [
       "(244768, 12)"
      ]
     },
     "execution_count": 3,
     "metadata": {},
     "output_type": "execute_result"
    }
   ],
   "source": [
    "data = pd.read_csv(\"/kaggle/working/Train_rev1.csv\", index_col=None)\n",
    "data.shape"
   ]
  },
  {
   "cell_type": "code",
   "execution_count": 4,
   "metadata": {
    "execution": {
     "iopub.execute_input": "2023-06-26T12:34:51.097434Z",
     "iopub.status.busy": "2023-06-26T12:34:51.096820Z",
     "iopub.status.idle": "2023-06-26T12:34:51.118723Z",
     "shell.execute_reply": "2023-06-26T12:34:51.117789Z",
     "shell.execute_reply.started": "2023-06-26T12:34:51.097398Z"
    }
   },
   "outputs": [
    {
     "data": {
      "text/html": [
       "<div>\n",
       "<style scoped>\n",
       "    .dataframe tbody tr th:only-of-type {\n",
       "        vertical-align: middle;\n",
       "    }\n",
       "\n",
       "    .dataframe tbody tr th {\n",
       "        vertical-align: top;\n",
       "    }\n",
       "\n",
       "    .dataframe thead th {\n",
       "        text-align: right;\n",
       "    }\n",
       "</style>\n",
       "<table border=\"1\" class=\"dataframe\">\n",
       "  <thead>\n",
       "    <tr style=\"text-align: right;\">\n",
       "      <th></th>\n",
       "      <th>Id</th>\n",
       "      <th>Title</th>\n",
       "      <th>FullDescription</th>\n",
       "      <th>LocationRaw</th>\n",
       "      <th>LocationNormalized</th>\n",
       "      <th>ContractType</th>\n",
       "      <th>ContractTime</th>\n",
       "      <th>Company</th>\n",
       "      <th>Category</th>\n",
       "      <th>SalaryRaw</th>\n",
       "      <th>SalaryNormalized</th>\n",
       "      <th>SourceName</th>\n",
       "    </tr>\n",
       "  </thead>\n",
       "  <tbody>\n",
       "    <tr>\n",
       "      <th>0</th>\n",
       "      <td>12612628</td>\n",
       "      <td>Engineering Systems Analyst</td>\n",
       "      <td>Engineering Systems Analyst Dorking Surrey Sal...</td>\n",
       "      <td>Dorking, Surrey, Surrey</td>\n",
       "      <td>Dorking</td>\n",
       "      <td>NaN</td>\n",
       "      <td>permanent</td>\n",
       "      <td>Gregory Martin International</td>\n",
       "      <td>Engineering Jobs</td>\n",
       "      <td>20000 - 30000/annum 20-30K</td>\n",
       "      <td>25000</td>\n",
       "      <td>cv-library.co.uk</td>\n",
       "    </tr>\n",
       "    <tr>\n",
       "      <th>1</th>\n",
       "      <td>12612830</td>\n",
       "      <td>Stress Engineer Glasgow</td>\n",
       "      <td>Stress Engineer Glasgow Salary **** to **** We...</td>\n",
       "      <td>Glasgow, Scotland, Scotland</td>\n",
       "      <td>Glasgow</td>\n",
       "      <td>NaN</td>\n",
       "      <td>permanent</td>\n",
       "      <td>Gregory Martin International</td>\n",
       "      <td>Engineering Jobs</td>\n",
       "      <td>25000 - 35000/annum 25-35K</td>\n",
       "      <td>30000</td>\n",
       "      <td>cv-library.co.uk</td>\n",
       "    </tr>\n",
       "    <tr>\n",
       "      <th>2</th>\n",
       "      <td>12612844</td>\n",
       "      <td>Modelling and simulation analyst</td>\n",
       "      <td>Mathematical Modeller / Simulation Analyst / O...</td>\n",
       "      <td>Hampshire, South East, South East</td>\n",
       "      <td>Hampshire</td>\n",
       "      <td>NaN</td>\n",
       "      <td>permanent</td>\n",
       "      <td>Gregory Martin International</td>\n",
       "      <td>Engineering Jobs</td>\n",
       "      <td>20000 - 40000/annum 20-40K</td>\n",
       "      <td>30000</td>\n",
       "      <td>cv-library.co.uk</td>\n",
       "    </tr>\n",
       "  </tbody>\n",
       "</table>\n",
       "</div>"
      ],
      "text/plain": [
       "         Id                             Title  \\\n",
       "0  12612628       Engineering Systems Analyst   \n",
       "1  12612830           Stress Engineer Glasgow   \n",
       "2  12612844  Modelling and simulation analyst   \n",
       "\n",
       "                                     FullDescription  \\\n",
       "0  Engineering Systems Analyst Dorking Surrey Sal...   \n",
       "1  Stress Engineer Glasgow Salary **** to **** We...   \n",
       "2  Mathematical Modeller / Simulation Analyst / O...   \n",
       "\n",
       "                         LocationRaw LocationNormalized ContractType  \\\n",
       "0            Dorking, Surrey, Surrey            Dorking          NaN   \n",
       "1        Glasgow, Scotland, Scotland            Glasgow          NaN   \n",
       "2  Hampshire, South East, South East          Hampshire          NaN   \n",
       "\n",
       "  ContractTime                       Company          Category  \\\n",
       "0    permanent  Gregory Martin International  Engineering Jobs   \n",
       "1    permanent  Gregory Martin International  Engineering Jobs   \n",
       "2    permanent  Gregory Martin International  Engineering Jobs   \n",
       "\n",
       "                    SalaryRaw  SalaryNormalized        SourceName  \n",
       "0  20000 - 30000/annum 20-30K             25000  cv-library.co.uk  \n",
       "1  25000 - 35000/annum 25-35K             30000  cv-library.co.uk  \n",
       "2  20000 - 40000/annum 20-40K             30000  cv-library.co.uk  "
      ]
     },
     "execution_count": 4,
     "metadata": {},
     "output_type": "execute_result"
    }
   ],
   "source": [
    "data.head(3)"
   ]
  },
  {
   "cell_type": "code",
   "execution_count": 5,
   "metadata": {
    "execution": {
     "iopub.execute_input": "2023-06-26T12:34:55.519925Z",
     "iopub.status.busy": "2023-06-26T12:34:55.519508Z",
     "iopub.status.idle": "2023-06-26T12:34:55.547015Z",
     "shell.execute_reply": "2023-06-26T12:34:55.545705Z",
     "shell.execute_reply.started": "2023-06-26T12:34:55.519891Z"
    }
   },
   "outputs": [
    {
     "data": {
      "text/plain": [
       "full_time    57538\n",
       "part_time     7904\n",
       "Name: ContractType, dtype: int64"
      ]
     },
     "execution_count": 5,
     "metadata": {},
     "output_type": "execute_result"
    }
   ],
   "source": [
    "data.ContractType.value_counts()"
   ]
  },
  {
   "cell_type": "code",
   "execution_count": 6,
   "metadata": {
    "execution": {
     "iopub.execute_input": "2023-06-26T12:34:55.719541Z",
     "iopub.status.busy": "2023-06-26T12:34:55.719181Z",
     "iopub.status.idle": "2023-06-26T12:34:55.753032Z",
     "shell.execute_reply": "2023-06-26T12:34:55.752056Z",
     "shell.execute_reply.started": "2023-06-26T12:34:55.719511Z"
    }
   },
   "outputs": [
    {
     "data": {
      "text/plain": [
       "permanent    151521\n",
       "contract      29342\n",
       "Name: ContractTime, dtype: int64"
      ]
     },
     "execution_count": 6,
     "metadata": {},
     "output_type": "execute_result"
    }
   ],
   "source": [
    "data.ContractTime.value_counts()"
   ]
  },
  {
   "cell_type": "code",
   "execution_count": 7,
   "metadata": {
    "execution": {
     "iopub.execute_input": "2023-06-26T12:34:55.869896Z",
     "iopub.status.busy": "2023-06-26T12:34:55.869154Z",
     "iopub.status.idle": "2023-06-26T12:34:55.924962Z",
     "shell.execute_reply": "2023-06-26T12:34:55.924022Z",
     "shell.execute_reply.started": "2023-06-26T12:34:55.869851Z"
    }
   },
   "outputs": [
    {
     "data": {
      "text/plain": [
       "UKStaffsearch          4997\n",
       "CVbrowser              2977\n",
       "London4Jobs            2345\n",
       "Hays                   1784\n",
       "JAM Recruitment Ltd    1122\n",
       "                       ... \n",
       "Your Golf Travel          1\n",
       "YMCAfit                   1\n",
       "The Park Club             1\n",
       "Celtic Manor Resort       1\n",
       "DMC Healthcare            1\n",
       "Name: Company, Length: 20812, dtype: int64"
      ]
     },
     "execution_count": 7,
     "metadata": {},
     "output_type": "execute_result"
    }
   ],
   "source": [
    "data.Company.value_counts()"
   ]
  },
  {
   "cell_type": "markdown",
   "metadata": {
    "id": "z7kznuJfycOH"
   },
   "source": [
    "One problem with salary prediction is that it's oddly distributed: there are many people who are paid standard salaries and a few that get tons o money. The distribution is fat-tailed on the right side, which is inconvenient for MSE minimization.\n",
    "\n",
    "There are several techniques to combat this: using a different loss function, predicting log-target instead of raw target or even replacing targets with their percentiles among all salaries in the training set. We gonna use logarithm for now."
   ]
  },
  {
   "cell_type": "code",
   "execution_count": 8,
   "metadata": {
    "colab": {
     "base_uri": "https://localhost:8080/",
     "height": 374
    },
    "execution": {
     "iopub.execute_input": "2023-06-26T12:34:56.246925Z",
     "iopub.status.busy": "2023-06-26T12:34:56.246530Z",
     "iopub.status.idle": "2023-06-26T12:34:56.741177Z",
     "shell.execute_reply": "2023-06-26T12:34:56.740288Z",
     "shell.execute_reply.started": "2023-06-26T12:34:56.246884Z"
    },
    "id": "UuuKIKfrycOH",
    "outputId": "dabad82b-71ed-4425-9589-83310ab4f3ee"
   },
   "outputs": [
    {
     "data": {
      "image/png": "[encoded data removed]",
      "text/plain": [
       "<Figure size 1500x600 with 2 Axes>"
      ]
     },
     "metadata": {},
     "output_type": "display_data"
    }
   ],
   "source": [
    "data[\"Log1pSalary\"] = np.log1p(data[\"SalaryNormalized\"]).astype(\"float32\")\n",
    "\n",
    "plt.figure(figsize=[15, 6])\n",
    "plt.subplot(1, 2, 1)\n",
    "plt.hist(data[\"SalaryNormalized\"], bins=20)\n",
    "\n",
    "plt.subplot(1, 2, 2)\n",
    "plt.hist(data[\"Log1pSalary\"], bins=20)\n",
    "\n",
    "plt.show()"
   ]
  },
  {
   "cell_type": "markdown",
   "metadata": {
    "id": "Fcu-qmHRycOK"
   },
   "source": [
    "Our task is to predict one number, __Log1pSalary__.\n",
    "\n",
    "To do so, our model can access a number of features:\n",
    "* Free text: __`Title`__ and  __`FullDescription`__\n",
    "* Categorical: __`Category`__, __`Company`__, __`LocationNormalized`__, __`ContractType`__, and __`ContractTime`__."
   ]
  },
  {
   "cell_type": "code",
   "execution_count": 9,
   "metadata": {
    "colab": {
     "base_uri": "https://localhost:8080/",
     "height": 381
    },
    "execution": {
     "iopub.execute_input": "2023-06-26T12:34:57.299707Z",
     "iopub.status.busy": "2023-06-26T12:34:57.299343Z",
     "iopub.status.idle": "2023-06-26T12:34:58.164821Z",
     "shell.execute_reply": "2023-06-26T12:34:58.163810Z",
     "shell.execute_reply.started": "2023-06-26T12:34:57.299677Z"
    },
    "id": "p9vyA_erycOK",
    "outputId": "25263fdb-fc1f-46b5-e84c-34d41b237c3d"
   },
   "outputs": [
    {
     "data": {
      "text/html": [
       "<div>\n",
       "<style scoped>\n",
       "    .dataframe tbody tr th:only-of-type {\n",
       "        vertical-align: middle;\n",
       "    }\n",
       "\n",
       "    .dataframe tbody tr th {\n",
       "        vertical-align: top;\n",
       "    }\n",
       "\n",
       "    .dataframe thead th {\n",
       "        text-align: right;\n",
       "    }\n",
       "</style>\n",
       "<table border=\"1\" class=\"dataframe\">\n",
       "  <thead>\n",
       "    <tr style=\"text-align: right;\">\n",
       "      <th></th>\n",
       "      <th>Id</th>\n",
       "      <th>Title</th>\n",
       "      <th>FullDescription</th>\n",
       "      <th>LocationRaw</th>\n",
       "      <th>LocationNormalized</th>\n",
       "      <th>ContractType</th>\n",
       "      <th>ContractTime</th>\n",
       "      <th>Company</th>\n",
       "      <th>Category</th>\n",
       "      <th>SalaryRaw</th>\n",
       "      <th>SalaryNormalized</th>\n",
       "      <th>SourceName</th>\n",
       "      <th>Log1pSalary</th>\n",
       "    </tr>\n",
       "  </thead>\n",
       "  <tbody>\n",
       "    <tr>\n",
       "      <th>189044</th>\n",
       "      <td>71706644</td>\n",
       "      <td>Senior Control System Engineer  PLC/SCADA</td>\n",
       "      <td>Senior Control System Engineer  PLC/SCADA requ...</td>\n",
       "      <td>South Yorkshire South Yorkshire England</td>\n",
       "      <td>South Yorkshire</td>\n",
       "      <td>NaN</td>\n",
       "      <td>NaN</td>\n",
       "      <td>Redline Group</td>\n",
       "      <td>Engineering Jobs</td>\n",
       "      <td>40000 -50000 per annum</td>\n",
       "      <td>45000</td>\n",
       "      <td>gojobsearch.co.uk</td>\n",
       "      <td>10.714440</td>\n",
       "    </tr>\n",
       "    <tr>\n",
       "      <th>130843</th>\n",
       "      <td>70172040</td>\n",
       "      <td>Market Research Interviewer</td>\n",
       "      <td>Market Research Interviewer No experience is r...</td>\n",
       "      <td>Lowestoft, Suffolk</td>\n",
       "      <td>Lowestoft</td>\n",
       "      <td>NaN</td>\n",
       "      <td>permanent</td>\n",
       "      <td>Search Consultancy</td>\n",
       "      <td>PR, Advertising &amp; Marketing Jobs</td>\n",
       "      <td>150 - 300/week Expenses and provisions</td>\n",
       "      <td>10800</td>\n",
       "      <td>cv-library.co.uk</td>\n",
       "      <td>9.287394</td>\n",
       "    </tr>\n",
       "    <tr>\n",
       "      <th>33556</th>\n",
       "      <td>68181642</td>\n",
       "      <td>Junior Quantity Surveyor</td>\n",
       "      <td>This Principle Engineering Contracting company...</td>\n",
       "      <td>Surrey</td>\n",
       "      <td>Surrey</td>\n",
       "      <td>NaN</td>\n",
       "      <td>permanent</td>\n",
       "      <td>Advance Training Recruitment Services Ltd</td>\n",
       "      <td>Trade &amp; Construction Jobs</td>\n",
       "      <td>25,000 - 32,000 pa</td>\n",
       "      <td>28500</td>\n",
       "      <td>jobsite.co.uk</td>\n",
       "      <td>10.257694</td>\n",
       "    </tr>\n",
       "  </tbody>\n",
       "</table>\n",
       "</div>"
      ],
      "text/plain": [
       "              Id                                      Title  \\\n",
       "189044  71706644  Senior Control System Engineer  PLC/SCADA   \n",
       "130843  70172040                Market Research Interviewer   \n",
       "33556   68181642                   Junior Quantity Surveyor   \n",
       "\n",
       "                                          FullDescription  \\\n",
       "189044  Senior Control System Engineer  PLC/SCADA requ...   \n",
       "130843  Market Research Interviewer No experience is r...   \n",
       "33556   This Principle Engineering Contracting company...   \n",
       "\n",
       "                                    LocationRaw LocationNormalized  \\\n",
       "189044  South Yorkshire South Yorkshire England    South Yorkshire   \n",
       "130843                       Lowestoft, Suffolk          Lowestoft   \n",
       "33556                                    Surrey             Surrey   \n",
       "\n",
       "       ContractType ContractTime                                    Company  \\\n",
       "189044          NaN          NaN                              Redline Group   \n",
       "130843          NaN    permanent                         Search Consultancy   \n",
       "33556           NaN    permanent  Advance Training Recruitment Services Ltd   \n",
       "\n",
       "                                Category  \\\n",
       "189044                  Engineering Jobs   \n",
       "130843  PR, Advertising & Marketing Jobs   \n",
       "33556          Trade & Construction Jobs   \n",
       "\n",
       "                                     SalaryRaw  SalaryNormalized  \\\n",
       "189044                  40000 -50000 per annum             45000   \n",
       "130843  150 - 300/week Expenses and provisions             10800   \n",
       "33556                       25,000 - 32,000 pa             28500   \n",
       "\n",
       "               SourceName  Log1pSalary  \n",
       "189044  gojobsearch.co.uk    10.714440  \n",
       "130843   cv-library.co.uk     9.287394  \n",
       "33556       jobsite.co.uk    10.257694  "
      ]
     },
     "execution_count": 9,
     "metadata": {},
     "output_type": "execute_result"
    }
   ],
   "source": [
    "text_columns = [\"Title\", \"FullDescription\"]\n",
    "categorical_columns = [\"Category\", \"Company\", \"LocationNormalized\", \"ContractType\", \"ContractTime\"]\n",
    "target_column = \"Log1pSalary\"\n",
    "\n",
    "data[categorical_columns] = data[categorical_columns].fillna(\"NaN\")\n",
    "data[text_columns] = data[text_columns].fillna(\"NaN\")\n",
    "\n",
    "data.sample(3)"
   ]
  },
  {
   "cell_type": "markdown",
   "metadata": {
    "id": "IUdclucmycON"
   },
   "source": [
    "## Preprocessing text data\n",
    "\n",
    "Just like last week, applying NLP to a problem begins from tokenization: splitting raw text into sequences of tokens (words, punctuation, etc).\n",
    "\n",
    "__Your task__ is to lowercase and tokenize all texts under `Title` and `FullDescription` columns. Store the tokenized data as a __space-separated__ string of tokens for performance reasons.\n",
    "\n",
    "It's okay to use nltk tokenizers. Assertions were designed for WordPunctTokenizer, slight deviations are okay."
   ]
  },
  {
   "cell_type": "code",
   "execution_count": 10,
   "metadata": {
    "colab": {
     "base_uri": "https://localhost:8080/"
    },
    "execution": {
     "iopub.execute_input": "2023-06-26T12:34:58.168579Z",
     "iopub.status.busy": "2023-06-26T12:34:58.168285Z",
     "iopub.status.idle": "2023-06-26T12:34:58.175105Z",
     "shell.execute_reply": "2023-06-26T12:34:58.173956Z",
     "shell.execute_reply.started": "2023-06-26T12:34:58.168553Z"
    },
    "id": "YzeOxD_aycOO",
    "outputId": "4d8b18c3-dd4f-46a5-e4dc-dc36ed640d22"
   },
   "outputs": [
    {
     "name": "stdout",
     "output_type": "stream",
     "text": [
      "Raw text:\n",
      "2         Mathematical Modeller / Simulation Analyst / O...\n",
      "100002    A successful and high achieving specialist sch...\n",
      "200002    Web Designer  HTML, CSS, JavaScript, Photoshop...\n",
      "Name: FullDescription, dtype: object\n"
     ]
    }
   ],
   "source": [
    "print(\"Raw text:\")\n",
    "print(data[\"FullDescription\"][2::100000])"
   ]
  },
  {
   "cell_type": "code",
   "execution_count": 11,
   "metadata": {
    "execution": {
     "iopub.execute_input": "2023-06-26T12:34:58.710039Z",
     "iopub.status.busy": "2023-06-26T12:34:58.709342Z",
     "iopub.status.idle": "2023-06-26T12:35:36.720395Z",
     "shell.execute_reply": "2023-06-26T12:35:36.719256Z",
     "shell.execute_reply.started": "2023-06-26T12:34:58.709994Z"
    },
    "id": "RUWkpd7PycOQ"
   },
   "outputs": [],
   "source": [
    "from nltk.tokenize import WordPunctTokenizer\n",
    "\n",
    "tokenizer = WordPunctTokenizer()\n",
    "\n",
    "# YOUR CODE HERE\n",
    "# Lowercase and tokenize titles and descriptions (text_columns).\n",
    "# Store items as space-separated strings of tokens.\n",
    "def normalize(text: str):  # noqa: E302\n",
    "    tokens = tokenizer.tokenize(str(text).lower())\n",
    "    return \" \".join(tokens)\n",
    "\n",
    "\n",
    "data[text_columns] = data[text_columns].applymap(normalize)"
   ]
  },
  {
   "cell_type": "code",
   "execution_count": 16,
   "metadata": {
    "colab": {
     "base_uri": "https://localhost:8080/"
    },
    "execution": {
     "iopub.execute_input": "2023-06-26T12:35:51.954019Z",
     "iopub.status.busy": "2023-06-26T12:35:51.951572Z",
     "iopub.status.idle": "2023-06-26T12:35:51.963984Z",
     "shell.execute_reply": "2023-06-26T12:35:51.963007Z",
     "shell.execute_reply.started": "2023-06-26T12:35:51.953983Z"
    },
    "id": "Gs-6lnS_ycOU",
    "outputId": "1e98b507-529c-4b1f-f197-260366d3fdc3"
   },
   "outputs": [
    {
     "name": "stdout",
     "output_type": "stream",
     "text": [
      "Tokenized:\n",
      "2         mathematical modeller / simulation analyst / o...\n",
      "100002    a successful and high achieving specialist sch...\n",
      "200002    web designer html , css , javascript , photosh...\n",
      "Name: FullDescription, dtype: object\n"
     ]
    }
   ],
   "source": [
    "print(\"Tokenized:\")\n",
    "print(data[\"FullDescription\"][2::100_000])\n",
    "assert data[\"FullDescription\"][2][:50] == \"mathematical modeller / simulation analyst / opera\"\n",
    "assert data[\"Title\"][54321] == \"international digital account manager ( german )\""
   ]
  },
  {
   "cell_type": "markdown",
   "metadata": {
    "id": "ouE3L2hyycOX"
   },
   "source": [
    "Not all words are equally useful. Some of them are typos or rare words that are only present a few times. \n",
    "\n",
    "Let's count how many times is each word present in the data so that we can build a \"white list\" of known words."
   ]
  },
  {
   "cell_type": "code",
   "execution_count": 17,
   "metadata": {
    "execution": {
     "iopub.execute_input": "2023-06-26T12:35:51.971006Z",
     "iopub.status.busy": "2023-06-26T12:35:51.968480Z",
     "iopub.status.idle": "2023-06-26T12:36:05.051141Z",
     "shell.execute_reply": "2023-06-26T12:36:05.050093Z",
     "shell.execute_reply.started": "2023-06-26T12:35:51.970972Z"
    },
    "id": "iC7hBwwjycOX"
   },
   "outputs": [],
   "source": [
    "from collections import Counter\n",
    "\n",
    "# YOUR CODE HERE\n",
    "# Count how many times does each token occur in both \"Title\" and \"FullDescription\".\n",
    "# Build a dictionary { token -> count }.\n",
    "# Hint: you may or may not want to use collections.Counter\n",
    "\n",
    "token_counts = Counter()\n",
    "\n",
    "for row in data[text_columns].values.flatten():\n",
    "    token_counts.update(row.split())"
   ]
  },
  {
   "cell_type": "code",
   "execution_count": 18,
   "metadata": {
    "colab": {
     "base_uri": "https://localhost:8080/"
    },
    "execution": {
     "iopub.execute_input": "2023-06-26T12:36:15.409082Z",
     "iopub.status.busy": "2023-06-26T12:36:15.408376Z",
     "iopub.status.idle": "2023-06-26T12:36:15.549553Z",
     "shell.execute_reply": "2023-06-26T12:36:15.547713Z",
     "shell.execute_reply.started": "2023-06-26T12:36:15.409039Z"
    },
    "id": "GiOWbc15ycOb",
    "outputId": "61366544-df1c-439c-9ea6-c4111acc2ce2"
   },
   "outputs": [
    {
     "name": "stdout",
     "output_type": "stream",
     "text": [
      "Total unique tokens : 202704\n",
      "('and', 2657388)\n",
      "('.', 2523216)\n",
      "(',', 2318606)\n",
      "('the', 2080994)\n",
      "('to', 2019884)\n",
      "...\n",
      "('stephanietraveltraderecruitmnt', 1)\n",
      "('ruabon', 1)\n",
      "('lowehays', 1)\n",
      "Correct!\n"
     ]
    }
   ],
   "source": [
    "print(\"Total unique tokens :\", len(token_counts))\n",
    "print(\"\\n\".join(map(str, token_counts.most_common(n=5))))\n",
    "print(\"...\")\n",
    "print(\"\\n\".join(map(str, token_counts.most_common()[-3:])))\n",
    "\n",
    "assert token_counts.most_common(1)[0][1] in range(2600000, 2700000)\n",
    "assert len(token_counts) in range(200000, 210000)\n",
    "print(\"Correct!\")"
   ]
  },
  {
   "cell_type": "markdown",
   "metadata": {
    "id": "W2ih1LV4YhtL"
   },
   "source": [
    "Let's see how many words are there for each count."
   ]
  },
  {
   "cell_type": "code",
   "execution_count": 19,
   "metadata": {
    "colab": {
     "base_uri": "https://localhost:8080/",
     "height": 334
    },
    "execution": {
     "iopub.execute_input": "2023-06-26T12:36:17.627720Z",
     "iopub.status.busy": "2023-06-26T12:36:17.627351Z",
     "iopub.status.idle": "2023-06-26T12:36:19.156316Z",
     "shell.execute_reply": "2023-06-26T12:36:19.155324Z",
     "shell.execute_reply.started": "2023-06-26T12:36:17.627687Z"
    },
    "id": "nd5v3BNfycOf",
    "outputId": "a357d434-4926-47ae-be1f-6d3c96743a8c"
   },
   "outputs": [
    {
     "data": {
      "image/png": "[encoded data removed]",
      "text/plain": [
       "<Figure size 1200x500 with 1 Axes>"
      ]
     },
     "metadata": {},
     "output_type": "display_data"
    }
   ],
   "source": [
    "plt.figure(figsize=(12, 5))\n",
    "plt.hist(list(token_counts.values()), range=[0, 10 ** 4], bins=50, log=True)\n",
    "plt.xlabel(\"Word counts\")\n",
    "plt.show()"
   ]
  },
  {
   "cell_type": "markdown",
   "metadata": {
    "id": "znuXxeghycOh"
   },
   "source": [
    "Now we will filter tokens a list of all tokens that occur at least 10 times."
   ]
  },
  {
   "cell_type": "code",
   "execution_count": 20,
   "metadata": {
    "colab": {
     "base_uri": "https://localhost:8080/"
    },
    "execution": {
     "iopub.execute_input": "2023-06-26T12:36:21.535492Z",
     "iopub.status.busy": "2023-06-26T12:36:21.535089Z",
     "iopub.status.idle": "2023-06-26T12:36:21.595251Z",
     "shell.execute_reply": "2023-06-26T12:36:21.593090Z",
     "shell.execute_reply.started": "2023-06-26T12:36:21.535457Z"
    },
    "id": "qnk_V0EDEKmN",
    "outputId": "a856d505-4459-4115-cf2a-565c094a4bb9"
   },
   "outputs": [
    {
     "data": {
      "text/plain": [
       "[('engineering', 68563), ('systems', 77071), ('analyst', 34427)]"
      ]
     },
     "execution_count": 20,
     "metadata": {},
     "output_type": "execute_result"
    }
   ],
   "source": [
    "list(token_counts.items())[:3]"
   ]
  },
  {
   "cell_type": "code",
   "execution_count": 21,
   "metadata": {
    "execution": {
     "iopub.execute_input": "2023-06-26T12:36:22.779555Z",
     "iopub.status.busy": "2023-06-26T12:36:22.778799Z",
     "iopub.status.idle": "2023-06-26T12:36:22.827567Z",
     "shell.execute_reply": "2023-06-26T12:36:22.826567Z",
     "shell.execute_reply.started": "2023-06-26T12:36:22.779516Z"
    },
    "id": "SeNFBWx5ycOh"
   },
   "outputs": [
    {
     "name": "stdout",
     "output_type": "stream",
     "text": [
      "Total unique tokens : 202704\n",
      "Considered unique tokens : 32454\n"
     ]
    }
   ],
   "source": [
    "min_count = 10\n",
    "\n",
    "# YOUR CODE HERE\n",
    "# We shall only consider tokens that had at least min_count occurences.\n",
    "# Create a list of such tokens.\n",
    "tokens = [token for token, count in token_counts.items() if count > min_count]\n",
    "print(\"Total unique tokens :\", len(token_counts))\n",
    "print(\"Considered unique tokens :\", len(tokens))"
   ]
  },
  {
   "cell_type": "code",
   "execution_count": 22,
   "metadata": {
    "colab": {
     "base_uri": "https://localhost:8080/"
    },
    "execution": {
     "iopub.execute_input": "2023-06-26T12:36:25.987382Z",
     "iopub.status.busy": "2023-06-26T12:36:25.986254Z",
     "iopub.status.idle": "2023-06-26T12:36:26.012954Z",
     "shell.execute_reply": "2023-06-26T12:36:26.011794Z",
     "shell.execute_reply.started": "2023-06-26T12:36:25.987336Z"
    },
    "id": "RATIRyPKycOk",
    "outputId": "9fba7db9-2f8d-4bfc-b63b-24ee15bcdc88"
   },
   "outputs": [
    {
     "name": "stdout",
     "output_type": "stream",
     "text": [
      "Vocabulary size: 32456\n",
      "Correct!\n"
     ]
    }
   ],
   "source": [
    "# Add a special tokens for unknown and empty words\n",
    "UNK, PAD = \"UNK\", \"PAD\"\n",
    "tokens = [UNK, PAD] + sorted(tokens)\n",
    "print(\"Vocabulary size:\", len(tokens))\n",
    "\n",
    "assert type(tokens) == list\n",
    "assert len(tokens) in range(32000, 35000)\n",
    "assert \"me\" in tokens\n",
    "assert UNK in tokens\n",
    "print(\"Correct!\")"
   ]
  },
  {
   "cell_type": "markdown",
   "metadata": {
    "id": "cqEsgbjZycOo"
   },
   "source": [
    "Build an inverse token index: a dictionary from token to it's index in `tokens`."
   ]
  },
  {
   "cell_type": "code",
   "execution_count": 23,
   "metadata": {
    "execution": {
     "iopub.execute_input": "2023-06-26T12:36:28.924041Z",
     "iopub.status.busy": "2023-06-26T12:36:28.923660Z",
     "iopub.status.idle": "2023-06-26T12:36:28.940397Z",
     "shell.execute_reply": "2023-06-26T12:36:28.939519Z",
     "shell.execute_reply.started": "2023-06-26T12:36:28.924008Z"
    },
    "id": "L60lo1l_ycOq"
   },
   "outputs": [],
   "source": [
    "# YOUR CODE HERE\n",
    "token_to_idx = {token: idx for idx, token in enumerate(tokens)}"
   ]
  },
  {
   "cell_type": "code",
   "execution_count": 24,
   "metadata": {
    "colab": {
     "base_uri": "https://localhost:8080/"
    },
    "execution": {
     "iopub.execute_input": "2023-06-26T12:36:29.462511Z",
     "iopub.status.busy": "2023-06-26T12:36:29.462157Z",
     "iopub.status.idle": "2023-06-26T12:36:29.483167Z",
     "shell.execute_reply": "2023-06-26T12:36:29.482068Z",
     "shell.execute_reply.started": "2023-06-26T12:36:29.462481Z"
    },
    "id": "DeAoVo4mycOr",
    "outputId": "5f187508-b8fd-4d29-b906-1dda8dd2d5fe"
   },
   "outputs": [
    {
     "name": "stdout",
     "output_type": "stream",
     "text": [
      "Correct!\n"
     ]
    }
   ],
   "source": [
    "assert isinstance(token_to_idx, dict)\n",
    "assert len(token_to_idx) == len(tokens)\n",
    "\n",
    "for tok in tokens:\n",
    "    assert tokens[token_to_idx[tok]] == tok\n",
    "\n",
    "print(\"Correct!\")"
   ]
  },
  {
   "cell_type": "markdown",
   "metadata": {
    "id": "cmJAkq3gycOv"
   },
   "source": [
    "And finally, let's use the vocabulary you've built to map text lines into neural network-digestible matrices."
   ]
  },
  {
   "cell_type": "code",
   "execution_count": 25,
   "metadata": {
    "execution": {
     "iopub.execute_input": "2023-06-26T12:36:31.426239Z",
     "iopub.status.busy": "2023-06-26T12:36:31.425475Z",
     "iopub.status.idle": "2023-06-26T12:36:31.435610Z",
     "shell.execute_reply": "2023-06-26T12:36:31.434558Z",
     "shell.execute_reply.started": "2023-06-26T12:36:31.426198Z"
    },
    "id": "JEsLeBjVycOw"
   },
   "outputs": [],
   "source": [
    "UNK_IDX = token_to_idx[UNK]\n",
    "PAD_IDX = token_to_idx[PAD]\n",
    "\n",
    "\n",
    "def as_matrix(sequences, max_len=None):\n",
    "    \"\"\"Convert a list of tokens into a matrix with padding\"\"\"\n",
    "    if isinstance(sequences[0], str):\n",
    "        sequences = [seq.split(\" \") for seq in sequences]\n",
    "\n",
    "    sequences_max_len = max(len(seq) for seq in sequences)\n",
    "    if max_len is None:\n",
    "        max_len = sequences_max_len\n",
    "    else:\n",
    "        max_len = min(sequences_max_len, max_len)\n",
    "\n",
    "    matrix = np.full((len(sequences), max_len), PAD_IDX)\n",
    "    for i, seq in enumerate(sequences):\n",
    "        for j, token in enumerate(seq):\n",
    "            if j >= max_len:\n",
    "                break\n",
    "\n",
    "            matrix[i, j] = token_to_idx.get(token, UNK_IDX)\n",
    "\n",
    "    return matrix"
   ]
  },
  {
   "cell_type": "code",
   "execution_count": 26,
   "metadata": {
    "colab": {
     "base_uri": "https://localhost:8080/"
    },
    "execution": {
     "iopub.execute_input": "2023-06-26T12:36:32.421426Z",
     "iopub.status.busy": "2023-06-26T12:36:32.421049Z",
     "iopub.status.idle": "2023-06-26T12:36:32.428254Z",
     "shell.execute_reply": "2023-06-26T12:36:32.427285Z",
     "shell.execute_reply.started": "2023-06-26T12:36:32.421385Z"
    },
    "id": "JiBlPkdKycOy",
    "outputId": "0d563ba5-6380-48fa-e972-6ed37ac1b0e8"
   },
   "outputs": [
    {
     "name": "stdout",
     "output_type": "stream",
     "text": [
      "Lines:\n",
      "engineering systems analyst\n",
      "hr assistant\n",
      "senior ec & i engineer\n",
      "\n",
      "Matrix:\n",
      "[[10273 28655  2055     1     1]\n",
      " [14296  2700     1     1     1]\n",
      " [26272  9698    14 14484 10270]]\n"
     ]
    }
   ],
   "source": [
    "print(\"Lines:\")\n",
    "print(\"\\n\".join(data[\"Title\"][::100000].values), end=\"\\n\\n\")\n",
    "print(\"Matrix:\")\n",
    "print(as_matrix(data[\"Title\"][::100000]))"
   ]
  },
  {
   "cell_type": "markdown",
   "metadata": {
    "id": "nGOdZ3-dycO4"
   },
   "source": [
    "Now let's  encode the categirical data we have.\n",
    "\n",
    "As usual, we shall use one-hot encoding for simplicity. Kudos if you implement more advanced encodings: tf-idf, pseudo-time-series, etc."
   ]
  },
  {
   "cell_type": "code",
   "execution_count": 27,
   "metadata": {
    "execution": {
     "iopub.execute_input": "2023-06-26T12:36:33.476076Z",
     "iopub.status.busy": "2023-06-26T12:36:33.475289Z",
     "iopub.status.idle": "2023-06-26T12:36:33.488993Z",
     "shell.execute_reply": "2023-06-26T12:36:33.487839Z",
     "shell.execute_reply.started": "2023-06-26T12:36:33.476033Z"
    }
   },
   "outputs": [
    {
     "data": {
      "text/plain": [
       "array([[300., 100., 200.],\n",
       "       [350., 150., 250.]], dtype=float32)"
      ]
     },
     "execution_count": 27,
     "metadata": {},
     "output_type": "execute_result"
    }
   ],
   "source": [
    "# how works dictvectorizer\n",
    "from sklearn.feature_extraction import DictVectorizer\n",
    "categorical_vectorizer = DictVectorizer(dtype=np.float32, sparse=False)\n",
    "dd = pd.Series([{\"key_11\": 100, \"key_21\": 200, \"key31\": 300}, {\"key_11\": 150, \"key_21\": 250, \"key31\": 350}])\n",
    "categorical_vectorizer.fit_transform(dd)"
   ]
  },
  {
   "cell_type": "code",
   "execution_count": 28,
   "metadata": {
    "execution": {
     "iopub.execute_input": "2023-06-26T12:36:35.056793Z",
     "iopub.status.busy": "2023-06-26T12:36:35.056436Z",
     "iopub.status.idle": "2023-06-26T12:36:35.066687Z",
     "shell.execute_reply": "2023-06-26T12:36:35.065494Z",
     "shell.execute_reply.started": "2023-06-26T12:36:35.056761Z"
    }
   },
   "outputs": [
    {
     "data": {
      "text/plain": [
       "array([[  0.,   1.,   0.,   0.,   1.],\n",
       "       [100.,   0., 200.,   0.,   0.],\n",
       "       [  0.,   1.,   0.,   1.,   0.]], dtype=float32)"
      ]
     },
     "execution_count": 28,
     "metadata": {},
     "output_type": "execute_result"
    }
   ],
   "source": [
    "# how works dictvectorizer\n",
    "from sklearn.feature_extraction import DictVectorizer\n",
    "categorical_vectorizer = DictVectorizer(dtype=np.float32, sparse=False)\n",
    "dd = pd.Series([{\"key_11\": \"a\", \"key_21\": \"b\"},\n",
    "                {\"key_11\": 100, \"key_21\": 200},\n",
    "                {\"key_11\": \"a\", \"key_21\": \"300\"}])\n",
    "categorical_vectorizer.fit_transform(dd)"
   ]
  },
  {
   "cell_type": "code",
   "execution_count": 29,
   "metadata": {
    "execution": {
     "iopub.execute_input": "2023-06-26T12:36:37.266186Z",
     "iopub.status.busy": "2023-06-26T12:36:37.265789Z",
     "iopub.status.idle": "2023-06-26T12:36:37.273260Z",
     "shell.execute_reply": "2023-06-26T12:36:37.272126Z",
     "shell.execute_reply.started": "2023-06-26T12:36:37.266155Z"
    }
   },
   "outputs": [
    {
     "data": {
      "text/plain": [
       "['Category', 'Company', 'LocationNormalized', 'ContractType', 'ContractTime']"
      ]
     },
     "execution_count": 29,
     "metadata": {},
     "output_type": "execute_result"
    }
   ],
   "source": [
    "categorical_columns"
   ]
  },
  {
   "cell_type": "code",
   "execution_count": 30,
   "metadata": {
    "execution": {
     "iopub.execute_input": "2023-06-26T12:36:39.868997Z",
     "iopub.status.busy": "2023-06-26T12:36:39.868610Z",
     "iopub.status.idle": "2023-06-26T12:36:48.567384Z",
     "shell.execute_reply": "2023-06-26T12:36:48.566361Z",
     "shell.execute_reply.started": "2023-06-26T12:36:39.868962Z"
    },
    "id": "pg12nLQijNJg"
   },
   "outputs": [],
   "source": [
    "from sklearn.feature_extraction import DictVectorizer\n",
    "\n",
    "\n",
    "# We only consider top-1k most frequent companies to minimize memory usage\n",
    "company_counts = Counter(data[\"Company\"])\n",
    "top_companies = set(name for name, count in company_counts.most_common(1000))\n",
    "data[\"Company\"] = data[\"Company\"].apply(\n",
    "    lambda company: company if company in top_companies else \"Other\"\n",
    ")\n",
    "\n",
    "categorical_vectorizer = DictVectorizer(dtype=np.float32, sparse=False)\n",
    "categorical_vectorizer.fit(data[categorical_columns].apply(dict, axis=1));"
   ]
  },
  {
   "cell_type": "markdown",
   "metadata": {
    "id": "yk4jmtAYycO8"
   },
   "source": [
    "## The deep learning part\n",
    "\n",
    "Once we've learned to tokenize the data, let's design a machine learning experiment.\n",
    "\n",
    "As before, we won't focus too much on validation, opting for a simple train-test split.\n",
    "\n",
    "__To be completely rigorous,__ we've comitted a small crime here: we used the whole data for tokenization and vocabulary building. A more strict way would be to do that part on training set only. You may want to do that and measure the magnitude of changes."
   ]
  },
  {
   "cell_type": "code",
   "execution_count": 31,
   "metadata": {
    "execution": {
     "iopub.execute_input": "2023-06-26T12:36:48.569971Z",
     "iopub.status.busy": "2023-06-26T12:36:48.569583Z",
     "iopub.status.idle": "2023-06-26T12:36:48.586494Z",
     "shell.execute_reply": "2023-06-26T12:36:48.585274Z",
     "shell.execute_reply.started": "2023-06-26T12:36:48.569936Z"
    }
   },
   "outputs": [
    {
     "data": {
      "text/html": [
       "<div>\n",
       "<style scoped>\n",
       "    .dataframe tbody tr th:only-of-type {\n",
       "        vertical-align: middle;\n",
       "    }\n",
       "\n",
       "    .dataframe tbody tr th {\n",
       "        vertical-align: top;\n",
       "    }\n",
       "\n",
       "    .dataframe thead th {\n",
       "        text-align: right;\n",
       "    }\n",
       "</style>\n",
       "<table border=\"1\" class=\"dataframe\">\n",
       "  <thead>\n",
       "    <tr style=\"text-align: right;\">\n",
       "      <th></th>\n",
       "      <th>Id</th>\n",
       "      <th>Title</th>\n",
       "      <th>FullDescription</th>\n",
       "      <th>LocationRaw</th>\n",
       "      <th>LocationNormalized</th>\n",
       "      <th>ContractType</th>\n",
       "      <th>ContractTime</th>\n",
       "      <th>Company</th>\n",
       "      <th>Category</th>\n",
       "      <th>SalaryRaw</th>\n",
       "      <th>SalaryNormalized</th>\n",
       "      <th>SourceName</th>\n",
       "      <th>Log1pSalary</th>\n",
       "    </tr>\n",
       "  </thead>\n",
       "  <tbody>\n",
       "    <tr>\n",
       "      <th>0</th>\n",
       "      <td>12612628</td>\n",
       "      <td>engineering systems analyst</td>\n",
       "      <td>engineering systems analyst dorking surrey sal...</td>\n",
       "      <td>Dorking, Surrey, Surrey</td>\n",
       "      <td>Dorking</td>\n",
       "      <td>NaN</td>\n",
       "      <td>permanent</td>\n",
       "      <td>Gregory Martin International</td>\n",
       "      <td>Engineering Jobs</td>\n",
       "      <td>20000 - 30000/annum 20-30K</td>\n",
       "      <td>25000</td>\n",
       "      <td>cv-library.co.uk</td>\n",
       "      <td>10.126671</td>\n",
       "    </tr>\n",
       "    <tr>\n",
       "      <th>1</th>\n",
       "      <td>12612830</td>\n",
       "      <td>stress engineer glasgow</td>\n",
       "      <td>stress engineer glasgow salary **** to **** we...</td>\n",
       "      <td>Glasgow, Scotland, Scotland</td>\n",
       "      <td>Glasgow</td>\n",
       "      <td>NaN</td>\n",
       "      <td>permanent</td>\n",
       "      <td>Gregory Martin International</td>\n",
       "      <td>Engineering Jobs</td>\n",
       "      <td>25000 - 35000/annum 25-35K</td>\n",
       "      <td>30000</td>\n",
       "      <td>cv-library.co.uk</td>\n",
       "      <td>10.308986</td>\n",
       "    </tr>\n",
       "  </tbody>\n",
       "</table>\n",
       "</div>"
      ],
      "text/plain": [
       "         Id                        Title  \\\n",
       "0  12612628  engineering systems analyst   \n",
       "1  12612830      stress engineer glasgow   \n",
       "\n",
       "                                     FullDescription  \\\n",
       "0  engineering systems analyst dorking surrey sal...   \n",
       "1  stress engineer glasgow salary **** to **** we...   \n",
       "\n",
       "                   LocationRaw LocationNormalized ContractType ContractTime  \\\n",
       "0      Dorking, Surrey, Surrey            Dorking          NaN    permanent   \n",
       "1  Glasgow, Scotland, Scotland            Glasgow          NaN    permanent   \n",
       "\n",
       "                        Company          Category                   SalaryRaw  \\\n",
       "0  Gregory Martin International  Engineering Jobs  20000 - 30000/annum 20-30K   \n",
       "1  Gregory Martin International  Engineering Jobs  25000 - 35000/annum 25-35K   \n",
       "\n",
       "   SalaryNormalized        SourceName  Log1pSalary  \n",
       "0             25000  cv-library.co.uk    10.126671  \n",
       "1             30000  cv-library.co.uk    10.308986  "
      ]
     },
     "execution_count": 31,
     "metadata": {},
     "output_type": "execute_result"
    }
   ],
   "source": [
    "data.head(2)"
   ]
  },
  {
   "cell_type": "code",
   "execution_count": 32,
   "metadata": {
    "colab": {
     "base_uri": "https://localhost:8080/"
    },
    "execution": {
     "iopub.execute_input": "2023-06-26T12:36:48.588754Z",
     "iopub.status.busy": "2023-06-26T12:36:48.588154Z",
     "iopub.status.idle": "2023-06-26T12:36:48.737491Z",
     "shell.execute_reply": "2023-06-26T12:36:48.736525Z",
     "shell.execute_reply.started": "2023-06-26T12:36:48.588719Z"
    },
    "id": "TngLcWA0ycO_",
    "outputId": "19e7d3e2-0978-4a03-b847-3c0176c173ac"
   },
   "outputs": [
    {
     "name": "stdout",
     "output_type": "stream",
     "text": [
      "Train size =  183576\n",
      "Validation size =  61192\n"
     ]
    }
   ],
   "source": [
    "from sklearn.model_selection import train_test_split\n",
    "\n",
    "\n",
    "data_train, data_val = train_test_split(data, test_size=0.25, random_state=42)\n",
    "data_train.index = range(len(data_train))\n",
    "data_val.index = range(len(data_val))\n",
    "\n",
    "print(\"Train size = \", len(data_train))\n",
    "print(\"Validation size = \", len(data_val))"
   ]
  },
  {
   "cell_type": "code",
   "execution_count": 33,
   "metadata": {
    "execution": {
     "iopub.execute_input": "2023-06-26T12:36:48.740555Z",
     "iopub.status.busy": "2023-06-26T12:36:48.739549Z",
     "iopub.status.idle": "2023-06-26T12:36:48.750803Z",
     "shell.execute_reply": "2023-06-26T12:36:48.749742Z",
     "shell.execute_reply.started": "2023-06-26T12:36:48.740519Z"
    },
    "id": "2PXuKgOSycPB"
   },
   "outputs": [],
   "source": [
    "def make_batch(data, max_len=None, word_dropout=0):\n",
    "    \"\"\"\n",
    "    Creates a neural-network-friendly dict from the batch data.\n",
    "    :param word_dropout: replaces token index with UNK_IDX with this probability\n",
    "    :returns: a dict with {'title' : int64[batch, title_max_len], \n",
    "                           \"FullDescription\": int64[batch, title_max_len],\n",
    "                           \"Categorical\"\n",
    "    \"\"\"\n",
    "    batch = {}\n",
    "    batch[\"Title\"] = as_matrix(data[\"Title\"].values, max_len)\n",
    "    batch[\"FullDescription\"] = as_matrix(data[\"FullDescription\"].values, max_len)\n",
    "    batch[\"Categorical\"] = categorical_vectorizer.transform(\n",
    "        data[categorical_columns].apply(dict, axis=1)\n",
    "    )\n",
    "\n",
    "    if word_dropout != 0:\n",
    "        batch[\"FullDescription\"] = apply_word_dropout(batch[\"FullDescription\"], 1.0 - word_dropout)\n",
    "\n",
    "    if target_column in data.columns:\n",
    "        batch[target_column] = data[target_column].values\n",
    "\n",
    "    return batch\n",
    "\n",
    "\n",
    "def apply_word_dropout(matrix, keep_prob, replace_with=UNK_IDX):\n",
    "    dropout_mask = np.random.choice(2, np.shape(matrix), p=[keep_prob, 1 - keep_prob])\n",
    "    dropout_mask &= matrix != PAD_IDX\n",
    "    return np.choose(dropout_mask, [matrix, np.full_like(matrix, replace_with)])"
   ]
  },
  {
   "cell_type": "code",
   "execution_count": 34,
   "metadata": {
    "colab": {
     "base_uri": "https://localhost:8080/"
    },
    "execution": {
     "iopub.execute_input": "2023-06-26T12:36:49.199079Z",
     "iopub.status.busy": "2023-06-26T12:36:49.198497Z",
     "iopub.status.idle": "2023-06-26T12:36:49.208889Z",
     "shell.execute_reply": "2023-06-26T12:36:49.207681Z",
     "shell.execute_reply.started": "2023-06-26T12:36:49.199043Z"
    },
    "id": "I6LpEQf0ycPD",
    "outputId": "e47e900f-0c27-4919-98ac-5abc6c771fb4"
   },
   "outputs": [
    {
     "name": "stdout",
     "output_type": "stream",
     "text": [
      "Example batch:\n",
      "{'Title': array([[23144, 17928],\n",
      "       [26272,  1399],\n",
      "       [ 4391,     1]]), 'FullDescription': array([[25290,   836, 23144, 17928, 17406,   836, 12802, 25632,   836,\n",
      "        30566],\n",
      "       [26272,  1399,  5652,  7578,   150, 17464,    77, 21807, 14243,\n",
      "        19562],\n",
      "       [31430, 24708, 30193,  4391, 31888, 30756,  7671,  5109, 11963,\n",
      "          909]]), 'Categorical': array([[0., 0., 0., ..., 0., 0., 0.],\n",
      "       [0., 0., 0., ..., 0., 0., 0.],\n",
      "       [0., 0., 0., ..., 0., 0., 0.]], dtype=float32), 'Log1pSalary': array([10.621352, 10.002473, 10.023978], dtype=float32)}\n",
      "FullDescription shape: (3, 10)\n"
     ]
    }
   ],
   "source": [
    "example_batch = make_batch(data_train[:3], max_len=10)\n",
    "print(\"Example batch:\")\n",
    "print(example_batch)\n",
    "print(\"FullDescription shape:\", example_batch[\"FullDescription\"].shape)"
   ]
  },
  {
   "cell_type": "code",
   "execution_count": 35,
   "metadata": {
    "execution": {
     "iopub.execute_input": "2023-06-26T12:36:50.814274Z",
     "iopub.status.busy": "2023-06-26T12:36:50.813582Z",
     "iopub.status.idle": "2023-06-26T12:36:50.821378Z",
     "shell.execute_reply": "2023-06-26T12:36:50.820341Z",
     "shell.execute_reply.started": "2023-06-26T12:36:50.814237Z"
    },
    "id": "nBfN182zpHfd"
   },
   "outputs": [],
   "source": [
    "def iterate_minibatches(data, batch_size=256, shuffle=True, cycle=False, **kwargs):\n",
    "    \"\"\"iterates minibatches of data in random order\"\"\"\n",
    "    while True:\n",
    "        indices = np.arange(len(data))\n",
    "        if shuffle:\n",
    "            indices = np.random.permutation(indices)\n",
    "\n",
    "        for start in range(0, len(indices), batch_size):\n",
    "            batch = make_batch(data.iloc[indices[start : start + batch_size]], **kwargs)\n",
    "            target = batch.pop(target_column)\n",
    "            yield batch, target\n",
    "\n",
    "        if not cycle:\n",
    "            break"
   ]
  },
  {
   "cell_type": "markdown",
   "metadata": {
    "id": "iQAQPx3-pHfd"
   },
   "source": [
    "To generate minibatches we will use simple pyton generator."
   ]
  },
  {
   "cell_type": "code",
   "execution_count": 36,
   "metadata": {
    "colab": {
     "base_uri": "https://localhost:8080/",
     "height": 364
    },
    "execution": {
     "iopub.execute_input": "2023-06-26T12:36:52.736276Z",
     "iopub.status.busy": "2023-06-26T12:36:52.735887Z",
     "iopub.status.idle": "2023-06-26T12:36:52.754541Z",
     "shell.execute_reply": "2023-06-26T12:36:52.753216Z",
     "shell.execute_reply.started": "2023-06-26T12:36:52.736244Z"
    },
    "id": "KejWUQ4nP-M5",
    "outputId": "f2cb2db1-b2d8-4be2-c628-3884ae6fe5e3"
   },
   "outputs": [
    {
     "data": {
      "text/html": [
       "<div>\n",
       "<style scoped>\n",
       "    .dataframe tbody tr th:only-of-type {\n",
       "        vertical-align: middle;\n",
       "    }\n",
       "\n",
       "    .dataframe tbody tr th {\n",
       "        vertical-align: top;\n",
       "    }\n",
       "\n",
       "    .dataframe thead th {\n",
       "        text-align: right;\n",
       "    }\n",
       "</style>\n",
       "<table border=\"1\" class=\"dataframe\">\n",
       "  <thead>\n",
       "    <tr style=\"text-align: right;\">\n",
       "      <th></th>\n",
       "      <th>Id</th>\n",
       "      <th>Title</th>\n",
       "      <th>FullDescription</th>\n",
       "      <th>LocationRaw</th>\n",
       "      <th>LocationNormalized</th>\n",
       "      <th>ContractType</th>\n",
       "      <th>ContractTime</th>\n",
       "      <th>Company</th>\n",
       "      <th>Category</th>\n",
       "      <th>SalaryRaw</th>\n",
       "      <th>SalaryNormalized</th>\n",
       "      <th>SourceName</th>\n",
       "      <th>Log1pSalary</th>\n",
       "    </tr>\n",
       "  </thead>\n",
       "  <tbody>\n",
       "    <tr>\n",
       "      <th>0</th>\n",
       "      <td>69042287</td>\n",
       "      <td>project manager</td>\n",
       "      <td>role : project manager location : glasgow sala...</td>\n",
       "      <td>Glasgow Lanarkshire Scotland</td>\n",
       "      <td>UK</td>\n",
       "      <td>NaN</td>\n",
       "      <td>permanent</td>\n",
       "      <td>Other</td>\n",
       "      <td>IT Jobs</td>\n",
       "      <td>35000 - 47000 per annum</td>\n",
       "      <td>41000</td>\n",
       "      <td>cwjobs.co.uk</td>\n",
       "      <td>10.621352</td>\n",
       "    </tr>\n",
       "    <tr>\n",
       "      <th>1</th>\n",
       "      <td>68681537</td>\n",
       "      <td>senior administrator</td>\n",
       "      <td>senior administrator charing cross , london **...</td>\n",
       "      <td>London South East</td>\n",
       "      <td>South East London</td>\n",
       "      <td>NaN</td>\n",
       "      <td>contract</td>\n",
       "      <td>Hays</td>\n",
       "      <td>Other/General Jobs</td>\n",
       "      <td>11.00 - 12.00 per hour</td>\n",
       "      <td>22080</td>\n",
       "      <td>totaljobs.com</td>\n",
       "      <td>10.002473</td>\n",
       "    </tr>\n",
       "    <tr>\n",
       "      <th>2</th>\n",
       "      <td>70174267</td>\n",
       "      <td>bricklayers</td>\n",
       "      <td>we require two bricklayers with valid cscs car...</td>\n",
       "      <td>Boston</td>\n",
       "      <td>Boston</td>\n",
       "      <td>full_time</td>\n",
       "      <td>NaN</td>\n",
       "      <td>Other</td>\n",
       "      <td>Trade &amp; Construction Jobs</td>\n",
       "      <td>11.50 - 12.00 per hour</td>\n",
       "      <td>22560</td>\n",
       "      <td>Jobcentre Plus</td>\n",
       "      <td>10.023978</td>\n",
       "    </tr>\n",
       "  </tbody>\n",
       "</table>\n",
       "</div>"
      ],
      "text/plain": [
       "         Id                 Title  \\\n",
       "0  69042287       project manager   \n",
       "1  68681537  senior administrator   \n",
       "2  70174267           bricklayers   \n",
       "\n",
       "                                     FullDescription  \\\n",
       "0  role : project manager location : glasgow sala...   \n",
       "1  senior administrator charing cross , london **...   \n",
       "2  we require two bricklayers with valid cscs car...   \n",
       "\n",
       "                    LocationRaw LocationNormalized ContractType ContractTime  \\\n",
       "0  Glasgow Lanarkshire Scotland                 UK          NaN    permanent   \n",
       "1             London South East  South East London          NaN     contract   \n",
       "2                        Boston             Boston    full_time          NaN   \n",
       "\n",
       "  Company                   Category                SalaryRaw  \\\n",
       "0   Other                    IT Jobs  35000 - 47000 per annum   \n",
       "1    Hays         Other/General Jobs   11.00 - 12.00 per hour   \n",
       "2   Other  Trade & Construction Jobs   11.50 - 12.00 per hour   \n",
       "\n",
       "   SalaryNormalized      SourceName  Log1pSalary  \n",
       "0             41000    cwjobs.co.uk    10.621352  \n",
       "1             22080   totaljobs.com    10.002473  \n",
       "2             22560  Jobcentre Plus    10.023978  "
      ]
     },
     "execution_count": 36,
     "metadata": {},
     "output_type": "execute_result"
    }
   ],
   "source": [
    "data_train.head(3)"
   ]
  },
  {
   "cell_type": "code",
   "execution_count": 37,
   "metadata": {
    "colab": {
     "base_uri": "https://localhost:8080/"
    },
    "execution": {
     "iopub.execute_input": "2023-06-26T12:36:55.317931Z",
     "iopub.status.busy": "2023-06-26T12:36:55.317536Z",
     "iopub.status.idle": "2023-06-26T12:36:55.394090Z",
     "shell.execute_reply": "2023-06-26T12:36:55.392903Z",
     "shell.execute_reply.started": "2023-06-26T12:36:55.317891Z"
    },
    "id": "fCeb-W9EodjZ",
    "outputId": "ed401d79-a416-4407-8e59-15a8cdca760f"
   },
   "outputs": [
    {
     "name": "stdout",
     "output_type": "stream",
     "text": [
      "Title: (256, 17)\n",
      "FullDescription: (256, 1355)\n",
      "Categorical: (256, 3768)\n"
     ]
    }
   ],
   "source": [
    "iterator = iterate_minibatches(data_train, 256)\n",
    "batch, target = next(iterator)\n",
    "for key in batch:\n",
    "    print(f\"{key}: {batch[key].shape}\")"
   ]
  },
  {
   "cell_type": "markdown",
   "metadata": {
    "id": "0eI5h9UMycPF"
   },
   "source": [
    "## Architecture\n",
    "\n",
    "Our main model consists of three branches:\n",
    "* Title encoder\n",
    "* Description encoder\n",
    "* Categorical features encoder\n",
    "\n",
    "We will then feed all 3 branches into one common network that predicts salary.\n",
    "\n",
    "<img src=\"https://github.com/yandexdataschool/nlp_course/raw/master/resources/w2_conv_arch.png\" width=600px>\n",
    "\n",
    "This clearly doesn't fit into PyTorch __Sequential__ interface. To build such a network, one will have to use [__PyTorch nn.Module API__](https://pytorch.org/docs/stable/nn.html#torch.nn.Module)."
   ]
  },
  {
   "cell_type": "markdown",
   "metadata": {
    "id": "SbhrCEl1pHfc"
   },
   "source": [
    "But to start with let's build the simple model using only the part of the data. Let's create the baseline solution using only the description part (so it should definetely fit into the Sequential model)."
   ]
  },
  {
   "cell_type": "code",
   "execution_count": 41,
   "metadata": {
    "execution": {
     "iopub.execute_input": "2023-06-26T12:37:07.666894Z",
     "iopub.status.busy": "2023-06-26T12:37:07.666496Z",
     "iopub.status.idle": "2023-06-26T12:37:07.672319Z",
     "shell.execute_reply": "2023-06-26T12:37:07.671305Z",
     "shell.execute_reply.started": "2023-06-26T12:37:07.666854Z"
    },
    "id": "2jjPFvWZpHfc"
   },
   "outputs": [],
   "source": [
    "import torch.nn as nn\n",
    "import torch\n",
    "\n",
    "# Initially, our FullDescription has a shape [batch_size, seq_len].\n",
    "# After an Embedding layer shape will be [batch_size, seq_len, embedding_size].\n",
    "# However, Conv1d layer expects batches of shape [batch_size, embedding_size, seq_len].\n",
    "# We will use this layer to fix this misunderstanding.\n",
    "class Reorder(nn.Module):\n",
    "    def forward(self, input):\n",
    "        return input.permute((0, 2, 1))"
   ]
  },
  {
   "cell_type": "code",
   "execution_count": 42,
   "metadata": {
    "execution": {
     "iopub.execute_input": "2023-06-26T12:37:08.376127Z",
     "iopub.status.busy": "2023-06-26T12:37:08.374045Z",
     "iopub.status.idle": "2023-06-26T12:37:08.458064Z",
     "shell.execute_reply": "2023-06-26T12:37:08.457089Z",
     "shell.execute_reply.started": "2023-06-26T12:37:08.376084Z"
    },
    "id": "6LPx2UKepHfd"
   },
   "outputs": [],
   "source": [
    "emb_size = 128\n",
    "out_channels = 256\n",
    "simple_model = nn.Sequential(\n",
    "    # YOUR CODE HERE\n",
    "    nn.Embedding(len(tokens), emb_size),\n",
    "    Reorder(),\n",
    "    nn.Conv1d(emb_size, out_channels, 5),\n",
    "    nn.BatchNorm1d(out_channels),\n",
    "    nn.ReLU(),\n",
    "    nn.Conv1d(out_channels, 2*out_channels, 3),\n",
    "    nn.BatchNorm1d(2*out_channels),\n",
    "    nn.ReLU(),\n",
    "    nn.Conv1d(2*out_channels, 2*out_channels, 3),\n",
    "    nn.BatchNorm1d(2*out_channels),\n",
    "    nn.ReLU(),\n",
    "    nn.AdaptiveMaxPool1d(1),\n",
    "    nn.Flatten(),\n",
    "    nn.Linear(2*out_channels, 1)\n",
    ")"
   ]
  },
  {
   "cell_type": "code",
   "execution_count": 43,
   "metadata": {
    "colab": {
     "base_uri": "https://localhost:8080/"
    },
    "execution": {
     "iopub.execute_input": "2023-06-26T12:37:10.455529Z",
     "iopub.status.busy": "2023-06-26T12:37:10.455153Z",
     "iopub.status.idle": "2023-06-26T12:37:10.634634Z",
     "shell.execute_reply": "2023-06-26T12:37:10.633458Z",
     "shell.execute_reply.started": "2023-06-26T12:37:10.455497Z"
    },
    "id": "rLmzLrBZRsvp",
    "outputId": "0d95a4e3-a193-4dab-effe-cac06c094795"
   },
   "outputs": [
    {
     "name": "stdout",
     "output_type": "stream",
     "text": [
      "ex_batch.shape: torch.Size([256, 1355])\n",
      "emb_out.shape: torch.Size([256, 1355, 128])\n"
     ]
    }
   ],
   "source": [
    "# 1)nn.Embedding()\n",
    "ex_batch = torch.from_numpy(batch[\"FullDescription\"]) # (batch_size, length)\n",
    "print(f\"ex_batch.shape: {ex_batch.shape}\")\n",
    "emb_layer = nn.Embedding(len(tokens), emb_size)\n",
    "emb_out = emb_layer(ex_batch)\n",
    "print(f\"emb_out.shape: {emb_out.shape}\")"
   ]
  },
  {
   "cell_type": "markdown",
   "metadata": {
    "id": "uMu66aNSpHfd"
   },
   "source": [
    "__Remember!__ We are working with regression problem and predicting only one number."
   ]
  },
  {
   "cell_type": "code",
   "execution_count": 44,
   "metadata": {
    "colab": {
     "base_uri": "https://localhost:8080/"
    },
    "execution": {
     "iopub.execute_input": "2023-06-26T12:37:12.624894Z",
     "iopub.status.busy": "2023-06-26T12:37:12.624513Z",
     "iopub.status.idle": "2023-06-26T12:37:28.392794Z",
     "shell.execute_reply": "2023-06-26T12:37:28.391768Z",
     "shell.execute_reply.started": "2023-06-26T12:37:12.624859Z"
    },
    "id": "CerptbpcpHfd",
    "outputId": "e00c19c2-ae56-4409-e711-57ab480fccd9"
   },
   "outputs": [
    {
     "data": {
      "text/plain": [
       "tensor([[0.6529],\n",
       "        [0.4431],\n",
       "        [1.1214]], grad_fn=<SliceBackward0>)"
      ]
     },
     "execution_count": 44,
     "metadata": {},
     "output_type": "execute_result"
    }
   ],
   "source": [
    "import torch\n",
    "\n",
    "\n",
    "# Check your model. `torch.long` tensors are required for nn.Embedding layers.\n",
    "out = simple_model(torch.tensor(batch[\"FullDescription\"], dtype=torch.long))\n",
    "out[:3]"
   ]
  },
  {
   "cell_type": "code",
   "execution_count": 38,
   "metadata": {
    "execution": {
     "iopub.execute_input": "2023-06-26T11:05:54.668709Z",
     "iopub.status.busy": "2023-06-26T11:05:54.668346Z",
     "iopub.status.idle": "2023-06-26T11:05:54.676890Z",
     "shell.execute_reply": "2023-06-26T11:05:54.675817Z",
     "shell.execute_reply.started": "2023-06-26T11:05:54.668674Z"
    }
   },
   "outputs": [
    {
     "data": {
      "text/plain": [
       "5502209"
      ]
     },
     "execution_count": 38,
     "metadata": {},
     "output_type": "execute_result"
    }
   ],
   "source": [
    "sum(p.numel() for p in simple_model.parameters())"
   ]
  },
  {
   "cell_type": "code",
   "execution_count": 45,
   "metadata": {
    "execution": {
     "iopub.execute_input": "2023-06-26T12:37:28.395350Z",
     "iopub.status.busy": "2023-06-26T12:37:28.394746Z",
     "iopub.status.idle": "2023-06-26T12:37:28.401771Z",
     "shell.execute_reply": "2023-06-26T12:37:28.400874Z",
     "shell.execute_reply.started": "2023-06-26T12:37:28.395314Z"
    }
   },
   "outputs": [
    {
     "data": {
      "text/plain": [
       "(torch.Size([256, 1]), (256,))"
      ]
     },
     "execution_count": 45,
     "metadata": {},
     "output_type": "execute_result"
    }
   ],
   "source": [
    "out.shape, target.shape"
   ]
  },
  {
   "cell_type": "code",
   "execution_count": 46,
   "metadata": {
    "colab": {
     "base_uri": "https://localhost:8080/"
    },
    "execution": {
     "iopub.execute_input": "2023-06-26T12:37:28.404024Z",
     "iopub.status.busy": "2023-06-26T12:37:28.403091Z",
     "iopub.status.idle": "2023-06-26T12:37:28.416219Z",
     "shell.execute_reply": "2023-06-26T12:37:28.414887Z",
     "shell.execute_reply.started": "2023-06-26T12:37:28.403990Z"
    },
    "id": "jhkUf3XOXXGW",
    "outputId": "693f91b9-8ce9-4388-f0f5-a4695df98869"
   },
   "outputs": [
    {
     "data": {
      "text/plain": [
       "tensor(100.4480, grad_fn=<MseLossBackward0>)"
      ]
     },
     "execution_count": 46,
     "metadata": {},
     "output_type": "execute_result"
    }
   ],
   "source": [
    "nn.MSELoss()(out.flatten(), torch.from_numpy(target))"
   ]
  },
  {
   "cell_type": "code",
   "execution_count": 93,
   "metadata": {
    "colab": {
     "base_uri": "https://localhost:8080/"
    },
    "id": "lTIGgYOIYABl",
    "outputId": "d04ec9ed-967f-4788-d02c-12f50798815b"
   },
   "outputs": [
    {
     "data": {
      "text/plain": [
       "torch.Size([90])"
      ]
     },
     "execution_count": 93,
     "metadata": {},
     "output_type": "execute_result"
    }
   ],
   "source": [
    "torch.rand((3, 5, 6)).flatten().shape"
   ]
  },
  {
   "cell_type": "code",
   "execution_count": 47,
   "metadata": {
    "execution": {
     "iopub.execute_input": "2023-06-26T12:37:33.527925Z",
     "iopub.status.busy": "2023-06-26T12:37:33.527507Z",
     "iopub.status.idle": "2023-06-26T12:37:36.216523Z",
     "shell.execute_reply": "2023-06-26T12:37:36.215553Z",
     "shell.execute_reply.started": "2023-06-26T12:37:33.527887Z"
    },
    "id": "1G-n-458pHfd"
   },
   "outputs": [],
   "source": [
    "device = torch.device(\"cuda\" if torch.cuda.is_available() else \"cpu\")\n",
    "simple_model.to(device);"
   ]
  },
  {
   "cell_type": "markdown",
   "metadata": {
    "id": "8hUa3gBepHfd"
   },
   "source": [
    "And now simple training pipeline:"
   ]
  },
  {
   "cell_type": "code",
   "execution_count": 42,
   "metadata": {
    "colab": {
     "base_uri": "https://localhost:8080/",
     "height": 667
    },
    "execution": {
     "iopub.execute_input": "2023-06-26T11:06:15.751001Z",
     "iopub.status.busy": "2023-06-26T11:06:15.750649Z",
     "iopub.status.idle": "2023-06-26T11:07:06.426707Z",
     "shell.execute_reply": "2023-06-26T11:07:06.425514Z",
     "shell.execute_reply.started": "2023-06-26T11:06:15.750973Z"
    },
    "id": "tKiy4otdpHfd",
    "outputId": "c1a75dbc-6adc-4c6c-a226-e05d866a58c7"
   },
   "outputs": [
    {
     "data": {
      "image/png": "[encoded data removed]",
      "text/plain": [
       "<Figure size 1200x500 with 1 Axes>"
      ]
     },
     "metadata": {},
     "output_type": "display_data"
    },
    {
     "ename": "KeyboardInterrupt",
     "evalue": "",
     "output_type": "error",
     "traceback": [
      "\u001b[0;31m---------------------------------------------------------------------------\u001b[0m",
      "\u001b[0;31mKeyboardInterrupt\u001b[0m                         Traceback (most recent call last)",
      "Cell \u001b[0;32mIn[42], line 24\u001b[0m\n\u001b[1;32m     21\u001b[0m loss \u001b[38;5;241m=\u001b[39m criterion(predictions, target)\n\u001b[1;32m     22\u001b[0m \u001b[38;5;66;03m# YOUR CODE HERE\u001b[39;00m\n\u001b[1;32m     23\u001b[0m \u001b[38;5;66;03m# Train with backprop.\u001b[39;00m\n\u001b[0;32m---> 24\u001b[0m \u001b[43mloss\u001b[49m\u001b[38;5;241;43m.\u001b[39;49m\u001b[43mbackward\u001b[49m\u001b[43m(\u001b[49m\u001b[43m)\u001b[49m\n\u001b[1;32m     25\u001b[0m opt\u001b[38;5;241m.\u001b[39mstep()\n\u001b[1;32m     26\u001b[0m opt\u001b[38;5;241m.\u001b[39mzero_grad()\n",
      "File \u001b[0;32m/opt/conda/lib/python3.10/site-packages/torch/_tensor.py:487\u001b[0m, in \u001b[0;36mTensor.backward\u001b[0;34m(self, gradient, retain_graph, create_graph, inputs)\u001b[0m\n\u001b[1;32m    477\u001b[0m \u001b[38;5;28;01mif\u001b[39;00m has_torch_function_unary(\u001b[38;5;28mself\u001b[39m):\n\u001b[1;32m    478\u001b[0m     \u001b[38;5;28;01mreturn\u001b[39;00m handle_torch_function(\n\u001b[1;32m    479\u001b[0m         Tensor\u001b[38;5;241m.\u001b[39mbackward,\n\u001b[1;32m    480\u001b[0m         (\u001b[38;5;28mself\u001b[39m,),\n\u001b[0;32m   (...)\u001b[0m\n\u001b[1;32m    485\u001b[0m         inputs\u001b[38;5;241m=\u001b[39minputs,\n\u001b[1;32m    486\u001b[0m     )\n\u001b[0;32m--> 487\u001b[0m \u001b[43mtorch\u001b[49m\u001b[38;5;241;43m.\u001b[39;49m\u001b[43mautograd\u001b[49m\u001b[38;5;241;43m.\u001b[39;49m\u001b[43mbackward\u001b[49m\u001b[43m(\u001b[49m\n\u001b[1;32m    488\u001b[0m \u001b[43m    \u001b[49m\u001b[38;5;28;43mself\u001b[39;49m\u001b[43m,\u001b[49m\u001b[43m \u001b[49m\u001b[43mgradient\u001b[49m\u001b[43m,\u001b[49m\u001b[43m \u001b[49m\u001b[43mretain_graph\u001b[49m\u001b[43m,\u001b[49m\u001b[43m \u001b[49m\u001b[43mcreate_graph\u001b[49m\u001b[43m,\u001b[49m\u001b[43m \u001b[49m\u001b[43minputs\u001b[49m\u001b[38;5;241;43m=\u001b[39;49m\u001b[43minputs\u001b[49m\n\u001b[1;32m    489\u001b[0m \u001b[43m\u001b[49m\u001b[43m)\u001b[49m\n",
      "File \u001b[0;32m/opt/conda/lib/python3.10/site-packages/torch/autograd/__init__.py:200\u001b[0m, in \u001b[0;36mbackward\u001b[0;34m(tensors, grad_tensors, retain_graph, create_graph, grad_variables, inputs)\u001b[0m\n\u001b[1;32m    195\u001b[0m     retain_graph \u001b[38;5;241m=\u001b[39m create_graph\n\u001b[1;32m    197\u001b[0m \u001b[38;5;66;03m# The reason we repeat same the comment below is that\u001b[39;00m\n\u001b[1;32m    198\u001b[0m \u001b[38;5;66;03m# some Python versions print out the first line of a multi-line function\u001b[39;00m\n\u001b[1;32m    199\u001b[0m \u001b[38;5;66;03m# calls in the traceback and some print out the last line\u001b[39;00m\n\u001b[0;32m--> 200\u001b[0m \u001b[43mVariable\u001b[49m\u001b[38;5;241;43m.\u001b[39;49m\u001b[43m_execution_engine\u001b[49m\u001b[38;5;241;43m.\u001b[39;49m\u001b[43mrun_backward\u001b[49m\u001b[43m(\u001b[49m\u001b[43m  \u001b[49m\u001b[38;5;66;43;03m# Calls into the C++ engine to run the backward pass\u001b[39;49;00m\n\u001b[1;32m    201\u001b[0m \u001b[43m    \u001b[49m\u001b[43mtensors\u001b[49m\u001b[43m,\u001b[49m\u001b[43m \u001b[49m\u001b[43mgrad_tensors_\u001b[49m\u001b[43m,\u001b[49m\u001b[43m \u001b[49m\u001b[43mretain_graph\u001b[49m\u001b[43m,\u001b[49m\u001b[43m \u001b[49m\u001b[43mcreate_graph\u001b[49m\u001b[43m,\u001b[49m\u001b[43m \u001b[49m\u001b[43minputs\u001b[49m\u001b[43m,\u001b[49m\n\u001b[1;32m    202\u001b[0m \u001b[43m    \u001b[49m\u001b[43mallow_unreachable\u001b[49m\u001b[38;5;241;43m=\u001b[39;49m\u001b[38;5;28;43;01mTrue\u001b[39;49;00m\u001b[43m,\u001b[49m\u001b[43m \u001b[49m\u001b[43maccumulate_grad\u001b[49m\u001b[38;5;241;43m=\u001b[39;49m\u001b[38;5;28;43;01mTrue\u001b[39;49;00m\u001b[43m)\u001b[49m\n",
      "\u001b[0;31mKeyboardInterrupt\u001b[0m: "
     ]
    }
   ],
   "source": [
    "from IPython.display import clear_output\n",
    "\n",
    "\n",
    "epochs = 3\n",
    "model = simple_model\n",
    "opt = torch.optim.Adam(model.parameters())\n",
    "criterion = nn.MSELoss()\n",
    "\n",
    "history = []\n",
    "for epoch in range(epochs):\n",
    "    for batch, target in iterate_minibatches(data_train):\n",
    "        # Preprocessing the batch data and target\n",
    "        batch = torch.tensor(batch[\"FullDescription\"], dtype=torch.long, device=device)\n",
    "        target = torch.tensor(target, device=device)\n",
    "\n",
    "        predictions = model(batch)\n",
    "        predictions = predictions.flatten()\n",
    "\n",
    "        # YOUR CODE HERE\n",
    "        # Compute loss.\n",
    "        loss = criterion(predictions, target)\n",
    "        # YOUR CODE HERE\n",
    "        # Train with backprop.\n",
    "        loss.backward()\n",
    "        opt.step()\n",
    "        opt.zero_grad()\n",
    "        history.append(loss.item())\n",
    "        if len(history) % 10 == 0:\n",
    "            clear_output(wait=True)\n",
    "            plt.figure(figsize = (12, 5))\n",
    "            plt.plot(history, label=\"loss\")\n",
    "            plt.legend()\n",
    "            plt.show()"
   ]
  },
  {
   "cell_type": "markdown",
   "metadata": {
    "id": "eOXdOBCnpHfe"
   },
   "source": [
    "To evaluate the model we can switch it to `eval` state. Let's check the model quality."
   ]
  },
  {
   "cell_type": "code",
   "execution_count": 48,
   "metadata": {
    "execution": {
     "iopub.execute_input": "2023-06-26T12:37:43.245349Z",
     "iopub.status.busy": "2023-06-26T12:37:43.244618Z",
     "iopub.status.idle": "2023-06-26T12:37:43.351782Z",
     "shell.execute_reply": "2023-06-26T12:37:43.350277Z",
     "shell.execute_reply.started": "2023-06-26T12:37:43.245295Z"
    }
   },
   "outputs": [
    {
     "ename": "NameError",
     "evalue": "name 'model' is not defined",
     "output_type": "error",
     "traceback": [
      "\u001b[0;31m---------------------------------------------------------------------------\u001b[0m",
      "\u001b[0;31mNameError\u001b[0m                                 Traceback (most recent call last)",
      "Cell \u001b[0;32mIn[48], line 4\u001b[0m\n\u001b[1;32m      2\u001b[0m \u001b[38;5;28;01mfor\u001b[39;00m batch, target \u001b[38;5;129;01min\u001b[39;00m iterate_minibatches(data_val):\n\u001b[1;32m      3\u001b[0m     batch \u001b[38;5;241m=\u001b[39m torch\u001b[38;5;241m.\u001b[39mtensor(batch[\u001b[38;5;124m\"\u001b[39m\u001b[38;5;124mFullDescription\u001b[39m\u001b[38;5;124m\"\u001b[39m], dtype\u001b[38;5;241m=\u001b[39mtorch\u001b[38;5;241m.\u001b[39mlong, device\u001b[38;5;241m=\u001b[39mdevice)\n\u001b[0;32m----> 4\u001b[0m     pred \u001b[38;5;241m=\u001b[39m \u001b[43mmodel\u001b[49m(batch)[:, \u001b[38;5;241m0\u001b[39m]\u001b[38;5;241m.\u001b[39mcpu()\u001b[38;5;241m.\u001b[39mnumpy()\n\u001b[1;32m      5\u001b[0m     \u001b[38;5;28;01mbreak\u001b[39;00m\n",
      "\u001b[0;31mNameError\u001b[0m: name 'model' is not defined"
     ]
    }
   ],
   "source": [
    "with torch.no_grad():\n",
    "    for batch, target in iterate_minibatches(data_val):\n",
    "        batch = torch.tensor(batch[\"FullDescription\"], dtype=torch.long, device=device)\n",
    "        pred = model(batch)[:, 0].cpu().numpy()\n",
    "        break\n",
    "    "
   ]
  },
  {
   "cell_type": "code",
   "execution_count": 49,
   "metadata": {
    "colab": {
     "base_uri": "https://localhost:8080/",
     "height": 363
    },
    "execution": {
     "iopub.execute_input": "2023-06-26T12:37:47.055422Z",
     "iopub.status.busy": "2023-06-26T12:37:47.054706Z",
     "iopub.status.idle": "2023-06-26T12:39:18.508632Z",
     "shell.execute_reply": "2023-06-26T12:39:18.506741Z",
     "shell.execute_reply.started": "2023-06-26T12:37:47.055387Z"
    },
    "id": "eaiQRrfCpHfe",
    "outputId": "5eb84d14-bcf5-40a0-f5df-5c8b73637d43"
   },
   "outputs": [
    {
     "ename": "KeyboardInterrupt",
     "evalue": "",
     "output_type": "error",
     "traceback": [
      "\u001b[0;31m---------------------------------------------------------------------------\u001b[0m",
      "\u001b[0;31mKeyboardInterrupt\u001b[0m                         Traceback (most recent call last)",
      "Cell \u001b[0;32mIn[49], line 30\u001b[0m\n\u001b[1;32m     26\u001b[0m     \u001b[38;5;28mprint\u001b[39m(\u001b[38;5;124mf\u001b[39m\u001b[38;5;124m\"\u001b[39m\u001b[38;5;124mR2_score: \u001b[39m\u001b[38;5;132;01m{\u001b[39;00mr2_score(y_true,\u001b[38;5;250m \u001b[39my_pred)\u001b[38;5;132;01m:\u001b[39;00m\u001b[38;5;124m.5f\u001b[39m\u001b[38;5;132;01m}\u001b[39;00m\u001b[38;5;124m\"\u001b[39m)\n\u001b[1;32m     28\u001b[0m     \u001b[38;5;28;01mreturn\u001b[39;00m y_true, y_pred\n\u001b[0;32m---> 30\u001b[0m y_true_train, y_pred_train \u001b[38;5;241m=\u001b[39m \u001b[43mevaluate_model\u001b[49m\u001b[43m(\u001b[49m\u001b[43msimple_model\u001b[49m\u001b[43m,\u001b[49m\u001b[43m \u001b[49m\u001b[43mdata_train\u001b[49m\u001b[43m,\u001b[49m\u001b[43m \u001b[49m\u001b[43mname\u001b[49m\u001b[38;5;241;43m=\u001b[39;49m\u001b[38;5;124;43m\"\u001b[39;49m\u001b[38;5;124;43mTrain\u001b[39;49m\u001b[38;5;124;43m\"\u001b[39;49m\u001b[43m)\u001b[49m\n\u001b[1;32m     31\u001b[0m y_true_val, y_pred_val \u001b[38;5;241m=\u001b[39m evaluate_model(simple_model, data_val, name\u001b[38;5;241m=\u001b[39m\u001b[38;5;124m\"\u001b[39m\u001b[38;5;124mVal\u001b[39m\u001b[38;5;124m\"\u001b[39m)\n",
      "File \u001b[0;32m/opt/conda/lib/python3.10/site-packages/torch/utils/_contextlib.py:115\u001b[0m, in \u001b[0;36mcontext_decorator.<locals>.decorate_context\u001b[0;34m(*args, **kwargs)\u001b[0m\n\u001b[1;32m    112\u001b[0m \u001b[38;5;129m@functools\u001b[39m\u001b[38;5;241m.\u001b[39mwraps(func)\n\u001b[1;32m    113\u001b[0m \u001b[38;5;28;01mdef\u001b[39;00m \u001b[38;5;21mdecorate_context\u001b[39m(\u001b[38;5;241m*\u001b[39margs, \u001b[38;5;241m*\u001b[39m\u001b[38;5;241m*\u001b[39mkwargs):\n\u001b[1;32m    114\u001b[0m     \u001b[38;5;28;01mwith\u001b[39;00m ctx_factory():\n\u001b[0;32m--> 115\u001b[0m         \u001b[38;5;28;01mreturn\u001b[39;00m \u001b[43mfunc\u001b[49m\u001b[43m(\u001b[49m\u001b[38;5;241;43m*\u001b[39;49m\u001b[43margs\u001b[49m\u001b[43m,\u001b[49m\u001b[43m \u001b[49m\u001b[38;5;241;43m*\u001b[39;49m\u001b[38;5;241;43m*\u001b[39;49m\u001b[43mkwargs\u001b[49m\u001b[43m)\u001b[49m\n",
      "Cell \u001b[0;32mIn[49], line 12\u001b[0m, in \u001b[0;36mevaluate_model\u001b[0;34m(model, data, batch_size, name, **kwargs)\u001b[0m\n\u001b[1;32m      8\u001b[0m \u001b[38;5;28;01mfor\u001b[39;00m batch, target \u001b[38;5;129;01min\u001b[39;00m data_iterator:\n\u001b[1;32m     11\u001b[0m     batch \u001b[38;5;241m=\u001b[39m torch\u001b[38;5;241m.\u001b[39mtensor(batch[\u001b[38;5;124m\"\u001b[39m\u001b[38;5;124mFullDescription\u001b[39m\u001b[38;5;124m\"\u001b[39m], dtype\u001b[38;5;241m=\u001b[39mtorch\u001b[38;5;241m.\u001b[39mlong, device\u001b[38;5;241m=\u001b[39mdevice)\n\u001b[0;32m---> 12\u001b[0m     pred \u001b[38;5;241m=\u001b[39m \u001b[43mmodel\u001b[49m\u001b[43m(\u001b[49m\u001b[43mbatch\u001b[49m\u001b[43m)\u001b[49m\u001b[43m[\u001b[49m\u001b[43m:\u001b[49m\u001b[43m,\u001b[49m\u001b[43m \u001b[49m\u001b[38;5;241;43m0\u001b[39;49m\u001b[43m]\u001b[49m\u001b[38;5;241;43m.\u001b[39;49m\u001b[43mcpu\u001b[49m\u001b[43m(\u001b[49m\u001b[43m)\u001b[49m\u001b[38;5;241m.\u001b[39mnumpy()\n\u001b[1;32m     14\u001b[0m     y_true \u001b[38;5;241m+\u001b[39m\u001b[38;5;241m=\u001b[39m \u001b[38;5;28mlist\u001b[39m(target)\n\u001b[1;32m     15\u001b[0m     y_pred \u001b[38;5;241m+\u001b[39m\u001b[38;5;241m=\u001b[39m \u001b[38;5;28mlist\u001b[39m(pred)\n",
      "\u001b[0;31mKeyboardInterrupt\u001b[0m: "
     ]
    }
   ],
   "source": [
    "@torch.no_grad()\n",
    "def evaluate_model(model, data, batch_size=256, name=None, **kwargs):\n",
    "    squared_error = abs_error = num_samples = 0.0\n",
    "    y_true = []\n",
    "    y_pred = []\n",
    "    \n",
    "    data_iterator = iterate_minibatches(data, batch_size, shuffle=False, **kwargs)\n",
    "    for batch, target in data_iterator:\n",
    "        \n",
    "        \n",
    "        batch = torch.tensor(batch[\"FullDescription\"], dtype=torch.long, device=device)\n",
    "        pred = model(batch)[:, 0].cpu().numpy()\n",
    "        \n",
    "        y_true += list(target)\n",
    "        y_pred += list(pred)\n",
    "        \n",
    "        squared_error += np.sum(np.square(pred - target))\n",
    "        abs_error += np.sum(np.abs(pred - target))\n",
    "        num_samples += len(target)\n",
    "\n",
    "    if name is not None:\n",
    "        print(f\"{name}:\")\n",
    "\n",
    "    print(f\"MSE: {squared_error / num_samples:.5f}\")\n",
    "    print(f\"MAE: {abs_error / num_samples:.5f}\")\n",
    "    print(f\"R2_score: {r2_score(y_true, y_pred):.5f}\")\n",
    "    \n",
    "    return y_true, y_pred\n",
    "\n",
    "y_true_train, y_pred_train = evaluate_model(simple_model, data_train, name=\"Train\")\n",
    "y_true_val, y_pred_val = evaluate_model(simple_model, data_val, name=\"Val\")"
   ]
  },
  {
   "cell_type": "markdown",
   "metadata": {
    "id": "hUUchHCnpHfe"
   },
   "source": [
    "### Bonus area 1: three-headed network.\n",
    "\n",
    "Now you can try to implement the network we've discussed above. Use [__PyTorch nn.Module API__](https://pytorch.org/docs/stable/nn.html#torch.nn.Module)."
   ]
  },
  {
   "cell_type": "code",
   "execution_count": 50,
   "metadata": {
    "colab": {
     "base_uri": "https://localhost:8080/"
    },
    "execution": {
     "iopub.execute_input": "2023-06-26T12:39:22.287620Z",
     "iopub.status.busy": "2023-06-26T12:39:22.286954Z",
     "iopub.status.idle": "2023-06-26T12:39:22.306063Z",
     "shell.execute_reply": "2023-06-26T12:39:22.305029Z",
     "shell.execute_reply.started": "2023-06-26T12:39:22.287563Z"
    },
    "id": "r1JCPZakd6js",
    "outputId": "c97cf615-0497-4000-d0f7-95b61dc18980"
   },
   "outputs": [
    {
     "data": {
      "text/plain": [
       "['Title', 'FullDescription', 'Categorical']"
      ]
     },
     "execution_count": 50,
     "metadata": {},
     "output_type": "execute_result"
    }
   ],
   "source": [
    "iterator = iterate_minibatches(data_train, 3)\n",
    "batch, target = next(iterator)\n",
    "list(batch.keys())"
   ]
  },
  {
   "cell_type": "code",
   "execution_count": 51,
   "metadata": {
    "execution": {
     "iopub.execute_input": "2023-06-26T12:39:23.829194Z",
     "iopub.status.busy": "2023-06-26T12:39:23.827939Z",
     "iopub.status.idle": "2023-06-26T12:39:23.844391Z",
     "shell.execute_reply": "2023-06-26T12:39:23.843246Z",
     "shell.execute_reply.started": "2023-06-26T12:39:23.829157Z"
    },
    "id": "SOG-2OK2pHfe"
   },
   "outputs": [],
   "source": [
    "class ThreeInputsNet(nn.Module):\n",
    "    def __init__(self, n_tokens=len(tokens), n_cat_features=len(categorical_vectorizer.vocabulary_), hid_size=64):\n",
    "        super().__init__()\n",
    "\n",
    "        self.title_emb = nn.Embedding(n_tokens, hid_size)\n",
    "        # YOUR CODE HERE\n",
    "        # Define modules to process the title.\n",
    "        self.head_title = nn.Sequential(\n",
    "            \n",
    "            nn.Conv1d(hid_size, 2*hid_size, 3),\n",
    "            nn.BatchNorm1d(2*hid_size),\n",
    "            nn.ReLU(),\n",
    "            nn.Conv1d(2*hid_size, 2*hid_size, 3),\n",
    "            nn.BatchNorm1d(2*hid_size),\n",
    "            nn.ReLU(),\n",
    "            nn.AdaptiveMaxPool1d(1),\n",
    "            nn.Flatten(),\n",
    "            nn.Linear(2*hid_size, hid_size)\n",
    "        )\n",
    "        self.desc_emb = nn.Embedding(n_tokens, hid_size)\n",
    "        # YOUR CODE HERE\n",
    "        # Define modules to process the description.\n",
    "        self.head_desc = nn.Sequential(\n",
    "            \n",
    "            nn.Conv1d(hid_size, hid_size, 5),\n",
    "            nn.BatchNorm1d(hid_size),\n",
    "            nn.ReLU(),\n",
    "            nn.Conv1d(hid_size, 2*hid_size, 3),\n",
    "            nn.BatchNorm1d(2*hid_size),\n",
    "            nn.ReLU(),\n",
    "            nn.Conv1d(2*hid_size, 2*hid_size, 3),\n",
    "            nn.BatchNorm1d(2*hid_size),\n",
    "            nn.ReLU(),\n",
    "            nn.Conv1d(2*hid_size, 2*hid_size, 3),\n",
    "            nn.BatchNorm1d(2*hid_size),\n",
    "            nn.ReLU(),\n",
    "            nn.AdaptiveMaxPool1d(1),\n",
    "            nn.Flatten(),\n",
    "            nn.Linear(2*hid_size, hid_size)\n",
    "        )\n",
    "        # YOUR CODE HERE\n",
    "        # Define modules to process the categorical features.\n",
    "        # self.category_out = ...\n",
    "        self.head_categorical = nn.Linear(n_cat_features, hid_size)\n",
    "        # YOUR CODE HERE\n",
    "        # Define fully-connected part which will take outputs of\n",
    "        # three heads and return the result.\n",
    "        self.out = nn.Linear(3*hid_size, 1)\n",
    "\n",
    "    \n",
    "    def forward(self, whole_input):\n",
    "        input1, input2, input3 = whole_input\n",
    "        title_beg = self.title_emb(input1).permute((0, 2, 1))\n",
    "        # YOUR CODE HERE\n",
    "        # Process the title.\n",
    "        title = self.head_title(title_beg)\n",
    "\n",
    "        full_beg = self.desc_emb(input2).permute((0, 2, 1))\n",
    "        # YOUR CODE HERE\n",
    "        # Process the description.\n",
    "        desc = self.head_desc(full_beg)\n",
    "\n",
    "        # YOUR CODE HERE\n",
    "        # Process the categorical features.\n",
    "        category = self.head_categorical(input3)\n",
    "\n",
    "        \n",
    "\n",
    "        concatenated = torch.cat(\n",
    "            [\n",
    "                title.view(title.size(0), -1),\n",
    "                desc.view(desc.size(0), -1),\n",
    "                category.view(category.size(0), -1),\n",
    "            ],\n",
    "            dim=1,\n",
    "        )\n",
    "\n",
    "        # YOUR CODE HERE\n",
    "        # Process the concatenated features to generate network output.\n",
    "        out = self.out(concatenated)\n",
    "\n",
    "        return out"
   ]
  },
  {
   "cell_type": "code",
   "execution_count": 52,
   "metadata": {
    "execution": {
     "iopub.execute_input": "2023-06-26T12:39:26.814658Z",
     "iopub.status.busy": "2023-06-26T12:39:26.814286Z",
     "iopub.status.idle": "2023-06-26T12:39:26.887241Z",
     "shell.execute_reply": "2023-06-26T12:39:26.886064Z",
     "shell.execute_reply.started": "2023-06-26T12:39:26.814626Z"
    }
   },
   "outputs": [
    {
     "data": {
      "text/plain": [
       "(256, 14)"
      ]
     },
     "execution_count": 52,
     "metadata": {},
     "output_type": "execute_result"
    }
   ],
   "source": [
    "train_iterator = iterate_minibatches(data_train, 256)\n",
    "val_iterator = iterate_minibatches(data_val, 256)\n",
    "batch, target = next(val_iterator)\n",
    "batch[\"Title\"].shape"
   ]
  },
  {
   "cell_type": "code",
   "execution_count": 53,
   "metadata": {
    "execution": {
     "iopub.execute_input": "2023-06-26T12:39:27.615969Z",
     "iopub.status.busy": "2023-06-26T12:39:27.615561Z",
     "iopub.status.idle": "2023-06-26T12:39:27.625434Z",
     "shell.execute_reply": "2023-06-26T12:39:27.624219Z",
     "shell.execute_reply.started": "2023-06-26T12:39:27.615935Z"
    }
   },
   "outputs": [
    {
     "data": {
      "text/plain": [
       "(torch.Size([256, 14]), torch.Size([256, 913]), torch.Size([256, 3768]))"
      ]
     },
     "execution_count": 53,
     "metadata": {},
     "output_type": "execute_result"
    }
   ],
   "source": [
    "ex_inp1, ex_inp2, ex_inp3 = batch[\"Title\"], batch[\"FullDescription\"], batch[\"Categorical\"]\n",
    "ex_inp1, ex_inp2, ex_inp3 = torch.from_numpy(ex_inp1), torch.from_numpy(ex_inp2), torch.from_numpy(ex_inp3)\n",
    "\n",
    "ex_inp1.shape, ex_inp2.shape, ex_inp3.shape "
   ]
  },
  {
   "cell_type": "code",
   "execution_count": 62,
   "metadata": {
    "execution": {
     "iopub.execute_input": "2023-06-26T12:40:37.259346Z",
     "iopub.status.busy": "2023-06-26T12:40:37.258683Z",
     "iopub.status.idle": "2023-06-26T12:40:43.287783Z",
     "shell.execute_reply": "2023-06-26T12:40:43.286775Z",
     "shell.execute_reply.started": "2023-06-26T12:40:37.259310Z"
    }
   },
   "outputs": [
    {
     "data": {
      "text/plain": [
       "torch.Size([256, 1])"
      ]
     },
     "execution_count": 62,
     "metadata": {},
     "output_type": "execute_result"
    }
   ],
   "source": [
    "cnn_model = ThreeInputsNet(hid_size=128)\n",
    "cnn_model_out = model((ex_inp1, ex_inp2, ex_inp3))\n",
    "\n",
    "cnn_model_out.shape"
   ]
  },
  {
   "cell_type": "code",
   "execution_count": 63,
   "metadata": {
    "execution": {
     "iopub.execute_input": "2023-06-26T12:40:45.584387Z",
     "iopub.status.busy": "2023-06-26T12:40:45.584029Z",
     "iopub.status.idle": "2023-06-26T12:40:45.590715Z",
     "shell.execute_reply": "2023-06-26T12:40:45.589686Z",
     "shell.execute_reply.started": "2023-06-26T12:40:45.584359Z"
    }
   },
   "outputs": [
    {
     "name": "stdout",
     "output_type": "stream",
     "text": [
      "Num of parameters in cnn model 9729921\n"
     ]
    }
   ],
   "source": [
    "print(f\"Num of parameters in cnn model {sum([p.numel() for p in cnn_model.parameters()])}\")"
   ]
  },
  {
   "cell_type": "code",
   "execution_count": 64,
   "metadata": {
    "execution": {
     "iopub.execute_input": "2023-06-26T12:40:48.576320Z",
     "iopub.status.busy": "2023-06-26T12:40:48.575956Z",
     "iopub.status.idle": "2023-06-26T12:40:58.642870Z",
     "shell.execute_reply": "2023-06-26T12:40:58.641884Z",
     "shell.execute_reply.started": "2023-06-26T12:40:48.576292Z"
    }
   },
   "outputs": [],
   "source": [
    "model = ThreeInputsNet(hid_size=128)\n",
    "criterion = nn.MSELoss()\n",
    "loss = criterion(model_out.flatten(), torch.from_numpy(target))\n",
    "loss.backward()\n"
   ]
  },
  {
   "cell_type": "code",
   "execution_count": 65,
   "metadata": {
    "execution": {
     "iopub.execute_input": "2023-06-26T12:41:00.106361Z",
     "iopub.status.busy": "2023-06-26T12:41:00.105939Z",
     "iopub.status.idle": "2023-06-26T12:41:00.123384Z",
     "shell.execute_reply": "2023-06-26T12:41:00.122363Z",
     "shell.execute_reply.started": "2023-06-26T12:41:00.106330Z"
    }
   },
   "outputs": [],
   "source": [
    "def train_model(model, data_train, data_val, criterion, \n",
    "                optimizer, scheduler, batch_size, num_epochs):\n",
    "    start_time = time.time()\n",
    "    \n",
    "    for epoch in range(num_epochs):\n",
    "        train_iterator = iterate_minibatches(data_train, batch_size=batch_size, shuffle=True)\n",
    "        val_iterator = iterate_minibatches(data_val, batch_size=batch_size, shuffle=False)\n",
    "        start_epoch_time = time.time()\n",
    "        print(15*\"---\")\n",
    "        print(f\"epoch: {epoch+1}/{num_epochs}\")\n",
    "        loss_train, loss_val = [], []\n",
    "        y_true_train, y_true_val = [], []\n",
    "        y_pred_train, y_pred_val = [], []\n",
    "        for X_batch, y_batch in train_iterator:\n",
    "            x_title, x_desc, x_cat = X_batch[\"Title\"], X_batch[\"FullDescription\"], X_batch[\"Categorical\"]\n",
    "            x_title, x_desc, x_cat = torch.from_numpy(x_title), torch.from_numpy(x_desc), torch.from_numpy(x_cat)\n",
    "            x_title, x_desc, x_cat = x_title.to(device), x_desc.to(device), x_cat.to(device)\n",
    "            y_batch = torch.from_numpy(y_batch).to(device)\n",
    "            output = model((x_title, x_desc, x_cat))\n",
    "            loss = criterion(output.flatten(), y_batch)\n",
    "            loss.backward()\n",
    "            optimizer.step()\n",
    "            optimizer.zero_grad()\n",
    "            \n",
    "            loss_train.append(loss.item())\n",
    "            y_true_train += list(y_batch.cpu().detach().numpy())\n",
    "            y_pred_train += list(output.cpu().detach().numpy())\n",
    "        # scheduler.step()\n",
    "        \n",
    "        with torch.no_grad():\n",
    "            for X_batch, y_batch in val_iterator:\n",
    "                x_title, x_desc, x_cat = X_batch[\"Title\"], X_batch[\"FullDescription\"], X_batch[\"Categorical\"]\n",
    "                x_title, x_desc, x_cat = torch.from_numpy(x_title), torch.from_numpy(x_desc), torch.from_numpy(x_cat)\n",
    "                x_title, x_desc, x_cat = x_title.to(device), x_desc.to(device), x_cat.to(device)\n",
    "                y_batch = torch.from_numpy(y_batch).to(device)\n",
    "                output = model((x_title, x_desc, x_cat))\n",
    "                loss = criterion(output.flatten(), y_batch)\n",
    "                loss_val.append(loss.item())\n",
    "                \n",
    "                y_true_val += list(y_batch.cpu().detach().numpy())\n",
    "                y_pred_val += list(output.cpu().detach().numpy())\n",
    "        \n",
    "        end_epoch_time = time.time()\n",
    "        \n",
    "        epoch_time = start_epoch_time - end_epoch_time\n",
    "        print(f\"Time for epoch: {(epoch_time//60):.1f} m, {(epoch_time%60):.2f} s\")    \n",
    "        print(f\"Training loss: {np.mean(loss_train):.3f}, r2_score: {r2_score(y_true_train, y_pred_train):.3f} \" )\n",
    "        print(f\"Validation loss: {np.mean(loss_val):.3f}, r2_score: {r2_score(y_true_val, y_pred_val):.3f} \" )\n",
    "        print()\n",
    "    end_time = time.time()\n",
    "    all_time = start_time - end_time\n",
    "    print(\"****\" * 15)\n",
    "    print(f\"Trainig time: {(all_time//60):.1f} m, {(all_time%60):1f} s\")"
   ]
  },
  {
   "cell_type": "code",
   "execution_count": 66,
   "metadata": {
    "execution": {
     "iopub.execute_input": "2023-06-26T12:41:01.805864Z",
     "iopub.status.busy": "2023-06-26T12:41:01.805480Z",
     "iopub.status.idle": "2023-06-26T12:41:01.865005Z",
     "shell.execute_reply": "2023-06-26T12:41:01.864035Z",
     "shell.execute_reply.started": "2023-06-26T12:41:01.805812Z"
    }
   },
   "outputs": [],
   "source": [
    "model = ThreeInputsNet().to(device)\n",
    "criterion = nn.MSELoss()\n",
    "optimizer = torch.optim.Adam(model.parameters())\n",
    "exp_lr_scheduler = lr_scheduler.StepLR(optimizer, step_size=2, gamma=0.1)"
   ]
  },
  {
   "cell_type": "code",
   "execution_count": 67,
   "metadata": {
    "execution": {
     "iopub.execute_input": "2023-06-26T12:41:04.038381Z",
     "iopub.status.busy": "2023-06-26T12:41:04.037768Z",
     "iopub.status.idle": "2023-06-26T13:08:43.634171Z",
     "shell.execute_reply": "2023-06-26T13:08:43.633041Z",
     "shell.execute_reply.started": "2023-06-26T12:41:04.038347Z"
    }
   },
   "outputs": [
    {
     "name": "stdout",
     "output_type": "stream",
     "text": [
      "---------------------------------------------\n",
      "epoch: 1/15\n",
      "Time for epoch: -2.0 m, 9.62 s\n",
      "Training loss: 0.561, r2_score: -1.319 \n",
      "Validation loss: 0.164, r2_score: 0.324 \n",
      "\n",
      "---------------------------------------------\n",
      "epoch: 2/15\n",
      "Time for epoch: -2.0 m, 10.68 s\n",
      "Training loss: 0.151, r2_score: 0.379 \n",
      "Validation loss: 0.175, r2_score: 0.285 \n",
      "\n",
      "---------------------------------------------\n",
      "epoch: 3/15\n",
      "Time for epoch: -2.0 m, 9.84 s\n",
      "Training loss: 0.114, r2_score: 0.531 \n",
      "Validation loss: 0.138, r2_score: 0.430 \n",
      "\n",
      "---------------------------------------------\n",
      "epoch: 4/15\n",
      "Time for epoch: -2.0 m, 11.01 s\n",
      "Training loss: 0.112, r2_score: 0.541 \n",
      "Validation loss: 0.137, r2_score: 0.437 \n",
      "\n",
      "---------------------------------------------\n",
      "epoch: 5/15\n",
      "Time for epoch: -2.0 m, 8.50 s\n",
      "Training loss: 0.104, r2_score: 0.575 \n",
      "Validation loss: 0.104, r2_score: 0.572 \n",
      "\n",
      "---------------------------------------------\n",
      "epoch: 6/15\n",
      "Time for epoch: -2.0 m, 8.55 s\n",
      "Training loss: 0.102, r2_score: 0.578 \n",
      "Validation loss: 0.101, r2_score: 0.584 \n",
      "\n",
      "---------------------------------------------\n",
      "epoch: 7/15\n",
      "Time for epoch: -2.0 m, 8.62 s\n",
      "Training loss: 0.083, r2_score: 0.658 \n",
      "Validation loss: 0.078, r2_score: 0.677 \n",
      "\n",
      "---------------------------------------------\n",
      "epoch: 8/15\n",
      "Time for epoch: -2.0 m, 9.52 s\n",
      "Training loss: 0.074, r2_score: 0.694 \n",
      "Validation loss: 0.117, r2_score: 0.513 \n",
      "\n",
      "---------------------------------------------\n",
      "epoch: 9/15\n",
      "Time for epoch: -2.0 m, 9.09 s\n",
      "Training loss: 0.074, r2_score: 0.695 \n",
      "Validation loss: 0.079, r2_score: 0.675 \n",
      "\n",
      "---------------------------------------------\n",
      "epoch: 10/15\n",
      "Time for epoch: -2.0 m, 9.28 s\n",
      "Training loss: 0.065, r2_score: 0.730 \n",
      "Validation loss: 0.074, r2_score: 0.691 \n",
      "\n",
      "---------------------------------------------\n",
      "epoch: 11/15\n",
      "Time for epoch: -2.0 m, 9.48 s\n",
      "Training loss: 0.069, r2_score: 0.715 \n",
      "Validation loss: 0.085, r2_score: 0.645 \n",
      "\n",
      "---------------------------------------------\n",
      "epoch: 12/15\n",
      "Time for epoch: -2.0 m, 10.97 s\n",
      "Training loss: 0.061, r2_score: 0.751 \n",
      "Validation loss: 0.168, r2_score: 0.307 \n",
      "\n",
      "---------------------------------------------\n",
      "epoch: 13/15\n",
      "Time for epoch: -2.0 m, 9.34 s\n",
      "Training loss: 0.065, r2_score: 0.732 \n",
      "Validation loss: 0.074, r2_score: 0.693 \n",
      "\n",
      "---------------------------------------------\n",
      "epoch: 14/15\n",
      "Time for epoch: -2.0 m, 9.55 s\n",
      "Training loss: 0.052, r2_score: 0.786 \n",
      "Validation loss: 0.096, r2_score: 0.599 \n",
      "\n",
      "---------------------------------------------\n",
      "epoch: 15/15\n",
      "Time for epoch: -2.0 m, 8.87 s\n",
      "Training loss: 0.051, r2_score: 0.791 \n",
      "Validation loss: 0.106, r2_score: 0.559 \n",
      "\n",
      "************************************************************\n",
      "Trainig time: -28.0 m, 20.463785 s\n"
     ]
    }
   ],
   "source": [
    "train_model(model, data_train, data_val, criterion, optimizer,exp_lr_scheduler, batch_size = 256, num_epochs = 15)"
   ]
  },
  {
   "cell_type": "code",
   "execution_count": 68,
   "metadata": {
    "execution": {
     "iopub.execute_input": "2023-06-26T13:13:05.455624Z",
     "iopub.status.busy": "2023-06-26T13:13:05.455182Z",
     "iopub.status.idle": "2023-06-26T13:14:25.426956Z",
     "shell.execute_reply": "2023-06-26T13:14:25.425899Z",
     "shell.execute_reply.started": "2023-06-26T13:13:05.455591Z"
    }
   },
   "outputs": [
    {
     "name": "stdout",
     "output_type": "stream",
     "text": [
      "Train:\n",
      "MSE: 0.07877\n",
      "MAE: 0.22711\n",
      "R2_score: 0.67454\n",
      "Val:\n",
      "MSE: 0.10601\n",
      "MAE: 0.25577\n",
      "R2_score: 0.55899\n"
     ]
    }
   ],
   "source": [
    "@torch.no_grad()\n",
    "def evaluate_model(model, data, batch_size=256, name=None, **kwargs):\n",
    "    squared_error = abs_error = num_samples = 0.0\n",
    "    y_true = []\n",
    "    y_pred = []\n",
    "    \n",
    "    data_iterator = iterate_minibatches(data, batch_size, shuffle=False, **kwargs)\n",
    "    for batch, target in data_iterator:\n",
    "        \n",
    "        x_title, x_desc, x_cat = batch[\"Title\"], batch[\"FullDescription\"], batch[\"Categorical\"]\n",
    "        x_title, x_desc, x_cat = torch.from_numpy(x_title), torch.from_numpy(x_desc), torch.from_numpy(x_cat)\n",
    "        x_title, x_desc, x_cat = x_title.to(device), x_desc.to(device), x_cat.to(device)\n",
    "        \n",
    "        pred = model((x_title, x_desc, x_cat))[:, 0].cpu().numpy()\n",
    "        \n",
    "        y_true += list(target)\n",
    "        y_pred += list(pred)\n",
    "        \n",
    "        squared_error += np.sum(np.square(pred - target))\n",
    "        abs_error += np.sum(np.abs(pred - target))\n",
    "        num_samples += len(target)\n",
    "\n",
    "    if name is not None:\n",
    "        print(f\"{name}:\")\n",
    "\n",
    "    print(f\"MSE: {squared_error / num_samples:.5f}\")\n",
    "    print(f\"MAE: {abs_error / num_samples:.5f}\")\n",
    "    print(f\"R2_score: {r2_score(y_true, y_pred):.5f}\")\n",
    "    \n",
    "    return y_true, y_pred\n",
    "\n",
    "y_true_train, y_pred_train = evaluate_model(model, data_train, name=\"Train\")\n",
    "y_true_val, y_pred_val = evaluate_model(model, data_val, name=\"Val\")"
   ]
  },
  {
   "cell_type": "code",
   "execution_count": 69,
   "metadata": {
    "execution": {
     "iopub.execute_input": "2023-06-26T13:14:34.044278Z",
     "iopub.status.busy": "2023-06-26T13:14:34.043891Z",
     "iopub.status.idle": "2023-06-26T13:14:34.363567Z",
     "shell.execute_reply": "2023-06-26T13:14:34.361780Z",
     "shell.execute_reply.started": "2023-06-26T13:14:34.044248Z"
    }
   },
   "outputs": [
    {
     "data": {
      "text/plain": [
       "29308"
      ]
     },
     "execution_count": 69,
     "metadata": {},
     "output_type": "execute_result"
    }
   ],
   "source": [
    "import gc\n",
    "torch.cuda.empty_cache()\n",
    "gc.collect()"
   ]
  },
  {
   "cell_type": "markdown",
   "metadata": {},
   "source": [
    "### Bonus area 2: comparing RNN to CNN\n",
    "Try implementing simple RNN (or LSTM) and applying it to this task. Compare the quality/performance of these networks. \n",
    "*Hint: try to build networks with ~same number of paremeters.*"
   ]
  },
  {
   "cell_type": "code",
   "execution_count": 75,
   "metadata": {
    "execution": {
     "iopub.execute_input": "2023-06-26T13:16:05.643397Z",
     "iopub.status.busy": "2023-06-26T13:16:05.643009Z",
     "iopub.status.idle": "2023-06-26T13:16:05.648631Z",
     "shell.execute_reply": "2023-06-26T13:16:05.647720Z",
     "shell.execute_reply.started": "2023-06-26T13:16:05.643367Z"
    }
   },
   "outputs": [],
   "source": [
    "n_cat_features=len(categorical_vectorizer.vocabulary_)"
   ]
  },
  {
   "cell_type": "code",
   "execution_count": 76,
   "metadata": {
    "execution": {
     "iopub.execute_input": "2023-06-26T13:16:08.027057Z",
     "iopub.status.busy": "2023-06-26T13:16:08.026004Z",
     "iopub.status.idle": "2023-06-26T13:16:08.038317Z",
     "shell.execute_reply": "2023-06-26T13:16:08.037116Z",
     "shell.execute_reply.started": "2023-06-26T13:16:08.027019Z"
    },
    "id": "rQVzJyCMpHfe"
   },
   "outputs": [],
   "source": [
    "# YOUR CODE HERE\n",
    "\n",
    "class rnn_model(nn.Module):\n",
    "    \n",
    "    def __init__(self, num_tokens=len(tokens), emb_dim=128, hid_dim=256):\n",
    "        super().__init__()\n",
    "        self.title_emb_layer = nn.Embedding(num_tokens, emb_dim)\n",
    "        self.desc_emb_layer = nn.Embedding(num_tokens, emb_dim)\n",
    "        \n",
    "        self.title_rnn = nn.GRU(emb_dim, hid_dim, batch_first=True)\n",
    "        self.desc_rnn =  nn.GRU(emb_dim, hid_dim, batch_first=True)\n",
    "        self.cat_lin = nn.Linear(n_cat_features, hid_dim)\n",
    "        self.out_layer = nn.Linear(3*hid_dim, 1)\n",
    "        \n",
    "    def forward(self, input_batch):\n",
    "        inp_title, inp_desc, inp_cat = input_batch\n",
    "        \n",
    "        emb_title = self.title_emb_layer(inp_title) # batch_size, src_len, emb_dim\n",
    "        emb_desc = self.desc_emb_layer(inp_desc) # batch_size, src_len, emb_dim\n",
    "        _, title_out = self.title_rnn(emb_title) # batch_size, bi_direct*num_layers, hid_size\n",
    "        _, desc_out = self.desc_rnn(emb_desc) # batch_size, bi_direct*num_layers, hid_size\n",
    "        cat_out = self.cat_lin(inp_cat)  # batch_size, hid_size\n",
    "        title_out = title_out.permute(1, 0, 2)\n",
    "        desc_out = desc_out.permute(1, 0, 2)\n",
    "        #print(title_out.shape, desc_out.shape, cat_out.shape)\n",
    "        \n",
    "        cat_features = torch.cat( [title_out.view(title_out.size(0), -1),\n",
    "                                   desc_out.view(desc_out.size(0), -1),\n",
    "                                   cat_out.view(cat_out.size(0), -1)\n",
    "                                   ], dim=1)\n",
    "        \n",
    "        out = self.out_layer(cat_features)\n",
    "        return out\n",
    "    \n",
    "        "
   ]
  },
  {
   "cell_type": "code",
   "execution_count": 77,
   "metadata": {
    "execution": {
     "iopub.execute_input": "2023-06-26T13:16:08.906904Z",
     "iopub.status.busy": "2023-06-26T13:16:08.906525Z",
     "iopub.status.idle": "2023-06-26T13:16:08.980775Z",
     "shell.execute_reply": "2023-06-26T13:16:08.979817Z",
     "shell.execute_reply.started": "2023-06-26T13:16:08.906874Z"
    }
   },
   "outputs": [],
   "source": [
    "train_iterator = iterate_minibatches(data_train, 256)\n",
    "val_iterator = iterate_minibatches(data_val, 256)\n",
    "batch, target = next(val_iterator)"
   ]
  },
  {
   "cell_type": "code",
   "execution_count": 78,
   "metadata": {
    "execution": {
     "iopub.execute_input": "2023-06-26T13:16:09.816434Z",
     "iopub.status.busy": "2023-06-26T13:16:09.816051Z",
     "iopub.status.idle": "2023-06-26T13:16:09.826816Z",
     "shell.execute_reply": "2023-06-26T13:16:09.825642Z",
     "shell.execute_reply.started": "2023-06-26T13:16:09.816405Z"
    }
   },
   "outputs": [
    {
     "data": {
      "text/plain": [
       "(torch.Size([2, 19]), torch.Size([2, 1250]), torch.Size([2, 3768]))"
      ]
     },
     "execution_count": 78,
     "metadata": {},
     "output_type": "execute_result"
    }
   ],
   "source": [
    "ex_inp1, ex_inp2, ex_inp3 = batch[\"Title\"], batch[\"FullDescription\"], batch[\"Categorical\"]\n",
    "ex_inp1, ex_inp2, ex_inp3 = torch.from_numpy(ex_inp1), torch.from_numpy(ex_inp2), torch.from_numpy(ex_inp3)\n",
    "ex_inp1, ex_inp2, ex_inp3 = ex_inp1[:2, :], ex_inp2[:2, :], ex_inp3[:2, :]\n",
    "ex_inp1.shape, ex_inp2.shape, ex_inp3.shape "
   ]
  },
  {
   "cell_type": "code",
   "execution_count": 79,
   "metadata": {
    "execution": {
     "iopub.execute_input": "2023-06-26T13:16:09.991940Z",
     "iopub.status.busy": "2023-06-26T13:16:09.991533Z",
     "iopub.status.idle": "2023-06-26T13:16:10.299019Z",
     "shell.execute_reply": "2023-06-26T13:16:10.297906Z",
     "shell.execute_reply.started": "2023-06-26T13:16:09.991905Z"
    }
   },
   "outputs": [
    {
     "data": {
      "text/plain": [
       "tensor([[-0.3199],\n",
       "        [-0.3203]], grad_fn=<AddmmBackward0>)"
      ]
     },
     "execution_count": 79,
     "metadata": {},
     "output_type": "execute_result"
    }
   ],
   "source": [
    "rnn = rnn_model()\n",
    "rnn((ex_inp1, ex_inp2, ex_inp3))"
   ]
  },
  {
   "cell_type": "code",
   "execution_count": 81,
   "metadata": {
    "execution": {
     "iopub.execute_input": "2023-06-26T13:17:03.104363Z",
     "iopub.status.busy": "2023-06-26T13:17:03.103981Z",
     "iopub.status.idle": "2023-06-26T13:17:03.110968Z",
     "shell.execute_reply": "2023-06-26T13:17:03.109619Z",
     "shell.execute_reply.started": "2023-06-26T13:17:03.104331Z"
    }
   },
   "outputs": [
    {
     "name": "stdout",
     "output_type": "stream",
     "text": [
      "Num of parameters in cnn model 9729921\n",
      "Num of parameters in rnn model 9867265\n"
     ]
    }
   ],
   "source": [
    "print(f\"Num of parameters in cnn model {sum([p.numel() for p in cnn_model.parameters()])}\")\n",
    "print(f\"Num of parameters in rnn model {sum([p.numel() for p in rnn.parameters()])}\")"
   ]
  },
  {
   "cell_type": "code",
   "execution_count": 116,
   "metadata": {
    "execution": {
     "iopub.execute_input": "2023-06-26T11:44:20.452121Z",
     "iopub.status.busy": "2023-06-26T11:44:20.451749Z",
     "iopub.status.idle": "2023-06-26T12:16:03.603142Z",
     "shell.execute_reply": "2023-06-26T12:16:03.602161Z",
     "shell.execute_reply.started": "2023-06-26T11:44:20.452093Z"
    }
   },
   "outputs": [
    {
     "name": "stdout",
     "output_type": "stream",
     "text": [
      "---------------------------------------------\n",
      "epoch: 1/10\n",
      "Time for epoch: -4.0 m, 50.86 s\n",
      "Training loss: 0.609, r2_score: -1.518 \n",
      "Validation loss: 0.096, r2_score: 0.611 \n",
      "\n",
      "---------------------------------------------\n",
      "epoch: 2/10\n",
      "Time for epoch: -4.0 m, 51.20 s\n",
      "Training loss: 0.085, r2_score: 0.648 \n",
      "Validation loss: 0.079, r2_score: 0.669 \n",
      "\n",
      "---------------------------------------------\n",
      "epoch: 3/10\n",
      "Time for epoch: -4.0 m, 50.99 s\n",
      "Training loss: 0.074, r2_score: 0.696 \n",
      "Validation loss: 0.072, r2_score: 0.700 \n",
      "\n",
      "---------------------------------------------\n",
      "epoch: 4/10\n",
      "Time for epoch: -4.0 m, 49.93 s\n",
      "Training loss: 0.065, r2_score: 0.733 \n",
      "Validation loss: 0.070, r2_score: 0.710 \n",
      "\n",
      "---------------------------------------------\n",
      "epoch: 5/10\n",
      "Time for epoch: -4.0 m, 47.77 s\n",
      "Training loss: 0.058, r2_score: 0.761 \n",
      "Validation loss: 0.070, r2_score: 0.709 \n",
      "\n",
      "---------------------------------------------\n",
      "epoch: 6/10\n",
      "Time for epoch: -4.0 m, 47.86 s\n",
      "Training loss: 0.053, r2_score: 0.783 \n",
      "Validation loss: 0.060, r2_score: 0.748 \n",
      "\n",
      "---------------------------------------------\n",
      "epoch: 7/10\n",
      "Time for epoch: -4.0 m, 49.86 s\n",
      "Training loss: 0.048, r2_score: 0.803 \n",
      "Validation loss: 0.077, r2_score: 0.681 \n",
      "\n",
      "---------------------------------------------\n",
      "epoch: 8/10\n",
      "Time for epoch: -4.0 m, 50.40 s\n",
      "Training loss: 0.045, r2_score: 0.812 \n",
      "Validation loss: 0.059, r2_score: 0.755 \n",
      "\n",
      "---------------------------------------------\n",
      "epoch: 9/10\n",
      "Time for epoch: -4.0 m, 49.90 s\n",
      "Training loss: 0.040, r2_score: 0.836 \n",
      "Validation loss: 0.081, r2_score: 0.664 \n",
      "\n",
      "---------------------------------------------\n",
      "epoch: 10/10\n",
      "Time for epoch: -4.0 m, 49.95 s\n",
      "Training loss: 0.036, r2_score: 0.853 \n",
      "Validation loss: 0.057, r2_score: 0.761 \n",
      "\n",
      "************************************************************\n",
      "Trainig time: -32.0 m, 17.005698 s\n"
     ]
    }
   ],
   "source": [
    "rnn = rnn_model().to(device)\n",
    "criterion = nn.MSELoss()\n",
    "optimizer = torch.optim.Adam(rnn.parameters())\n",
    "exp_lr_scheduler = lr_scheduler.StepLR(optimizer, step_size=2, gamma=0.1)\n",
    "train_model(rnn, data_train, data_val, criterion, optimizer,exp_lr_scheduler, batch_size = 256, num_epochs = 10)"
   ]
  },
  {
   "cell_type": "code",
   "execution_count": 123,
   "metadata": {
    "execution": {
     "iopub.execute_input": "2023-06-26T12:20:08.386234Z",
     "iopub.status.busy": "2023-06-26T12:20:08.385862Z",
     "iopub.status.idle": "2023-06-26T12:20:08.479161Z",
     "shell.execute_reply": "2023-06-26T12:20:08.477864Z",
     "shell.execute_reply.started": "2023-06-26T12:20:08.386206Z"
    }
   },
   "outputs": [],
   "source": [
    "torch.save(rnn.state_dict(), \"rnn.pt\")"
   ]
  },
  {
   "cell_type": "code",
   "execution_count": 124,
   "metadata": {
    "execution": {
     "iopub.execute_input": "2023-06-26T12:20:16.590365Z",
     "iopub.status.busy": "2023-06-26T12:20:16.589902Z",
     "iopub.status.idle": "2023-06-26T12:22:15.278787Z",
     "shell.execute_reply": "2023-06-26T12:22:15.277623Z",
     "shell.execute_reply.started": "2023-06-26T12:20:16.590329Z"
    }
   },
   "outputs": [
    {
     "name": "stdout",
     "output_type": "stream",
     "text": [
      "Train:\n",
      "MSE: 0.03063\n",
      "MAE: 0.12735\n",
      "R2_score: 0.87345\n",
      "Val:\n",
      "MSE: 0.05749\n",
      "MAE: 0.17373\n",
      "R2_score: 0.76086\n"
     ]
    }
   ],
   "source": [
    "y_true_train, y_pred_train = evaluate_model(rnn, data_train, name=\"Train\")\n",
    "y_true_val, y_pred_val = evaluate_model(rnn, data_val, name=\"Val\")"
   ]
  },
  {
   "cell_type": "markdown",
   "metadata": {
    "id": "jPn2Q0wXpHfe"
   },
   "source": [
    "### Bonus area 3: fixing the data leaks\n",
    "Fix the data leak we ignored in the beginning of the __Deep Learning part__. Compare results with and without data leaks using same architectures and training time.\n"
   ]
  },
  {
   "cell_type": "code",
   "execution_count": 82,
   "metadata": {
    "execution": {
     "iopub.execute_input": "2023-06-26T13:17:21.218002Z",
     "iopub.status.busy": "2023-06-26T13:17:21.217610Z",
     "iopub.status.idle": "2023-06-26T13:17:32.059412Z",
     "shell.execute_reply": "2023-06-26T13:17:32.058384Z",
     "shell.execute_reply.started": "2023-06-26T13:17:21.217970Z"
    },
    "id": "DVgBWPpjpHfe"
   },
   "outputs": [
    {
     "name": "stdout",
     "output_type": "stream",
     "text": [
      "Train size =  195814\n",
      "Validation size =  48954\n"
     ]
    }
   ],
   "source": [
    "# YOUR CODE HERE\n",
    "data_train, data_val = train_test_split(data, test_size=0.2, random_state=42)\n",
    "data_train.index = range(len(data_train))\n",
    "data_val.index = range(len(data_val))\n",
    "\n",
    "print(\"Train size = \", len(data_train))\n",
    "print(\"Validation size = \", len(data_val))\n",
    "\n",
    "\n",
    "token_counts_ = Counter()\n",
    "\n",
    "for row in data_train[text_columns].values.flatten():\n",
    "    token_counts_.update(row.split())"
   ]
  },
  {
   "cell_type": "code",
   "execution_count": 84,
   "metadata": {
    "execution": {
     "iopub.execute_input": "2023-06-26T13:17:32.163200Z",
     "iopub.status.busy": "2023-06-26T13:17:32.162860Z",
     "iopub.status.idle": "2023-06-26T13:17:32.258415Z",
     "shell.execute_reply": "2023-06-26T13:17:32.257420Z",
     "shell.execute_reply.started": "2023-06-26T13:17:32.163167Z"
    }
   },
   "outputs": [
    {
     "name": "stdout",
     "output_type": "stream",
     "text": [
      "Total unique tokens : 179241\n",
      "('and', 2123096)\n",
      "('.', 2018563)\n",
      "(',', 1853938)\n",
      "('the', 1663289)\n",
      "('to', 1613615)\n",
      "...\n",
      "('pate', 1)\n",
      "('nurseportadown', 1)\n",
      "('salesexecutivesx2northwestlondonesp', 1)\n"
     ]
    }
   ],
   "source": [
    "print(\"Total unique tokens :\", len(token_counts_))\n",
    "print(\"\\n\".join(map(str, token_counts_.most_common(n=5))))\n",
    "print(\"...\")\n",
    "print(\"\\n\".join(map(str, token_counts_.most_common()[-3:])))"
   ]
  },
  {
   "cell_type": "code",
   "execution_count": 85,
   "metadata": {
    "execution": {
     "iopub.execute_input": "2023-06-26T13:17:35.934294Z",
     "iopub.status.busy": "2023-06-26T13:17:35.933562Z",
     "iopub.status.idle": "2023-06-26T13:17:37.394745Z",
     "shell.execute_reply": "2023-06-26T13:17:37.393825Z",
     "shell.execute_reply.started": "2023-06-26T13:17:35.934256Z"
    }
   },
   "outputs": [
    {
     "data": {
      "image/png": "[encoded data removed]",
      "text/plain": [
       "<Figure size 1200x500 with 1 Axes>"
      ]
     },
     "metadata": {},
     "output_type": "display_data"
    }
   ],
   "source": [
    "plt.figure(figsize=(12, 5))\n",
    "plt.hist(list(token_counts.values()), range=[0, 10 ** 4], bins=50, log=True)\n",
    "plt.xlabel(\"Word counts\")\n",
    "plt.show()"
   ]
  },
  {
   "cell_type": "code",
   "execution_count": 87,
   "metadata": {
    "execution": {
     "iopub.execute_input": "2023-06-26T13:17:42.472108Z",
     "iopub.status.busy": "2023-06-26T13:17:42.471307Z",
     "iopub.status.idle": "2023-06-26T13:17:42.502417Z",
     "shell.execute_reply": "2023-06-26T13:17:42.501174Z",
     "shell.execute_reply.started": "2023-06-26T13:17:42.472075Z"
    }
   },
   "outputs": [
    {
     "name": "stdout",
     "output_type": "stream",
     "text": [
      "Total unique tokens : 202704\n",
      "Considered unique tokens : 32454\n"
     ]
    }
   ],
   "source": [
    "min_count = 10\n",
    "\n",
    "# YOUR CODE HERE\n",
    "# We shall only consider tokens that had at least min_count occurences.\n",
    "# Create a list of such tokens.\n",
    "tokens = [token for token, count in token_counts.items() if count > min_count]\n",
    "print(\"Total unique tokens :\", len(token_counts))\n",
    "print(\"Considered unique tokens :\", len(tokens))"
   ]
  },
  {
   "cell_type": "code",
   "execution_count": 88,
   "metadata": {
    "execution": {
     "iopub.execute_input": "2023-06-26T13:17:49.105721Z",
     "iopub.status.busy": "2023-06-26T13:17:49.104740Z",
     "iopub.status.idle": "2023-06-26T13:17:49.141756Z",
     "shell.execute_reply": "2023-06-26T13:17:49.140695Z",
     "shell.execute_reply.started": "2023-06-26T13:17:49.105684Z"
    }
   },
   "outputs": [
    {
     "name": "stdout",
     "output_type": "stream",
     "text": [
      "Vocabulary size: 32456\n"
     ]
    }
   ],
   "source": [
    "# Add a special tokens for unknown and empty words\n",
    "UNK, PAD = \"UNK\", \"PAD\"\n",
    "tokens = [UNK, PAD] + sorted(tokens)\n",
    "print(\"Vocabulary size:\", len(tokens))\n",
    "\n",
    "# YOUR CODE HERE\n",
    "token_to_idx = {token: idx for idx, token in enumerate(tokens)}\n",
    "\n",
    "UNK_IDX = token_to_idx[UNK]\n",
    "PAD_IDX = token_to_idx[PAD]\n",
    "\n",
    "def as_matrix(sequences, max_len=None):\n",
    "    \"\"\"Convert a list of tokens into a matrix with padding\"\"\"\n",
    "    if isinstance(sequences[0], str):\n",
    "        sequences = [seq.split(\" \") for seq in sequences]\n",
    "\n",
    "    sequences_max_len = max(len(seq) for seq in sequences)\n",
    "    if max_len is None:\n",
    "        max_len = sequences_max_len\n",
    "    else:\n",
    "        max_len = min(sequences_max_len, max_len)\n",
    "\n",
    "    matrix = np.full((len(sequences), max_len), PAD_IDX)\n",
    "    for i, seq in enumerate(sequences):\n",
    "        for j, token in enumerate(seq):\n",
    "            if j >= max_len:\n",
    "                break\n",
    "\n",
    "            matrix[i, j] = token_to_idx.get(token, UNK_IDX)\n",
    "\n",
    "    return matrix"
   ]
  },
  {
   "cell_type": "code",
   "execution_count": 89,
   "metadata": {
    "execution": {
     "iopub.execute_input": "2023-06-26T13:17:56.142113Z",
     "iopub.status.busy": "2023-06-26T13:17:56.141538Z",
     "iopub.status.idle": "2023-06-26T13:18:03.015866Z",
     "shell.execute_reply": "2023-06-26T13:18:03.014814Z",
     "shell.execute_reply.started": "2023-06-26T13:17:56.142079Z"
    }
   },
   "outputs": [],
   "source": [
    "from sklearn.feature_extraction import DictVectorizer\n",
    "\n",
    "\n",
    "# We only consider top-1k most frequent companies to minimize memory usage\n",
    "company_counts = Counter(data_train[\"Company\"])\n",
    "top_companies = set(name for name, count in company_counts.most_common(1000))\n",
    "data[\"Company\"] = data_train[\"Company\"].apply(\n",
    "    lambda company: company if company in top_companies else \"Other\"\n",
    ")\n",
    "\n",
    "categorical_vectorizer = DictVectorizer(dtype=np.float32, sparse=False)\n",
    "categorical_vectorizer.fit(data_train[categorical_columns].apply(dict, axis=1));"
   ]
  },
  {
   "cell_type": "code",
   "execution_count": 90,
   "metadata": {
    "execution": {
     "iopub.execute_input": "2023-06-26T13:18:03.018272Z",
     "iopub.status.busy": "2023-06-26T13:18:03.017923Z",
     "iopub.status.idle": "2023-06-26T13:18:03.030560Z",
     "shell.execute_reply": "2023-06-26T13:18:03.028824Z",
     "shell.execute_reply.started": "2023-06-26T13:18:03.018238Z"
    }
   },
   "outputs": [],
   "source": [
    "def make_batch(data, max_len=None, word_dropout=0):\n",
    "    \"\"\"\n",
    "    Creates a neural-network-friendly dict from the batch data.\n",
    "    :param word_dropout: replaces token index with UNK_IDX with this probability\n",
    "    :returns: a dict with {'title' : int64[batch, title_max_len], \n",
    "                           \"FullDescription\": int64[batch, title_max_len],\n",
    "                           \"Categorical\"\n",
    "    \"\"\"\n",
    "    batch = {}\n",
    "    batch[\"Title\"] = as_matrix(data[\"Title\"].values, max_len)\n",
    "    batch[\"FullDescription\"] = as_matrix(data[\"FullDescription\"].values, max_len)\n",
    "    batch[\"Categorical\"] = categorical_vectorizer.transform(\n",
    "        data[categorical_columns].apply(dict, axis=1)\n",
    "    )\n",
    "\n",
    "    if word_dropout != 0:\n",
    "        batch[\"FullDescription\"] = apply_word_dropout(batch[\"FullDescription\"], 1.0 - word_dropout)\n",
    "\n",
    "    if target_column in data.columns:\n",
    "        batch[target_column] = data[target_column].values\n",
    "\n",
    "    return batch\n",
    "\n",
    "\n",
    "def apply_word_dropout(matrix, keep_prob, replace_with=UNK_IDX):\n",
    "    dropout_mask = np.random.choice(2, np.shape(matrix), p=[keep_prob, 1 - keep_prob])\n",
    "    dropout_mask &= matrix != PAD_IDX\n",
    "    return np.choose(dropout_mask, [matrix, np.full_like(matrix, replace_with)])\n",
    "\n",
    "\n",
    "def iterate_minibatches(data, batch_size=256, shuffle=True, cycle=False, **kwargs):\n",
    "    \"\"\"iterates minibatches of data in random order\"\"\"\n",
    "    while True:\n",
    "        indices = np.arange(len(data))\n",
    "        if shuffle:\n",
    "            indices = np.random.permutation(indices)\n",
    "\n",
    "        for start in range(0, len(indices), batch_size):\n",
    "            batch = make_batch(data.iloc[indices[start : start + batch_size]], **kwargs)\n",
    "            target = batch.pop(target_column)\n",
    "            yield batch, target\n",
    "\n",
    "        if not cycle:\n",
    "            break"
   ]
  },
  {
   "cell_type": "code",
   "execution_count": 95,
   "metadata": {
    "execution": {
     "iopub.execute_input": "2023-06-26T13:20:25.151952Z",
     "iopub.status.busy": "2023-06-26T13:20:25.151269Z",
     "iopub.status.idle": "2023-06-26T13:20:25.157701Z",
     "shell.execute_reply": "2023-06-26T13:20:25.156812Z",
     "shell.execute_reply.started": "2023-06-26T13:20:25.151916Z"
    }
   },
   "outputs": [
    {
     "data": {
      "text/plain": [
       "3579"
      ]
     },
     "execution_count": 95,
     "metadata": {},
     "output_type": "execute_result"
    }
   ],
   "source": [
    "n_cat_features=len(categorical_vectorizer.vocabulary_)\n",
    "n_cat_features"
   ]
  },
  {
   "cell_type": "code",
   "execution_count": 96,
   "metadata": {
    "execution": {
     "iopub.execute_input": "2023-06-26T13:21:13.844337Z",
     "iopub.status.busy": "2023-06-26T13:21:13.843963Z",
     "iopub.status.idle": "2023-06-26T13:49:13.650034Z",
     "shell.execute_reply": "2023-06-26T13:49:13.648903Z",
     "shell.execute_reply.started": "2023-06-26T13:21:13.844308Z"
    }
   },
   "outputs": [
    {
     "name": "stdout",
     "output_type": "stream",
     "text": [
      "---------------------------------------------\n",
      "epoch: 1/15\n",
      "Time for epoch: -2.0 m, 7.75 s\n",
      "Training loss: 0.536, r2_score: -1.217 \n",
      "Validation loss: 0.196, r2_score: 0.187 \n",
      "\n",
      "---------------------------------------------\n",
      "epoch: 2/15\n",
      "Time for epoch: -2.0 m, 7.64 s\n",
      "Training loss: 0.154, r2_score: 0.364 \n",
      "Validation loss: 0.120, r2_score: 0.500 \n",
      "\n",
      "---------------------------------------------\n",
      "epoch: 3/15\n",
      "Time for epoch: -2.0 m, 8.05 s\n",
      "Training loss: 0.115, r2_score: 0.526 \n",
      "Validation loss: 0.132, r2_score: 0.453 \n",
      "\n",
      "---------------------------------------------\n",
      "epoch: 4/15\n",
      "Time for epoch: -2.0 m, 5.71 s\n",
      "Training loss: 0.091, r2_score: 0.626 \n",
      "Validation loss: 0.140, r2_score: 0.417 \n",
      "\n",
      "---------------------------------------------\n",
      "epoch: 5/15\n",
      "Time for epoch: -2.0 m, 6.81 s\n",
      "Training loss: 0.084, r2_score: 0.651 \n",
      "Validation loss: 0.077, r2_score: 0.679 \n",
      "\n",
      "---------------------------------------------\n",
      "epoch: 6/15\n",
      "Time for epoch: -2.0 m, 7.98 s\n",
      "Training loss: 0.086, r2_score: 0.646 \n",
      "Validation loss: 0.098, r2_score: 0.592 \n",
      "\n",
      "---------------------------------------------\n",
      "epoch: 7/15\n",
      "Time for epoch: -2.0 m, 9.11 s\n",
      "Training loss: 0.078, r2_score: 0.680 \n",
      "Validation loss: 0.074, r2_score: 0.690 \n",
      "\n",
      "---------------------------------------------\n",
      "epoch: 8/15\n",
      "Time for epoch: -2.0 m, 9.29 s\n",
      "Training loss: 0.073, r2_score: 0.697 \n",
      "Validation loss: 0.097, r2_score: 0.596 \n",
      "\n",
      "---------------------------------------------\n",
      "epoch: 9/15\n",
      "Time for epoch: -2.0 m, 8.24 s\n",
      "Training loss: 0.067, r2_score: 0.725 \n",
      "Validation loss: 0.081, r2_score: 0.663 \n",
      "\n",
      "---------------------------------------------\n",
      "epoch: 10/15\n",
      "Time for epoch: -2.0 m, 7.47 s\n",
      "Training loss: 0.065, r2_score: 0.731 \n",
      "Validation loss: 0.209, r2_score: 0.133 \n",
      "\n",
      "---------------------------------------------\n",
      "epoch: 11/15\n",
      "Time for epoch: -2.0 m, 8.85 s\n",
      "Training loss: 0.064, r2_score: 0.736 \n",
      "Validation loss: 0.077, r2_score: 0.680 \n",
      "\n",
      "---------------------------------------------\n",
      "epoch: 12/15\n",
      "Time for epoch: -2.0 m, 8.98 s\n",
      "Training loss: 0.053, r2_score: 0.779 \n",
      "Validation loss: 0.071, r2_score: 0.703 \n",
      "\n",
      "---------------------------------------------\n",
      "epoch: 13/15\n",
      "Time for epoch: -2.0 m, 9.49 s\n",
      "Training loss: 0.057, r2_score: 0.766 \n",
      "Validation loss: 0.070, r2_score: 0.709 \n",
      "\n",
      "---------------------------------------------\n",
      "epoch: 14/15\n",
      "Time for epoch: -2.0 m, 8.22 s\n",
      "Training loss: 0.052, r2_score: 0.786 \n",
      "Validation loss: 0.069, r2_score: 0.711 \n",
      "\n",
      "---------------------------------------------\n",
      "epoch: 15/15\n",
      "Time for epoch: -2.0 m, 9.06 s\n",
      "Training loss: 0.048, r2_score: 0.803 \n",
      "Validation loss: 0.070, r2_score: 0.708 \n",
      "\n",
      "************************************************************\n",
      "Trainig time: -28.0 m, 0.295689 s\n"
     ]
    }
   ],
   "source": [
    "model = ThreeInputsNet(n_tokens=len(tokens), n_cat_features=n_cat_features).to(device)\n",
    "criterion = nn.MSELoss()\n",
    "optimizer = torch.optim.Adam(model.parameters())\n",
    "exp_lr_scheduler = lr_scheduler.StepLR(optimizer, step_size=2, gamma=0.1)\n",
    "\n",
    "\n",
    "train_model(model, data_train, data_val, criterion, optimizer, exp_lr_scheduler, \n",
    "            batch_size = 256, num_epochs = 15)"
   ]
  },
  {
   "cell_type": "code",
   "execution_count": 97,
   "metadata": {
    "execution": {
     "iopub.execute_input": "2023-06-26T13:53:39.972545Z",
     "iopub.status.busy": "2023-06-26T13:53:39.971041Z",
     "iopub.status.idle": "2023-06-26T13:55:00.224203Z",
     "shell.execute_reply": "2023-06-26T13:55:00.222304Z",
     "shell.execute_reply.started": "2023-06-26T13:53:39.972410Z"
    }
   },
   "outputs": [
    {
     "name": "stdout",
     "output_type": "stream",
     "text": [
      "Train:\n",
      "MSE: 0.03913\n",
      "MAE: 0.14709\n",
      "R2_score: 0.83826\n",
      "Val:\n",
      "MSE: 0.07014\n",
      "MAE: 0.19610\n",
      "R2_score: 0.70832\n"
     ]
    }
   ],
   "source": [
    "y_true_train, y_pred_train = evaluate_model(model, data_train, name=\"Train\")\n",
    "y_true_val, y_pred_val = evaluate_model(model, data_val, name=\"Val\")"
   ]
  },
  {
   "cell_type": "code",
   "execution_count": 98,
   "metadata": {
    "execution": {
     "iopub.execute_input": "2023-06-26T13:56:46.119708Z",
     "iopub.status.busy": "2023-06-26T13:56:46.119275Z",
     "iopub.status.idle": "2023-06-26T13:56:46.593196Z",
     "shell.execute_reply": "2023-06-26T13:56:46.591955Z",
     "shell.execute_reply.started": "2023-06-26T13:56:46.119676Z"
    }
   },
   "outputs": [
    {
     "data": {
      "text/plain": [
       "15983"
      ]
     },
     "execution_count": 98,
     "metadata": {},
     "output_type": "execute_result"
    }
   ],
   "source": [
    "import gc\n",
    "torch.cuda.empty_cache()\n",
    "gc.collect()"
   ]
  },
  {
   "cell_type": "code",
   "execution_count": 99,
   "metadata": {
    "execution": {
     "iopub.execute_input": "2023-06-26T13:56:49.417525Z",
     "iopub.status.busy": "2023-06-26T13:56:49.417162Z",
     "iopub.status.idle": "2023-06-26T14:28:33.037658Z",
     "shell.execute_reply": "2023-06-26T14:28:33.036633Z",
     "shell.execute_reply.started": "2023-06-26T13:56:49.417494Z"
    }
   },
   "outputs": [
    {
     "name": "stdout",
     "output_type": "stream",
     "text": [
      "---------------------------------------------\n",
      "epoch: 1/10\n",
      "Time for epoch: -4.0 m, 48.91 s\n",
      "Training loss: 0.656, r2_score: -1.710 \n",
      "Validation loss: 0.094, r2_score: 0.610 \n",
      "\n",
      "---------------------------------------------\n",
      "epoch: 2/10\n",
      "Time for epoch: -4.0 m, 49.51 s\n",
      "Training loss: 0.085, r2_score: 0.647 \n",
      "Validation loss: 0.078, r2_score: 0.677 \n",
      "\n",
      "---------------------------------------------\n",
      "epoch: 3/10\n",
      "Time for epoch: -4.0 m, 49.61 s\n",
      "Training loss: 0.073, r2_score: 0.699 \n",
      "Validation loss: 0.070, r2_score: 0.710 \n",
      "\n",
      "---------------------------------------------\n",
      "epoch: 4/10\n",
      "Time for epoch: -4.0 m, 49.10 s\n",
      "Training loss: 0.063, r2_score: 0.738 \n",
      "Validation loss: 0.066, r2_score: 0.726 \n",
      "\n",
      "---------------------------------------------\n",
      "epoch: 5/10\n",
      "Time for epoch: -4.0 m, 50.07 s\n",
      "Training loss: 0.056, r2_score: 0.769 \n",
      "Validation loss: 0.064, r2_score: 0.735 \n",
      "\n",
      "---------------------------------------------\n",
      "epoch: 6/10\n",
      "Time for epoch: -4.0 m, 49.57 s\n",
      "Training loss: 0.050, r2_score: 0.793 \n",
      "Validation loss: 0.058, r2_score: 0.759 \n",
      "\n",
      "---------------------------------------------\n",
      "epoch: 7/10\n",
      "Time for epoch: -4.0 m, 49.94 s\n",
      "Training loss: 0.045, r2_score: 0.814 \n",
      "Validation loss: 0.063, r2_score: 0.737 \n",
      "\n",
      "---------------------------------------------\n",
      "epoch: 8/10\n",
      "Time for epoch: -4.0 m, 49.24 s\n",
      "Training loss: 0.041, r2_score: 0.833 \n",
      "Validation loss: 0.056, r2_score: 0.768 \n",
      "\n",
      "---------------------------------------------\n",
      "epoch: 9/10\n",
      "Time for epoch: -4.0 m, 50.42 s\n",
      "Training loss: 0.036, r2_score: 0.849 \n",
      "Validation loss: 0.055, r2_score: 0.769 \n",
      "\n",
      "---------------------------------------------\n",
      "epoch: 10/10\n",
      "Time for epoch: -4.0 m, 51.64 s\n",
      "Training loss: 0.033, r2_score: 0.865 \n",
      "Validation loss: 0.055, r2_score: 0.769 \n",
      "\n",
      "************************************************************\n",
      "Trainig time: -32.0 m, 16.535907 s\n"
     ]
    }
   ],
   "source": [
    "rnn = rnn_model().to(device)\n",
    "criterion = nn.MSELoss()\n",
    "optimizer = torch.optim.Adam(rnn.parameters())\n",
    "exp_lr_scheduler = lr_scheduler.StepLR(optimizer, step_size=2, gamma=0.1)\n",
    "train_model(rnn, data_train, data_val, criterion, optimizer,exp_lr_scheduler, batch_size = 256, num_epochs = 10)"
   ]
  },
  {
   "cell_type": "code",
   "execution_count": 100,
   "metadata": {
    "execution": {
     "iopub.execute_input": "2023-06-26T14:29:31.463805Z",
     "iopub.status.busy": "2023-06-26T14:29:31.462777Z",
     "iopub.status.idle": "2023-06-26T14:31:28.238869Z",
     "shell.execute_reply": "2023-06-26T14:31:28.237891Z",
     "shell.execute_reply.started": "2023-06-26T14:29:31.463765Z"
    }
   },
   "outputs": [
    {
     "name": "stdout",
     "output_type": "stream",
     "text": [
      "Train:\n",
      "MSE: 0.02646\n",
      "MAE: 0.11733\n",
      "R2_score: 0.89064\n",
      "Val:\n",
      "MSE: 0.05551\n",
      "MAE: 0.16891\n",
      "R2_score: 0.76916\n"
     ]
    }
   ],
   "source": [
    "y_true_train, y_pred_train = evaluate_model(rnn, data_train, name=\"Train\")\n",
    "y_true_val, y_pred_val = evaluate_model(rnn, data_val, name=\"Val\")"
   ]
  },
  {
   "cell_type": "markdown",
   "metadata": {
    "id": "V-iOq02ZpHfe"
   },
   "source": [
    "__Terrible start-up idea #1962:__ make a tool that automaticaly rephrases your job description (or CV) to meet salary expectations :)"
   ]
  }
 ],
 "metadata": {
  "colab": {
   "collapsed_sections": [],
   "name": "binpord_practice_cnn_for_texts_clean.ipynb",
   "provenance": []
  },
  "gpuClass": "standard",
  "kernelspec": {
   "display_name": "Python 3",
   "language": "python",
   "name": "python3"
  },
  "language_info": {
   "codemirror_mode": {
    "name": "ipython",
    "version": 3
   },
   "file_extension": ".py",
   "mimetype": "text/x-python",
   "name": "python",
   "nbconvert_exporter": "python",
   "pygments_lexer": "ipython3",
   "version": "3.8.5"
  }
 },
 "nbformat": 4,
 "nbformat_minor": 4
}
