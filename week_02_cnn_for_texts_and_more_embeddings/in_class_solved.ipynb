{
 "cells": [
  {
   "cell_type": "markdown",
   "metadata": {
    "id": "13pL--6rycN3"
   },
   "source": [
    "# Practice: Dealing with texts using CNN\n",
    "_Reference: Based on YSDA [materials](https://github.com/yandexdataschool/nlp_course/blob/master/week02_classification/seminar.ipynb). Special thanks to [Oleg Vasilev](https://github.com/Omrigan/) for the core assignment idea._\n",
    "\n",
    "Today we're gonna apply the newly learned tools for the task of predicting job salary.\n",
    "\n",
    "<img src=\"https://storage.googleapis.com/kaggle-competitions/kaggle/3342/media/salary%20prediction%20engine%20v2.png\" width=400px>"
   ]
  },
  {
   "cell_type": "markdown",
   "metadata": {
    "id": "34x92vWQycN_"
   },
   "source": [
    "## About the challenge\n",
    "For starters, let's download and unpack the data.\n",
    "\n",
    "You can also get it from [Yandex.Disk](https://yadi.sk/d/vVEOWPFY3NruT7) or [the competition page](https://www.kaggle.com/c/job-salary-prediction/data) (pick `Train_rev1.*`)."
   ]
  },
  {
   "cell_type": "code",
   "execution_count": 1,
   "metadata": {
    "colab": {
     "base_uri": "https://localhost:8080/"
    },
    "execution": {
     "iopub.execute_input": "2022-11-09T17:23:58.447066Z",
     "iopub.status.busy": "2022-11-09T17:23:58.446143Z",
     "iopub.status.idle": "2022-11-09T17:24:09.094916Z",
     "shell.execute_reply": "2022-11-09T17:24:09.093329Z",
     "shell.execute_reply.started": "2022-11-09T17:23:58.446957Z"
    },
    "id": "vwN72gd4ycOA",
    "outputId": "a486d643-050a-4b42-caf1-84364d415e7b"
   },
   "outputs": [
    {
     "name": "stdout",
     "output_type": "stream",
     "text": [
      "  % Total    % Received % Xferd  Average Speed   Time    Time     Time  Current\n",
      "                                 Dload  Upload   Total   Spent    Left  Speed\n",
      "100   128    0   128    0     0    241      0 --:--:-- --:--:-- --:--:--   241\n",
      "100   342  100   342    0     0    400      0 --:--:-- --:--:-- --:--:--   400\n",
      "100  119M  100  119M    0     0  30.4M      0  0:00:03  0:00:03 --:--:-- 65.4M\n"
     ]
    }
   ],
   "source": [
    "!curl -L \"https://www.dropbox.com/s/5msc5ix7ndyba10/Train_rev1.csv.tar.gz?dl=1\" -o Train_rev1.csv.tar.gz\n",
    "!tar xzf Train_rev1.csv.tar.gz"
   ]
  },
  {
   "cell_type": "code",
   "execution_count": 1,
   "metadata": {
    "execution": {
     "iopub.execute_input": "2022-11-09T19:31:00.936552Z",
     "iopub.status.busy": "2022-11-09T19:31:00.935518Z",
     "iopub.status.idle": "2022-11-09T19:31:00.942870Z",
     "shell.execute_reply": "2022-11-09T19:31:00.941682Z",
     "shell.execute_reply.started": "2022-11-09T19:31:00.936493Z"
    }
   },
   "outputs": [],
   "source": [
    "import time\n",
    "import matplotlib.pyplot as plt\n",
    "plt.style.use(\"dark_background\")\n",
    "import numpy as np\n",
    "\n",
    "import pandas as pd\n",
    "from sklearn.metrics import r2_score\n",
    "\n",
    "import torch\n",
    "import torch.nn as nn\n",
    "import torch.nn.functional as F\n",
    "from torch.optim import lr_scheduler"
   ]
  },
  {
   "cell_type": "code",
   "execution_count": 2,
   "metadata": {
    "colab": {
     "base_uri": "https://localhost:8080/"
    },
    "execution": {
     "iopub.execute_input": "2022-11-09T17:24:20.494243Z",
     "iopub.status.busy": "2022-11-09T17:24:20.493465Z",
     "iopub.status.idle": "2022-11-09T17:24:25.113215Z",
     "shell.execute_reply": "2022-11-09T17:24:25.111991Z",
     "shell.execute_reply.started": "2022-11-09T17:24:20.494200Z"
    },
    "id": "xIjzhbXEpHfT",
    "outputId": "b280d915-0b32-47f6-848c-bef616cd6c91"
   },
   "outputs": [
    {
     "data": {
      "text/plain": [
       "(244768, 12)"
      ]
     },
     "execution_count": 2,
     "metadata": {},
     "output_type": "execute_result"
    }
   ],
   "source": [
    "data = pd.read_csv(\"Train_rev1.csv\", index_col=None)\n",
    "data.shape"
   ]
  },
  {
   "cell_type": "markdown",
   "metadata": {
    "id": "z7kznuJfycOH"
   },
   "source": [
    "One problem with salary prediction is that it's oddly distributed: there are many people who are paid standard salaries and a few that get tons o money. The distribution is fat-tailed on the right side, which is inconvenient for MSE minimization.\n",
    "\n",
    "There are several techniques to combat this: using a different loss function, predicting log-target instead of raw target or even replacing targets with their percentiles among all salaries in the training set. We gonna use logarithm for now."
   ]
  },
  {
   "cell_type": "code",
   "execution_count": 3,
   "metadata": {
    "colab": {
     "base_uri": "https://localhost:8080/",
     "height": 374
    },
    "execution": {
     "iopub.execute_input": "2022-11-09T17:24:30.405246Z",
     "iopub.status.busy": "2022-11-09T17:24:30.404380Z",
     "iopub.status.idle": "2022-11-09T17:24:30.849469Z",
     "shell.execute_reply": "2022-11-09T17:24:30.848451Z",
     "shell.execute_reply.started": "2022-11-09T17:24:30.405203Z"
    },
    "id": "UuuKIKfrycOH",
    "outputId": "dabad82b-71ed-4425-9589-83310ab4f3ee"
   },
   "outputs": [
    {
     "data": {
      "image/png": "[encoded data removed]",
      "text/plain": [
       "<Figure size 1008x432 with 2 Axes>"
      ]
     },
     "metadata": {},
     "output_type": "display_data"
    }
   ],
   "source": [
    "data[\"Log1pSalary\"] = np.log1p(data[\"SalaryNormalized\"]).astype(\"float32\")\n",
    "\n",
    "plt.figure(figsize=[14, 6])\n",
    "plt.subplot(1, 2, 1)\n",
    "plt.hist(data[\"SalaryNormalized\"], bins=20)\n",
    "\n",
    "plt.subplot(1, 2, 2)\n",
    "plt.hist(data[\"Log1pSalary\"], bins=20)\n",
    "\n",
    "plt.show()"
   ]
  },
  {
   "cell_type": "markdown",
   "metadata": {
    "id": "Fcu-qmHRycOK"
   },
   "source": [
    "Our task is to predict one number, __Log1pSalary__.\n",
    "\n",
    "To do so, our model can access a number of features:\n",
    "* Free text: __`Title`__ and  __`FullDescription`__\n",
    "* Categorical: __`Category`__, __`Company`__, __`LocationNormalized`__, __`ContractType`__, and __`ContractTime`__."
   ]
  },
  {
   "cell_type": "code",
   "execution_count": 6,
   "metadata": {
    "colab": {
     "base_uri": "https://localhost:8080/",
     "height": 381
    },
    "execution": {
     "iopub.execute_input": "2022-11-09T17:24:43.034628Z",
     "iopub.status.busy": "2022-11-09T17:24:43.034219Z",
     "iopub.status.idle": "2022-11-09T17:24:43.234821Z",
     "shell.execute_reply": "2022-11-09T17:24:43.233651Z",
     "shell.execute_reply.started": "2022-11-09T17:24:43.034593Z"
    },
    "id": "p9vyA_erycOK",
    "outputId": "25263fdb-fc1f-46b5-e84c-34d41b237c3d"
   },
   "outputs": [
    {
     "data": {
      "text/html": [
       "<div>\n",
       "<style scoped>\n",
       "    .dataframe tbody tr th:only-of-type {\n",
       "        vertical-align: middle;\n",
       "    }\n",
       "\n",
       "    .dataframe tbody tr th {\n",
       "        vertical-align: top;\n",
       "    }\n",
       "\n",
       "    .dataframe thead th {\n",
       "        text-align: right;\n",
       "    }\n",
       "</style>\n",
       "<table border=\"1\" class=\"dataframe\">\n",
       "  <thead>\n",
       "    <tr style=\"text-align: right;\">\n",
       "      <th></th>\n",
       "      <th>Id</th>\n",
       "      <th>Title</th>\n",
       "      <th>FullDescription</th>\n",
       "      <th>LocationRaw</th>\n",
       "      <th>LocationNormalized</th>\n",
       "      <th>ContractType</th>\n",
       "      <th>ContractTime</th>\n",
       "      <th>Company</th>\n",
       "      <th>Category</th>\n",
       "      <th>SalaryRaw</th>\n",
       "      <th>SalaryNormalized</th>\n",
       "      <th>SourceName</th>\n",
       "      <th>Log1pSalary</th>\n",
       "    </tr>\n",
       "  </thead>\n",
       "  <tbody>\n",
       "    <tr>\n",
       "      <th>129270</th>\n",
       "      <td>70143958</td>\n",
       "      <td>Sous Chef</td>\n",
       "      <td>Sous Chef Business: Albany Thames Ditton Locat...</td>\n",
       "      <td>Thames Ditton Surrey South East</td>\n",
       "      <td>Thames Ditton</td>\n",
       "      <td>NaN</td>\n",
       "      <td>NaN</td>\n",
       "      <td>Premium Country Dining Group</td>\n",
       "      <td>Hospitality &amp; Catering Jobs</td>\n",
       "      <td>19,000 - 22,000</td>\n",
       "      <td>20500</td>\n",
       "      <td>caterer.com</td>\n",
       "      <td>9.928229</td>\n",
       "    </tr>\n",
       "    <tr>\n",
       "      <th>242099</th>\n",
       "      <td>72682893</td>\n",
       "      <td>Graduates  Technology Recruitment  City of London</td>\n",
       "      <td>Position: Trainee Recruitment Consultant Locat...</td>\n",
       "      <td>Central London</td>\n",
       "      <td>Central London</td>\n",
       "      <td>full_time</td>\n",
       "      <td>permanent</td>\n",
       "      <td>GRADUATE FASTTRACK</td>\n",
       "      <td>Teaching Jobs</td>\n",
       "      <td>20,000 - 24,000 basic (35k OTE)</td>\n",
       "      <td>22000</td>\n",
       "      <td>jobs.guardian.co.uk</td>\n",
       "      <td>9.998843</td>\n",
       "    </tr>\n",
       "    <tr>\n",
       "      <th>220805</th>\n",
       "      <td>72373603</td>\n",
       "      <td>Senior Test Analyst  Manual/Automated  Manches...</td>\n",
       "      <td>This Globally renowned client is currently see...</td>\n",
       "      <td>Lancashire Manchester M21 0</td>\n",
       "      <td>Manchester Science Park</td>\n",
       "      <td>NaN</td>\n",
       "      <td>permanent</td>\n",
       "      <td>Intelect Analytics</td>\n",
       "      <td>IT Jobs</td>\n",
       "      <td>28000.00 - 36500.00 GBP Annual</td>\n",
       "      <td>32250</td>\n",
       "      <td>jobserve.com</td>\n",
       "      <td>10.381305</td>\n",
       "    </tr>\n",
       "  </tbody>\n",
       "</table>\n",
       "</div>"
      ],
      "text/plain": [
       "              Id                                              Title  \\\n",
       "129270  70143958                                          Sous Chef   \n",
       "242099  72682893  Graduates  Technology Recruitment  City of London   \n",
       "220805  72373603  Senior Test Analyst  Manual/Automated  Manches...   \n",
       "\n",
       "                                          FullDescription  \\\n",
       "129270  Sous Chef Business: Albany Thames Ditton Locat...   \n",
       "242099  Position: Trainee Recruitment Consultant Locat...   \n",
       "220805  This Globally renowned client is currently see...   \n",
       "\n",
       "                            LocationRaw       LocationNormalized ContractType  \\\n",
       "129270  Thames Ditton Surrey South East            Thames Ditton          NaN   \n",
       "242099                   Central London           Central London    full_time   \n",
       "220805      Lancashire Manchester M21 0  Manchester Science Park          NaN   \n",
       "\n",
       "       ContractTime                       Company  \\\n",
       "129270          NaN  Premium Country Dining Group   \n",
       "242099    permanent            GRADUATE FASTTRACK   \n",
       "220805    permanent            Intelect Analytics   \n",
       "\n",
       "                           Category                        SalaryRaw  \\\n",
       "129270  Hospitality & Catering Jobs                  19,000 - 22,000   \n",
       "242099                Teaching Jobs  20,000 - 24,000 basic (35k OTE)   \n",
       "220805                      IT Jobs   28000.00 - 36500.00 GBP Annual   \n",
       "\n",
       "        SalaryNormalized           SourceName  Log1pSalary  \n",
       "129270             20500          caterer.com     9.928229  \n",
       "242099             22000  jobs.guardian.co.uk     9.998843  \n",
       "220805             32250         jobserve.com    10.381305  "
      ]
     },
     "execution_count": 6,
     "metadata": {},
     "output_type": "execute_result"
    }
   ],
   "source": [
    "text_columns = [\"Title\", \"FullDescription\"]\n",
    "categorical_columns = [\"Category\", \"Company\", \"LocationNormalized\", \"ContractType\", \"ContractTime\"]\n",
    "target_column = \"Log1pSalary\"\n",
    "\n",
    "data[categorical_columns] = data[categorical_columns].fillna(\"NaN\")\n",
    "data[text_columns] = data[text_columns].fillna(\"NaN\")\n",
    "\n",
    "data.sample(3)"
   ]
  },
  {
   "cell_type": "markdown",
   "metadata": {
    "id": "IUdclucmycON"
   },
   "source": [
    "## Preprocessing text data\n",
    "\n",
    "Just like last week, applying NLP to a problem begins from tokenization: splitting raw text into sequences of tokens (words, punctuation, etc).\n",
    "\n",
    "__Your task__ is to lowercase and tokenize all texts under `Title` and `FullDescription` columns. Store the tokenized data as a __space-separated__ string of tokens for performance reasons.\n",
    "\n",
    "It's okay to use nltk tokenizers. Assertions were designed for WordPunctTokenizer, slight deviations are okay."
   ]
  },
  {
   "cell_type": "code",
   "execution_count": 4,
   "metadata": {
    "colab": {
     "base_uri": "https://localhost:8080/"
    },
    "execution": {
     "iopub.execute_input": "2022-11-09T17:24:46.087553Z",
     "iopub.status.busy": "2022-11-09T17:24:46.087173Z",
     "iopub.status.idle": "2022-11-09T17:24:46.096272Z",
     "shell.execute_reply": "2022-11-09T17:24:46.095149Z",
     "shell.execute_reply.started": "2022-11-09T17:24:46.087519Z"
    },
    "id": "YzeOxD_aycOO",
    "outputId": "4d8b18c3-dd4f-46a5-e4dc-dc36ed640d22"
   },
   "outputs": [
    {
     "name": "stdout",
     "output_type": "stream",
     "text": [
      "Raw text:\n",
      "2         Mathematical Modeller / Simulation Analyst / O...\n",
      "100002    A successful and high achieving specialist sch...\n",
      "200002    Web Designer  HTML, CSS, JavaScript, Photoshop...\n",
      "Name: FullDescription, dtype: object\n"
     ]
    }
   ],
   "source": [
    "print(\"Raw text:\")\n",
    "print(data[\"FullDescription\"][2::100000])"
   ]
  },
  {
   "cell_type": "code",
   "execution_count": 7,
   "metadata": {
    "execution": {
     "iopub.execute_input": "2022-11-09T17:24:48.007930Z",
     "iopub.status.busy": "2022-11-09T17:24:48.007141Z",
     "iopub.status.idle": "2022-11-09T17:25:12.456640Z",
     "shell.execute_reply": "2022-11-09T17:25:12.455531Z",
     "shell.execute_reply.started": "2022-11-09T17:24:48.007882Z"
    },
    "id": "RUWkpd7PycOQ"
   },
   "outputs": [],
   "source": [
    "from nltk.tokenize import WordPunctTokenizer\n",
    "\n",
    "\n",
    "tokenizer = WordPunctTokenizer()\n",
    "\n",
    "# YOUR CODE HERE\n",
    "# Lowercase and tokenize titles and descriptions (text_columns).\n",
    "# Store items as space-separated strings of tokens.\n",
    "def normalize(text):  # noqa: E302\n",
    "    tokens = tokenizer.tokenize(str(text).lower())\n",
    "    return \" \".join(tokens)\n",
    "\n",
    "\n",
    "data[text_columns] = data[text_columns].applymap(normalize)"
   ]
  },
  {
   "cell_type": "code",
   "execution_count": 8,
   "metadata": {
    "colab": {
     "base_uri": "https://localhost:8080/"
    },
    "execution": {
     "iopub.execute_input": "2022-11-09T17:25:12.461011Z",
     "iopub.status.busy": "2022-11-09T17:25:12.459935Z",
     "iopub.status.idle": "2022-11-09T17:25:12.468804Z",
     "shell.execute_reply": "2022-11-09T17:25:12.467529Z",
     "shell.execute_reply.started": "2022-11-09T17:25:12.460971Z"
    },
    "id": "Gs-6lnS_ycOU",
    "outputId": "1e98b507-529c-4b1f-f197-260366d3fdc3"
   },
   "outputs": [
    {
     "name": "stdout",
     "output_type": "stream",
     "text": [
      "Tokenized:\n",
      "2         mathematical modeller / simulation analyst / o...\n",
      "100002    a successful and high achieving specialist sch...\n",
      "200002    web designer html , css , javascript , photosh...\n",
      "Name: FullDescription, dtype: object\n"
     ]
    }
   ],
   "source": [
    "print(\"Tokenized:\")\n",
    "print(data[\"FullDescription\"][2::100000])\n",
    "assert data[\"FullDescription\"][2][:50] == \"mathematical modeller / simulation analyst / opera\"\n",
    "assert data[\"Title\"][54321] == \"international digital account manager ( german )\""
   ]
  },
  {
   "cell_type": "markdown",
   "metadata": {
    "id": "ouE3L2hyycOX"
   },
   "source": [
    "Not all words are equally useful. Some of them are typos or rare words that are only present a few times. \n",
    "\n",
    "Let's count how many times is each word present in the data so that we can build a \"white list\" of known words."
   ]
  },
  {
   "cell_type": "code",
   "execution_count": 9,
   "metadata": {
    "execution": {
     "iopub.execute_input": "2022-11-09T17:25:25.357982Z",
     "iopub.status.busy": "2022-11-09T17:25:25.357573Z",
     "iopub.status.idle": "2022-11-09T17:25:39.024069Z",
     "shell.execute_reply": "2022-11-09T17:25:39.023014Z",
     "shell.execute_reply.started": "2022-11-09T17:25:25.357944Z"
    },
    "id": "iC7hBwwjycOX"
   },
   "outputs": [],
   "source": [
    "from collections import Counter\n",
    "\n",
    "# YOUR CODE HERE\n",
    "# Count how many times does each token occur in both \"Title\" and \"FullDescription\".\n",
    "# Build a dictionary { token -> count }.\n",
    "# Hint: you may or may not want to use collections.Counter\n",
    "\n",
    "token_counts = Counter()\n",
    "\n",
    "for row in data[text_columns].values.flatten():\n",
    "    token_counts.update(row.split())"
   ]
  },
  {
   "cell_type": "code",
   "execution_count": 10,
   "metadata": {
    "colab": {
     "base_uri": "https://localhost:8080/"
    },
    "execution": {
     "iopub.execute_input": "2022-11-09T17:25:39.025846Z",
     "iopub.status.busy": "2022-11-09T17:25:39.025460Z",
     "iopub.status.idle": "2022-11-09T17:25:39.165139Z",
     "shell.execute_reply": "2022-11-09T17:25:39.163952Z",
     "shell.execute_reply.started": "2022-11-09T17:25:39.025811Z"
    },
    "id": "GiOWbc15ycOb",
    "outputId": "61366544-df1c-439c-9ea6-c4111acc2ce2"
   },
   "outputs": [
    {
     "name": "stdout",
     "output_type": "stream",
     "text": [
      "Total unique tokens : 202704\n",
      "('and', 2657388)\n",
      "('.', 2523216)\n",
      "(',', 2318606)\n",
      "('the', 2080994)\n",
      "('to', 2019884)\n",
      "...\n",
      "('stephanietraveltraderecruitmnt', 1)\n",
      "('ruabon', 1)\n",
      "('lowehays', 1)\n",
      "Correct!\n"
     ]
    }
   ],
   "source": [
    "print(\"Total unique tokens :\", len(token_counts))\n",
    "print(\"\\n\".join(map(str, token_counts.most_common(n=5))))\n",
    "print(\"...\")\n",
    "print(\"\\n\".join(map(str, token_counts.most_common()[-3:])))\n",
    "\n",
    "assert token_counts.most_common(1)[0][1] in range(2600000, 2700000)\n",
    "assert len(token_counts) in range(200000, 210000)\n",
    "print(\"Correct!\")"
   ]
  },
  {
   "cell_type": "markdown",
   "metadata": {
    "id": "W2ih1LV4YhtL"
   },
   "source": [
    "Let's see how many words are there for each count."
   ]
  },
  {
   "cell_type": "code",
   "execution_count": 11,
   "metadata": {
    "colab": {
     "base_uri": "https://localhost:8080/",
     "height": 334
    },
    "execution": {
     "iopub.execute_input": "2022-11-09T17:25:39.167360Z",
     "iopub.status.busy": "2022-11-09T17:25:39.166917Z",
     "iopub.status.idle": "2022-11-09T17:25:40.567176Z",
     "shell.execute_reply": "2022-11-09T17:25:40.565245Z",
     "shell.execute_reply.started": "2022-11-09T17:25:39.167316Z"
    },
    "id": "nd5v3BNfycOf",
    "outputId": "a357d434-4926-47ae-be1f-6d3c96743a8c"
   },
   "outputs": [
    {
     "data": {
      "image/png": "[encoded data removed]",
      "text/plain": [
       "<Figure size 864x360 with 1 Axes>"
      ]
     },
     "metadata": {},
     "output_type": "display_data"
    }
   ],
   "source": [
    "plt.figure(figsize=(12, 5))\n",
    "plt.hist(list(token_counts.values()), range=[0, 10 ** 4], bins=50, log=True)\n",
    "plt.xlabel(\"Word counts\")\n",
    "plt.show()"
   ]
  },
  {
   "cell_type": "markdown",
   "metadata": {
    "id": "znuXxeghycOh"
   },
   "source": [
    "Now we will filter tokens a list of all tokens that occur at least 10 times."
   ]
  },
  {
   "cell_type": "code",
   "execution_count": 12,
   "metadata": {
    "colab": {
     "base_uri": "https://localhost:8080/"
    },
    "id": "qnk_V0EDEKmN",
    "outputId": "a856d505-4459-4115-cf2a-565c094a4bb9"
   },
   "outputs": [
    {
     "data": {
      "text/plain": [
       "[('engineering', 68563), ('systems', 77071), ('analyst', 34427)]"
      ]
     },
     "execution_count": 12,
     "metadata": {},
     "output_type": "execute_result"
    }
   ],
   "source": [
    "list(token_counts.items())[:3]"
   ]
  },
  {
   "cell_type": "code",
   "execution_count": 13,
   "metadata": {
    "execution": {
     "iopub.execute_input": "2022-11-09T17:25:40.569317Z",
     "iopub.status.busy": "2022-11-09T17:25:40.568931Z",
     "iopub.status.idle": "2022-11-09T17:25:40.598235Z",
     "shell.execute_reply": "2022-11-09T17:25:40.597158Z",
     "shell.execute_reply.started": "2022-11-09T17:25:40.569278Z"
    },
    "id": "SeNFBWx5ycOh"
   },
   "outputs": [],
   "source": [
    "min_count = 10\n",
    "\n",
    "# YOUR CODE HERE\n",
    "# We shall only consider tokens that had at least min_count occurences.\n",
    "# Create a list of such tokens.\n",
    "tokens = [token for token, count in token_counts.items() if count > min_count]"
   ]
  },
  {
   "cell_type": "code",
   "execution_count": 14,
   "metadata": {
    "colab": {
     "base_uri": "https://localhost:8080/"
    },
    "execution": {
     "iopub.execute_input": "2022-11-09T17:25:40.600568Z",
     "iopub.status.busy": "2022-11-09T17:25:40.599466Z",
     "iopub.status.idle": "2022-11-09T17:25:40.622725Z",
     "shell.execute_reply": "2022-11-09T17:25:40.621625Z",
     "shell.execute_reply.started": "2022-11-09T17:25:40.600530Z"
    },
    "id": "RATIRyPKycOk",
    "outputId": "9fba7db9-2f8d-4bfc-b63b-24ee15bcdc88"
   },
   "outputs": [
    {
     "name": "stdout",
     "output_type": "stream",
     "text": [
      "Vocabulary size: 32456\n",
      "Correct!\n"
     ]
    }
   ],
   "source": [
    "# Add a special tokens for unknown and empty words\n",
    "UNK, PAD = \"UNK\", \"PAD\"\n",
    "tokens = [UNK, PAD] + sorted(tokens)\n",
    "print(\"Vocabulary size:\", len(tokens))\n",
    "\n",
    "assert type(tokens) == list\n",
    "assert len(tokens) in range(32000, 35000)\n",
    "assert \"me\" in tokens\n",
    "assert UNK in tokens\n",
    "print(\"Correct!\")"
   ]
  },
  {
   "cell_type": "markdown",
   "metadata": {
    "id": "cqEsgbjZycOo"
   },
   "source": [
    "Build an inverse token index: a dictionary from token to it's index in `tokens`."
   ]
  },
  {
   "cell_type": "code",
   "execution_count": 15,
   "metadata": {
    "execution": {
     "iopub.execute_input": "2022-11-09T17:25:40.626783Z",
     "iopub.status.busy": "2022-11-09T17:25:40.625911Z",
     "iopub.status.idle": "2022-11-09T17:25:40.639174Z",
     "shell.execute_reply": "2022-11-09T17:25:40.638180Z",
     "shell.execute_reply.started": "2022-11-09T17:25:40.626634Z"
    },
    "id": "L60lo1l_ycOq"
   },
   "outputs": [],
   "source": [
    "# YOUR CODE HERE\n",
    "token_to_idx = {token: idx for idx, token in enumerate(tokens)}"
   ]
  },
  {
   "cell_type": "code",
   "execution_count": 16,
   "metadata": {
    "colab": {
     "base_uri": "https://localhost:8080/"
    },
    "execution": {
     "iopub.execute_input": "2022-11-09T17:25:40.641878Z",
     "iopub.status.busy": "2022-11-09T17:25:40.641052Z",
     "iopub.status.idle": "2022-11-09T17:25:40.658951Z",
     "shell.execute_reply": "2022-11-09T17:25:40.657992Z",
     "shell.execute_reply.started": "2022-11-09T17:25:40.641839Z"
    },
    "id": "DeAoVo4mycOr",
    "outputId": "5f187508-b8fd-4d29-b906-1dda8dd2d5fe"
   },
   "outputs": [
    {
     "name": "stdout",
     "output_type": "stream",
     "text": [
      "Correct!\n"
     ]
    }
   ],
   "source": [
    "assert isinstance(token_to_idx, dict)\n",
    "assert len(token_to_idx) == len(tokens)\n",
    "for tok in tokens:\n",
    "    assert tokens[token_to_idx[tok]] == tok\n",
    "\n",
    "print(\"Correct!\")"
   ]
  },
  {
   "cell_type": "markdown",
   "metadata": {
    "id": "cmJAkq3gycOv"
   },
   "source": [
    "And finally, let's use the vocabulary you've built to map text lines into neural network-digestible matrices."
   ]
  },
  {
   "cell_type": "code",
   "execution_count": 17,
   "metadata": {
    "execution": {
     "iopub.execute_input": "2022-11-09T17:25:40.661059Z",
     "iopub.status.busy": "2022-11-09T17:25:40.660802Z",
     "iopub.status.idle": "2022-11-09T17:25:40.672568Z",
     "shell.execute_reply": "2022-11-09T17:25:40.671631Z",
     "shell.execute_reply.started": "2022-11-09T17:25:40.661031Z"
    },
    "id": "JEsLeBjVycOw"
   },
   "outputs": [],
   "source": [
    "UNK_IDX = token_to_idx[UNK]\n",
    "PAD_IDX = token_to_idx[PAD]\n",
    "\n",
    "\n",
    "def as_matrix(sequences, max_len=None):\n",
    "    \"\"\"Convert a list of tokens into a matrix with padding\"\"\"\n",
    "    if isinstance(sequences[0], str):\n",
    "        sequences = [seq.split(\" \") for seq in sequences]\n",
    "\n",
    "    sequences_max_len = max(len(seq) for seq in sequences)\n",
    "    if max_len is None:\n",
    "        max_len = sequences_max_len\n",
    "    else:\n",
    "        max_len = min(sequences_max_len, max_len)\n",
    "\n",
    "    matrix = np.full((len(sequences), max_len), PAD_IDX)\n",
    "    for i, seq in enumerate(sequences):\n",
    "        for j, token in enumerate(seq):\n",
    "            if j >= max_len:\n",
    "                break\n",
    "\n",
    "            matrix[i, j] = token_to_idx.get(token, UNK_IDX)\n",
    "\n",
    "    return matrix"
   ]
  },
  {
   "cell_type": "code",
   "execution_count": 18,
   "metadata": {
    "colab": {
     "base_uri": "https://localhost:8080/"
    },
    "execution": {
     "iopub.execute_input": "2022-11-09T17:25:45.383651Z",
     "iopub.status.busy": "2022-11-09T17:25:45.383220Z",
     "iopub.status.idle": "2022-11-09T17:25:45.390879Z",
     "shell.execute_reply": "2022-11-09T17:25:45.389854Z",
     "shell.execute_reply.started": "2022-11-09T17:25:45.383618Z"
    },
    "id": "JiBlPkdKycOy",
    "outputId": "0d563ba5-6380-48fa-e972-6ed37ac1b0e8"
   },
   "outputs": [
    {
     "name": "stdout",
     "output_type": "stream",
     "text": [
      "Lines:\n",
      "engineering systems analyst\n",
      "hr assistant\n",
      "senior ec & i engineer\n",
      "\n",
      "Matrix:\n",
      "[[10273 28655  2055     1     1]\n",
      " [14296  2700     1     1     1]\n",
      " [26272  9698    14 14484 10270]]\n"
     ]
    }
   ],
   "source": [
    "print(\"Lines:\")\n",
    "print(\"\\n\".join(data[\"Title\"][::100000].values), end=\"\\n\\n\")\n",
    "print(\"Matrix:\")\n",
    "print(as_matrix(data[\"Title\"][::100000]))"
   ]
  },
  {
   "cell_type": "markdown",
   "metadata": {
    "id": "nGOdZ3-dycO4"
   },
   "source": [
    "Now let's  encode the categirical data we have.\n",
    "\n",
    "As usual, we shall use one-hot encoding for simplicity. Kudos if you implement more advanced encodings: tf-idf, pseudo-time-series, etc."
   ]
  },
  {
   "cell_type": "code",
   "execution_count": 19,
   "metadata": {
    "execution": {
     "iopub.execute_input": "2022-11-09T17:25:47.725386Z",
     "iopub.status.busy": "2022-11-09T17:25:47.725008Z",
     "iopub.status.idle": "2022-11-09T17:25:56.924652Z",
     "shell.execute_reply": "2022-11-09T17:25:56.923547Z",
     "shell.execute_reply.started": "2022-11-09T17:25:47.725353Z"
    },
    "id": "pg12nLQijNJg"
   },
   "outputs": [],
   "source": [
    "from sklearn.feature_extraction import DictVectorizer\n",
    "\n",
    "\n",
    "# We only consider top-1k most frequent companies to minimize memory usage\n",
    "company_counts = Counter(data[\"Company\"])\n",
    "top_companies = set(name for name, count in company_counts.most_common(1000))\n",
    "data[\"Company\"] = data[\"Company\"].apply(\n",
    "    lambda company: company if company in top_companies else \"Other\"\n",
    ")\n",
    "\n",
    "categorical_vectorizer = DictVectorizer(dtype=np.float32, sparse=False)\n",
    "categorical_vectorizer.fit(data[categorical_columns].apply(dict, axis=1));"
   ]
  },
  {
   "cell_type": "markdown",
   "metadata": {
    "id": "yk4jmtAYycO8"
   },
   "source": [
    "## The deep learning part\n",
    "\n",
    "Once we've learned to tokenize the data, let's design a machine learning experiment.\n",
    "\n",
    "As before, we won't focus too much on validation, opting for a simple train-test split.\n",
    "\n",
    "__To be completely rigorous,__ we've comitted a small crime here: we used the whole data for tokenization and vocabulary building. A more strict way would be to do that part on training set only. You may want to do that and measure the magnitude of changes."
   ]
  },
  {
   "cell_type": "code",
   "execution_count": 20,
   "metadata": {
    "colab": {
     "base_uri": "https://localhost:8080/"
    },
    "execution": {
     "iopub.execute_input": "2022-11-09T17:25:56.927442Z",
     "iopub.status.busy": "2022-11-09T17:25:56.926724Z",
     "iopub.status.idle": "2022-11-09T17:25:57.112409Z",
     "shell.execute_reply": "2022-11-09T17:25:57.111341Z",
     "shell.execute_reply.started": "2022-11-09T17:25:56.927399Z"
    },
    "id": "TngLcWA0ycO_",
    "outputId": "19e7d3e2-0978-4a03-b847-3c0176c173ac"
   },
   "outputs": [
    {
     "name": "stdout",
     "output_type": "stream",
     "text": [
      "Train size =  195814\n",
      "Validation size =  48954\n"
     ]
    }
   ],
   "source": [
    "from sklearn.model_selection import train_test_split\n",
    "\n",
    "\n",
    "data_train, data_val = train_test_split(data, test_size=0.2, random_state=42)\n",
    "data_train.index = range(len(data_train))\n",
    "data_val.index = range(len(data_val))\n",
    "\n",
    "print(\"Train size = \", len(data_train))\n",
    "print(\"Validation size = \", len(data_val))"
   ]
  },
  {
   "cell_type": "code",
   "execution_count": 21,
   "metadata": {
    "execution": {
     "iopub.execute_input": "2022-11-09T17:25:57.119746Z",
     "iopub.status.busy": "2022-11-09T17:25:57.116947Z",
     "iopub.status.idle": "2022-11-09T17:25:57.132240Z",
     "shell.execute_reply": "2022-11-09T17:25:57.130944Z",
     "shell.execute_reply.started": "2022-11-09T17:25:57.119704Z"
    },
    "id": "2PXuKgOSycPB"
   },
   "outputs": [],
   "source": [
    "def make_batch(data, max_len=None, word_dropout=0):\n",
    "    \"\"\"\n",
    "    Creates a neural-network-friendly dict from the batch data.\n",
    "    :param word_dropout: replaces token index with UNK_IDX with this probability\n",
    "    :returns: a dict with {'title' : int64[batch, title_max_len]\n",
    "    \"\"\"\n",
    "    batch = {}\n",
    "    batch[\"Title\"] = as_matrix(data[\"Title\"].values, max_len)\n",
    "    batch[\"FullDescription\"] = as_matrix(data[\"FullDescription\"].values, max_len)\n",
    "    batch[\"Categorical\"] = categorical_vectorizer.transform(\n",
    "        data[categorical_columns].apply(dict, axis=1)\n",
    "    )\n",
    "\n",
    "    if word_dropout != 0:\n",
    "        batch[\"FullDescription\"] = apply_word_dropout(batch[\"FullDescription\"], 1.0 - word_dropout)\n",
    "\n",
    "    if target_column in data.columns:\n",
    "        batch[target_column] = data[target_column].values\n",
    "\n",
    "    return batch\n",
    "\n",
    "\n",
    "def apply_word_dropout(matrix, keep_prob, replace_with=UNK_IDX):\n",
    "    dropout_mask = np.random.choice(2, np.shape(matrix), p=[keep_prob, 1 - keep_prob])\n",
    "    dropout_mask &= matrix != PAD_IDX\n",
    "    return np.choose(dropout_mask, [matrix, np.full_like(matrix, replace_with)])"
   ]
  },
  {
   "cell_type": "code",
   "execution_count": 22,
   "metadata": {
    "colab": {
     "base_uri": "https://localhost:8080/"
    },
    "execution": {
     "iopub.execute_input": "2022-11-09T17:26:01.117472Z",
     "iopub.status.busy": "2022-11-09T17:26:01.116987Z",
     "iopub.status.idle": "2022-11-09T17:26:01.130353Z",
     "shell.execute_reply": "2022-11-09T17:26:01.129191Z",
     "shell.execute_reply.started": "2022-11-09T17:26:01.117426Z"
    },
    "id": "I6LpEQf0ycPD",
    "outputId": "e47e900f-0c27-4919-98ac-5abc6c771fb4"
   },
   "outputs": [
    {
     "name": "stdout",
     "output_type": "stream",
     "text": [
      "Example batch:\n",
      "{'Title': array([[26272, 28401, 31999,     1,     1,     1,     1],\n",
      "       [27772,   187, 18227, 19056, 14801, 22008,  3848],\n",
      "       [10082, 28895, 16876,    31,  8281, 27695,    61]]), 'FullDescription': array([[26272, 28401, 31999, 31307,   909, 26272, 28401, 31999, 15662,\n",
      "        31307],\n",
      "       [27772,   187, 18227, 19056, 14801, 22008,  3848, 24230,   836,\n",
      "           77],\n",
      "       [29212, 20872, 19591,  6092, 15662,  7773, 26125,   909, 28895,\n",
      "        16876]]), 'Categorical': array([[0., 0., 0., ..., 0., 0., 0.],\n",
      "       [0., 0., 0., ..., 0., 0., 0.],\n",
      "       [0., 0., 0., ..., 0., 0., 0.]], dtype=float32), 'Log1pSalary': array([ 9.71154 , 10.463132, 10.71444 ], dtype=float32)}\n",
      "FullDescription shape: (3, 10)\n"
     ]
    }
   ],
   "source": [
    "example_batch = make_batch(data_train[:3], max_len=10)\n",
    "print(\"Example batch:\")\n",
    "print(example_batch)\n",
    "print(\"FullDescription shape:\", example_batch[\"FullDescription\"].shape)"
   ]
  },
  {
   "cell_type": "code",
   "execution_count": 23,
   "metadata": {
    "execution": {
     "iopub.execute_input": "2022-11-09T17:26:03.871343Z",
     "iopub.status.busy": "2022-11-09T17:26:03.870985Z",
     "iopub.status.idle": "2022-11-09T17:26:03.878462Z",
     "shell.execute_reply": "2022-11-09T17:26:03.877249Z",
     "shell.execute_reply.started": "2022-11-09T17:26:03.871312Z"
    },
    "id": "nBfN182zpHfd"
   },
   "outputs": [],
   "source": [
    "def iterate_minibatches(data, batch_size=256, shuffle=True, cycle=False, **kwargs):\n",
    "    \"\"\"iterates minibatches of data in random order\"\"\"\n",
    "    while True:\n",
    "        indices = np.arange(len(data))\n",
    "        if shuffle:\n",
    "            indices = np.random.permutation(indices)\n",
    "\n",
    "        for start in range(0, len(indices), batch_size):\n",
    "            batch = make_batch(data.iloc[indices[start : start + batch_size]], **kwargs)\n",
    "            target = batch.pop(target_column)\n",
    "            yield batch, target\n",
    "\n",
    "        if not cycle:\n",
    "            break"
   ]
  },
  {
   "cell_type": "markdown",
   "metadata": {
    "id": "iQAQPx3-pHfd"
   },
   "source": [
    "To generate minibatches we will use simple pyton generator."
   ]
  },
  {
   "cell_type": "code",
   "execution_count": 25,
   "metadata": {
    "colab": {
     "base_uri": "https://localhost:8080/",
     "height": 364
    },
    "execution": {
     "iopub.execute_input": "2022-11-09T17:26:08.015062Z",
     "iopub.status.busy": "2022-11-09T17:26:08.014531Z",
     "iopub.status.idle": "2022-11-09T17:26:08.041710Z",
     "shell.execute_reply": "2022-11-09T17:26:08.040530Z",
     "shell.execute_reply.started": "2022-11-09T17:26:08.015015Z"
    },
    "id": "KejWUQ4nP-M5",
    "outputId": "f2cb2db1-b2d8-4be2-c628-3884ae6fe5e3"
   },
   "outputs": [
    {
     "data": {
      "text/html": [
       "<div>\n",
       "<style scoped>\n",
       "    .dataframe tbody tr th:only-of-type {\n",
       "        vertical-align: middle;\n",
       "    }\n",
       "\n",
       "    .dataframe tbody tr th {\n",
       "        vertical-align: top;\n",
       "    }\n",
       "\n",
       "    .dataframe thead th {\n",
       "        text-align: right;\n",
       "    }\n",
       "</style>\n",
       "<table border=\"1\" class=\"dataframe\">\n",
       "  <thead>\n",
       "    <tr style=\"text-align: right;\">\n",
       "      <th></th>\n",
       "      <th>Id</th>\n",
       "      <th>Title</th>\n",
       "      <th>FullDescription</th>\n",
       "      <th>LocationRaw</th>\n",
       "      <th>LocationNormalized</th>\n",
       "      <th>ContractType</th>\n",
       "      <th>ContractTime</th>\n",
       "      <th>Company</th>\n",
       "      <th>Category</th>\n",
       "      <th>SalaryRaw</th>\n",
       "      <th>SalaryNormalized</th>\n",
       "      <th>SourceName</th>\n",
       "      <th>Log1pSalary</th>\n",
       "    </tr>\n",
       "  </thead>\n",
       "  <tbody>\n",
       "    <tr>\n",
       "      <th>0</th>\n",
       "      <td>69173058</td>\n",
       "      <td>senior support worker</td>\n",
       "      <td>senior support worker wanted a senior support ...</td>\n",
       "      <td>Taunton, Somerset Somerset South West</td>\n",
       "      <td>Taunton</td>\n",
       "      <td>NaN</td>\n",
       "      <td>permanent</td>\n",
       "      <td>Other</td>\n",
       "      <td>Healthcare &amp; Nursing Jobs</td>\n",
       "      <td>15931 - 17082 per annum</td>\n",
       "      <td>16506</td>\n",
       "      <td>totaljobs.com</td>\n",
       "      <td>9.711540</td>\n",
       "    </tr>\n",
       "    <tr>\n",
       "      <th>1</th>\n",
       "      <td>72450873</td>\n",
       "      <td>statistical / mathematical modeller in pharmac...</td>\n",
       "      <td>statistical / mathematical modeller in pharmac...</td>\n",
       "      <td>North West</td>\n",
       "      <td>North West London</td>\n",
       "      <td>NaN</td>\n",
       "      <td>permanent</td>\n",
       "      <td>Other</td>\n",
       "      <td>Scientific &amp; QA Jobs</td>\n",
       "      <td>From 30,000 to 40,000 per annum 30-40K</td>\n",
       "      <td>35000</td>\n",
       "      <td>totaljobs.com</td>\n",
       "      <td>10.463132</td>\n",
       "    </tr>\n",
       "    <tr>\n",
       "      <th>2</th>\n",
       "      <td>68364211</td>\n",
       "      <td>emc team leader ( def stan )</td>\n",
       "      <td>the opportunity my client is currently seeking...</td>\n",
       "      <td>Surrey</td>\n",
       "      <td>Surrey</td>\n",
       "      <td>NaN</td>\n",
       "      <td>permanent</td>\n",
       "      <td>Other</td>\n",
       "      <td>Engineering Jobs</td>\n",
       "      <td>45k + Bonus + Pension</td>\n",
       "      <td>45000</td>\n",
       "      <td>justengineers.net</td>\n",
       "      <td>10.714440</td>\n",
       "    </tr>\n",
       "  </tbody>\n",
       "</table>\n",
       "</div>"
      ],
      "text/plain": [
       "         Id                                              Title  \\\n",
       "0  69173058                              senior support worker   \n",
       "1  72450873  statistical / mathematical modeller in pharmac...   \n",
       "2  68364211                       emc team leader ( def stan )   \n",
       "\n",
       "                                     FullDescription  \\\n",
       "0  senior support worker wanted a senior support ...   \n",
       "1  statistical / mathematical modeller in pharmac...   \n",
       "2  the opportunity my client is currently seeking...   \n",
       "\n",
       "                             LocationRaw LocationNormalized ContractType  \\\n",
       "0  Taunton, Somerset Somerset South West            Taunton          NaN   \n",
       "1                             North West  North West London          NaN   \n",
       "2                                 Surrey             Surrey          NaN   \n",
       "\n",
       "  ContractTime Company                   Category  \\\n",
       "0    permanent   Other  Healthcare & Nursing Jobs   \n",
       "1    permanent   Other       Scientific & QA Jobs   \n",
       "2    permanent   Other           Engineering Jobs   \n",
       "\n",
       "                                SalaryRaw  SalaryNormalized  \\\n",
       "0                 15931 - 17082 per annum             16506   \n",
       "1  From 30,000 to 40,000 per annum 30-40K             35000   \n",
       "2                   45k + Bonus + Pension             45000   \n",
       "\n",
       "          SourceName  Log1pSalary  \n",
       "0      totaljobs.com     9.711540  \n",
       "1      totaljobs.com    10.463132  \n",
       "2  justengineers.net    10.714440  "
      ]
     },
     "execution_count": 25,
     "metadata": {},
     "output_type": "execute_result"
    }
   ],
   "source": [
    "data_train.head(3)"
   ]
  },
  {
   "cell_type": "code",
   "execution_count": 24,
   "metadata": {
    "colab": {
     "base_uri": "https://localhost:8080/"
    },
    "execution": {
     "iopub.execute_input": "2022-11-09T17:26:21.089892Z",
     "iopub.status.busy": "2022-11-09T17:26:21.089536Z",
     "iopub.status.idle": "2022-11-09T17:26:21.111039Z",
     "shell.execute_reply": "2022-11-09T17:26:21.109703Z",
     "shell.execute_reply.started": "2022-11-09T17:26:21.089862Z"
    },
    "id": "fCeb-W9EodjZ",
    "outputId": "ed401d79-a416-4407-8e59-15a8cdca760f"
   },
   "outputs": [
    {
     "data": {
      "text/plain": [
       "(3, 7)"
      ]
     },
     "execution_count": 24,
     "metadata": {},
     "output_type": "execute_result"
    }
   ],
   "source": [
    "iterator = iterate_minibatches(data_train, 3)\n",
    "batch, target = next(iterator)\n",
    "batch[\"Title\"].shape"
   ]
  },
  {
   "cell_type": "markdown",
   "metadata": {
    "id": "0eI5h9UMycPF"
   },
   "source": [
    "## Architecture\n",
    "\n",
    "Our main model consists of three branches:\n",
    "* Title encoder\n",
    "* Description encoder\n",
    "* Categorical features encoder\n",
    "\n",
    "We will then feed all 3 branches into one common network that predicts salary.\n",
    "\n",
    "<img src=\"https://github.com/yandexdataschool/nlp_course/raw/master/resources/w2_conv_arch.png\" width=600px>\n",
    "\n",
    "This clearly doesn't fit into PyTorch __Sequential__ interface. To build such a network, one will have to use [__PyTorch nn.Module API__](https://pytorch.org/docs/stable/nn.html#torch.nn.Module)."
   ]
  },
  {
   "cell_type": "markdown",
   "metadata": {
    "id": "SbhrCEl1pHfc"
   },
   "source": [
    "But to start with let's build the simple model using only the part of the data. Let's create the baseline solution using only the description part (so it should definetely fit into the Sequential model)."
   ]
  },
  {
   "cell_type": "code",
   "execution_count": 25,
   "metadata": {
    "execution": {
     "iopub.execute_input": "2022-11-09T17:26:25.198522Z",
     "iopub.status.busy": "2022-11-09T17:26:25.198008Z",
     "iopub.status.idle": "2022-11-09T17:26:25.928623Z",
     "shell.execute_reply": "2022-11-09T17:26:25.927538Z",
     "shell.execute_reply.started": "2022-11-09T17:26:25.198439Z"
    },
    "id": "2jjPFvWZpHfc"
   },
   "outputs": [],
   "source": [
    "import torch.nn as nn\n",
    "\n",
    "\n",
    "# Initially, our FullDescription has a shape [batch_size, seq_len].\n",
    "# After an Embedding layer shape will be [batch_size, seq_len, embedding_size].\n",
    "# However, Conv1d layer expects batches of shape [batch_size, embedding_size, seq_len].\n",
    "# We will use this layer to fix this misunderstanding.\n",
    "class Reorder(nn.Module):\n",
    "    def forward(self, input):\n",
    "        return input.permute((0, 2, 1))"
   ]
  },
  {
   "cell_type": "code",
   "execution_count": 26,
   "metadata": {
    "execution": {
     "iopub.execute_input": "2022-11-09T17:26:35.213544Z",
     "iopub.status.busy": "2022-11-09T17:26:35.213114Z",
     "iopub.status.idle": "2022-11-09T17:26:35.261902Z",
     "shell.execute_reply": "2022-11-09T17:26:35.260796Z",
     "shell.execute_reply.started": "2022-11-09T17:26:35.213499Z"
    },
    "id": "6LPx2UKepHfd"
   },
   "outputs": [],
   "source": [
    "emb_size = 128\n",
    "out_channels = 256\n",
    "simple_model = nn.Sequential(\n",
    "    # YOUR CODE HERE\n",
    "    nn.Embedding(len(tokens), emb_size),\n",
    "    Reorder(),\n",
    "    nn.Conv1d(emb_size, out_channels, 3),\n",
    "    nn.BatchNorm1d(out_channels),\n",
    "    nn.ReLU(),\n",
    "    nn.Conv1d(out_channels, out_channels, 3),\n",
    "    nn.BatchNorm1d(out_channels),\n",
    "    nn.ReLU(),\n",
    "    nn.AdaptiveMaxPool1d(1),\n",
    "    nn.Flatten(),\n",
    "    nn.Linear(out_channels, 1)\n",
    ")"
   ]
  },
  {
   "cell_type": "code",
   "execution_count": 27,
   "metadata": {
    "execution": {
     "iopub.execute_input": "2022-11-09T17:26:37.048985Z",
     "iopub.status.busy": "2022-11-09T17:26:37.048605Z",
     "iopub.status.idle": "2022-11-09T17:26:37.054364Z",
     "shell.execute_reply": "2022-11-09T17:26:37.053165Z",
     "shell.execute_reply.started": "2022-11-09T17:26:37.048956Z"
    },
    "id": "PD9zfM3ZSzFX"
   },
   "outputs": [],
   "source": [
    "import torch"
   ]
  },
  {
   "cell_type": "code",
   "execution_count": 28,
   "metadata": {
    "colab": {
     "base_uri": "https://localhost:8080/"
    },
    "id": "rLmzLrBZRsvp",
    "outputId": "0d95a4e3-a193-4dab-effe-cac06c094795"
   },
   "outputs": [
    {
     "name": "stdout",
     "output_type": "stream",
     "text": [
      "ex_batch.shape: torch.Size([3, 341])\n",
      "emb_out.shape: torch.Size([3, 341, 128])\n"
     ]
    }
   ],
   "source": [
    "# 1)nn.Embedding()\n",
    "ex_batch = torch.from_numpy(batch[\"FullDescription\"]) # (batch_size, length)\n",
    "print(f\"ex_batch.shape: {ex_batch.shape}\")\n",
    "emb_layer = nn.Embedding(len(tokens), emb_size)\n",
    "emb_out = emb_layer(ex_batch)\n",
    "print(f\"emb_out.shape: {emb_out.shape}\")"
   ]
  },
  {
   "cell_type": "code",
   "execution_count": 29,
   "metadata": {
    "colab": {
     "base_uri": "https://localhost:8080/"
    },
    "id": "K3XizE5sTBsx",
    "outputId": "fc47b308-d432-4b84-9196-e413f1549180"
   },
   "outputs": [
    {
     "name": "stdout",
     "output_type": "stream",
     "text": [
      "conv1_inp.shape: torch.Size([3, 128, 341])\n",
      "conv1_out.shape: torch.Size([3, 256, 339])\n"
     ]
    }
   ],
   "source": [
    "# 2) nn.Conv1d\n",
    "conv1_layer = nn.Conv1d(emb_size, out_channels, 3)\n",
    "conv1_inp = emb_out.permute(0, 2, 1) # (batch_size, emb_dim, length)\n",
    "conv1_out = conv1_layer(conv1_inp)  # (batch_size, out_channels, new_length_1)\n",
    "print(f\"conv1_inp.shape: {conv1_inp.shape}\")\n",
    "print(f\"conv1_out.shape: {conv1_out.shape}\")"
   ]
  },
  {
   "cell_type": "code",
   "execution_count": 30,
   "metadata": {
    "colab": {
     "base_uri": "https://localhost:8080/"
    },
    "id": "e2DBhs6aVVqz",
    "outputId": "4cb2dea1-73f2-4d13-a5f9-60b8ec0640b5"
   },
   "outputs": [
    {
     "name": "stdout",
     "output_type": "stream",
     "text": [
      "conv2_inp.shape: torch.Size([3, 256, 339])\n",
      "conv2_out.shape: torch.Size([3, 256, 337])\n"
     ]
    }
   ],
   "source": [
    "# 3) nn.Conv1d\n",
    "conv2_layer = nn.Conv1d(out_channels, out_channels, 3)\n",
    "conv2_inp = conv1_out               # (batch_size, out_channels, new_length_1)\n",
    "conv2_out = conv2_layer(conv2_inp)  # (batch_size, out_channels, new_length_2)\n",
    "print(f\"conv2_inp.shape: {conv2_inp.shape}\")\n",
    "print(f\"conv2_out.shape: {conv2_out.shape}\")"
   ]
  },
  {
   "cell_type": "code",
   "execution_count": 31,
   "metadata": {
    "colab": {
     "base_uri": "https://localhost:8080/"
    },
    "id": "-oKV5iY2Vt72",
    "outputId": "a9ae27aa-5aa4-461a-ad0c-ce63bcdc2dae"
   },
   "outputs": [
    {
     "name": "stdout",
     "output_type": "stream",
     "text": [
      "adapt_layer_inp.shape: torch.Size([3, 256, 337])\n",
      "adapt_layer_out.shape: torch.Size([3, 256, 1])\n",
      "adapt_layer_out_flatten.shape: torch.Size([3, 256])\n"
     ]
    }
   ],
   "source": [
    "# 4)AdaptiveMaxPool1d(1)\n",
    "\n",
    "adapt_layer = nn.AdaptiveMaxPool1d(1)\n",
    "adapt_layer_inp = conv2_out  # (batch_size, out_channels, new_length_2)\n",
    "adapt_layer_out = adapt_layer(adapt_layer_inp)\n",
    "print(f\"adapt_layer_inp.shape: {adapt_layer_inp.shape}\")\n",
    "print(f\"adapt_layer_out.shape: {adapt_layer_out.shape}\")\n",
    "print(f\"adapt_layer_out_flatten.shape: {nn.Flatten()(adapt_layer_out).shape}\")"
   ]
  },
  {
   "cell_type": "markdown",
   "metadata": {
    "id": "uMu66aNSpHfd"
   },
   "source": [
    "__Remember!__ We are working with regression problem and predicting only one number."
   ]
  },
  {
   "cell_type": "code",
   "execution_count": null,
   "metadata": {
    "id": "bVjwrk_pXrZt"
   },
   "outputs": [],
   "source": []
  },
  {
   "cell_type": "code",
   "execution_count": 32,
   "metadata": {
    "colab": {
     "base_uri": "https://localhost:8080/"
    },
    "execution": {
     "iopub.execute_input": "2022-11-09T17:26:42.271344Z",
     "iopub.status.busy": "2022-11-09T17:26:42.270961Z",
     "iopub.status.idle": "2022-11-09T17:26:42.411818Z",
     "shell.execute_reply": "2022-11-09T17:26:42.410552Z",
     "shell.execute_reply.started": "2022-11-09T17:26:42.271312Z"
    },
    "id": "CerptbpcpHfd",
    "outputId": "e00c19c2-ae56-4409-e711-57ab480fccd9"
   },
   "outputs": [
    {
     "data": {
      "text/plain": [
       "tensor([[-1.0671],\n",
       "        [-0.2389],\n",
       "        [-0.2723]], grad_fn=<AddmmBackward0>)"
      ]
     },
     "execution_count": 32,
     "metadata": {},
     "output_type": "execute_result"
    }
   ],
   "source": [
    "import torch\n",
    "\n",
    "\n",
    "# Check your model. `torch.long` tensors are required for nn.Embedding layers.\n",
    "out = simple_model(torch.tensor(batch[\"FullDescription\"], dtype=torch.long))\n",
    "out"
   ]
  },
  {
   "cell_type": "code",
   "execution_count": 33,
   "metadata": {
    "colab": {
     "base_uri": "https://localhost:8080/"
    },
    "execution": {
     "iopub.execute_input": "2022-11-09T17:26:46.647826Z",
     "iopub.status.busy": "2022-11-09T17:26:46.647402Z",
     "iopub.status.idle": "2022-11-09T17:26:46.658776Z",
     "shell.execute_reply": "2022-11-09T17:26:46.657544Z",
     "shell.execute_reply.started": "2022-11-09T17:26:46.647792Z"
    },
    "id": "jhkUf3XOXXGW",
    "outputId": "693f91b9-8ce9-4388-f0f5-a4695df98869"
   },
   "outputs": [
    {
     "data": {
      "text/plain": [
       "tensor(110.3557, grad_fn=<MseLossBackward0>)"
      ]
     },
     "execution_count": 33,
     "metadata": {},
     "output_type": "execute_result"
    }
   ],
   "source": [
    "nn.MSELoss()(out.flatten(), torch.from_numpy(target))"
   ]
  },
  {
   "cell_type": "code",
   "execution_count": 34,
   "metadata": {
    "colab": {
     "base_uri": "https://localhost:8080/"
    },
    "id": "lTIGgYOIYABl",
    "outputId": "d04ec9ed-967f-4788-d02c-12f50798815b"
   },
   "outputs": [
    {
     "data": {
      "text/plain": [
       "torch.Size([90])"
      ]
     },
     "execution_count": 34,
     "metadata": {},
     "output_type": "execute_result"
    }
   ],
   "source": [
    "torch.rand((3, 5, 6)).flatten().shape"
   ]
  },
  {
   "cell_type": "code",
   "execution_count": 33,
   "metadata": {
    "execution": {
     "iopub.execute_input": "2022-11-09T17:26:51.784979Z",
     "iopub.status.busy": "2022-11-09T17:26:51.784615Z",
     "iopub.status.idle": "2022-11-09T17:26:55.156660Z",
     "shell.execute_reply": "2022-11-09T17:26:55.155633Z",
     "shell.execute_reply.started": "2022-11-09T17:26:51.784943Z"
    },
    "id": "1G-n-458pHfd"
   },
   "outputs": [],
   "source": [
    "device = torch.device(\"cuda\" if torch.cuda.is_available() else \"cpu\")\n",
    "simple_model.to(device);"
   ]
  },
  {
   "cell_type": "markdown",
   "metadata": {
    "id": "8hUa3gBepHfd"
   },
   "source": [
    "And now simple training pipeline:"
   ]
  },
  {
   "cell_type": "code",
   "execution_count": 34,
   "metadata": {
    "colab": {
     "base_uri": "https://localhost:8080/",
     "height": 667
    },
    "execution": {
     "iopub.execute_input": "2022-11-09T17:27:42.754052Z",
     "iopub.status.busy": "2022-11-09T17:27:42.753644Z",
     "iopub.status.idle": "2022-11-09T17:31:34.723097Z",
     "shell.execute_reply": "2022-11-09T17:31:34.721655Z",
     "shell.execute_reply.started": "2022-11-09T17:27:42.754003Z"
    },
    "id": "tKiy4otdpHfd",
    "outputId": "c1a75dbc-6adc-4c6c-a226-e05d866a58c7"
   },
   "outputs": [
    {
     "data": {
      "image/png": "[encoded data removed]",
      "text/plain": [
       "<Figure size 864x360 with 1 Axes>"
      ]
     },
     "metadata": {},
     "output_type": "display_data"
    },
    {
     "ename": "KeyboardInterrupt",
     "evalue": "",
     "output_type": "error",
     "traceback": [
      "\u001b[0;31m---------------------------------------------------------------------------\u001b[0m",
      "\u001b[0;31mKeyboardInterrupt\u001b[0m                         Traceback (most recent call last)",
      "\u001b[0;32m/tmp/ipykernel_23/1893428718.py\u001b[0m in \u001b[0;36m<module>\u001b[0;34m\u001b[0m\n\u001b[1;32m     22\u001b[0m         \u001b[0;31m# YOUR CODE HERE\u001b[0m\u001b[0;34m\u001b[0m\u001b[0;34m\u001b[0m\u001b[0;34m\u001b[0m\u001b[0m\n\u001b[1;32m     23\u001b[0m         \u001b[0;31m# Train with backprop.\u001b[0m\u001b[0;34m\u001b[0m\u001b[0;34m\u001b[0m\u001b[0;34m\u001b[0m\u001b[0m\n\u001b[0;32m---> 24\u001b[0;31m         \u001b[0mloss\u001b[0m\u001b[0;34m.\u001b[0m\u001b[0mbackward\u001b[0m\u001b[0;34m(\u001b[0m\u001b[0;34m)\u001b[0m\u001b[0;34m\u001b[0m\u001b[0;34m\u001b[0m\u001b[0m\n\u001b[0m\u001b[1;32m     25\u001b[0m         \u001b[0mopt\u001b[0m\u001b[0;34m.\u001b[0m\u001b[0mstep\u001b[0m\u001b[0;34m(\u001b[0m\u001b[0;34m)\u001b[0m\u001b[0;34m\u001b[0m\u001b[0;34m\u001b[0m\u001b[0m\n\u001b[1;32m     26\u001b[0m         \u001b[0mopt\u001b[0m\u001b[0;34m.\u001b[0m\u001b[0mzero_grad\u001b[0m\u001b[0;34m(\u001b[0m\u001b[0;34m)\u001b[0m\u001b[0;34m\u001b[0m\u001b[0;34m\u001b[0m\u001b[0m\n",
      "\u001b[0;32m/opt/conda/lib/python3.7/site-packages/torch/_tensor.py\u001b[0m in \u001b[0;36mbackward\u001b[0;34m(self, gradient, retain_graph, create_graph, inputs)\u001b[0m\n\u001b[1;32m    361\u001b[0m                 \u001b[0mcreate_graph\u001b[0m\u001b[0;34m=\u001b[0m\u001b[0mcreate_graph\u001b[0m\u001b[0;34m,\u001b[0m\u001b[0;34m\u001b[0m\u001b[0;34m\u001b[0m\u001b[0m\n\u001b[1;32m    362\u001b[0m                 inputs=inputs)\n\u001b[0;32m--> 363\u001b[0;31m         \u001b[0mtorch\u001b[0m\u001b[0;34m.\u001b[0m\u001b[0mautograd\u001b[0m\u001b[0;34m.\u001b[0m\u001b[0mbackward\u001b[0m\u001b[0;34m(\u001b[0m\u001b[0mself\u001b[0m\u001b[0;34m,\u001b[0m \u001b[0mgradient\u001b[0m\u001b[0;34m,\u001b[0m \u001b[0mretain_graph\u001b[0m\u001b[0;34m,\u001b[0m \u001b[0mcreate_graph\u001b[0m\u001b[0;34m,\u001b[0m \u001b[0minputs\u001b[0m\u001b[0;34m=\u001b[0m\u001b[0minputs\u001b[0m\u001b[0;34m)\u001b[0m\u001b[0;34m\u001b[0m\u001b[0;34m\u001b[0m\u001b[0m\n\u001b[0m\u001b[1;32m    364\u001b[0m \u001b[0;34m\u001b[0m\u001b[0m\n\u001b[1;32m    365\u001b[0m     \u001b[0;32mdef\u001b[0m \u001b[0mregister_hook\u001b[0m\u001b[0;34m(\u001b[0m\u001b[0mself\u001b[0m\u001b[0;34m,\u001b[0m \u001b[0mhook\u001b[0m\u001b[0;34m)\u001b[0m\u001b[0;34m:\u001b[0m\u001b[0;34m\u001b[0m\u001b[0;34m\u001b[0m\u001b[0m\n",
      "\u001b[0;32m/opt/conda/lib/python3.7/site-packages/torch/autograd/__init__.py\u001b[0m in \u001b[0;36mbackward\u001b[0;34m(tensors, grad_tensors, retain_graph, create_graph, grad_variables, inputs)\u001b[0m\n\u001b[1;32m    173\u001b[0m     Variable._execution_engine.run_backward(  # Calls into the C++ engine to run the backward pass\n\u001b[1;32m    174\u001b[0m         \u001b[0mtensors\u001b[0m\u001b[0;34m,\u001b[0m \u001b[0mgrad_tensors_\u001b[0m\u001b[0;34m,\u001b[0m \u001b[0mretain_graph\u001b[0m\u001b[0;34m,\u001b[0m \u001b[0mcreate_graph\u001b[0m\u001b[0;34m,\u001b[0m \u001b[0minputs\u001b[0m\u001b[0;34m,\u001b[0m\u001b[0;34m\u001b[0m\u001b[0;34m\u001b[0m\u001b[0m\n\u001b[0;32m--> 175\u001b[0;31m         allow_unreachable=True, accumulate_grad=True)  # Calls into the C++ engine to run the backward pass\n\u001b[0m\u001b[1;32m    176\u001b[0m \u001b[0;34m\u001b[0m\u001b[0m\n\u001b[1;32m    177\u001b[0m def grad(\n",
      "\u001b[0;31mKeyboardInterrupt\u001b[0m: "
     ]
    }
   ],
   "source": [
    "from IPython.display import clear_output\n",
    "\n",
    "\n",
    "epochs = 3\n",
    "model = simple_model\n",
    "opt = torch.optim.Adam(model.parameters())\n",
    "criterion = nn.MSELoss()\n",
    "\n",
    "history = []\n",
    "for epoch in range(epochs):\n",
    "    for batch, target in iterate_minibatches(data_train):\n",
    "        # Preprocessing the batch data and target\n",
    "        batch = torch.tensor(batch[\"FullDescription\"], dtype=torch.long, device=device)\n",
    "        target = torch.tensor(target, device=device)\n",
    "\n",
    "        predictions = model(batch)\n",
    "        predictions = predictions.flatten()\n",
    "\n",
    "        # YOUR CODE HERE\n",
    "        # Compute loss.\n",
    "        loss = criterion(predictions, target)\n",
    "        # YOUR CODE HERE\n",
    "        # Train with backprop.\n",
    "        loss.backward()\n",
    "        opt.step()\n",
    "        opt.zero_grad()\n",
    "        history.append(loss.item())\n",
    "        if len(history) % 10 == 0:\n",
    "            clear_output(wait=True)\n",
    "            plt.figure(figsize = (12, 5))\n",
    "            plt.plot(history, label=\"loss\")\n",
    "            plt.legend()\n",
    "            plt.show()"
   ]
  },
  {
   "cell_type": "markdown",
   "metadata": {
    "id": "eOXdOBCnpHfe"
   },
   "source": [
    "To evaluate the model we can switch it to `eval` state. Let's check the model quality."
   ]
  },
  {
   "cell_type": "code",
   "execution_count": 43,
   "metadata": {
    "execution": {
     "iopub.execute_input": "2022-11-09T17:37:34.635095Z",
     "iopub.status.busy": "2022-11-09T17:37:34.634382Z",
     "iopub.status.idle": "2022-11-09T17:37:34.773000Z",
     "shell.execute_reply": "2022-11-09T17:37:34.771931Z",
     "shell.execute_reply.started": "2022-11-09T17:37:34.635058Z"
    }
   },
   "outputs": [],
   "source": [
    "with torch.no_grad():\n",
    "    for batch, target in iterate_minibatches(data_val):\n",
    "        batch = torch.tensor(batch[\"FullDescription\"], dtype=torch.long, device=device)\n",
    "        pred = model(batch)[:, 0].cpu().numpy()\n",
    "        break\n",
    "    "
   ]
  },
  {
   "cell_type": "code",
   "execution_count": 64,
   "metadata": {
    "colab": {
     "base_uri": "https://localhost:8080/",
     "height": 363
    },
    "execution": {
     "iopub.execute_input": "2022-11-09T17:51:58.703026Z",
     "iopub.status.busy": "2022-11-09T17:51:58.702422Z",
     "iopub.status.idle": "2022-11-09T17:53:47.044881Z",
     "shell.execute_reply": "2022-11-09T17:53:47.043369Z",
     "shell.execute_reply.started": "2022-11-09T17:51:58.702989Z"
    },
    "id": "eaiQRrfCpHfe",
    "outputId": "5eb84d14-bcf5-40a0-f5df-5c8b73637d43"
   },
   "outputs": [
    {
     "name": "stdout",
     "output_type": "stream",
     "text": [
      "Train:\n",
      "MSE: 0.36561\n",
      "MAE: 0.48265\n",
      "R2_score: -0.51134\n",
      "Val:\n",
      "MSE: 0.37076\n",
      "MAE: 0.47674\n",
      "R2_score: -0.54184\n"
     ]
    }
   ],
   "source": [
    "@torch.no_grad()\n",
    "def evaluate_model(model, data, batch_size=256, name=None, **kwargs):\n",
    "    squared_error = abs_error = num_samples = 0.0\n",
    "    y_true = []\n",
    "    y_pred = []\n",
    "    \n",
    "    data_iterator = iterate_minibatches(data, batch_size, shuffle=False, **kwargs)\n",
    "    for batch, target in data_iterator:\n",
    "        \n",
    "        \n",
    "        batch = torch.tensor(batch[\"FullDescription\"], dtype=torch.long, device=device)\n",
    "        pred = model(batch)[:, 0].cpu().numpy()\n",
    "        \n",
    "        y_true += list(target)\n",
    "        y_pred += list(pred)\n",
    "        \n",
    "        squared_error += np.sum(np.square(pred - target))\n",
    "        abs_error += np.sum(np.abs(pred - target))\n",
    "        num_samples += len(target)\n",
    "\n",
    "    if name is not None:\n",
    "        print(f\"{name}:\")\n",
    "\n",
    "    print(f\"MSE: {squared_error / num_samples:.5f}\")\n",
    "    print(f\"MAE: {abs_error / num_samples:.5f}\")\n",
    "    print(f\"R2_score: {r2_score(y_true, y_pred):.5f}\")\n",
    "    \n",
    "    return y_true, y_pred\n",
    "\n",
    "y_true_train, y_pred_train = evaluate_model(simple_model, data_train, name=\"Train\")\n",
    "y_true_val, y_pred_val = evaluate_model(simple_model, data_val, name=\"Val\")"
   ]
  },
  {
   "cell_type": "code",
   "execution_count": 70,
   "metadata": {
    "execution": {
     "iopub.execute_input": "2022-11-09T17:57:36.201456Z",
     "iopub.status.busy": "2022-11-09T17:57:36.200877Z",
     "iopub.status.idle": "2022-11-09T17:57:36.717159Z",
     "shell.execute_reply": "2022-11-09T17:57:36.714704Z",
     "shell.execute_reply.started": "2022-11-09T17:57:36.201409Z"
    }
   },
   "outputs": [
    {
     "data": {
      "text/plain": [
       "<matplotlib.legend.Legend at 0x7f073c530910>"
      ]
     },
     "execution_count": 70,
     "metadata": {},
     "output_type": "execute_result"
    },
    {
     "data": {
      "image/png": "[encoded data removed]",
      "text/plain": [
       "<Figure size 1080x360 with 2 Axes>"
      ]
     },
     "metadata": {},
     "output_type": "display_data"
    }
   ],
   "source": [
    "count = 100\n",
    "plt.figure(figsize = (15, 5))\n",
    "\n",
    "plt.subplot(1, 2, 1)\n",
    "plt.plot(range(len(y_true_train[:count])), y_true_train[:count], label = \"true_on_train\")\n",
    "plt.plot(range(len(y_pred_train[:count])), y_pred_train[:count], label = \"pred_on_train\")\n",
    "plt.legend()\n",
    "plt.subplot(1, 2, 2)\n",
    "plt.plot(range(len(y_true_val[:count])), y_true_val[:count], label = \"true_on_val\")\n",
    "plt.plot(range(len(y_pred_val[:count])), y_pred_val[:count], label = \"pred_on_val\")\n",
    "plt.legend()"
   ]
  },
  {
   "cell_type": "markdown",
   "metadata": {
    "id": "hUUchHCnpHfe"
   },
   "source": [
    "### Bonus area 1: three-headed network.\n",
    "\n",
    "Now you can try to implement the network we've discussed above. Use [__PyTorch nn.Module API__](https://pytorch.org/docs/stable/nn.html#torch.nn.Module)."
   ]
  },
  {
   "cell_type": "code",
   "execution_count": 36,
   "metadata": {
    "id": "HSl8NCqLb6w4"
   },
   "outputs": [],
   "source": [
    "n_tokens=len(tokens)\n",
    "n_cat_features=len(categorical_vectorizer.vocabulary_)\n",
    "hid_size=64"
   ]
  },
  {
   "cell_type": "code",
   "execution_count": 37,
   "metadata": {
    "colab": {
     "base_uri": "https://localhost:8080/"
    },
    "id": "r1JCPZakd6js",
    "outputId": "c97cf615-0497-4000-d0f7-95b61dc18980"
   },
   "outputs": [
    {
     "data": {
      "text/plain": [
       "['Title', 'FullDescription', 'Categorical']"
      ]
     },
     "execution_count": 37,
     "metadata": {},
     "output_type": "execute_result"
    }
   ],
   "source": [
    "iterator = iterate_minibatches(data_train, 3)\n",
    "batch, target = next(iterator)\n",
    "list(batch.keys())"
   ]
  },
  {
   "cell_type": "code",
   "execution_count": 38,
   "metadata": {
    "colab": {
     "base_uri": "https://localhost:8080/"
    },
    "id": "bTJHnNbiduQi",
    "outputId": "4ec79495-be16-4771-8b3c-4eb941074581"
   },
   "outputs": [
    {
     "data": {
      "text/plain": [
       "torch.Size([3, 13])"
      ]
     },
     "execution_count": 38,
     "metadata": {},
     "output_type": "execute_result"
    }
   ],
   "source": [
    "title_inp = torch.from_numpy(batch[\"Title\"])\n",
    "title_inp.shape"
   ]
  },
  {
   "cell_type": "code",
   "execution_count": 39,
   "metadata": {
    "id": "GitK17KIbu0M"
   },
   "outputs": [],
   "source": [
    "head_title = nn.Sequential(\n",
    "            nn.Embedding(n_tokens, hid_size),\n",
    "            Reorder(),\n",
    "            nn.Conv1d(hid_size, 2*hid_size, 2),\n",
    "            nn.BatchNorm1d(2*hid_size),\n",
    "            nn.ReLU(),\n",
    "            nn.Conv1d(2*hid_size, 2*hid_size, 2),\n",
    "            nn.BatchNorm1d(2*hid_size),\n",
    "            nn.ReLU(),\n",
    "            nn.AdaptiveMaxPool1d(1),\n",
    "            nn.Flatten(),\n",
    "            nn.Linear(2*hid_size, hid_size)\n",
    "        )"
   ]
  },
  {
   "cell_type": "code",
   "execution_count": 40,
   "metadata": {
    "colab": {
     "base_uri": "https://localhost:8080/"
    },
    "id": "69ULQtTBeR7z",
    "outputId": "ad33989b-abe6-4ebe-caa1-6e32e9130851"
   },
   "outputs": [
    {
     "data": {
      "text/plain": [
       "torch.Size([3, 64])"
      ]
     },
     "execution_count": 40,
     "metadata": {},
     "output_type": "execute_result"
    }
   ],
   "source": [
    "title_out = head_title(title_inp)\n",
    "title_out.shape"
   ]
  },
  {
   "cell_type": "code",
   "execution_count": 41,
   "metadata": {
    "colab": {
     "base_uri": "https://localhost:8080/"
    },
    "id": "DDLJqlpVev56",
    "outputId": "ebfb1438-8669-4dd4-935d-0e075e682b0a"
   },
   "outputs": [
    {
     "name": "stdout",
     "output_type": "stream",
     "text": [
      "torch.Size([3, 779])\n"
     ]
    },
    {
     "data": {
      "text/plain": [
       "torch.Size([3, 64])"
      ]
     },
     "execution_count": 41,
     "metadata": {},
     "output_type": "execute_result"
    }
   ],
   "source": [
    "head_desc = nn.Sequential(\n",
    "            nn.Embedding(n_tokens, hid_size),\n",
    "            Reorder(),\n",
    "            nn.Conv1d(hid_size, 2*hid_size, 3),\n",
    "            nn.BatchNorm1d(2*hid_size),\n",
    "            nn.ReLU(),\n",
    "            nn.Conv1d(2*hid_size, 2*hid_size, 3),\n",
    "            nn.BatchNorm1d(2*hid_size),\n",
    "            nn.ReLU(),\n",
    "            nn.AdaptiveMaxPool1d(1),\n",
    "           nn.Flatten(),\n",
    "            nn.Linear(2*hid_size, hid_size))\n",
    "desc_inp = torch.from_numpy(batch[\"FullDescription\"])\n",
    "print(desc_inp.shape)\n",
    "\n",
    "desc_out = head_desc(desc_inp)\n",
    "desc_out.shape"
   ]
  },
  {
   "cell_type": "code",
   "execution_count": 42,
   "metadata": {
    "colab": {
     "base_uri": "https://localhost:8080/"
    },
    "id": "TOFUy8TOgBPw",
    "outputId": "8ea2e1d8-c07a-4c06-d16b-9e95051362e5"
   },
   "outputs": [
    {
     "data": {
      "text/plain": [
       "array([[1., 0., 0., ..., 0., 0., 0.],\n",
       "       [0., 0., 0., ..., 0., 0., 0.],\n",
       "       [0., 0., 0., ..., 0., 0., 0.]], dtype=float32)"
      ]
     },
     "execution_count": 42,
     "metadata": {},
     "output_type": "execute_result"
    }
   ],
   "source": [
    "batch['Categorical']"
   ]
  },
  {
   "cell_type": "code",
   "execution_count": 54,
   "metadata": {},
   "outputs": [
    {
     "data": {
      "text/plain": [
       "3768"
      ]
     },
     "execution_count": 54,
     "metadata": {},
     "output_type": "execute_result"
    }
   ],
   "source": [
    "n_cat_features"
   ]
  },
  {
   "cell_type": "code",
   "execution_count": 71,
   "metadata": {
    "execution": {
     "iopub.execute_input": "2022-11-09T17:58:40.775005Z",
     "iopub.status.busy": "2022-11-09T17:58:40.774612Z",
     "iopub.status.idle": "2022-11-09T17:58:41.053539Z",
     "shell.execute_reply": "2022-11-09T17:58:41.051361Z",
     "shell.execute_reply.started": "2022-11-09T17:58:40.774971Z"
    },
    "id": "SOG-2OK2pHfe"
   },
   "outputs": [],
   "source": [
    "class ThreeInputsNet(nn.Module):\n",
    "    def __init__(\n",
    "        self,\n",
    "        n_tokens=len(tokens),\n",
    "        n_cat_features=len(categorical_vectorizer.vocabulary_),\n",
    "        hid_size=64,\n",
    "    ):\n",
    "        super().__init__()\n",
    "\n",
    "        self.title_emb = nn.Embedding(n_tokens, hid_size)\n",
    "        # YOUR CODE HERE\n",
    "        # Define modules to process the title.\n",
    "        self.head_title = nn.Sequential(\n",
    "            \n",
    "            nn.Conv1d(hid_size, 2*hid_size, 3),\n",
    "            nn.BatchNorm1d(2*hid_size),\n",
    "            nn.ReLU(),\n",
    "            nn.Conv1d(2*hid_size, 2*hid_size, 3),\n",
    "            nn.BatchNorm1d(2*hid_size),\n",
    "            nn.ReLU(),\n",
    "            nn.AdaptiveMaxPool1d(1),\n",
    "            nn.Flatten(),\n",
    "            nn.Linear(2*hid_size, hid_size)\n",
    "        )\n",
    "        self.desc_emb = nn.Embedding(n_tokens, hid_size)\n",
    "        # YOUR CODE HERE\n",
    "        # Define modules to process the description.\n",
    "        self.head_desc = nn.Sequential(\n",
    "            \n",
    "            nn.Conv1d(hid_size, 2*hid_size, 3),\n",
    "            nn.BatchNorm1d(2*hid_size),\n",
    "            nn.ReLU(),\n",
    "            nn.Conv1d(2*hid_size, 2*hid_size, 3),\n",
    "            nn.BatchNorm1d(2*hid_size),\n",
    "            nn.ReLU(),\n",
    "            nn.AdaptiveMaxPool1d(1),\n",
    "            nn.Flatten(),\n",
    "            nn.Linear(2*hid_size, hid_size)\n",
    "        )\n",
    "        # YOUR CODE HERE\n",
    "        # Define modules to process the categorical features.\n",
    "        # self.category_out = ...\n",
    "        self.head_categorical = nn.Linear(n_cat_features, hid_size)\n",
    "        # YOUR CODE HERE\n",
    "        # Define fully-connected part which will take outputs of\n",
    "        # three heads and return the result.\n",
    "        self.out = nn.Linear(3*hid_size, 1)\n",
    "\n",
    "    \n",
    "    def forward(self, whole_input):\n",
    "        input1, input2, input3 = whole_input\n",
    "        title_beg = self.title_emb(input1).permute((0, 2, 1))\n",
    "        # YOUR CODE HERE\n",
    "        # Process the title.\n",
    "        title = self.head_title(title_beg)\n",
    "\n",
    "        full_beg = self.desc_emb(input2).permute((0, 2, 1))\n",
    "        # YOUR CODE HERE\n",
    "        # Process the description.\n",
    "        desc = self.head_desc(full_beg)\n",
    "\n",
    "        # YOUR CODE HERE\n",
    "        # Process the categorical features.\n",
    "        category = self.head_categorical(input3)\n",
    "\n",
    "        \n",
    "\n",
    "        concatenated = torch.cat(\n",
    "            [\n",
    "                title.view(title.size(0), -1),\n",
    "                desc.view(desc.size(0), -1),\n",
    "                category.view(category.size(0), -1),\n",
    "            ],\n",
    "            dim=1,\n",
    "        )\n",
    "\n",
    "        # YOUR CODE HERE\n",
    "        # Process the concatenated features to generate network output.\n",
    "        out = self.out(concatenated)\n",
    "\n",
    "        return out"
   ]
  },
  {
   "cell_type": "code",
   "execution_count": 85,
   "metadata": {
    "execution": {
     "iopub.execute_input": "2022-11-09T18:04:04.890997Z",
     "iopub.status.busy": "2022-11-09T18:04:04.890513Z",
     "iopub.status.idle": "2022-11-09T18:04:04.980396Z",
     "shell.execute_reply": "2022-11-09T18:04:04.979295Z",
     "shell.execute_reply.started": "2022-11-09T18:04:04.890956Z"
    }
   },
   "outputs": [
    {
     "data": {
      "text/plain": [
       "(256, 16)"
      ]
     },
     "execution_count": 85,
     "metadata": {},
     "output_type": "execute_result"
    }
   ],
   "source": [
    "train_iterator = iterate_minibatches(data_train, 256)\n",
    "val_iterator = iterate_minibatches(data_val, 256)\n",
    "batch, target = next(val_iterator)\n",
    "batch[\"Title\"].shape"
   ]
  },
  {
   "cell_type": "code",
   "execution_count": 86,
   "metadata": {
    "execution": {
     "iopub.execute_input": "2022-11-09T18:04:06.053861Z",
     "iopub.status.busy": "2022-11-09T18:04:06.053464Z",
     "iopub.status.idle": "2022-11-09T18:04:06.063207Z",
     "shell.execute_reply": "2022-11-09T18:04:06.062000Z",
     "shell.execute_reply.started": "2022-11-09T18:04:06.053830Z"
    }
   },
   "outputs": [
    {
     "data": {
      "text/plain": [
       "(torch.Size([256, 16]), torch.Size([256, 885]), torch.Size([256, 3768]))"
      ]
     },
     "execution_count": 86,
     "metadata": {},
     "output_type": "execute_result"
    }
   ],
   "source": [
    "ex_inp1, ex_inp2, ex_inp3 = batch[\"Title\"], batch[\"FullDescription\"], batch[\"Categorical\"]\n",
    "ex_inp1, ex_inp2, ex_inp3 = torch.from_numpy(ex_inp1), torch.from_numpy(ex_inp2), torch.from_numpy(ex_inp3)\n",
    "\n",
    "ex_inp1.shape, ex_inp2.shape, ex_inp3.shape "
   ]
  },
  {
   "cell_type": "code",
   "execution_count": 87,
   "metadata": {
    "execution": {
     "iopub.execute_input": "2022-11-09T18:04:11.085860Z",
     "iopub.status.busy": "2022-11-09T18:04:11.085492Z",
     "iopub.status.idle": "2022-11-09T18:04:12.684204Z",
     "shell.execute_reply": "2022-11-09T18:04:12.682985Z",
     "shell.execute_reply.started": "2022-11-09T18:04:11.085827Z"
    }
   },
   "outputs": [
    {
     "data": {
      "text/plain": [
       "torch.Size([256, 1])"
      ]
     },
     "execution_count": 87,
     "metadata": {},
     "output_type": "execute_result"
    }
   ],
   "source": [
    "model = ThreeInputsNet()\n",
    "model_out = model((ex_inp1, ex_inp2, ex_inp3))\n",
    "\n",
    "model_out.shape"
   ]
  },
  {
   "cell_type": "code",
   "execution_count": 94,
   "metadata": {
    "execution": {
     "iopub.execute_input": "2022-11-09T18:05:57.816650Z",
     "iopub.status.busy": "2022-11-09T18:05:57.816271Z",
     "iopub.status.idle": "2022-11-09T18:06:00.062725Z",
     "shell.execute_reply": "2022-11-09T18:06:00.061645Z",
     "shell.execute_reply.started": "2022-11-09T18:05:57.816617Z"
    }
   },
   "outputs": [],
   "source": [
    "criterion = nn.MSELoss()\n",
    "loss = criterion(model_out.flatten(), torch.from_numpy(target))\n",
    "loss.backward()\n"
   ]
  },
  {
   "cell_type": "code",
   "execution_count": 66,
   "metadata": {},
   "outputs": [
    {
     "name": "stdout",
     "output_type": "stream",
     "text": [
      "(256, 14)\n"
     ]
    }
   ],
   "source": [
    "for batch, target in train_iterator:\n",
    "    print(batch[\"Title\"].shape)\n",
    "    break"
   ]
  },
  {
   "cell_type": "code",
   "execution_count": 138,
   "metadata": {
    "execution": {
     "iopub.execute_input": "2022-11-09T19:31:31.640781Z",
     "iopub.status.busy": "2022-11-09T19:31:31.640375Z",
     "iopub.status.idle": "2022-11-09T19:31:31.656766Z",
     "shell.execute_reply": "2022-11-09T19:31:31.655574Z",
     "shell.execute_reply.started": "2022-11-09T19:31:31.640749Z"
    }
   },
   "outputs": [],
   "source": [
    "def train_model(model, data_train, data_val, criterion, \n",
    "                optimizer, scheduler, batch_size, num_epochs):\n",
    "    start_time = time.time()\n",
    "    \n",
    "    for epoch in range(num_epochs):\n",
    "        train_iterator = iterate_minibatches(data_train, batch_size=batch_size, shuffle=True)\n",
    "        val_iterator = iterate_minibatches(data_val, batch_size=batch_size, shuffle=False)\n",
    "        start_epoch_time = time.time()\n",
    "        print(15*\"---\")\n",
    "        print(f\"epoch: {epoch+1}/{num_epochs}\")\n",
    "        loss_train, loss_val = [], []\n",
    "        y_true_train, y_true_val = [], []\n",
    "        y_pred_train, y_pred_val = [], []\n",
    "        for X_batch, y_batch in train_iterator:\n",
    "            x_title, x_desc, x_cat = X_batch[\"Title\"], X_batch[\"FullDescription\"], X_batch[\"Categorical\"]\n",
    "            x_title, x_desc, x_cat = torch.from_numpy(x_title), torch.from_numpy(x_desc), torch.from_numpy(x_cat)\n",
    "            x_title, x_desc, x_cat = x_title.to(device), x_desc.to(device), x_cat.to(device)\n",
    "            y_batch = torch.from_numpy(y_batch).to(device)\n",
    "            output = model((x_title, x_desc, x_cat))\n",
    "            loss = criterion(output.flatten(), y_batch)\n",
    "            loss.backward()\n",
    "            optimizer.step()\n",
    "            optimizer.zero_grad()\n",
    "            \n",
    "            loss_train.append(loss.item())\n",
    "            y_true_train += list(y_batch.cpu().detach().numpy())\n",
    "            y_pred_train += list(output.cpu().detach().numpy())\n",
    "        # scheduler.step()\n",
    "        \n",
    "        with torch.no_grad():\n",
    "            for X_batch, y_batch in val_iterator:\n",
    "                x_title, x_desc, x_cat = X_batch[\"Title\"], X_batch[\"FullDescription\"], X_batch[\"Categorical\"]\n",
    "                x_title, x_desc, x_cat = torch.from_numpy(x_title), torch.from_numpy(x_desc), torch.from_numpy(x_cat)\n",
    "                x_title, x_desc, x_cat = x_title.to(device), x_desc.to(device), x_cat.to(device)\n",
    "                y_batch = torch.from_numpy(y_batch).to(device)\n",
    "                output = model((x_title, x_desc, x_cat))\n",
    "                loss = criterion(output.flatten(), y_batch)\n",
    "                loss_val.append(loss.item())\n",
    "                \n",
    "                y_true_val += list(y_batch.cpu().detach().numpy())\n",
    "                y_pred_val += list(output.cpu().detach().numpy())\n",
    "        \n",
    "        end_epoch_time = time.time()\n",
    "        \n",
    "        epoch_time = start_epoch_time - end_epoch_time\n",
    "        print(f\"Time for epoch: {(epoch_time//60):.1f} m, {(epoch_time%60):.2f} s\")    \n",
    "        print(f\"Training loss: {np.mean(loss_train):.3f}, r2_score: {r2_score(y_true_train, y_pred_train):.3f} \" )\n",
    "        print(f\"Validation loss: {np.mean(loss_val):.3f}, r2_score: {r2_score(y_true_val, y_pred_val):.3f} \" )\n",
    "        print()\n",
    "    end_time = time.time()\n",
    "    all_time = start_time - end_time\n",
    "    print(\"****\" * 15)\n",
    "    print(f\"Trainig time: {(all_time//60):.1f} m, {(all_time%60):1f} s\")"
   ]
  },
  {
   "cell_type": "code",
   "execution_count": 139,
   "metadata": {
    "execution": {
     "iopub.execute_input": "2022-11-09T19:31:35.010534Z",
     "iopub.status.busy": "2022-11-09T19:31:35.010165Z",
     "iopub.status.idle": "2022-11-09T19:31:35.060095Z",
     "shell.execute_reply": "2022-11-09T19:31:35.058845Z",
     "shell.execute_reply.started": "2022-11-09T19:31:35.010498Z"
    }
   },
   "outputs": [],
   "source": [
    "model = ThreeInputsNet().to(device)\n",
    "criterion = nn.MSELoss()\n",
    "optimizer = torch.optim.Adam(model.parameters())\n",
    "# exp_lr_scheduler = lr_scheduler.StepLR(optimizer, step_size=2, gamma=0.1)"
   ]
  },
  {
   "cell_type": "code",
   "execution_count": 134,
   "metadata": {
    "execution": {
     "iopub.execute_input": "2022-11-09T18:54:45.144571Z",
     "iopub.status.busy": "2022-11-09T18:54:45.144145Z",
     "iopub.status.idle": "2022-11-09T19:20:25.881127Z",
     "shell.execute_reply": "2022-11-09T19:20:25.880091Z",
     "shell.execute_reply.started": "2022-11-09T18:54:45.144537Z"
    }
   },
   "outputs": [
    {
     "name": "stdout",
     "output_type": "stream",
     "text": [
      "---------------------------------------------\n",
      "epoch: 1/15\n",
      "Time for epoch: -2.0 m, 17.45 s\n",
      "Training loss: 0.532, r2_score: -1.199 \n",
      "Validation loss: 0.227, r2_score: 0.057 \n",
      "\n",
      "---------------------------------------------\n",
      "epoch: 2/15\n",
      "Time for epoch: -2.0 m, 17.95 s\n",
      "Training loss: 0.163, r2_score: 0.326 \n",
      "Validation loss: 0.119, r2_score: 0.504 \n",
      "\n",
      "---------------------------------------------\n",
      "epoch: 3/15\n",
      "Time for epoch: -2.0 m, 17.68 s\n",
      "Training loss: 0.121, r2_score: 0.499 \n",
      "Validation loss: 0.132, r2_score: 0.453 \n",
      "\n",
      "---------------------------------------------\n",
      "epoch: 4/15\n",
      "Time for epoch: -2.0 m, 17.41 s\n",
      "Training loss: 0.113, r2_score: 0.531 \n",
      "Validation loss: 0.094, r2_score: 0.609 \n",
      "\n",
      "---------------------------------------------\n",
      "epoch: 5/15\n",
      "Time for epoch: -2.0 m, 16.67 s\n",
      "Training loss: 0.090, r2_score: 0.629 \n",
      "Validation loss: 0.093, r2_score: 0.615 \n",
      "\n",
      "---------------------------------------------\n",
      "epoch: 6/15\n",
      "Time for epoch: -2.0 m, 16.98 s\n",
      "Training loss: 0.085, r2_score: 0.650 \n",
      "Validation loss: 0.085, r2_score: 0.646 \n",
      "\n",
      "---------------------------------------------\n",
      "epoch: 7/15\n",
      "Time for epoch: -2.0 m, 16.80 s\n",
      "Training loss: 0.081, r2_score: 0.666 \n",
      "Validation loss: 0.086, r2_score: 0.643 \n",
      "\n",
      "---------------------------------------------\n",
      "epoch: 8/15\n",
      "Time for epoch: -2.0 m, 16.88 s\n",
      "Training loss: 0.072, r2_score: 0.702 \n",
      "Validation loss: 0.086, r2_score: 0.644 \n",
      "\n",
      "---------------------------------------------\n",
      "epoch: 9/15\n",
      "Time for epoch: -2.0 m, 17.52 s\n",
      "Training loss: 0.071, r2_score: 0.706 \n",
      "Validation loss: 0.076, r2_score: 0.685 \n",
      "\n",
      "---------------------------------------------\n",
      "epoch: 10/15\n",
      "Time for epoch: -2.0 m, 16.74 s\n",
      "Training loss: 0.065, r2_score: 0.730 \n",
      "Validation loss: 0.078, r2_score: 0.676 \n",
      "\n",
      "---------------------------------------------\n",
      "epoch: 11/15\n",
      "Time for epoch: -2.0 m, 17.55 s\n",
      "Training loss: 0.063, r2_score: 0.739 \n",
      "Validation loss: 0.073, r2_score: 0.698 \n",
      "\n",
      "---------------------------------------------\n",
      "epoch: 12/15\n",
      "Time for epoch: -2.0 m, 17.71 s\n",
      "Training loss: 0.059, r2_score: 0.757 \n",
      "Validation loss: 0.086, r2_score: 0.644 \n",
      "\n",
      "---------------------------------------------\n",
      "epoch: 13/15\n",
      "Time for epoch: -2.0 m, 17.70 s\n",
      "Training loss: 0.054, r2_score: 0.776 \n",
      "Validation loss: 0.092, r2_score: 0.616 \n",
      "\n",
      "---------------------------------------------\n",
      "epoch: 14/15\n",
      "Time for epoch: -2.0 m, 18.00 s\n",
      "Training loss: 0.054, r2_score: 0.777 \n",
      "Validation loss: 0.072, r2_score: 0.699 \n",
      "\n",
      "---------------------------------------------\n",
      "epoch: 15/15\n",
      "Time for epoch: -2.0 m, 17.91 s\n",
      "Training loss: 0.050, r2_score: 0.794 \n",
      "Validation loss: 0.077, r2_score: 0.678 \n",
      "\n",
      "************************************************************\n",
      "Trainig time: -26.0 m, 19.299557 s\n"
     ]
    }
   ],
   "source": [
    "train_model(model, data_train, data_val, criterion, optimizer, batch_size = 256, num_epochs = 15)"
   ]
  },
  {
   "cell_type": "code",
   "execution_count": 135,
   "metadata": {
    "execution": {
     "iopub.execute_input": "2022-11-09T19:24:30.912188Z",
     "iopub.status.busy": "2022-11-09T19:24:30.911011Z",
     "iopub.status.idle": "2022-11-09T19:25:39.681771Z",
     "shell.execute_reply": "2022-11-09T19:25:39.680750Z",
     "shell.execute_reply.started": "2022-11-09T19:24:30.912147Z"
    }
   },
   "outputs": [
    {
     "name": "stdout",
     "output_type": "stream",
     "text": [
      "Train:\n",
      "MSE: 0.04887\n",
      "MAE: 0.16928\n",
      "R2_score: 0.79799\n",
      "Val:\n",
      "MSE: 0.07745\n",
      "MAE: 0.21076\n",
      "R2_score: 0.67793\n"
     ]
    }
   ],
   "source": [
    "@torch.no_grad()\n",
    "def evaluate_model(model, data, batch_size=256, name=None, **kwargs):\n",
    "    squared_error = abs_error = num_samples = 0.0\n",
    "    y_true = []\n",
    "    y_pred = []\n",
    "    \n",
    "    data_iterator = iterate_minibatches(data, batch_size, shuffle=False, **kwargs)\n",
    "    for batch, target in data_iterator:\n",
    "        \n",
    "        x_title, x_desc, x_cat = batch[\"Title\"], batch[\"FullDescription\"], batch[\"Categorical\"]\n",
    "        x_title, x_desc, x_cat = torch.from_numpy(x_title), torch.from_numpy(x_desc), torch.from_numpy(x_cat)\n",
    "        x_title, x_desc, x_cat = x_title.to(device), x_desc.to(device), x_cat.to(device)\n",
    "        \n",
    "        pred = model((x_title, x_desc, x_cat))[:, 0].cpu().numpy()\n",
    "        \n",
    "        y_true += list(target)\n",
    "        y_pred += list(pred)\n",
    "        \n",
    "        squared_error += np.sum(np.square(pred - target))\n",
    "        abs_error += np.sum(np.abs(pred - target))\n",
    "        num_samples += len(target)\n",
    "\n",
    "    if name is not None:\n",
    "        print(f\"{name}:\")\n",
    "\n",
    "    print(f\"MSE: {squared_error / num_samples:.5f}\")\n",
    "    print(f\"MAE: {abs_error / num_samples:.5f}\")\n",
    "    print(f\"R2_score: {r2_score(y_true, y_pred):.5f}\")\n",
    "    \n",
    "    return y_true, y_pred\n",
    "\n",
    "y_true_train, y_pred_train = evaluate_model(model, data_train, name=\"Train\")\n",
    "y_true_val, y_pred_val = evaluate_model(model, data_val, name=\"Val\")"
   ]
  },
  {
   "cell_type": "code",
   "execution_count": 136,
   "metadata": {
    "execution": {
     "iopub.execute_input": "2022-11-09T19:27:17.124221Z",
     "iopub.status.busy": "2022-11-09T19:27:17.123325Z",
     "iopub.status.idle": "2022-11-09T19:27:17.516395Z",
     "shell.execute_reply": "2022-11-09T19:27:17.515415Z",
     "shell.execute_reply.started": "2022-11-09T19:27:17.124183Z"
    }
   },
   "outputs": [
    {
     "data": {
      "text/plain": [
       "<matplotlib.legend.Legend at 0x7f073c4fd750>"
      ]
     },
     "execution_count": 136,
     "metadata": {},
     "output_type": "execute_result"
    },
    {
     "data": {
      "image/png": "[encoded data removed]",
      "text/plain": [
       "<Figure size 1080x360 with 2 Axes>"
      ]
     },
     "metadata": {},
     "output_type": "display_data"
    }
   ],
   "source": [
    "count = 100\n",
    "plt.figure(figsize = (15, 5))\n",
    "\n",
    "plt.subplot(1, 2, 1)\n",
    "plt.plot(range(len(y_true_train[:count])), y_true_train[:count], label = \"true_on_train\")\n",
    "plt.plot(range(len(y_pred_train[:count])), y_pred_train[:count], label = \"pred_on_train\")\n",
    "plt.legend()\n",
    "plt.subplot(1, 2, 2)\n",
    "plt.plot(range(len(y_true_val[:count])), y_true_val[:count], label = \"true_on_val\")\n",
    "plt.plot(range(len(y_pred_val[:count])), y_pred_val[:count], label = \"pred_on_val\")\n",
    "plt.legend()"
   ]
  },
  {
   "cell_type": "markdown",
   "metadata": {},
   "source": [
    "### Bonus area 2: comparing RNN to CNN\n",
    "Try implementing simple RNN (or LSTM) and applying it to this task. Compare the quality/performance of these networks. \n",
    "*Hint: try to build networks with ~same number of paremeters.*"
   ]
  },
  {
   "cell_type": "code",
   "execution_count": null,
   "metadata": {
    "id": "rQVzJyCMpHfe"
   },
   "outputs": [],
   "source": [
    "# YOUR CODE HERE\n",
    "\n",
    "class rnn_model(nn.Model):\n",
    "    \n",
    "    def __init__(self, num_tokens, emb_dim, hid_dim, num_class):\n",
    "        self.emb_layer = nn.Embedding(num_tokens, emb_dim)\n",
    "        self.rnn = nn.LSTM(emb_size, hid_dim, batch_first=True)\n",
    "        self.fc =  nn.Linear(hid_dim, num_classes)\n",
    "        \n",
    "        \n",
    "        "
   ]
  },
  {
   "cell_type": "code",
   "execution_count": null,
   "metadata": {},
   "outputs": [],
   "source": []
  },
  {
   "cell_type": "markdown",
   "metadata": {
    "id": "jPn2Q0wXpHfe"
   },
   "source": [
    "### Bonus area 3: fixing the data leaks\n",
    "Fix the data leak we ignored in the beginning of the __Deep Learning part__. Compare results with and without data leaks using same architectures and training time.\n"
   ]
  },
  {
   "cell_type": "code",
   "execution_count": null,
   "metadata": {
    "id": "DVgBWPpjpHfe"
   },
   "outputs": [],
   "source": [
    "# YOUR CODE HERE"
   ]
  },
  {
   "cell_type": "markdown",
   "metadata": {
    "id": "V-iOq02ZpHfe"
   },
   "source": [
    "__Terrible start-up idea #1962:__ make a tool that automaticaly rephrases your job description (or CV) to meet salary expectations :)"
   ]
  }
 ],
 "metadata": {
  "colab": {
   "collapsed_sections": [],
   "name": "binpord_practice_cnn_for_texts_clean.ipynb",
   "provenance": []
  },
  "gpuClass": "standard",
  "kernelspec": {
   "display_name": "Python 3",
   "language": "python",
   "name": "python3"
  },
  "language_info": {
   "codemirror_mode": {
    "name": "ipython",
    "version": 3
   },
   "file_extension": ".py",
   "mimetype": "text/x-python",
   "name": "python",
   "nbconvert_exporter": "python",
   "pygments_lexer": "ipython3",
   "version": "3.8.5"
  }
 },
 "nbformat": 4,
 "nbformat_minor": 4
}
