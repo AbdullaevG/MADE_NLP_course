{
 "cells": [
  {
   "cell_type": "code",
   "execution_count": 1,
   "id": "46c1a41b",
   "metadata": {},
   "outputs": [],
   "source": [
    "from data.make_dataset import iterators_and_fields\n",
    "from entity.train_pipeline_params import read_training_pipeline_params"
   ]
  },
  {
   "cell_type": "code",
   "execution_count": 16,
   "id": "551a7cc9",
   "metadata": {},
   "outputs": [],
   "source": [
    "data_params = read_training_pipeline_params(\"../configs/train_config.yml\").dataparams"
   ]
  },
  {
   "cell_type": "code",
   "execution_count": 17,
   "id": "abd83bc0",
   "metadata": {},
   "outputs": [
    {
     "data": {
      "text/plain": [
       "DataParams(path_to_data='data/raw/small_data.txt', file_format='tsv', split_ratio=[0.8, 0.15, 0.05], min_word_freq=3, batch_size=128)"
      ]
     },
     "execution_count": 17,
     "metadata": {},
     "output_type": "execute_result"
    }
   ],
   "source": [
    "data_params"
   ]
  },
  {
   "cell_type": "code",
   "execution_count": 18,
   "id": "d89e60b9",
   "metadata": {},
   "outputs": [
    {
     "data": {
      "text/plain": [
       "{'path_to_data': 'data/raw/small_data.txt',\n",
       " 'file_format': 'tsv',\n",
       " 'split_ratio': [0.8, 0.15, 0.05],\n",
       " 'min_word_freq': 3,\n",
       " 'batch_size': 128}"
      ]
     },
     "execution_count": 18,
     "metadata": {},
     "output_type": "execute_result"
    }
   ],
   "source": [
    "vars(data_params)"
   ]
  },
  {
   "cell_type": "code",
   "execution_count": 8,
   "id": "a23bff04",
   "metadata": {},
   "outputs": [
    {
     "ename": "AttributeError",
     "evalue": "'dict' object has no attribute 'path_to_data'",
     "output_type": "error",
     "traceback": [
      "\u001b[1;31m---------------------------------------------------------------------------\u001b[0m",
      "\u001b[1;31mAttributeError\u001b[0m                            Traceback (most recent call last)",
      "\u001b[1;32m<ipython-input-8-5751c5bc7324>\u001b[0m in \u001b[0;36m<module>\u001b[1;34m\u001b[0m\n\u001b[1;32m----> 1\u001b[1;33m \u001b[0mdata_params\u001b[0m\u001b[1;33m.\u001b[0m\u001b[0mpath_to_data\u001b[0m\u001b[1;33m\u001b[0m\u001b[1;33m\u001b[0m\u001b[0m\n\u001b[0m",
      "\u001b[1;31mAttributeError\u001b[0m: 'dict' object has no attribute 'path_to_data'"
     ]
    }
   ],
   "source": [
    "data_params.path_to_data"
   ]
  },
  {
   "cell_type": "code",
   "execution_count": null,
   "id": "5e6ad2cd",
   "metadata": {},
   "outputs": [],
   "source": []
  }
 ],
 "metadata": {
  "kernelspec": {
   "display_name": "Python 3",
   "language": "python",
   "name": "python3"
  },
  "language_info": {
   "codemirror_mode": {
    "name": "ipython",
    "version": 3
   },
   "file_extension": ".py",
   "mimetype": "text/x-python",
   "name": "python",
   "nbconvert_exporter": "python",
   "pygments_lexer": "ipython3",
   "version": "3.8.5"
  }
 },
 "nbformat": 4,
 "nbformat_minor": 5
}
