{
  "cells": [
    {
      "cell_type": "markdown",
      "metadata": {
        "id": "Fph44E8ouoUS"
      },
      "source": [
        "## Lab 2"
      ]
    },
    {
      "cell_type": "markdown",
      "metadata": {
        "id": "IUauSln-uoUX"
      },
      "source": [
        "### Part 3. Poetry generation\n",
        "\n",
        "Let's try to generate some poetry using RNNs. \n",
        "\n",
        "You have several choices here: \n",
        "\n",
        "* The Shakespeare sonnets, file `sonnets.txt` available in the notebook directory.\n",
        "\n",
        "* Роман в стихах \"Евгений Онегин\" Александра Сергеевича Пушкина. В предобработанном виде доступен по [ссылке](https://github.com/attatrol/data_sources/blob/master/onegin.txt).\n",
        "\n",
        "* Some other text source, if it will be approved by the course staff.\n",
        "\n",
        "Text generation can be designed in several steps:\n",
        "    \n",
        "1. Data loading.\n",
        "2. Dictionary generation.\n",
        "3. Data preprocessing.\n",
        "4. Model (neural network) training.\n",
        "5. Text generation (model evaluation).\n"
      ]
    },
    {
      "cell_type": "code",
      "execution_count": null,
      "metadata": {
        "id": "cdBnxtgnuoUY"
      },
      "outputs": [],
      "source": [
        "import string\n",
        "import os\n",
        "\n",
        "import numpy as np\n",
        "import matplotlib.pyplot as plt\n",
        "plt.style.use(\"dark_background\")\n",
        "\n",
        "import torch\n",
        "import torch.nn as nn\n",
        "import torch.nn.functional as F\n",
        "# Your plot code here\n",
        "from IPython.display import clear_output\n",
        "from random import sample"
      ]
    },
    {
      "cell_type": "markdown",
      "metadata": {
        "id": "1R2JiI_wuoUZ"
      },
      "source": [
        "### Data loading: Shakespeare"
      ]
    },
    {
      "cell_type": "markdown",
      "metadata": {
        "id": "buRr1i4XuoUa"
      },
      "source": [
        "Shakespeare sonnets are awailable at this [link](http://www.gutenberg.org/ebooks/1041?msg=welcome_stranger). In addition, they are stored in the same directory as this notebook (`sonnetes.txt`). Simple preprocessing is already done for you in the next cell: all technical info is dropped."
      ]
    },
    {
      "cell_type": "code",
      "execution_count": null,
      "metadata": {
        "colab": {
          "base_uri": "https://localhost:8080/"
        },
        "id": "AskrduA8uoUa",
        "outputId": "ae70dc42-27b1-4233-b4df-0c7e49dc0844"
      },
      "outputs": [
        {
          "output_type": "stream",
          "name": "stdout",
          "text": [
            "--2023-06-12 17:32:03--  https://raw.githubusercontent.com/neychev/made_nlp_course/spring2021/homeworks/Lab01_Poetry_generation/sonnets.txt\n",
            "Resolving raw.githubusercontent.com (raw.githubusercontent.com)... 185.199.108.133, 185.199.109.133, 185.199.110.133, ...\n",
            "Connecting to raw.githubusercontent.com (raw.githubusercontent.com)|185.199.108.133|:443... connected.\n",
            "HTTP request sent, awaiting response... 200 OK\n",
            "Length: 119748 (117K) [text/plain]\n",
            "Saving to: ‘sonnets.txt’\n",
            "\n",
            "sonnets.txt         100%[===================>] 116.94K  --.-KB/s    in 0.01s   \n",
            "\n",
            "2023-06-12 17:32:03 (8.06 MB/s) - ‘sonnets.txt’ saved [119748/119748]\n",
            "\n"
          ]
        }
      ],
      "source": [
        "if not os.path.exists('sonnets.txt'):\n",
        "    !wget https://raw.githubusercontent.com/neychev/made_nlp_course/spring2021/homeworks/Lab01_Poetry_generation/sonnets.txt\n",
        "\n",
        "with open('sonnets.txt', 'r') as iofile:\n",
        "    text = iofile.readlines()\n",
        "    \n",
        "TEXT_START = 45\n",
        "TEXT_END = -368\n",
        "text = text[TEXT_START : TEXT_END]\n",
        "assert len(text) == 2616"
      ]
    },
    {
      "cell_type": "markdown",
      "metadata": {
        "id": "zNRzKNp7uoUb"
      },
      "source": [
        "In opposite to the in-class practice, this time we want to predict complex text. Let's reduce the complexity of the task and lowercase all the symbols.\n",
        "\n",
        "Now variable `text` is a list of strings. Join all the strings into one and lowercase it."
      ]
    },
    {
      "cell_type": "code",
      "execution_count": null,
      "metadata": {
        "id": "t5rXw1weuoUb"
      },
      "outputs": [],
      "source": [
        "rows = text.copy()"
      ]
    },
    {
      "cell_type": "code",
      "execution_count": null,
      "metadata": {
        "colab": {
          "base_uri": "https://localhost:8080/",
          "height": 430
        },
        "id": "9sWl6dVOuoUc",
        "outputId": "abf98342-7956-4cd2-bcd8-7cee25c5c763"
      },
      "outputs": [
        {
          "output_type": "display_data",
          "data": {
            "text/plain": [
              "<Figure size 640x480 with 1 Axes>"
            ],
            "image/png": "[encoded data removed]"
          },
          "metadata": {}
        }
      ],
      "source": [
        "plt.hist(list(map(len, rows)), bins=25)\n",
        "plt.show()"
      ]
    },
    {
      "cell_type": "code",
      "execution_count": null,
      "metadata": {
        "colab": {
          "base_uri": "https://localhost:8080/"
        },
        "id": "sgRmRi_KuoUd",
        "outputId": "b57c850b-59b6-4327-e90b-dabca898df00"
      },
      "outputs": [
        {
          "output_type": "stream",
          "name": "stdout",
          "text": [
            "OK!\n"
          ]
        }
      ],
      "source": [
        "# Join all the strings into one and lowercase it\n",
        "# Put result into variable text.\n",
        "text = \"\".join(text).lower()\n",
        "# Your great code here\n",
        "\n",
        "assert len(text) == 100225, 'Are you sure you have concatenated all the strings?'\n",
        "assert not any([x in set(text) for x in string.ascii_uppercase]), 'Uppercase letters are present'\n",
        "print('OK!')"
      ]
    },
    {
      "cell_type": "markdown",
      "metadata": {
        "id": "NK5tSFHLuoUd"
      },
      "source": [
        "### Data loading: \"Евгений Онегин\"\n"
      ]
    },
    {
      "cell_type": "markdown",
      "metadata": {
        "id": "3ROYz3RnuoUe"
      },
      "source": [
        "!wget https://raw.githubusercontent.com/attatrol/data_sources/master/onegin.txt\n",
        "    \n",
        "with open('onegin.txt', 'r', encoding=\"utf-8\") as iofile:\n",
        "    text = iofile.readlines()\n",
        "    \n",
        "text = [x.replace('\\t\\t', '') for x in text]"
      ]
    },
    {
      "cell_type": "markdown",
      "metadata": {
        "id": "ihZibJaDuoUe"
      },
      "source": [
        "In opposite to the in-class practice, this time we want to predict complex text. Let's reduce the complexity of the task and lowercase all the symbols.\n",
        "\n",
        "Now variable `text` is a list of strings. Join all the strings into one and lowercase it."
      ]
    },
    {
      "cell_type": "code",
      "execution_count": null,
      "metadata": {
        "id": "VYt92akQuoUe"
      },
      "outputs": [],
      "source": [
        "# Join all the strings into one and lowercase it\n",
        "# Put result into variable text.\n",
        "\n",
        "# Your great code here\n"
      ]
    },
    {
      "cell_type": "markdown",
      "metadata": {
        "id": "sh6_8yBmuoUf"
      },
      "source": [
        "Put all the characters, that you've seen in the text, into variable `tokens`."
      ]
    },
    {
      "cell_type": "code",
      "execution_count": null,
      "metadata": {
        "id": "Xa_fiN1_uoUf"
      },
      "outputs": [],
      "source": [
        "tokens = set()\n",
        "for token in text:\n",
        "    tokens.add(token)\n",
        "\n",
        "tokens = sorted(tokens)"
      ]
    },
    {
      "cell_type": "code",
      "source": [
        "num_tokens = len(tokens)"
      ],
      "metadata": {
        "id": "TXVLy9Oou-0Z"
      },
      "execution_count": null,
      "outputs": []
    },
    {
      "cell_type": "markdown",
      "metadata": {
        "id": "orzJYzD9uoUf"
      },
      "source": [
        "Create dictionary `token_to_idx = {<char>: <index>}` and dictionary `idx_to_token = {<index>: <char>}`"
      ]
    },
    {
      "cell_type": "code",
      "execution_count": null,
      "metadata": {
        "id": "UTE-DYOtuoUf"
      },
      "outputs": [],
      "source": [
        "# dict <index>:<char>\n",
        "# Your great code here\n",
        "token_to_idx = {char: index for index, char in enumerate(tokens)}\n",
        "# dict <char>:<index>\n",
        "# Your great code here\n",
        "idx_to_token = {index: char for index, char in enumerate(tokens)}"
      ]
    },
    {
      "cell_type": "markdown",
      "metadata": {
        "id": "NZCCZyVYuoUg"
      },
      "source": [
        "*Comment: in this task we have only 38 different tokens, so let's use one-hot encoding.*"
      ]
    },
    {
      "cell_type": "code",
      "execution_count": null,
      "metadata": {
        "id": "ntie30W6uoUg"
      },
      "outputs": [],
      "source": [
        "def to_matrix(rows, max_len=None, pad=token_to_idx[' '], dtype='int32', batch_first=True):\n",
        "    if not max_len:\n",
        "        max_len = max(map(len, rows))\n",
        "    batch = pad*np.ones(shape=(len(rows), max_len), dtype=dtype)\n",
        "    for i in range(len(batch)):\n",
        "        idxs = [token_to_idx[char] for char in rows[i].lower()]\n",
        "        batch[i, :len(idxs)] = idxs\n",
        "        \n",
        "    if not batch_first:\n",
        "        batch = np.transpose(batch)\n",
        "        \n",
        "    return batch"
      ]
    },
    {
      "cell_type": "code",
      "execution_count": null,
      "metadata": {
        "colab": {
          "base_uri": "https://localhost:8080/"
        },
        "id": "Mqiz4xrkuoUg",
        "outputId": "c79b2d44-f6ef-4270-d82d-014aa08674b5"
      },
      "outputs": [
        {
          "output_type": "stream",
          "name": "stdout",
          "text": [
            "  From fairest creatures we desire increase,\n",
            "   That thereby beauty's rose might never die,\n",
            "   But as the riper should by time decease,\n",
            "\n",
            "[[ 1  1 17 29 26 24  1 17 12 20 29 16 30 31  1 14 29 16 12 31 32 29 16 30\n",
            "   1 34 16  1 15 16 30 20 29 16  1 20 25 14 29 16 12 30 16  6  0  1]\n",
            " [ 1  1 31 19 12 31  1 31 19 16 29 16 13 36  1 13 16 12 32 31 36  3 30  1\n",
            "  29 26 30 16  1 24 20 18 19 31  1 25 16 33 16 29  1 15 20 16  6  0]\n",
            " [ 1  1 13 32 31  1 12 30  1 31 19 16  1 29 20 27 16 29  1 30 19 26 32 23\n",
            "  15  1 13 36  1 31 20 24 16  1 15 16 14 16 12 30 16  6  0  1  1  1]]\n"
          ]
        }
      ],
      "source": [
        "print(*rows[:3])\n",
        "ex_batch = to_matrix(rows[:3])\n",
        "print(ex_batch)"
      ]
    },
    {
      "cell_type": "markdown",
      "metadata": {
        "id": "ozNbhrBYuoUh"
      },
      "source": [
        "### Building the model"
      ]
    },
    {
      "cell_type": "markdown",
      "metadata": {
        "id": "S9WPQjETuoUh"
      },
      "source": [
        "Now we want to build and train recurrent neural net which would be able to something similar to Shakespeare's poetry.\n",
        "\n",
        "Let's use vanilla RNN, similar to the one created during the lesson."
      ]
    },
    {
      "cell_type": "code",
      "execution_count": null,
      "metadata": {
        "id": "TWVC0HN5uoUh"
      },
      "outputs": [],
      "source": [
        "# Your code here\n",
        "class VanilaRNN(nn.Module):\n",
        "    def __init__(self, num_tokens = len(tokens), emb_dim=64, hidden_size=128):\n",
        "        super(self.__class__, self).__init__()\n",
        "        self.num_tokens = num_tokens\n",
        "        self.emb_dim = emb_dim\n",
        "        self.hidden_size = hidden_size\n",
        "        \n",
        "        self.embedding = nn.Embedding(self.num_tokens, self.emb_dim)\n",
        "        self.hidden_update = nn.Linear(self.emb_dim+self.hidden_size, self.hidden_size)\n",
        "        self.hidden2logits = nn.Linear(self.hidden_size, self.num_tokens)\n",
        "        \n",
        "    def forward(self, x, h_prev):\n",
        "        # x = (batch_size), h_prev = (batch_size, hidden_size)\n",
        "        x_emb = self.embedding(x) # (batch_size, emb_dim)\n",
        "        x_h = torch.cat((x_emb, h_prev), axis=1) # (batch_size, emb_dim + hidd_dim)\n",
        "        h_next = torch.tanh(self.hidden_update(x_h))  # (batch_size, hidd_dim)\n",
        "        \n",
        "        logits = self.hidden2logits(h_next)  # (batch, num_tokens)\n",
        "        \n",
        "        return h_next, F.log_softmax(logits, dim=-1)\n",
        "    \n",
        "    def initial_state(self, batch_size):\n",
        "        return torch.zeros(batch_size, self.hidden_size, requires_grad=True)\n",
        "        "
      ]
    },
    {
      "cell_type": "code",
      "execution_count": null,
      "metadata": {
        "id": "o07H4OZ5uoUh"
      },
      "outputs": [],
      "source": [
        "def rnn_loop(vanila_rnn, batch_ix):\n",
        "    batch_size, max_len = batch_ix.size()\n",
        "    hidden_state = vanila_rnn.initial_state(batch_size)\n",
        "    \n",
        "    logprobs = []\n",
        "    for x_t in batch_ix.transpose(0, 1):\n",
        "        hidden_state, logits = vanila_rnn(x_t, hidden_state)\n",
        "        logprobs.append(logits)\n",
        "        \n",
        "    return torch.stack(logprobs, dim=1)"
      ]
    },
    {
      "cell_type": "markdown",
      "metadata": {
        "id": "_EhqXr62uoUi"
      },
      "source": [
        "Plot the loss function (axis X: number of epochs, axis Y: loss function)."
      ]
    },
    {
      "cell_type": "code",
      "execution_count": null,
      "metadata": {
        "collapsed": true,
        "colab": {
          "base_uri": "https://localhost:8080/",
          "height": 487
        },
        "id": "-jWgxvRouoUj",
        "outputId": "674258c7-4929-4cf3-b6a8-94586b00b637"
      },
      "outputs": [
        {
          "output_type": "display_data",
          "data": {
            "text/plain": [
              "<Figure size 1200x500 with 1 Axes>"
            ],
            "image/png": "[encoded data removed]"
          },
          "metadata": {}
        }
      ],
      "source": [
        "\n",
        "\n",
        "batch_size = 32\n",
        "def train_model(model, criterion, optimizer, num_itter=100, plot_every=10, batch_size=batch_size):\n",
        "    history = []\n",
        "    for i in range(num_itter):\n",
        "        batch_ix = to_matrix(sample(rows, 32))\n",
        "        batch_ix = torch.tensor(batch_ix, dtype=torch.int64)\n",
        "        logp_seq = rnn_loop(char_rnn, batch_ix)\n",
        "\n",
        "        # compute loss\n",
        "        predictions_logp = logp_seq[:, :-1]\n",
        "        actual_next_tokens = batch_ix[:, 1:]\n",
        "\n",
        "        loss = criterion(predictions_logp.contiguous().view(-1, num_tokens), \n",
        "                         actual_next_tokens.contiguous().view(-1))\n",
        "        loss.backward()\n",
        "        optimizer.step()\n",
        "        optimizer.zero_grad()\n",
        "        \n",
        "        history.append(loss.data.numpy())\n",
        "        \n",
        "        if (i+1)%plot_every==0:\n",
        "            clear_output(True)\n",
        "            plt.figure(figsize=(12, 5))\n",
        "            plt.grid()\n",
        "            plt.plot(history, label='loss')\n",
        "            plt.legend()\n",
        "            plt.xlabel(\"#iterration\")\n",
        "            plt.ylabel(\"loss\")\n",
        "            plt.title(\"Training process\")\n",
        "            plt.show()\n",
        "            \n",
        "    return history\n",
        "\n",
        "\n",
        "char_rnn = VanilaRNN()\n",
        "criterion = nn.NLLLoss()\n",
        "optimizer = torch.optim.Adam(char_rnn.parameters())\n",
        "history = train_model(char_rnn, criterion, optimizer, num_itter=2000, plot_every=100)"
      ]
    },
    {
      "cell_type": "code",
      "execution_count": null,
      "metadata": {
        "colab": {
          "base_uri": "https://localhost:8080/"
        },
        "id": "9PZ-wvctuoUj",
        "outputId": "ccfae305-a022-429c-dff1-2e2418ba2b60"
      },
      "outputs": [
        {
          "output_type": "stream",
          "name": "stdout",
          "text": [
            "    but kind,\n",
            "                                         \n",
            "  no forsul's ane of self tell with loving and on yourt\n",
            "  cxi\n",
            "                                                 \n",
            "  where nembere.\n",
            "                                      \n",
            "  shath to me agreving race\n",
            "                           \n",
            "  as me againtu'd,\n",
            "                                    \n",
            "  as it book, but my our praises as that to ad it me pl\n",
            "  and you are,\n",
            "                                        \n",
            "  croves sthis cherest revent\n",
            "                         \n",
            "  surild onferus or demong mights to putious divies blo\n"
          ]
        }
      ],
      "source": [
        "MAX_LENGTH = 55\n",
        "def generate_sample(char_rnn, seed_phrase=' Hello', max_length=MAX_LENGTH, temperature=1.0):\n",
        "    '''\n",
        "    ### Disclaimer: this is an example function for text generation.\n",
        "    ### You can either adapt it in your code or create your own function\n",
        "    \n",
        "    The function generates text given a phrase of length at least SEQ_LENGTH.\n",
        "    :param seed_phrase: prefix characters. The RNN is asked to continue the phrase\n",
        "    :param max_length: maximum output length, including seed_phrase\n",
        "    :param temperature: coefficient for sampling.  higher temperature produces more chaotic outputs, \n",
        "        smaller temperature converges to the single most likely output.\n",
        "        \n",
        "    Be careful with the model output. This model waits logits (not probabilities/log-probabilities)\n",
        "    of the next symbol.\n",
        "    '''\n",
        "    \n",
        "    x_sequence = [token_to_idx[token] for token in seed_phrase.lower()]\n",
        "    x_sequence = torch.tensor([x_sequence], dtype=torch.int64)\n",
        "    hid_state = char_rnn.initial_state(batch_size=1)\n",
        "    \n",
        "    #feed the seed phrase, if any\n",
        "    for i in range(len(seed_phrase) - 1):\n",
        "        hid_state, _ = char_rnn(x_sequence[:, i], hid_state)\n",
        "    \n",
        "    #start generating\n",
        "    with torch.no_grad():\n",
        "        for _ in range(max_length - len(seed_phrase)):\n",
        "           # print(x_sequence.shape, x_sequence, hid_state.shape)\n",
        "            hid_state, out = char_rnn(x_sequence[:, -1], hid_state)\n",
        "            # Be really careful here with the model output\n",
        "            p_next = F.softmax(out / temperature, dim=-1).data.numpy()[0]\n",
        "\n",
        "            # sample next token and push it back into x_sequence\n",
        "            #print(p_next.shape, len(tokens))\n",
        "            next_ix = np.random.choice(len(tokens), p=p_next)\n",
        "            next_ix = torch.tensor([[next_ix]], dtype=torch.int64)\n",
        "            #print(x_sequence.shape, next_ix.shape)\n",
        "            x_sequence = torch.cat([x_sequence, next_ix], dim=1)\n",
        "\n",
        "    return ''.join([tokens[ix] for ix in x_sequence.data.numpy()[0]])\n",
        "\n",
        "for _ in range(10):\n",
        "  print(generate_sample(char_rnn, seed_phrase=' '))"
      ]
    },
    {
      "cell_type": "code",
      "source": [
        "MAX_LENGTH = 500\n",
        "print(generate_sample(char_rnn, seed_phrase=' ', max_length=MAX_LENGTH, temperature=0.5))"
      ],
      "metadata": {
        "colab": {
          "base_uri": "https://localhost:8080/"
        },
        "id": "URmAbMs20a70",
        "outputId": "85671206-fa7a-4693-aebd-aa15210b2130"
      },
      "execution_count": null,
      "outputs": [
        {
          "output_type": "stream",
          "name": "stdout",
          "text": [
            "  with thine of bright, that thou prease knows not but some of the sain with the part contrest thou art sure and thy seem to thy be thine mook beauty along the words, and thee,\n",
            "                                                                                                                                                                                                                                                                                                                                   \n"
          ]
        }
      ]
    },
    {
      "cell_type": "code",
      "execution_count": null,
      "metadata": {
        "colab": {
          "base_uri": "https://localhost:8080/"
        },
        "id": "ONTQSvhCuoUj",
        "outputId": "bee009c9-1440-493d-c9a8-19ae4febb801"
      },
      "outputs": [
        {
          "output_type": "stream",
          "name": "stdout",
          "text": [
            "  i have that the strain,\n",
            "                             \n",
            "    their beauty self all all the twer to mence be thee\n",
            "  xiv\n",
            "                                                 \n",
            "  o    they me,\n",
            "                                       \n",
            "  the praise by shall with my sumble glate,\n",
            "           \n",
            "    and thee, why with this say thee,\n",
            "                 \n",
            "  and of thee the the beauty so the all wear the the ta\n",
            "  o! he with the sune love with then where of beauty be\n",
            "    the watter dear of the say that of his preaker whos\n",
            "  i dear that i am and doth thee well for the teet thou\n"
          ]
        }
      ],
      "source": [
        "# An example of generated text.\n",
        "for _ in range(10):\n",
        "    print(generate_sample(char_rnn, seed_phrase=' ', temperature=0.5))"
      ]
    },
    {
      "cell_type": "code",
      "source": [
        "# An example of generated text.\n",
        "for _ in range(10):\n",
        "    print(generate_sample(char_rnn, seed_phrase=' ', temperature=0.35))"
      ],
      "metadata": {
        "colab": {
          "base_uri": "https://localhost:8080/"
        },
        "id": "PDhF_-JC0RHX",
        "outputId": "e7dff722-2f7c-4ed0-a041-6a857f7e492f"
      },
      "execution_count": null,
      "outputs": [
        {
          "output_type": "stream",
          "name": "stdout",
          "text": [
            "  as thee,\n",
            "                                            \n",
            "  that with the this thee to the thy self all the prien\n",
            "  and that i the stranger state the sweet shall thee is\n",
            "  the seem that i love the lives thy say,\n",
            "             \n",
            "  and the time,\n",
            "                                       \n",
            "    and the with to the canst thou be thy shall of the \n",
            "  like i to thy proud the words and all the grows thine\n",
            "  the world so the beauty with that the beauty as thy f\n",
            "  and thou art and thy see strange thee with the prow,\n",
            "\n",
            "  the world thou were the to the same the she have the \n"
          ]
        }
      ]
    },
    {
      "cell_type": "markdown",
      "metadata": {
        "id": "SRpDK-vhuoUj"
      },
      "source": [
        "### More poetic model\n",
        "\n",
        "Let's use LSTM instead of vanilla RNN and compare the results."
      ]
    },
    {
      "cell_type": "markdown",
      "metadata": {
        "id": "6uUfMzAruoUk"
      },
      "source": [
        "Plot the loss function of the number of epochs. Does the final loss become better?"
      ]
    },
    {
      "cell_type": "code",
      "source": [
        "MAX_LENGTH = 55"
      ],
      "metadata": {
        "id": "KxvLwWqxi1mQ"
      },
      "execution_count": null,
      "outputs": []
    },
    {
      "cell_type": "code",
      "execution_count": null,
      "metadata": {
        "collapsed": true,
        "id": "xJ-lIsOsuoUk"
      },
      "outputs": [],
      "source": [
        "class MyRNN(nn.Module):\n",
        "    def __init__(self, num_tokens=num_tokens, emb_size=16, rnn_num_units=64, token_to_id=token_to_idx, num_layers=1):\n",
        "        super(self.__class__, self).__init__()\n",
        "        self.emb_size = emb_size\n",
        "        self.num_units = rnn_num_units\n",
        "        self.token_to_id = token_to_id\n",
        "        self.num_layers = num_layers\n",
        "        self.emb = nn.Embedding(num_tokens, emb_size)\n",
        "        self.rnn = nn.GRU(emb_size, rnn_num_units, batch_first=True, num_layers=self.num_layers)\n",
        "        self.hid_to_logits = nn.Linear(rnn_num_units, num_tokens)\n",
        "        \n",
        "    def forward(self, x):\n",
        "        assert isinstance(x.data, torch.LongTensor)\n",
        "        h_seq,  final_hidden = self.rnn(self.emb(x))\n",
        "        next_logits = self.hid_to_logits(h_seq)\n",
        "        next_logp = F.log_softmax(next_logits, dim=-1)\n",
        "        return next_logp, final_hidden\n",
        "    \n",
        "    def generate_text(self, seed_phrase, final_hidden, cell_state, temperature=1.0, max_length=MAX_LENGTH):\n",
        "        x_sequence = [token_to_idx[token] for token in seed_phrase]\n",
        "        x_sequence = torch.tensor([x_sequence], dtype=torch.int64)\n",
        "        \n",
        "        final_hidden, cell_state = torch.zeros(self.num_layers, 1, self.num_units), torch.zeros(self.num_layers, 1, self.num_units)\n",
        "        with torch.no_grad():\n",
        "            for _ in range(max_length - len(seed_phrase)):\n",
        "                _,  final_hidden = self.rnn(model.emb(x_sequence), (final_hidden, cell_state))\n",
        "                \n",
        "                next_logits = self.hid_to_logits(final_hidden)\n",
        "                next_logp = F.log_softmax(next_logits, dim=-1)\n",
        "                p_next = F.softmax(next_logp / temperature, dim=-1).data.numpy()[0][0]\n",
        "\n",
        "                # sample next token and push it back into x_sequence\n",
        "                next_ix = np.random.choice(num_tokens, p=p_next)\n",
        "                next_ix = torch.tensor([[next_ix]], dtype=torch.int64)\n",
        "                x_sequence = torch.cat([x_sequence, next_ix], dim=1)\n",
        "                \n",
        "        return ''.join([tokens[ix] for ix in x_sequence.data.numpy()[0]])\n"
      ]
    },
    {
      "cell_type": "code",
      "source": [
        "batch_ix = to_matrix(rows[:3])\n",
        "batch_ix = torch.tensor(batch_ix, dtype=torch.int64)\n",
        "\n",
        "my_rnn = MyRNN()\n",
        "next_logp, final_hidden = my_rnn(batch_ix)\n",
        "next_logp.shape, final_hidden.shape"
      ],
      "metadata": {
        "colab": {
          "base_uri": "https://localhost:8080/"
        },
        "id": "CsN_srEE2Mwr",
        "outputId": "a45e51ed-eba1-4b75-f1a7-dd95538a7da4"
      },
      "execution_count": null,
      "outputs": [
        {
          "output_type": "execute_result",
          "data": {
            "text/plain": [
              "(torch.Size([3, 46, 38]), torch.Size([1, 3, 64]))"
            ]
          },
          "metadata": {},
          "execution_count": 52
        }
      ]
    },
    {
      "cell_type": "code",
      "source": [
        "batch_size = 32\n",
        "def train_model(model, criterion, optimizer, num_itter=500, plot_every=100, batch_size=batch_size):\n",
        "    history = []\n",
        "    for i in range(num_itter):\n",
        "        batch_ix = to_matrix(sample(rows, batch_size))\n",
        "        batch_ix = torch.tensor(batch_ix, dtype=torch.int64)\n",
        "        logp_seq, final_hidden = model(batch_ix)\n",
        "\n",
        "        # compute loss\n",
        "        loss = criterion(logp_seq[:, :-1].contiguous().view(-1, num_tokens),\n",
        "                         batch_ix[:, 1:].contiguous().view(-1))\n",
        "        \n",
        "        # train with backprop\n",
        "        loss.backward()\n",
        "        optimizer.step()\n",
        "        optimizer.zero_grad()\n",
        "\n",
        "        history.append(loss.data.numpy())\n",
        "        if (i+1)%100==0:        \n",
        "            clear_output(True)\n",
        "            plt.figure(figsize=(12, 5))\n",
        "            plt.grid()\n",
        "            plt.plot(history,label='loss')\n",
        "            plt.legend()\n",
        "            plt.xlabel(\"#iterration\")\n",
        "            plt.ylabel(\"loss\")\n",
        "            plt.title(\"Training process\")\n",
        "            plt.show()\n",
        "    return final_hidden, cell_state\n",
        "\n",
        "model = MyRNN(emb_size=128, rnn_num_units=256, num_layers=1)\n",
        "criterion = nn.NLLLoss()\n",
        "optimizer = torch.optim.Adam(model.parameters())\n",
        "batch_size = 32\n",
        "final_hidden, cell_state = train_model(model, criterion, optimizer, num_itter=2000, plot_every=100, batch_size=batch_size)"
      ],
      "metadata": {
        "colab": {
          "base_uri": "https://localhost:8080/",
          "height": 487
        },
        "id": "otRV01lu4K3B",
        "outputId": "9b1cc677-1026-4f23-d099-f3c3b79f0591"
      },
      "execution_count": null,
      "outputs": [
        {
          "output_type": "display_data",
          "data": {
            "text/plain": [
              "<Figure size 1200x500 with 1 Axes>"
            ],
            "image/png": "[encoded data removed]"
          },
          "metadata": {}
        }
      ]
    },
    {
      "cell_type": "code",
      "source": [
        "for _ in range(10):\n",
        "    print(model.generate_text(seed_phrase=\" \", temperature=1.0, max_length=59))"
      ],
      "metadata": {
        "colab": {
          "base_uri": "https://localhost:8080/",
          "height": 183
        },
        "id": "vFCeGK2373JA",
        "outputId": "1f99fca9-6900-4958-b9cb-5bb46588feb9"
      },
      "execution_count": null,
      "outputs": [
        {
          "output_type": "error",
          "ename": "TypeError",
          "evalue": "ignored",
          "traceback": [
            "\u001b[0;31m---------------------------------------------------------------------------\u001b[0m",
            "\u001b[0;31mTypeError\u001b[0m                                 Traceback (most recent call last)",
            "\u001b[0;32m<ipython-input-54-cb569caea0bc>\u001b[0m in \u001b[0;36m<cell line: 1>\u001b[0;34m()\u001b[0m\n\u001b[1;32m      1\u001b[0m \u001b[0;32mfor\u001b[0m \u001b[0m_\u001b[0m \u001b[0;32min\u001b[0m \u001b[0mrange\u001b[0m\u001b[0;34m(\u001b[0m\u001b[0;36m10\u001b[0m\u001b[0;34m)\u001b[0m\u001b[0;34m:\u001b[0m\u001b[0;34m\u001b[0m\u001b[0;34m\u001b[0m\u001b[0m\n\u001b[0;32m----> 2\u001b[0;31m     \u001b[0mprint\u001b[0m\u001b[0;34m(\u001b[0m\u001b[0mmodel\u001b[0m\u001b[0;34m.\u001b[0m\u001b[0mgenerate_text\u001b[0m\u001b[0;34m(\u001b[0m\u001b[0mseed_phrase\u001b[0m\u001b[0;34m=\u001b[0m\u001b[0;34m\" \"\u001b[0m\u001b[0;34m,\u001b[0m \u001b[0mtemperature\u001b[0m\u001b[0;34m=\u001b[0m\u001b[0;36m1.0\u001b[0m\u001b[0;34m,\u001b[0m \u001b[0mmax_length\u001b[0m\u001b[0;34m=\u001b[0m\u001b[0;36m59\u001b[0m\u001b[0;34m)\u001b[0m\u001b[0;34m)\u001b[0m\u001b[0;34m\u001b[0m\u001b[0;34m\u001b[0m\u001b[0m\n\u001b[0m",
            "\u001b[0;31mTypeError\u001b[0m: MyRNN.generate_text() missing 2 required positional arguments: 'final_hidden' and 'cell_state'"
          ]
        }
      ]
    },
    {
      "cell_type": "code",
      "source": [
        "def generate_text(model, seed_phrase, final_hidden, temperature=1.0, max_length=MAX_LENGTH):\n",
        "        x_sequence = [token_to_idx[token] for token in seed_phrase]\n",
        "        x_sequence = torch.tensor([x_sequence], dtype=torch.int64)\n",
        "        #final_hidden, cell_state = torch.zeros(1, 1, model.num_units), torch.zeros(1, 1, model.num_units)\n",
        "        with torch.no_grad():\n",
        "            for _ in range(max_length - len(seed_phrase)):\n",
        "                hid, final_hidden = model.rnn(model.emb(x_sequence), final_hidden)\n",
        "                #print(hid.shape)\n",
        "                \n",
        "                next_logits = model.hid_to_logits(final_hidden)\n",
        "                next_logp = F.log_softmax(next_logits, dim=-1)\n",
        "                p_next = F.softmax(next_logp / temperature, dim=-1).data.numpy()[0][0]\n",
        "\n",
        "                # sample next token and push it back into x_sequence\n",
        "                next_ix = np.random.choice(num_tokens, p=p_next)\n",
        "                next_ix = torch.tensor([[next_ix]], dtype=torch.int64)\n",
        "                x_sequence = torch.cat([x_sequence, next_ix], dim=1)\n",
        "                \n",
        "        return ''.join([idx_to_token[ix] for ix in x_sequence.data.numpy()[0]])"
      ],
      "metadata": {
        "id": "nvAUzAGG5baY"
      },
      "execution_count": null,
      "outputs": []
    },
    {
      "cell_type": "code",
      "source": [
        "final_hidden = torch.zeros((1, 256))"
      ],
      "metadata": {
        "id": "kP3dqtBon3F_"
      },
      "execution_count": null,
      "outputs": []
    },
    {
      "cell_type": "markdown",
      "metadata": {
        "id": "8MhZAb1euoUk"
      },
      "source": [
        "Generate text using the trained net with different `temperature` parameter: `[0.1, 0.2, 0.5, 1.0, 2.0]`.\n",
        "\n",
        "Evaluate the results visually, try to interpret them."
      ]
    },
    {
      "cell_type": "code",
      "execution_count": null,
      "metadata": {
        "collapsed": true,
        "id": "anOqruReuoUk",
        "colab": {
          "base_uri": "https://localhost:8080/"
        },
        "outputId": "7d9c660c-5ca4-482d-ebf4-e40e2044256a"
      },
      "outputs": [
        {
          "output_type": "stream",
          "name": "stdout",
          "text": [
            "Temperature: 0.25 \n",
            "\n",
            "   then thou art,\n",
            "                                          \n",
            "   then i love thee,\n",
            "                                       \n",
            "   then i love thee,\n",
            "                                       \n",
            "   then i love thee,\n",
            "                                       \n",
            "Temperature: 0.5 \n",
            "\n",
            "   for this look,\n",
            "                                          \n",
            "   or eyes hand,\n",
            "                                           \n",
            "    when i do now forth,\n",
            "                                   \n",
            "   thou wilt love,\n",
            "                                         \n",
            "Temperature: 0.75 \n",
            "\n",
            "   and walke;\n",
            "                                              \n",
            "   or victor gevent;\n",
            "                                       \n",
            "   when i joe,\n",
            "                                             \n",
            "   and these thee,\n",
            "                                         \n",
            "Temperature: 1.0 \n",
            "\n",
            "   this aborm.\n",
            "                                             \n",
            "   maid benits  and chee?\n",
            "                                  \n",
            "           for namen confounces,\n",
            "                           \n",
            "   'tis cheek'd,\n",
            "                                           \n",
            "Temperature: 2.0 \n",
            "\n",
            "   nor; upelesc;\n",
            "                                           \n",
            "  lon an incre:\n",
            "                        emnop, whilsts cn\n",
            "  \n",
            "   he! but servate,: insaly rsismon,\n",
            "                       \n",
            "   neve may of!enc: dare!\n",
            "                                  \n"
          ]
        }
      ],
      "source": [
        "# Text generation with different temperature values here\n",
        "temps = [0.25, 0.50, 0.75, 1.0, 2.0]\n",
        "MAX_LENGTH = 60\n",
        "for i, T in enumerate(temps):\n",
        "  print(f\"Temperature: {T} \\n\")\n",
        "  for _ in range(4):\n",
        "      gen_text = generate_text(model, seed_phrase=\" \", final_hidden=final_hidden.unsqueeze(1),  temperature=T, max_length=MAX_LENGTH)\n",
        "      print(gen_text)"
      ]
    },
    {
      "cell_type": "markdown",
      "metadata": {
        "id": "MvsSjCwquoUk"
      },
      "source": [
        "### Saving and loading models"
      ]
    },
    {
      "cell_type": "markdown",
      "metadata": {
        "id": "_1BmYySBuoUk"
      },
      "source": [
        "Save the model to the disk, then load it and generate text. Examples are available [here](https://pytorch.org/tutorials/beginner/saving_loading_models.html])."
      ]
    },
    {
      "cell_type": "code",
      "execution_count": null,
      "metadata": {
        "collapsed": true,
        "id": "NHdGau15uoUu"
      },
      "outputs": [],
      "source": [
        "# Saving and loading code here"
      ]
    },
    {
      "cell_type": "markdown",
      "metadata": {
        "id": "6sn6rnluuoUu"
      },
      "source": [
        "### References\n",
        "1. <a href='http://karpathy.github.io/2015/05/21/rnn-effectiveness/'> Andrew Karpathy blog post about RNN. </a> \n",
        "There are several examples of genration: Shakespeare texts, Latex formulas, Linux Sourse Code and children names.\n",
        "2. <a href='https://github.com/karpathy/char-rnn'> Repo with char-rnn code </a>\n",
        "3. Cool repo with PyTorch examples: [link](https://github.com/spro/practical-pytorch`)"
      ]
    }
  ],
  "metadata": {
    "anaconda-cloud": {},
    "kernelspec": {
      "display_name": "Python 3",
      "name": "python3"
    },
    "language_info": {
      "codemirror_mode": {
        "name": "ipython",
        "version": 3
      },
      "file_extension": ".py",
      "mimetype": "text/x-python",
      "name": "python",
      "nbconvert_exporter": "python",
      "pygments_lexer": "ipython3",
      "version": "3.8.5"
    },
    "colab": {
      "provenance": []
    }
  },
  "nbformat": 4,
  "nbformat_minor": 0
}