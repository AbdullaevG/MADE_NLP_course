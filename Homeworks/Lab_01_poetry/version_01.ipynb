{
  "cells": [
    {
      "cell_type": "markdown",
      "metadata": {
        "id": "Fph44E8ouoUS"
      },
      "source": [
        "## Lab 2"
      ]
    },
    {
      "cell_type": "markdown",
      "metadata": {
        "id": "IUauSln-uoUX"
      },
      "source": [
        "### Part 3. Poetry generation\n",
        "\n",
        "Let's try to generate some poetry using RNNs. \n",
        "\n",
        "You have several choices here: \n",
        "\n",
        "* The Shakespeare sonnets, file `sonnets.txt` available in the notebook directory.\n",
        "\n",
        "* Роман в стихах \"Евгений Онегин\" Александра Сергеевича Пушкина. В предобработанном виде доступен по [ссылке](https://github.com/attatrol/data_sources/blob/master/onegin.txt).\n",
        "\n",
        "* Some other text source, if it will be approved by the course staff.\n",
        "\n",
        "Text generation can be designed in several steps:\n",
        "    \n",
        "1. Data loading.\n",
        "2. Dictionary generation.\n",
        "3. Data preprocessing.\n",
        "4. Model (neural network) training.\n",
        "5. Text generation (model evaluation).\n"
      ]
    },
    {
      "cell_type": "code",
      "execution_count": 19,
      "metadata": {
        "id": "cdBnxtgnuoUY"
      },
      "outputs": [],
      "source": [
        "import string\n",
        "import os\n",
        "\n",
        "import numpy as np\n",
        "import matplotlib.pyplot as plt\n",
        "plt.style.use(\"dark_background\")\n",
        "\n",
        "import torch\n",
        "import torch.nn as nn\n",
        "import torch.nn.functional as F\n",
        "# Your plot code here\n",
        "from IPython.display import clear_output\n",
        "from random import sample"
      ]
    },
    {
      "cell_type": "markdown",
      "metadata": {
        "id": "1R2JiI_wuoUZ"
      },
      "source": [
        "### Data loading: Shakespeare"
      ]
    },
    {
      "cell_type": "markdown",
      "metadata": {
        "id": "buRr1i4XuoUa"
      },
      "source": [
        "Shakespeare sonnets are awailable at this [link](http://www.gutenberg.org/ebooks/1041?msg=welcome_stranger). In addition, they are stored in the same directory as this notebook (`sonnetes.txt`). Simple preprocessing is already done for you in the next cell: all technical info is dropped."
      ]
    },
    {
      "cell_type": "code",
      "execution_count": 2,
      "metadata": {
        "colab": {
          "base_uri": "https://localhost:8080/"
        },
        "id": "AskrduA8uoUa",
        "outputId": "a610b2b5-0153-42a2-8708-03709e1189a6"
      },
      "outputs": [
        {
          "output_type": "stream",
          "name": "stdout",
          "text": [
            "--2023-06-04 17:53:12--  https://raw.githubusercontent.com/neychev/made_nlp_course/spring2021/homeworks/Lab01_Poetry_generation/sonnets.txt\n",
            "Resolving raw.githubusercontent.com (raw.githubusercontent.com)... 185.199.108.133, 185.199.109.133, 185.199.110.133, ...\n",
            "Connecting to raw.githubusercontent.com (raw.githubusercontent.com)|185.199.108.133|:443... connected.\n",
            "HTTP request sent, awaiting response... 200 OK\n",
            "Length: 119748 (117K) [text/plain]\n",
            "Saving to: ‘sonnets.txt’\n",
            "\n",
            "sonnets.txt         100%[===================>] 116.94K  --.-KB/s    in 0.01s   \n",
            "\n",
            "2023-06-04 17:53:13 (9.58 MB/s) - ‘sonnets.txt’ saved [119748/119748]\n",
            "\n"
          ]
        }
      ],
      "source": [
        "if not os.path.exists('sonnets.txt'):\n",
        "    !wget https://raw.githubusercontent.com/neychev/made_nlp_course/spring2021/homeworks/Lab01_Poetry_generation/sonnets.txt\n",
        "\n",
        "with open('sonnets.txt', 'r') as iofile:\n",
        "    text = iofile.readlines()\n",
        "    \n",
        "TEXT_START = 45\n",
        "TEXT_END = -368\n",
        "text = text[TEXT_START : TEXT_END]\n",
        "assert len(text) == 2616"
      ]
    },
    {
      "cell_type": "markdown",
      "metadata": {
        "id": "zNRzKNp7uoUb"
      },
      "source": [
        "In opposite to the in-class practice, this time we want to predict complex text. Let's reduce the complexity of the task and lowercase all the symbols.\n",
        "\n",
        "Now variable `text` is a list of strings. Join all the strings into one and lowercase it."
      ]
    },
    {
      "cell_type": "code",
      "execution_count": 3,
      "metadata": {
        "id": "t5rXw1weuoUb"
      },
      "outputs": [],
      "source": [
        "rows = text.copy()"
      ]
    },
    {
      "cell_type": "code",
      "execution_count": 4,
      "metadata": {
        "colab": {
          "base_uri": "https://localhost:8080/",
          "height": 430
        },
        "id": "9sWl6dVOuoUc",
        "outputId": "7d93d60e-3a0d-4683-eacf-fbf032f672a1"
      },
      "outputs": [
        {
          "output_type": "display_data",
          "data": {
            "text/plain": [
              "<Figure size 640x480 with 1 Axes>"
            ],
            "image/png": "[encoded data removed]"
          },
          "metadata": {}
        }
      ],
      "source": [
        "plt.hist(list(map(len, rows)), bins=25)\n",
        "plt.show()"
      ]
    },
    {
      "cell_type": "code",
      "execution_count": 5,
      "metadata": {
        "colab": {
          "base_uri": "https://localhost:8080/"
        },
        "id": "sgRmRi_KuoUd",
        "outputId": "0ec53cbe-d291-4395-aa8f-3f037f73b4c1"
      },
      "outputs": [
        {
          "output_type": "stream",
          "name": "stdout",
          "text": [
            "OK!\n"
          ]
        }
      ],
      "source": [
        "# Join all the strings into one and lowercase it\n",
        "# Put result into variable text.\n",
        "text = \"\".join(text).lower()\n",
        "# Your great code here\n",
        "\n",
        "assert len(text) == 100225, 'Are you sure you have concatenated all the strings?'\n",
        "assert not any([x in set(text) for x in string.ascii_uppercase]), 'Uppercase letters are present'\n",
        "print('OK!')"
      ]
    },
    {
      "cell_type": "markdown",
      "metadata": {
        "id": "NK5tSFHLuoUd"
      },
      "source": [
        "### Data loading: \"Евгений Онегин\"\n"
      ]
    },
    {
      "cell_type": "markdown",
      "metadata": {
        "id": "3ROYz3RnuoUe"
      },
      "source": [
        "!wget https://raw.githubusercontent.com/attatrol/data_sources/master/onegin.txt\n",
        "    \n",
        "with open('onegin.txt', 'r', encoding=\"utf-8\") as iofile:\n",
        "    text = iofile.readlines()\n",
        "    \n",
        "text = [x.replace('\\t\\t', '') for x in text]"
      ]
    },
    {
      "cell_type": "markdown",
      "metadata": {
        "id": "ihZibJaDuoUe"
      },
      "source": [
        "In opposite to the in-class practice, this time we want to predict complex text. Let's reduce the complexity of the task and lowercase all the symbols.\n",
        "\n",
        "Now variable `text` is a list of strings. Join all the strings into one and lowercase it."
      ]
    },
    {
      "cell_type": "code",
      "execution_count": null,
      "metadata": {
        "id": "VYt92akQuoUe"
      },
      "outputs": [],
      "source": [
        "# Join all the strings into one and lowercase it\n",
        "# Put result into variable text.\n",
        "\n",
        "# Your great code here\n"
      ]
    },
    {
      "cell_type": "markdown",
      "metadata": {
        "id": "sh6_8yBmuoUf"
      },
      "source": [
        "Put all the characters, that you've seen in the text, into variable `tokens`."
      ]
    },
    {
      "cell_type": "code",
      "execution_count": 6,
      "metadata": {
        "id": "Xa_fiN1_uoUf"
      },
      "outputs": [],
      "source": [
        "tokens = set()\n",
        "for token in text:\n",
        "    tokens.add(token)\n",
        "\n",
        "tokens = sorted(tokens)"
      ]
    },
    {
      "cell_type": "code",
      "source": [
        "num_tokens = len(tokens)"
      ],
      "metadata": {
        "id": "TXVLy9Oou-0Z"
      },
      "execution_count": 7,
      "outputs": []
    },
    {
      "cell_type": "markdown",
      "metadata": {
        "id": "orzJYzD9uoUf"
      },
      "source": [
        "Create dictionary `token_to_idx = {<char>: <index>}` and dictionary `idx_to_token = {<index>: <char>}`"
      ]
    },
    {
      "cell_type": "code",
      "execution_count": 8,
      "metadata": {
        "id": "UTE-DYOtuoUf"
      },
      "outputs": [],
      "source": [
        "# dict <index>:<char>\n",
        "# Your great code here\n",
        "token_to_idx = {char: index for index, char in enumerate(tokens)}\n",
        "# dict <char>:<index>\n",
        "# Your great code here\n",
        "idx_to_token = {index: char for index, char in enumerate(tokens)}"
      ]
    },
    {
      "cell_type": "markdown",
      "metadata": {
        "id": "NZCCZyVYuoUg"
      },
      "source": [
        "*Comment: in this task we have only 38 different tokens, so let's use one-hot encoding.*"
      ]
    },
    {
      "cell_type": "code",
      "execution_count": 9,
      "metadata": {
        "id": "ntie30W6uoUg"
      },
      "outputs": [],
      "source": [
        "def to_matrix(rows, max_len=None, pad=token_to_idx[' '], dtype='int32', batch_first=True):\n",
        "    if not max_len:\n",
        "        max_len = max(map(len, rows))\n",
        "    batch = pad*np.ones(shape=(len(rows), max_len), dtype=dtype)\n",
        "    for i in range(len(batch)):\n",
        "        idxs = [token_to_idx[char] for char in rows[i].lower()]\n",
        "        batch[i, :len(idxs)] = idxs\n",
        "        \n",
        "    if not batch_first:\n",
        "        batch = np.transpose(batch)\n",
        "        \n",
        "    return batch"
      ]
    },
    {
      "cell_type": "code",
      "execution_count": 10,
      "metadata": {
        "colab": {
          "base_uri": "https://localhost:8080/"
        },
        "id": "Mqiz4xrkuoUg",
        "outputId": "463587da-ec21-4983-cc50-05938e261899"
      },
      "outputs": [
        {
          "output_type": "stream",
          "name": "stdout",
          "text": [
            "  From fairest creatures we desire increase,\n",
            "   That thereby beauty's rose might never die,\n",
            "   But as the riper should by time decease,\n",
            "\n",
            "[[ 1  1 17 29 26 24  1 17 12 20 29 16 30 31  1 14 29 16 12 31 32 29 16 30\n",
            "   1 34 16  1 15 16 30 20 29 16  1 20 25 14 29 16 12 30 16  6  0  1]\n",
            " [ 1  1 31 19 12 31  1 31 19 16 29 16 13 36  1 13 16 12 32 31 36  3 30  1\n",
            "  29 26 30 16  1 24 20 18 19 31  1 25 16 33 16 29  1 15 20 16  6  0]\n",
            " [ 1  1 13 32 31  1 12 30  1 31 19 16  1 29 20 27 16 29  1 30 19 26 32 23\n",
            "  15  1 13 36  1 31 20 24 16  1 15 16 14 16 12 30 16  6  0  1  1  1]]\n"
          ]
        }
      ],
      "source": [
        "print(*rows[:3])\n",
        "ex_batch = to_matrix(rows[:3])\n",
        "print(ex_batch)"
      ]
    },
    {
      "cell_type": "markdown",
      "metadata": {
        "id": "ozNbhrBYuoUh"
      },
      "source": [
        "### Building the model"
      ]
    },
    {
      "cell_type": "markdown",
      "metadata": {
        "id": "S9WPQjETuoUh"
      },
      "source": [
        "Now we want to build and train recurrent neural net which would be able to something similar to Shakespeare's poetry.\n",
        "\n",
        "Let's use vanilla RNN, similar to the one created during the lesson."
      ]
    },
    {
      "cell_type": "code",
      "execution_count": 10,
      "metadata": {
        "id": "TWVC0HN5uoUh"
      },
      "outputs": [],
      "source": [
        "# Your code here\n",
        "class VanilaRNN(nn.Module):\n",
        "    def __init__(self, num_tokens = len(tokens), emb_dim=64, hidden_size=128):\n",
        "        super(self.__class__, self).__init__()\n",
        "        self.num_tokens = num_tokens\n",
        "        self.emb_dim = emb_dim\n",
        "        self.hidden_size = hidden_size\n",
        "        \n",
        "        self.embedding = nn.Embedding(self.num_tokens, self.emb_dim)\n",
        "        self.hidden_update = nn.Linear(self.emb_dim+self.hidden_size, self.hidden_size)\n",
        "        self.hidden2logits = nn.Linear(self.hidden_size, self.num_tokens)\n",
        "        \n",
        "    def forward(self, x, h_prev):\n",
        "        # x = (batch_size), h_prev = (batch_size, hidden_size)\n",
        "        x_emb = self.embedding(x) # (batch_size, emb_dim)\n",
        "        x_h = torch.cat((x_emb, h_prev), axis=1) # (batch_size, emb_dim + hidd_dim)\n",
        "        h_next = torch.tanh(self.hidden_update(x_h))  # (batch_size, hidd_dim)\n",
        "        \n",
        "        logits = self.hidden2logits(h_next)  # (batch, num_tokens)\n",
        "        \n",
        "        return h_next, F.log_softmax(logits, dim=-1)\n",
        "    \n",
        "    def initial_state(self, batch_size):\n",
        "        return torch.zeros(batch_size, self.hidden_size, requires_grad=True)\n",
        "        "
      ]
    },
    {
      "cell_type": "code",
      "execution_count": 11,
      "metadata": {
        "id": "o07H4OZ5uoUh"
      },
      "outputs": [],
      "source": [
        "def rnn_loop(vanila_rnn, batch_ix):\n",
        "    batch_size, max_len = batch_ix.size()\n",
        "    hidden_state = vanila_rnn.initial_state(batch_size)\n",
        "    \n",
        "    logprobs = []\n",
        "    for x_t in batch_ix.transpose(0, 1):\n",
        "        hidden_state, logits = vanila_rnn(x_t, hidden_state)\n",
        "        logprobs.append(logits)\n",
        "        \n",
        "    return torch.stack(logprobs, dim=1)"
      ]
    },
    {
      "cell_type": "markdown",
      "metadata": {
        "id": "_EhqXr62uoUi"
      },
      "source": [
        "Plot the loss function (axis X: number of epochs, axis Y: loss function)."
      ]
    },
    {
      "cell_type": "code",
      "execution_count": 16,
      "metadata": {
        "collapsed": true,
        "colab": {
          "base_uri": "https://localhost:8080/",
          "height": 487
        },
        "id": "-jWgxvRouoUj",
        "outputId": "6d310835-3439-4b2f-a69b-84e402c4632a"
      },
      "outputs": [
        {
          "output_type": "display_data",
          "data": {
            "text/plain": [
              "<Figure size 1200x500 with 1 Axes>"
            ],
            "image/png": "[encoded data removed]"
          },
          "metadata": {}
        }
      ],
      "source": [
        "\n",
        "\n",
        "batch_size = 32\n",
        "def train_model(model, criterion, optimizer, num_itter=100, plot_every=10, batch_size=batch_size):\n",
        "    history = []\n",
        "    for i in range(num_itter):\n",
        "        batch_ix = to_matrix(sample(rows, 32))\n",
        "        batch_ix = torch.tensor(batch_ix, dtype=torch.int64)\n",
        "        logp_seq = rnn_loop(char_rnn, batch_ix)\n",
        "\n",
        "        # compute loss\n",
        "        predictions_logp = logp_seq[:, :-1]\n",
        "        actual_next_tokens = batch_ix[:, 1:]\n",
        "\n",
        "        loss = criterion(predictions_logp.contiguous().view(-1, num_tokens), \n",
        "                         actual_next_tokens.contiguous().view(-1))\n",
        "        loss.backward()\n",
        "        optimizer.step()\n",
        "        optimizer.zero_grad()\n",
        "        \n",
        "        history.append(loss.data.numpy())\n",
        "        \n",
        "        if (i+1)%plot_every==0:\n",
        "            clear_output(True)\n",
        "            plt.figure(figsize=(12, 5))\n",
        "            plt.grid()\n",
        "            plt.plot(history, label='loss')\n",
        "            plt.legend()\n",
        "            plt.xlabel(\"#iterration\")\n",
        "            plt.ylabel(\"loss\")\n",
        "            plt.title(\"Training process\")\n",
        "            plt.show()\n",
        "            \n",
        "    return history\n",
        "\n",
        "\n",
        "char_rnn = VanilaRNN()\n",
        "criterion = nn.NLLLoss()\n",
        "optimizer = torch.optim.Adam(char_rnn.parameters())\n",
        "history = train_model(char_rnn, criterion, optimizer, num_itter=2000, plot_every=100)"
      ]
    },
    {
      "cell_type": "code",
      "execution_count": 21,
      "metadata": {
        "colab": {
          "base_uri": "https://localhost:8080/"
        },
        "id": "9PZ-wvctuoUj",
        "outputId": "0e141015-cc6c-4996-ab7f-844e3d0b6c32"
      },
      "outputs": [
        {
          "output_type": "stream",
          "name": "stdout",
          "text": [
            "  for sweet old, or breaspy my pirily hast as utherno m\n",
            "  selory,\n",
            "                                             \n",
            "  for when thou wourds with ary excuse and that thee fr\n",
            "  says do the ween my deed vors wist thas vike thoughan\n",
            "  i wornds.\n",
            "                                           \n",
            "  whii worth agaudy shouphiin did acrectle:\n",
            "           \n",
            "  to my desem'd not my oo that mise virit my sharace ro\n",
            "  savuilly wooture of even those vire ends of present c\n",
            "  after-frow cread the ein, sealle in to me it my partu\n",
            "  how,\n",
            "                                                \n"
          ]
        }
      ],
      "source": [
        "MAX_LENGTH = 55\n",
        "def generate_sample(char_rnn, seed_phrase=' Hello', max_length=MAX_LENGTH, temperature=1.0):\n",
        "    '''\n",
        "    ### Disclaimer: this is an example function for text generation.\n",
        "    ### You can either adapt it in your code or create your own function\n",
        "    \n",
        "    The function generates text given a phrase of length at least SEQ_LENGTH.\n",
        "    :param seed_phrase: prefix characters. The RNN is asked to continue the phrase\n",
        "    :param max_length: maximum output length, including seed_phrase\n",
        "    :param temperature: coefficient for sampling.  higher temperature produces more chaotic outputs, \n",
        "        smaller temperature converges to the single most likely output.\n",
        "        \n",
        "    Be careful with the model output. This model waits logits (not probabilities/log-probabilities)\n",
        "    of the next symbol.\n",
        "    '''\n",
        "    \n",
        "    x_sequence = [token_to_idx[token] for token in seed_phrase.lower()]\n",
        "    x_sequence = torch.tensor([x_sequence], dtype=torch.int64)\n",
        "    hid_state = char_rnn.initial_state(batch_size=1)\n",
        "    \n",
        "    #feed the seed phrase, if any\n",
        "    for i in range(len(seed_phrase) - 1):\n",
        "        hid_state, _ = char_rnn(x_sequence[:, i], hid_state)\n",
        "    \n",
        "    #start generating\n",
        "    with torch.no_grad():\n",
        "        for _ in range(max_length - len(seed_phrase)):\n",
        "           # print(x_sequence.shape, x_sequence, hid_state.shape)\n",
        "            hid_state, out = char_rnn(x_sequence[:, -1], hid_state)\n",
        "            # Be really careful here with the model output\n",
        "            p_next = F.softmax(out / temperature, dim=-1).data.numpy()[0]\n",
        "\n",
        "            # sample next token and push it back into x_sequence\n",
        "            #print(p_next.shape, len(tokens))\n",
        "            next_ix = np.random.choice(len(tokens), p=p_next)\n",
        "            next_ix = torch.tensor([[next_ix]], dtype=torch.int64)\n",
        "            #print(x_sequence.shape, next_ix.shape)\n",
        "            x_sequence = torch.cat([x_sequence, next_ix], dim=1)\n",
        "\n",
        "    return ''.join([tokens[ix] for ix in x_sequence.data.numpy()[0]])\n",
        "\n",
        "for _ in range(10):\n",
        "  print(generate_sample(char_rnn, seed_phrase=' '))"
      ]
    },
    {
      "cell_type": "code",
      "source": [
        "MAX_LENGTH = 500\n",
        "print(generate_sample(char_rnn, seed_phrase=' ', max_length=MAX_LENGTH, temperature=0.5))"
      ],
      "metadata": {
        "colab": {
          "base_uri": "https://localhost:8080/"
        },
        "id": "URmAbMs20a70",
        "outputId": "589cfb2e-4d6a-48a8-c21b-34c2b4975bd0"
      },
      "execution_count": 29,
      "outputs": [
        {
          "output_type": "stream",
          "name": "stdout",
          "text": [
            "  the ering graise the from make my from my bright from the fell of thou the love of eyes from a master my dear starn thee of my mend,\n",
            "                                                                                                                                                                                                                                                                                                                                                                             \n"
          ]
        }
      ]
    },
    {
      "cell_type": "code",
      "execution_count": 30,
      "metadata": {
        "colab": {
          "base_uri": "https://localhost:8080/"
        },
        "id": "ONTQSvhCuoUj",
        "outputId": "25dc6a00-6a8c-4906-db86-8cf8299e117e"
      },
      "outputs": [
        {
          "output_type": "stream",
          "name": "stdout",
          "text": [
            "  the own the should not thou forse of you which i swee\n",
            "  and my grace did first the or me, in my seem'd from m\n",
            "  in the shore and praise then in the for thou shall wi\n",
            "  but thy love i with thy not sweet for the fault,\n",
            "    \n",
            "    or the purion friend,\n",
            "                             \n",
            "  and will when i love thee thy spite,\n",
            "                \n",
            "  the all you grown the frow see sweet and worth so i f\n",
            "    i shall thou such on the winger not this sad with t\n",
            "    to the such love the can better prings my deed,\n",
            "   \n",
            "    for the tomber the flo'd be the heart\n",
            "             \n"
          ]
        }
      ],
      "source": [
        "# An example of generated text.\n",
        "for _ in range(10):\n",
        "    print(generate_sample(char_rnn, seed_phrase=' ', temperature=0.5))"
      ]
    },
    {
      "cell_type": "code",
      "source": [
        "# An example of generated text.\n",
        "for _ in range(10):\n",
        "    print(generate_sample(char_rnn, seed_phrase=' ', temperature=0.35))"
      ],
      "metadata": {
        "colab": {
          "base_uri": "https://localhost:8080/"
        },
        "id": "PDhF_-JC0RHX",
        "outputId": "2799e3e6-d918-45c7-894b-2573d4d5448a"
      },
      "execution_count": 31,
      "outputs": [
        {
          "output_type": "stream",
          "name": "stdout",
          "text": [
            "  and be the earth the far the will summer thou art the\n",
            "  but the strong of thee the most shall be the worth th\n",
            "  the worth so strong;\n",
            "                                \n",
            "  in the string his for thou art the summer hath stand \n",
            "  the worth with thou art not the worth the beauty love\n",
            "    the respect thou should the of thy prown be the ear\n",
            "  but thy shall my self when thou from the world thou s\n",
            "    the world thou with the with my love to my heart wh\n",
            "  in the since and with the proud my seem of the fire t\n",
            "  the with the world be of the worth youth of the see t\n"
          ]
        }
      ]
    },
    {
      "cell_type": "markdown",
      "metadata": {
        "id": "SRpDK-vhuoUj"
      },
      "source": [
        "### More poetic model\n",
        "\n",
        "Let's use LSTM instead of vanilla RNN and compare the results."
      ]
    },
    {
      "cell_type": "markdown",
      "metadata": {
        "id": "6uUfMzAruoUk"
      },
      "source": [
        "Plot the loss function of the number of epochs. Does the final loss become better?"
      ]
    },
    {
      "cell_type": "code",
      "source": [
        "MAX_LENGTH = 55"
      ],
      "metadata": {
        "id": "KxvLwWqxi1mQ"
      },
      "execution_count": 12,
      "outputs": []
    },
    {
      "cell_type": "code",
      "execution_count": 15,
      "metadata": {
        "collapsed": true,
        "id": "xJ-lIsOsuoUk"
      },
      "outputs": [],
      "source": [
        "class MyRNN(nn.Module):\n",
        "    def __init__(self, num_tokens=num_tokens, emb_size=16, rnn_num_units=64, token_to_id=token_to_idx, num_layers=2):\n",
        "        super(self.__class__, self).__init__()\n",
        "        self.emb_size = emb_size\n",
        "        self.num_units = rnn_num_units\n",
        "        self.token_to_id = token_to_id\n",
        "        self.num_layers = num_layers\n",
        "        self.emb = nn.Embedding(num_tokens, emb_size)\n",
        "        self.rnn = nn.LSTM(emb_size, rnn_num_units, batch_first=True, num_layers=self.num_layers)\n",
        "        self.hid_to_logits = nn.Linear(rnn_num_units, num_tokens)\n",
        "        \n",
        "    def forward(self, x):\n",
        "        assert isinstance(x.data, torch.LongTensor)\n",
        "        h_seq,  (final_hidden, cell_state) = self.rnn(self.emb(x))\n",
        "        next_logits = self.hid_to_logits(h_seq)\n",
        "        next_logp = F.log_softmax(next_logits, dim=-1)\n",
        "        return next_logp, (final_hidden, cell_state)\n",
        "    \n",
        "    def generate_text(self, seed_phrase, final_hidden, cell_state, temperature=1.0, max_length=MAX_LENGTH):\n",
        "        x_sequence = [token_to_idx[token] for token in seed_phrase]\n",
        "        x_sequence = torch.tensor([x_sequence], dtype=torch.int64)\n",
        "        \n",
        "        final_hidden, cell_state = torch.zeros(self.num_layers, 1, self.num_units), torch.zeros(self.num_layers, 1, self.num_units)\n",
        "        with torch.no_grad():\n",
        "            for _ in range(max_length - len(seed_phrase)):\n",
        "                _,  (final_hidden, cell_state) = self.rnn(model.emb(x_sequence), (final_hidden, cell_state))\n",
        "                \n",
        "                next_logits = self.hid_to_logits(final_hidden)\n",
        "                next_logp = F.log_softmax(next_logits, dim=-1)\n",
        "                p_next = F.softmax(next_logp / temperature, dim=-1).data.numpy()[0][0]\n",
        "\n",
        "                # sample next token and push it back into x_sequence\n",
        "                next_ix = np.random.choice(num_tokens, p=p_next)\n",
        "                next_ix = torch.tensor([[next_ix]], dtype=torch.int64)\n",
        "                x_sequence = torch.cat([x_sequence, next_ix], dim=1)\n",
        "                \n",
        "        return ''.join([tokens[ix] for ix in x_sequence.data.numpy()[0]])\n"
      ]
    },
    {
      "cell_type": "code",
      "source": [
        "batch_ix = to_matrix(rows[:3])\n",
        "batch_ix = torch.tensor(batch_ix, dtype=torch.int64)\n",
        "\n",
        "my_rnn = MyRNN()\n",
        "next_logp, (final_hidden, cell_state) = my_rnn(batch_ix)\n",
        "next_logp.shape, (final_hidden.shape, cell_state.shape)"
      ],
      "metadata": {
        "colab": {
          "base_uri": "https://localhost:8080/"
        },
        "id": "CsN_srEE2Mwr",
        "outputId": "77c91514-24e9-41a6-e4b6-5eaed23c1abe"
      },
      "execution_count": 14,
      "outputs": [
        {
          "output_type": "execute_result",
          "data": {
            "text/plain": [
              "(torch.Size([3, 46, 38]), (torch.Size([2, 3, 64]), torch.Size([2, 3, 64])))"
            ]
          },
          "metadata": {},
          "execution_count": 14
        }
      ]
    },
    {
      "cell_type": "code",
      "source": [
        "batch_size = 32\n",
        "def train_model(model, criterion, optimizer, num_itter=500, plot_every=100, batch_size=batch_size):\n",
        "    history = []\n",
        "    for i in range(num_itter):\n",
        "        batch_ix = to_matrix(sample(rows, batch_size))\n",
        "        batch_ix = torch.tensor(batch_ix, dtype=torch.int64)\n",
        "        logp_seq, (final_hidden, cell_state) = model(batch_ix)\n",
        "\n",
        "        # compute loss\n",
        "        loss = criterion(logp_seq[:, :-1].contiguous().view(-1, num_tokens),\n",
        "                         batch_ix[:, 1:].contiguous().view(-1))\n",
        "        \n",
        "        # train with backprop\n",
        "        loss.backward()\n",
        "        optimizer.step()\n",
        "        optimizer.zero_grad()\n",
        "\n",
        "        history.append(loss.data.numpy())\n",
        "        if (i+1)%100==0:        \n",
        "            clear_output(True)\n",
        "            plt.figure(figsize=(12, 5))\n",
        "            plt.grid()\n",
        "            plt.plot(history,label='loss')\n",
        "            plt.legend()\n",
        "            plt.xlabel(\"#iterration\")\n",
        "            plt.ylabel(\"loss\")\n",
        "            plt.title(\"Training process\")\n",
        "            plt.show()\n",
        "    return final_hidden, cell_state\n",
        "\n",
        "model = MyRNN(emb_size=128, rnn_num_units=256, num_layers=2)\n",
        "criterion = nn.NLLLoss()\n",
        "optimizer = torch.optim.Adam(model.parameters())\n",
        "batch_size = 32\n",
        "final_hidden, cell_state = train_model(model, criterion, optimizer, num_itter=2000, plot_every=100, batch_size=batch_size)"
      ],
      "metadata": {
        "colab": {
          "base_uri": "https://localhost:8080/",
          "height": 487
        },
        "id": "otRV01lu4K3B",
        "outputId": "0288c226-7e76-449c-c0cb-6cf67260b045"
      },
      "execution_count": 21,
      "outputs": [
        {
          "output_type": "display_data",
          "data": {
            "text/plain": [
              "<Figure size 1200x500 with 1 Axes>"
            ],
            "image/png": "[encoded data removed]"
          },
          "metadata": {}
        }
      ]
    },
    {
      "cell_type": "code",
      "source": [
        "for _ in range(10):\n",
        "    print(model.generate_text(seed_phrase=\" \", temperature=1.0, max_length=59))"
      ],
      "metadata": {
        "colab": {
          "base_uri": "https://localhost:8080/",
          "height": 183
        },
        "id": "vFCeGK2373JA",
        "outputId": "a1f002ba-42dd-4081-b7ba-15f7a3bdc884"
      },
      "execution_count": 22,
      "outputs": [
        {
          "output_type": "error",
          "ename": "TypeError",
          "evalue": "ignored",
          "traceback": [
            "\u001b[0;31m---------------------------------------------------------------------------\u001b[0m",
            "\u001b[0;31mTypeError\u001b[0m                                 Traceback (most recent call last)",
            "\u001b[0;32m<ipython-input-22-cb569caea0bc>\u001b[0m in \u001b[0;36m<cell line: 1>\u001b[0;34m()\u001b[0m\n\u001b[1;32m      1\u001b[0m \u001b[0;32mfor\u001b[0m \u001b[0m_\u001b[0m \u001b[0;32min\u001b[0m \u001b[0mrange\u001b[0m\u001b[0;34m(\u001b[0m\u001b[0;36m10\u001b[0m\u001b[0;34m)\u001b[0m\u001b[0;34m:\u001b[0m\u001b[0;34m\u001b[0m\u001b[0;34m\u001b[0m\u001b[0m\n\u001b[0;32m----> 2\u001b[0;31m     \u001b[0mprint\u001b[0m\u001b[0;34m(\u001b[0m\u001b[0mmodel\u001b[0m\u001b[0;34m.\u001b[0m\u001b[0mgenerate_text\u001b[0m\u001b[0;34m(\u001b[0m\u001b[0mseed_phrase\u001b[0m\u001b[0;34m=\u001b[0m\u001b[0;34m\" \"\u001b[0m\u001b[0;34m,\u001b[0m \u001b[0mtemperature\u001b[0m\u001b[0;34m=\u001b[0m\u001b[0;36m1.0\u001b[0m\u001b[0;34m,\u001b[0m \u001b[0mmax_length\u001b[0m\u001b[0;34m=\u001b[0m\u001b[0;36m59\u001b[0m\u001b[0;34m)\u001b[0m\u001b[0;34m)\u001b[0m\u001b[0;34m\u001b[0m\u001b[0;34m\u001b[0m\u001b[0m\n\u001b[0m",
            "\u001b[0;31mTypeError\u001b[0m: MyRNN.generate_text() missing 2 required positional arguments: 'final_hidden' and 'cell_state'"
          ]
        }
      ]
    },
    {
      "cell_type": "code",
      "source": [
        "def generate_text(model, seed_phrase, final_hidden, cell_state, temperature=1.0, max_length=MAX_LENGTH):\n",
        "        x_sequence = [token_to_idx[token] for token in seed_phrase]\n",
        "        x_sequence = torch.tensor([x_sequence], dtype=torch.int64)\n",
        "        #final_hidden, cell_state = torch.zeros(1, 1, model.num_units), torch.zeros(1, 1, model.num_units)\n",
        "        with torch.no_grad():\n",
        "            for _ in range(max_length - len(seed_phrase)):\n",
        "                hid,  (final_hidden, cell_state) = model.rnn(model.emb(x_sequence), (final_hidden, cell_state))\n",
        "                #print(hid.shape)\n",
        "                \n",
        "                next_logits = model.hid_to_logits(hid)\n",
        "                next_logp = F.log_softmax(next_logits, dim=-1)\n",
        "                p_next = F.softmax(next_logp / temperature, dim=-1).data.numpy()[0][0]\n",
        "\n",
        "                # sample next token and push it back into x_sequence\n",
        "                next_ix = np.random.choice(num_tokens, p=p_next)\n",
        "                next_ix = torch.tensor([[next_ix]], dtype=torch.int64)\n",
        "                x_sequence = torch.cat([x_sequence, next_ix], dim=1)\n",
        "                \n",
        "        return ''.join([idx_to_token[ix] for ix in x_sequence.data.numpy()[0]])"
      ],
      "metadata": {
        "id": "nvAUzAGG5baY"
      },
      "execution_count": 62,
      "outputs": []
    },
    {
      "cell_type": "code",
      "source": [
        "final_hidden.shape"
      ],
      "metadata": {
        "colab": {
          "base_uri": "https://localhost:8080/"
        },
        "id": "kP3dqtBon3F_",
        "outputId": "2084bd61-0d7f-4f62-c58e-a5d4ba6890cc"
      },
      "execution_count": 57,
      "outputs": [
        {
          "output_type": "execute_result",
          "data": {
            "text/plain": [
              "torch.Size([2, 32, 256])"
            ]
          },
          "metadata": {},
          "execution_count": 57
        }
      ]
    },
    {
      "cell_type": "code",
      "source": [
        "final_hidden[:, -1, :].unsqueeze(1).shape"
      ],
      "metadata": {
        "colab": {
          "base_uri": "https://localhost:8080/"
        },
        "id": "T8CIkR4Nl7TK",
        "outputId": "e64a5352-9be3-4dfa-83d5-853df6828184"
      },
      "execution_count": 59,
      "outputs": [
        {
          "output_type": "execute_result",
          "data": {
            "text/plain": [
              "torch.Size([2, 1, 256])"
            ]
          },
          "metadata": {},
          "execution_count": 59
        }
      ]
    },
    {
      "cell_type": "code",
      "source": [
        "generate_text(model, seed_phrase=\"  \", final_hidden=final_hidden[:, -1, :].unsqueeze(1), \n",
        "              cell_state=cell_state[:, -1, :].unsqueeze(1),  temperature=0.2, max_length=MAX_LENGTH)"
      ],
      "metadata": {
        "colab": {
          "base_uri": "https://localhost:8080/",
          "height": 39
        },
        "id": "YzLcbZ9B6cIA",
        "outputId": "69bbf053-3e16-41a3-dd56-1b01b129965d"
      },
      "execution_count": 70,
      "outputs": [
        {
          "output_type": "execute_result",
          "data": {
            "text/plain": [
              "'                                                       '"
            ],
            "application/vnd.google.colaboratory.intrinsic+json": {
              "type": "string"
            }
          },
          "metadata": {},
          "execution_count": 70
        }
      ]
    },
    {
      "cell_type": "code",
      "source": [],
      "metadata": {
        "id": "066VkLwvmXiG"
      },
      "execution_count": null,
      "outputs": []
    },
    {
      "cell_type": "code",
      "source": [
        "seed_phrase = \" \"\n",
        "temperature=1.0\n",
        "max_length=MAX_LENGTH"
      ],
      "metadata": {
        "id": "nmEGeWVL5cHt"
      },
      "execution_count": 50,
      "outputs": []
    },
    {
      "cell_type": "code",
      "source": [
        "x_sequence = [token_to_idx[token] for token in seed_phrase]\n",
        "x_sequence = torch.tensor([x_sequence], dtype=torch.int64)\n",
        "final_hidden, cell_state = torch.zeros(2, 1, model.num_units), torch.zeros(2, 1, model.num_units)\n",
        "\n",
        "with torch.no_grad():\n",
        "    for _ in range(max_length - len(seed_phrase)):\n",
        "          _,  (final_hidden, cell_state) = model.rnn(model.emb(x_sequence),\n",
        "                                                            (final_hidden, cell_state))"
      ],
      "metadata": {
        "id": "vNJ97K6Q5n05"
      },
      "execution_count": 54,
      "outputs": []
    },
    {
      "cell_type": "code",
      "source": [
        "seed_phrase = \" ter\"\n",
        "for _ in range(10):\n",
        "    print(model.generate_text(seed_phrase, temperature=1.0))"
      ],
      "metadata": {
        "colab": {
          "base_uri": "https://localhost:8080/",
          "height": 832
        },
        "id": "dj8IzmiP3Ay_",
        "outputId": "82523126-79b4-4a21-9a4a-586490b14d5b"
      },
      "execution_count": 49,
      "outputs": [
        {
          "output_type": "error",
          "ename": "RuntimeError",
          "evalue": "ignored",
          "traceback": [
            "\u001b[0;31m---------------------------------------------------------------------------\u001b[0m",
            "\u001b[0;31mRuntimeError\u001b[0m                              Traceback (most recent call last)",
            "\u001b[0;32m<ipython-input-49-3a4aaa3d0fe1>\u001b[0m in \u001b[0;36m<cell line: 2>\u001b[0;34m()\u001b[0m\n\u001b[1;32m      1\u001b[0m \u001b[0mseed_phrase\u001b[0m \u001b[0;34m=\u001b[0m \u001b[0;34m\" ter\"\u001b[0m\u001b[0;34m\u001b[0m\u001b[0;34m\u001b[0m\u001b[0m\n\u001b[1;32m      2\u001b[0m \u001b[0;32mfor\u001b[0m \u001b[0m_\u001b[0m \u001b[0;32min\u001b[0m \u001b[0mrange\u001b[0m\u001b[0;34m(\u001b[0m\u001b[0;36m10\u001b[0m\u001b[0;34m)\u001b[0m\u001b[0;34m:\u001b[0m\u001b[0;34m\u001b[0m\u001b[0;34m\u001b[0m\u001b[0m\n\u001b[0;32m----> 3\u001b[0;31m     \u001b[0mprint\u001b[0m\u001b[0;34m(\u001b[0m\u001b[0mmodel\u001b[0m\u001b[0;34m.\u001b[0m\u001b[0mgenerate_text\u001b[0m\u001b[0;34m(\u001b[0m\u001b[0mseed_phrase\u001b[0m\u001b[0;34m,\u001b[0m \u001b[0mtemperature\u001b[0m\u001b[0;34m=\u001b[0m\u001b[0;36m1.0\u001b[0m\u001b[0;34m)\u001b[0m\u001b[0;34m)\u001b[0m\u001b[0;34m\u001b[0m\u001b[0;34m\u001b[0m\u001b[0m\n\u001b[0m",
            "\u001b[0;32m<ipython-input-44-bedbbe50898b>\u001b[0m in \u001b[0;36mgenerate_text\u001b[0;34m(self, seed_phrase, temperature, max_length)\u001b[0m\n\u001b[1;32m     23\u001b[0m         \u001b[0;32mwith\u001b[0m \u001b[0mtorch\u001b[0m\u001b[0;34m.\u001b[0m\u001b[0mno_grad\u001b[0m\u001b[0;34m(\u001b[0m\u001b[0;34m)\u001b[0m\u001b[0;34m:\u001b[0m\u001b[0;34m\u001b[0m\u001b[0;34m\u001b[0m\u001b[0m\n\u001b[1;32m     24\u001b[0m             \u001b[0;32mfor\u001b[0m \u001b[0m_\u001b[0m \u001b[0;32min\u001b[0m \u001b[0mrange\u001b[0m\u001b[0;34m(\u001b[0m\u001b[0mmax_length\u001b[0m \u001b[0;34m-\u001b[0m \u001b[0mlen\u001b[0m\u001b[0;34m(\u001b[0m\u001b[0mseed_phrase\u001b[0m\u001b[0;34m)\u001b[0m\u001b[0;34m)\u001b[0m\u001b[0;34m:\u001b[0m\u001b[0;34m\u001b[0m\u001b[0;34m\u001b[0m\u001b[0m\n\u001b[0;32m---> 25\u001b[0;31m                 _,  (final_hidden, cell_state) = self.rnn(model.emb(x_sequence),\n\u001b[0m\u001b[1;32m     26\u001b[0m                                                               (final_hidden, cell_state))\n\u001b[1;32m     27\u001b[0m \u001b[0;34m\u001b[0m\u001b[0m\n",
            "\u001b[0;32m/usr/local/lib/python3.10/dist-packages/torch/nn/modules/module.py\u001b[0m in \u001b[0;36m_call_impl\u001b[0;34m(self, *args, **kwargs)\u001b[0m\n\u001b[1;32m   1499\u001b[0m                 \u001b[0;32mor\u001b[0m \u001b[0m_global_backward_pre_hooks\u001b[0m \u001b[0;32mor\u001b[0m \u001b[0m_global_backward_hooks\u001b[0m\u001b[0;34m\u001b[0m\u001b[0;34m\u001b[0m\u001b[0m\n\u001b[1;32m   1500\u001b[0m                 or _global_forward_hooks or _global_forward_pre_hooks):\n\u001b[0;32m-> 1501\u001b[0;31m             \u001b[0;32mreturn\u001b[0m \u001b[0mforward_call\u001b[0m\u001b[0;34m(\u001b[0m\u001b[0;34m*\u001b[0m\u001b[0margs\u001b[0m\u001b[0;34m,\u001b[0m \u001b[0;34m**\u001b[0m\u001b[0mkwargs\u001b[0m\u001b[0;34m)\u001b[0m\u001b[0;34m\u001b[0m\u001b[0;34m\u001b[0m\u001b[0m\n\u001b[0m\u001b[1;32m   1502\u001b[0m         \u001b[0;31m# Do not call functions when jit is used\u001b[0m\u001b[0;34m\u001b[0m\u001b[0;34m\u001b[0m\u001b[0m\n\u001b[1;32m   1503\u001b[0m         \u001b[0mfull_backward_hooks\u001b[0m\u001b[0;34m,\u001b[0m \u001b[0mnon_full_backward_hooks\u001b[0m \u001b[0;34m=\u001b[0m \u001b[0;34m[\u001b[0m\u001b[0;34m]\u001b[0m\u001b[0;34m,\u001b[0m \u001b[0;34m[\u001b[0m\u001b[0;34m]\u001b[0m\u001b[0;34m\u001b[0m\u001b[0;34m\u001b[0m\u001b[0m\n",
            "\u001b[0;32m/usr/local/lib/python3.10/dist-packages/torch/nn/modules/rnn.py\u001b[0m in \u001b[0;36mforward\u001b[0;34m(self, input, hx)\u001b[0m\n\u001b[1;32m    808\u001b[0m             \u001b[0mhx\u001b[0m \u001b[0;34m=\u001b[0m \u001b[0mself\u001b[0m\u001b[0;34m.\u001b[0m\u001b[0mpermute_hidden\u001b[0m\u001b[0;34m(\u001b[0m\u001b[0mhx\u001b[0m\u001b[0;34m,\u001b[0m \u001b[0msorted_indices\u001b[0m\u001b[0;34m)\u001b[0m\u001b[0;34m\u001b[0m\u001b[0;34m\u001b[0m\u001b[0m\n\u001b[1;32m    809\u001b[0m \u001b[0;34m\u001b[0m\u001b[0m\n\u001b[0;32m--> 810\u001b[0;31m         \u001b[0mself\u001b[0m\u001b[0;34m.\u001b[0m\u001b[0mcheck_forward_args\u001b[0m\u001b[0;34m(\u001b[0m\u001b[0minput\u001b[0m\u001b[0;34m,\u001b[0m \u001b[0mhx\u001b[0m\u001b[0;34m,\u001b[0m \u001b[0mbatch_sizes\u001b[0m\u001b[0;34m)\u001b[0m\u001b[0;34m\u001b[0m\u001b[0;34m\u001b[0m\u001b[0m\n\u001b[0m\u001b[1;32m    811\u001b[0m         \u001b[0;32mif\u001b[0m \u001b[0mbatch_sizes\u001b[0m \u001b[0;32mis\u001b[0m \u001b[0;32mNone\u001b[0m\u001b[0;34m:\u001b[0m\u001b[0;34m\u001b[0m\u001b[0;34m\u001b[0m\u001b[0m\n\u001b[1;32m    812\u001b[0m             result = _VF.lstm(input, hx, self._flat_weights, self.bias, self.num_layers,\n",
            "\u001b[0;32m/usr/local/lib/python3.10/dist-packages/torch/nn/modules/rnn.py\u001b[0m in \u001b[0;36mcheck_forward_args\u001b[0;34m(self, input, hidden, batch_sizes)\u001b[0m\n\u001b[1;32m    729\u001b[0m                            ):\n\u001b[1;32m    730\u001b[0m         \u001b[0mself\u001b[0m\u001b[0;34m.\u001b[0m\u001b[0mcheck_input\u001b[0m\u001b[0;34m(\u001b[0m\u001b[0minput\u001b[0m\u001b[0;34m,\u001b[0m \u001b[0mbatch_sizes\u001b[0m\u001b[0;34m)\u001b[0m\u001b[0;34m\u001b[0m\u001b[0;34m\u001b[0m\u001b[0m\n\u001b[0;32m--> 731\u001b[0;31m         self.check_hidden_size(hidden[0], self.get_expected_hidden_size(input, batch_sizes),\n\u001b[0m\u001b[1;32m    732\u001b[0m                                'Expected hidden[0] size {}, got {}')\n\u001b[1;32m    733\u001b[0m         self.check_hidden_size(hidden[1], self.get_expected_cell_size(input, batch_sizes),\n",
            "\u001b[0;32m/usr/local/lib/python3.10/dist-packages/torch/nn/modules/rnn.py\u001b[0m in \u001b[0;36mcheck_hidden_size\u001b[0;34m(self, hx, expected_hidden_size, msg)\u001b[0m\n\u001b[1;32m    237\u001b[0m                           msg: str = 'Expected hidden size {}, got {}') -> None:\n\u001b[1;32m    238\u001b[0m         \u001b[0;32mif\u001b[0m \u001b[0mhx\u001b[0m\u001b[0;34m.\u001b[0m\u001b[0msize\u001b[0m\u001b[0;34m(\u001b[0m\u001b[0;34m)\u001b[0m \u001b[0;34m!=\u001b[0m \u001b[0mexpected_hidden_size\u001b[0m\u001b[0;34m:\u001b[0m\u001b[0;34m\u001b[0m\u001b[0;34m\u001b[0m\u001b[0m\n\u001b[0;32m--> 239\u001b[0;31m             \u001b[0;32mraise\u001b[0m \u001b[0mRuntimeError\u001b[0m\u001b[0;34m(\u001b[0m\u001b[0mmsg\u001b[0m\u001b[0;34m.\u001b[0m\u001b[0mformat\u001b[0m\u001b[0;34m(\u001b[0m\u001b[0mexpected_hidden_size\u001b[0m\u001b[0;34m,\u001b[0m \u001b[0mlist\u001b[0m\u001b[0;34m(\u001b[0m\u001b[0mhx\u001b[0m\u001b[0;34m.\u001b[0m\u001b[0msize\u001b[0m\u001b[0;34m(\u001b[0m\u001b[0;34m)\u001b[0m\u001b[0;34m)\u001b[0m\u001b[0;34m)\u001b[0m\u001b[0;34m)\u001b[0m\u001b[0;34m\u001b[0m\u001b[0;34m\u001b[0m\u001b[0m\n\u001b[0m\u001b[1;32m    240\u001b[0m \u001b[0;34m\u001b[0m\u001b[0m\n\u001b[1;32m    241\u001b[0m     \u001b[0;32mdef\u001b[0m \u001b[0m_weights_have_changed\u001b[0m\u001b[0;34m(\u001b[0m\u001b[0mself\u001b[0m\u001b[0;34m)\u001b[0m\u001b[0;34m:\u001b[0m\u001b[0;34m\u001b[0m\u001b[0;34m\u001b[0m\u001b[0m\n",
            "\u001b[0;31mRuntimeError\u001b[0m: Expected hidden[0] size (2, 1, 256), got [1, 1, 256]"
          ]
        }
      ]
    },
    {
      "cell_type": "code",
      "source": [],
      "metadata": {
        "id": "zF6u8dHw3A1l"
      },
      "execution_count": null,
      "outputs": []
    },
    {
      "cell_type": "markdown",
      "metadata": {
        "id": "8MhZAb1euoUk"
      },
      "source": [
        "Generate text using the trained net with different `temperature` parameter: `[0.1, 0.2, 0.5, 1.0, 2.0]`.\n",
        "\n",
        "Evaluate the results visually, try to interpret them."
      ]
    },
    {
      "cell_type": "code",
      "execution_count": null,
      "metadata": {
        "collapsed": true,
        "id": "anOqruReuoUk"
      },
      "outputs": [],
      "source": [
        "# Text generation with different temperature values here"
      ]
    },
    {
      "cell_type": "markdown",
      "metadata": {
        "id": "MvsSjCwquoUk"
      },
      "source": [
        "### Saving and loading models"
      ]
    },
    {
      "cell_type": "markdown",
      "metadata": {
        "id": "_1BmYySBuoUk"
      },
      "source": [
        "Save the model to the disk, then load it and generate text. Examples are available [here](https://pytorch.org/tutorials/beginner/saving_loading_models.html])."
      ]
    },
    {
      "cell_type": "code",
      "execution_count": null,
      "metadata": {
        "collapsed": true,
        "id": "NHdGau15uoUu"
      },
      "outputs": [],
      "source": [
        "# Saving and loading code here"
      ]
    },
    {
      "cell_type": "markdown",
      "metadata": {
        "id": "6sn6rnluuoUu"
      },
      "source": [
        "### References\n",
        "1. <a href='http://karpathy.github.io/2015/05/21/rnn-effectiveness/'> Andrew Karpathy blog post about RNN. </a> \n",
        "There are several examples of genration: Shakespeare texts, Latex formulas, Linux Sourse Code and children names.\n",
        "2. <a href='https://github.com/karpathy/char-rnn'> Repo with char-rnn code </a>\n",
        "3. Cool repo with PyTorch examples: [link](https://github.com/spro/practical-pytorch`)"
      ]
    }
  ],
  "metadata": {
    "anaconda-cloud": {},
    "kernelspec": {
      "display_name": "Python 3",
      "name": "python3"
    },
    "language_info": {
      "codemirror_mode": {
        "name": "ipython",
        "version": 3
      },
      "file_extension": ".py",
      "mimetype": "text/x-python",
      "name": "python",
      "nbconvert_exporter": "python",
      "pygments_lexer": "ipython3",
      "version": "3.8.5"
    },
    "colab": {
      "provenance": []
    }
  },
  "nbformat": 4,
  "nbformat_minor": 0
}